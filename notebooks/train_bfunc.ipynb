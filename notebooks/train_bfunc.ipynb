{
 "cells": [
  {
   "cell_type": "code",
   "execution_count": 1,
   "metadata": {},
   "outputs": [],
   "source": [
    "from torch.optim import Optimizer\n",
    "from torch.utils.data import DataLoader\n",
    "from torch import nn\n",
    "import torch\n",
    "from tqdm.notebook import tqdm\n",
    "device = torch.device(\"cpu\")"
   ]
  },
  {
   "cell_type": "code",
   "execution_count": 2,
   "metadata": {},
   "outputs": [
    {
     "name": "stdout",
     "output_type": "stream",
     "text": [
      "Transformer(\n",
      "  (embeddings): Embedding(3, 2)\n",
      "  (transformer): Sequential(\n",
      "    (0): AttentionBlock(\n",
      "      (attn): MultiheadAttention(\n",
      "        (out_proj): NonDynamicallyQuantizableLinear(in_features=2, out_features=2, bias=False)\n",
      "      )\n",
      "      (norm1): LayerNorm((2,), eps=1e-05, elementwise_affine=True)\n",
      "      (norm2): LayerNorm((2,), eps=1e-05, elementwise_affine=True)\n",
      "      (linear): Sequential(\n",
      "        (0): Linear(in_features=2, out_features=2, bias=True)\n",
      "        (1): ReLU()\n",
      "        (2): Linear(in_features=2, out_features=2, bias=True)\n",
      "      )\n",
      "    )\n",
      "  )\n",
      "  (mlp_head): Sequential(\n",
      "    (0): Linear(in_features=2, out_features=2, bias=True)\n",
      "  )\n",
      ")\n"
     ]
    }
   ],
   "source": [
    "from miexp.models.transformer import Transformer\n",
    "N = 20\n",
    "dropout = 0\n",
    "hidden_dim, heads, layers, feed_forward_dim = 2, 1, 1, 2\n",
    "model = Transformer(dropout, N, hidden_dim, heads, layers, feed_forward_dim, \"cpu\")\n",
    "sum(p.numel() for p in model.parameters())\n",
    "\n",
    "\n",
    "from miexp.bfuncs import MajDataset\n",
    "num_samples = 1000\n",
    "train_dataset = MajDataset(N, num_samples=1000)\n",
    "test_dataset = MajDataset(N, num_samples=1000)\n",
    "train_dataloader = DataLoader(train_dataset, batch_size=256, shuffle=True)\n",
    "test_dataloader = DataLoader(test_dataset, batch_size=256, shuffle=True)\n",
    "\n",
    "optimizer = torch.optim.Adam(model.parameters(), lr=0.001)\n",
    "criterion = torch.nn.CrossEntropyLoss()\n",
    "\n",
    "print(model)"
   ]
  },
  {
   "cell_type": "code",
   "execution_count": 3,
   "metadata": {},
   "outputs": [],
   "source": [
    "def train_epoch(model: nn.Module, optimizer: Optimizer, dataloader: DataLoader, device: torch.device, criterion: nn.Module) -> dict[str, float | None]:\n",
    "    model = model.to(device)\n",
    "    total_train_loss = 0\n",
    "    total_train_acc = 0\n",
    "    total_items = 0\n",
    "    for input, labels in dataloader:\n",
    "        input = input.to(device).to(torch.int32)\n",
    "        labels = labels.to(device).to(torch.int64)\n",
    "        output = model(input)\n",
    "        loss = criterion(output, labels)\n",
    "        optimizer.zero_grad()\n",
    "        loss.backward()\n",
    "        optimizer.step()\n",
    "        total_train_loss += (loss.item()) * len(input)\n",
    "        total_train_acc += torch.sum(torch.argmax(output, dim=1) == labels).item()\n",
    "        total_items += len(input)\n",
    "    return {\n",
    "        \"acc\": total_train_acc / total_items,\n",
    "        \"loss\": total_train_loss / total_items,\n",
    "        **{f\"norm/{name}\": torch.norm(param.grad).item() for name, param in model.named_parameters() if param.grad is not None}\n",
    "    }"
   ]
  },
  {
   "cell_type": "code",
   "execution_count": 4,
   "metadata": {},
   "outputs": [
    {
     "data": {
      "application/vnd.jupyter.widget-view+json": {
       "model_id": "b496161f229b47fbaffc83879d45eb97",
       "version_major": 2,
       "version_minor": 0
      },
      "text/plain": [
       "  0%|          | 0/200 [00:00<?, ?it/s]"
      ]
     },
     "metadata": {},
     "output_type": "display_data"
    }
   ],
   "source": [
    "results = []\n",
    "for epoch in tqdm(range(200)):\n",
    "    results.append(train_epoch(model, optimizer, test_dataloader, device, criterion))"
   ]
  },
  {
   "cell_type": "code",
   "execution_count": 5,
   "metadata": {},
   "outputs": [
    {
     "data": {
      "application/vnd.plotly.v1+json": {
       "config": {
        "plotlyServerURL": "https://plot.ly"
       },
       "data": [
        {
         "name": "Loss",
         "type": "scatter",
         "x": [
          0,
          1,
          2,
          3,
          4,
          5,
          6,
          7,
          8,
          9,
          10,
          11,
          12,
          13,
          14,
          15,
          16,
          17,
          18,
          19,
          20,
          21,
          22,
          23,
          24,
          25,
          26,
          27,
          28,
          29,
          30,
          31,
          32,
          33,
          34,
          35,
          36,
          37,
          38,
          39,
          40,
          41,
          42,
          43,
          44,
          45,
          46,
          47,
          48,
          49,
          50,
          51,
          52,
          53,
          54,
          55,
          56,
          57,
          58,
          59,
          60,
          61,
          62,
          63,
          64,
          65,
          66,
          67,
          68,
          69,
          70,
          71,
          72,
          73,
          74,
          75,
          76,
          77,
          78,
          79,
          80,
          81,
          82,
          83,
          84,
          85,
          86,
          87,
          88,
          89,
          90,
          91,
          92,
          93,
          94,
          95,
          96,
          97,
          98,
          99,
          100,
          101,
          102,
          103,
          104,
          105,
          106,
          107,
          108,
          109,
          110,
          111,
          112,
          113,
          114,
          115,
          116,
          117,
          118,
          119,
          120,
          121,
          122,
          123,
          124,
          125,
          126,
          127,
          128,
          129,
          130,
          131,
          132,
          133,
          134,
          135,
          136,
          137,
          138,
          139,
          140,
          141,
          142,
          143,
          144,
          145,
          146,
          147,
          148,
          149,
          150,
          151,
          152,
          153,
          154,
          155,
          156,
          157,
          158,
          159,
          160,
          161,
          162,
          163,
          164,
          165,
          166,
          167,
          168,
          169,
          170,
          171,
          172,
          173,
          174,
          175,
          176,
          177,
          178,
          179,
          180,
          181,
          182,
          183,
          184,
          185,
          186,
          187,
          188,
          189,
          190,
          191,
          192,
          193,
          194,
          195,
          196,
          197,
          198,
          199
         ],
         "y": [
          0.6937081241607665,
          0.6918327946662903,
          0.6895792546272278,
          0.687843614578247,
          0.6864697761535644,
          0.6850845236778259,
          0.6836711564064026,
          0.6826060180664062,
          0.6817924695014954,
          0.6810032896995545,
          0.68034055185318,
          0.6798404364585876,
          0.6794757800102234,
          0.6791653146743775,
          0.6787810921669006,
          0.6785683813095092,
          0.6783445000648498,
          0.6783228569030761,
          0.6781870532035827,
          0.6781493554115295,
          0.6780527644157409,
          0.6780665159225464,
          0.6779798250198364,
          0.6780067768096923,
          0.6779661507606506,
          0.6779525699615478,
          0.6779834761619568,
          0.6779470043182373,
          0.6779369692802429,
          0.67794762134552,
          0.6779510922431946,
          0.6779476613998413,
          0.6779413614273071,
          0.6779440207481384,
          0.6779369235038757,
          0.6779343886375427,
          0.6779494471549988,
          0.677967089176178,
          0.6779425144195557,
          0.6779336657524109,
          0.6779349937438964,
          0.6779386157989502,
          0.6779373903274536,
          0.6779391198158264,
          0.6779359240531921,
          0.6779452157020569,
          0.6779341297149658,
          0.6779333257675171,
          0.6779359998703003,
          0.6779399957656861,
          0.6779414324760437,
          0.6779344305992127,
          0.6779551787376403,
          0.6779349150657654,
          0.6779343557357788,
          0.6779481377601624,
          0.6779568119049072,
          0.6779363031387329,
          0.6779398293495178,
          0.6779357118606567,
          0.677936457157135,
          0.6779358034133911,
          0.6779469938278199,
          0.6779420275688172,
          0.6779417667388916,
          0.677937906742096,
          0.6779381151199341,
          0.6779392056465149,
          0.677943681716919,
          0.6779450798034667,
          0.6779740142822266,
          0.6779399580955505,
          0.6779423131942749,
          0.6779318284988404,
          0.6779357132911682,
          0.6779413018226623,
          0.677943142414093,
          0.6779425649642944,
          0.6779343214035034,
          0.677940661907196,
          0.677957019329071,
          0.6779344110488892,
          0.6779439206123352,
          0.6779509515762329,
          0.6779408259391785,
          0.6779395203590393,
          0.6779514818191529,
          0.6779377841949463,
          0.6779395093917847,
          0.6779444942474365,
          0.6779334707260132,
          0.6779403414726257,
          0.6779355120658874,
          0.677938844203949,
          0.6779666390419007,
          0.6779539914131164,
          0.6779437656402588,
          0.6779420819282532,
          0.677936496257782,
          0.6779361701011658,
          0.6779414949417114,
          0.6779504685401917,
          0.6779595317840577,
          0.67794220495224,
          0.6779417414665222,
          0.6779339303970336,
          0.677937524318695,
          0.6779374346733094,
          0.6779356408119201,
          0.6779420638084411,
          0.6779388747215271,
          0.6779460201263428,
          0.6779327530860901,
          0.6779352469444275,
          0.6779339456558228,
          0.6779366345405579,
          0.6779396271705628,
          0.6779325294494629,
          0.6779320387840271,
          0.677965151309967,
          0.6779439849853516,
          0.6779493713378906,
          0.6779317412376403,
          0.6779333457946778,
          0.677934449672699,
          0.6779355292320252,
          0.6779346418380737,
          0.677933822631836,
          0.6779486865997314,
          0.6779353609085083,
          0.6779429688453674,
          0.6779325766563415,
          0.6779378199577332,
          0.677949079990387,
          0.6779365367889404,
          0.6779333548545837,
          0.6779406390190125,
          0.6779341039657593,
          0.6779348354339599,
          0.6779444766044617,
          0.6779372339248657,
          0.6779365968704224,
          0.6779485688209533,
          0.6779391055107117,
          0.6779502005577087,
          0.6779378552436829,
          0.6779367337226868,
          0.6779488859176636,
          0.6779355816841125,
          0.6779458298683166,
          0.6779365115165711,
          0.6779412474632264,
          0.677932107925415,
          0.6779330492019653,
          0.6779469442367554,
          0.677932035446167,
          0.6779434747695923,
          0.6779369573593139,
          0.6779439859390258,
          0.6779514327049255,
          0.6779410429000855,
          0.6779394679069519,
          0.6779352178573609,
          0.6779363374710083,
          0.6779370965957642,
          0.677952630519867,
          0.6779584035873413,
          0.6779404044151306,
          0.6779344210624695,
          0.6779752817153931,
          0.6779333338737488,
          0.6779365963935852,
          0.6779343652725219,
          0.6779363555908203,
          0.6779400835037231,
          0.6779388728141784,
          0.6779589471817017,
          0.6779361214637757,
          0.6779525198936462,
          0.6779335632324218,
          0.6779760003089905,
          0.6779370141029358,
          0.6779411211013794,
          0.6779475560188294,
          0.6779500494003295,
          0.6779382796287536,
          0.6779478511810303,
          0.6779448418617249,
          0.6779522671699524,
          0.6779529352188111,
          0.6779397325515747,
          0.6779493260383606,
          0.6779392004013062,
          0.6779350080490112,
          0.6779354538917541,
          0.6779373993873596,
          0.677941123008728,
          0.6779420986175537,
          0.6779375095367431,
          0.677940402507782
         ],
         "yaxis": "y"
        },
        {
         "name": "Accuracy",
         "type": "scatter",
         "x": [
          0,
          1,
          2,
          3,
          4,
          5,
          6,
          7,
          8,
          9,
          10,
          11,
          12,
          13,
          14,
          15,
          16,
          17,
          18,
          19,
          20,
          21,
          22,
          23,
          24,
          25,
          26,
          27,
          28,
          29,
          30,
          31,
          32,
          33,
          34,
          35,
          36,
          37,
          38,
          39,
          40,
          41,
          42,
          43,
          44,
          45,
          46,
          47,
          48,
          49,
          50,
          51,
          52,
          53,
          54,
          55,
          56,
          57,
          58,
          59,
          60,
          61,
          62,
          63,
          64,
          65,
          66,
          67,
          68,
          69,
          70,
          71,
          72,
          73,
          74,
          75,
          76,
          77,
          78,
          79,
          80,
          81,
          82,
          83,
          84,
          85,
          86,
          87,
          88,
          89,
          90,
          91,
          92,
          93,
          94,
          95,
          96,
          97,
          98,
          99,
          100,
          101,
          102,
          103,
          104,
          105,
          106,
          107,
          108,
          109,
          110,
          111,
          112,
          113,
          114,
          115,
          116,
          117,
          118,
          119,
          120,
          121,
          122,
          123,
          124,
          125,
          126,
          127,
          128,
          129,
          130,
          131,
          132,
          133,
          134,
          135,
          136,
          137,
          138,
          139,
          140,
          141,
          142,
          143,
          144,
          145,
          146,
          147,
          148,
          149,
          150,
          151,
          152,
          153,
          154,
          155,
          156,
          157,
          158,
          159,
          160,
          161,
          162,
          163,
          164,
          165,
          166,
          167,
          168,
          169,
          170,
          171,
          172,
          173,
          174,
          175,
          176,
          177,
          178,
          179,
          180,
          181,
          182,
          183,
          184,
          185,
          186,
          187,
          188,
          189,
          190,
          191,
          192,
          193,
          194,
          195,
          196,
          197,
          198,
          199
         ],
         "y": [
          0.587,
          0.587,
          0.587,
          0.587,
          0.587,
          0.587,
          0.587,
          0.587,
          0.587,
          0.587,
          0.587,
          0.587,
          0.587,
          0.587,
          0.587,
          0.587,
          0.587,
          0.587,
          0.587,
          0.587,
          0.587,
          0.587,
          0.587,
          0.587,
          0.587,
          0.587,
          0.587,
          0.587,
          0.587,
          0.587,
          0.587,
          0.587,
          0.587,
          0.587,
          0.587,
          0.587,
          0.587,
          0.587,
          0.587,
          0.587,
          0.587,
          0.587,
          0.587,
          0.587,
          0.587,
          0.587,
          0.587,
          0.587,
          0.587,
          0.587,
          0.587,
          0.587,
          0.587,
          0.587,
          0.587,
          0.587,
          0.587,
          0.587,
          0.587,
          0.587,
          0.587,
          0.587,
          0.587,
          0.587,
          0.587,
          0.587,
          0.587,
          0.587,
          0.587,
          0.587,
          0.587,
          0.587,
          0.587,
          0.587,
          0.587,
          0.587,
          0.587,
          0.587,
          0.587,
          0.587,
          0.587,
          0.587,
          0.587,
          0.587,
          0.587,
          0.587,
          0.587,
          0.587,
          0.587,
          0.587,
          0.587,
          0.587,
          0.587,
          0.587,
          0.587,
          0.587,
          0.587,
          0.587,
          0.587,
          0.587,
          0.587,
          0.587,
          0.587,
          0.587,
          0.587,
          0.587,
          0.587,
          0.587,
          0.587,
          0.587,
          0.587,
          0.587,
          0.587,
          0.587,
          0.587,
          0.587,
          0.587,
          0.587,
          0.587,
          0.587,
          0.587,
          0.587,
          0.587,
          0.587,
          0.587,
          0.587,
          0.587,
          0.587,
          0.587,
          0.587,
          0.587,
          0.587,
          0.587,
          0.587,
          0.587,
          0.587,
          0.587,
          0.587,
          0.587,
          0.587,
          0.587,
          0.587,
          0.587,
          0.587,
          0.587,
          0.587,
          0.587,
          0.587,
          0.587,
          0.587,
          0.587,
          0.587,
          0.587,
          0.587,
          0.587,
          0.587,
          0.587,
          0.587,
          0.587,
          0.587,
          0.587,
          0.587,
          0.587,
          0.587,
          0.587,
          0.587,
          0.587,
          0.587,
          0.587,
          0.587,
          0.587,
          0.587,
          0.587,
          0.587,
          0.587,
          0.587,
          0.587,
          0.587,
          0.587,
          0.587,
          0.587,
          0.587,
          0.587,
          0.587,
          0.587,
          0.587,
          0.587,
          0.587,
          0.587,
          0.587,
          0.587,
          0.587,
          0.587,
          0.587,
          0.587,
          0.587,
          0.587,
          0.587,
          0.587,
          0.587
         ],
         "yaxis": "y2"
        }
       ],
       "layout": {
        "template": {
         "data": {
          "bar": [
           {
            "error_x": {
             "color": "#2a3f5f"
            },
            "error_y": {
             "color": "#2a3f5f"
            },
            "marker": {
             "line": {
              "color": "#E5ECF6",
              "width": 0.5
             },
             "pattern": {
              "fillmode": "overlay",
              "size": 10,
              "solidity": 0.2
             }
            },
            "type": "bar"
           }
          ],
          "barpolar": [
           {
            "marker": {
             "line": {
              "color": "#E5ECF6",
              "width": 0.5
             },
             "pattern": {
              "fillmode": "overlay",
              "size": 10,
              "solidity": 0.2
             }
            },
            "type": "barpolar"
           }
          ],
          "carpet": [
           {
            "aaxis": {
             "endlinecolor": "#2a3f5f",
             "gridcolor": "white",
             "linecolor": "white",
             "minorgridcolor": "white",
             "startlinecolor": "#2a3f5f"
            },
            "baxis": {
             "endlinecolor": "#2a3f5f",
             "gridcolor": "white",
             "linecolor": "white",
             "minorgridcolor": "white",
             "startlinecolor": "#2a3f5f"
            },
            "type": "carpet"
           }
          ],
          "choropleth": [
           {
            "colorbar": {
             "outlinewidth": 0,
             "ticks": ""
            },
            "type": "choropleth"
           }
          ],
          "contour": [
           {
            "colorbar": {
             "outlinewidth": 0,
             "ticks": ""
            },
            "colorscale": [
             [
              0,
              "#0d0887"
             ],
             [
              0.1111111111111111,
              "#46039f"
             ],
             [
              0.2222222222222222,
              "#7201a8"
             ],
             [
              0.3333333333333333,
              "#9c179e"
             ],
             [
              0.4444444444444444,
              "#bd3786"
             ],
             [
              0.5555555555555556,
              "#d8576b"
             ],
             [
              0.6666666666666666,
              "#ed7953"
             ],
             [
              0.7777777777777778,
              "#fb9f3a"
             ],
             [
              0.8888888888888888,
              "#fdca26"
             ],
             [
              1,
              "#f0f921"
             ]
            ],
            "type": "contour"
           }
          ],
          "contourcarpet": [
           {
            "colorbar": {
             "outlinewidth": 0,
             "ticks": ""
            },
            "type": "contourcarpet"
           }
          ],
          "heatmap": [
           {
            "colorbar": {
             "outlinewidth": 0,
             "ticks": ""
            },
            "colorscale": [
             [
              0,
              "#0d0887"
             ],
             [
              0.1111111111111111,
              "#46039f"
             ],
             [
              0.2222222222222222,
              "#7201a8"
             ],
             [
              0.3333333333333333,
              "#9c179e"
             ],
             [
              0.4444444444444444,
              "#bd3786"
             ],
             [
              0.5555555555555556,
              "#d8576b"
             ],
             [
              0.6666666666666666,
              "#ed7953"
             ],
             [
              0.7777777777777778,
              "#fb9f3a"
             ],
             [
              0.8888888888888888,
              "#fdca26"
             ],
             [
              1,
              "#f0f921"
             ]
            ],
            "type": "heatmap"
           }
          ],
          "heatmapgl": [
           {
            "colorbar": {
             "outlinewidth": 0,
             "ticks": ""
            },
            "colorscale": [
             [
              0,
              "#0d0887"
             ],
             [
              0.1111111111111111,
              "#46039f"
             ],
             [
              0.2222222222222222,
              "#7201a8"
             ],
             [
              0.3333333333333333,
              "#9c179e"
             ],
             [
              0.4444444444444444,
              "#bd3786"
             ],
             [
              0.5555555555555556,
              "#d8576b"
             ],
             [
              0.6666666666666666,
              "#ed7953"
             ],
             [
              0.7777777777777778,
              "#fb9f3a"
             ],
             [
              0.8888888888888888,
              "#fdca26"
             ],
             [
              1,
              "#f0f921"
             ]
            ],
            "type": "heatmapgl"
           }
          ],
          "histogram": [
           {
            "marker": {
             "pattern": {
              "fillmode": "overlay",
              "size": 10,
              "solidity": 0.2
             }
            },
            "type": "histogram"
           }
          ],
          "histogram2d": [
           {
            "colorbar": {
             "outlinewidth": 0,
             "ticks": ""
            },
            "colorscale": [
             [
              0,
              "#0d0887"
             ],
             [
              0.1111111111111111,
              "#46039f"
             ],
             [
              0.2222222222222222,
              "#7201a8"
             ],
             [
              0.3333333333333333,
              "#9c179e"
             ],
             [
              0.4444444444444444,
              "#bd3786"
             ],
             [
              0.5555555555555556,
              "#d8576b"
             ],
             [
              0.6666666666666666,
              "#ed7953"
             ],
             [
              0.7777777777777778,
              "#fb9f3a"
             ],
             [
              0.8888888888888888,
              "#fdca26"
             ],
             [
              1,
              "#f0f921"
             ]
            ],
            "type": "histogram2d"
           }
          ],
          "histogram2dcontour": [
           {
            "colorbar": {
             "outlinewidth": 0,
             "ticks": ""
            },
            "colorscale": [
             [
              0,
              "#0d0887"
             ],
             [
              0.1111111111111111,
              "#46039f"
             ],
             [
              0.2222222222222222,
              "#7201a8"
             ],
             [
              0.3333333333333333,
              "#9c179e"
             ],
             [
              0.4444444444444444,
              "#bd3786"
             ],
             [
              0.5555555555555556,
              "#d8576b"
             ],
             [
              0.6666666666666666,
              "#ed7953"
             ],
             [
              0.7777777777777778,
              "#fb9f3a"
             ],
             [
              0.8888888888888888,
              "#fdca26"
             ],
             [
              1,
              "#f0f921"
             ]
            ],
            "type": "histogram2dcontour"
           }
          ],
          "mesh3d": [
           {
            "colorbar": {
             "outlinewidth": 0,
             "ticks": ""
            },
            "type": "mesh3d"
           }
          ],
          "parcoords": [
           {
            "line": {
             "colorbar": {
              "outlinewidth": 0,
              "ticks": ""
             }
            },
            "type": "parcoords"
           }
          ],
          "pie": [
           {
            "automargin": true,
            "type": "pie"
           }
          ],
          "scatter": [
           {
            "fillpattern": {
             "fillmode": "overlay",
             "size": 10,
             "solidity": 0.2
            },
            "type": "scatter"
           }
          ],
          "scatter3d": [
           {
            "line": {
             "colorbar": {
              "outlinewidth": 0,
              "ticks": ""
             }
            },
            "marker": {
             "colorbar": {
              "outlinewidth": 0,
              "ticks": ""
             }
            },
            "type": "scatter3d"
           }
          ],
          "scattercarpet": [
           {
            "marker": {
             "colorbar": {
              "outlinewidth": 0,
              "ticks": ""
             }
            },
            "type": "scattercarpet"
           }
          ],
          "scattergeo": [
           {
            "marker": {
             "colorbar": {
              "outlinewidth": 0,
              "ticks": ""
             }
            },
            "type": "scattergeo"
           }
          ],
          "scattergl": [
           {
            "marker": {
             "colorbar": {
              "outlinewidth": 0,
              "ticks": ""
             }
            },
            "type": "scattergl"
           }
          ],
          "scattermapbox": [
           {
            "marker": {
             "colorbar": {
              "outlinewidth": 0,
              "ticks": ""
             }
            },
            "type": "scattermapbox"
           }
          ],
          "scatterpolar": [
           {
            "marker": {
             "colorbar": {
              "outlinewidth": 0,
              "ticks": ""
             }
            },
            "type": "scatterpolar"
           }
          ],
          "scatterpolargl": [
           {
            "marker": {
             "colorbar": {
              "outlinewidth": 0,
              "ticks": ""
             }
            },
            "type": "scatterpolargl"
           }
          ],
          "scatterternary": [
           {
            "marker": {
             "colorbar": {
              "outlinewidth": 0,
              "ticks": ""
             }
            },
            "type": "scatterternary"
           }
          ],
          "surface": [
           {
            "colorbar": {
             "outlinewidth": 0,
             "ticks": ""
            },
            "colorscale": [
             [
              0,
              "#0d0887"
             ],
             [
              0.1111111111111111,
              "#46039f"
             ],
             [
              0.2222222222222222,
              "#7201a8"
             ],
             [
              0.3333333333333333,
              "#9c179e"
             ],
             [
              0.4444444444444444,
              "#bd3786"
             ],
             [
              0.5555555555555556,
              "#d8576b"
             ],
             [
              0.6666666666666666,
              "#ed7953"
             ],
             [
              0.7777777777777778,
              "#fb9f3a"
             ],
             [
              0.8888888888888888,
              "#fdca26"
             ],
             [
              1,
              "#f0f921"
             ]
            ],
            "type": "surface"
           }
          ],
          "table": [
           {
            "cells": {
             "fill": {
              "color": "#EBF0F8"
             },
             "line": {
              "color": "white"
             }
            },
            "header": {
             "fill": {
              "color": "#C8D4E3"
             },
             "line": {
              "color": "white"
             }
            },
            "type": "table"
           }
          ]
         },
         "layout": {
          "annotationdefaults": {
           "arrowcolor": "#2a3f5f",
           "arrowhead": 0,
           "arrowwidth": 1
          },
          "autotypenumbers": "strict",
          "coloraxis": {
           "colorbar": {
            "outlinewidth": 0,
            "ticks": ""
           }
          },
          "colorscale": {
           "diverging": [
            [
             0,
             "#8e0152"
            ],
            [
             0.1,
             "#c51b7d"
            ],
            [
             0.2,
             "#de77ae"
            ],
            [
             0.3,
             "#f1b6da"
            ],
            [
             0.4,
             "#fde0ef"
            ],
            [
             0.5,
             "#f7f7f7"
            ],
            [
             0.6,
             "#e6f5d0"
            ],
            [
             0.7,
             "#b8e186"
            ],
            [
             0.8,
             "#7fbc41"
            ],
            [
             0.9,
             "#4d9221"
            ],
            [
             1,
             "#276419"
            ]
           ],
           "sequential": [
            [
             0,
             "#0d0887"
            ],
            [
             0.1111111111111111,
             "#46039f"
            ],
            [
             0.2222222222222222,
             "#7201a8"
            ],
            [
             0.3333333333333333,
             "#9c179e"
            ],
            [
             0.4444444444444444,
             "#bd3786"
            ],
            [
             0.5555555555555556,
             "#d8576b"
            ],
            [
             0.6666666666666666,
             "#ed7953"
            ],
            [
             0.7777777777777778,
             "#fb9f3a"
            ],
            [
             0.8888888888888888,
             "#fdca26"
            ],
            [
             1,
             "#f0f921"
            ]
           ],
           "sequentialminus": [
            [
             0,
             "#0d0887"
            ],
            [
             0.1111111111111111,
             "#46039f"
            ],
            [
             0.2222222222222222,
             "#7201a8"
            ],
            [
             0.3333333333333333,
             "#9c179e"
            ],
            [
             0.4444444444444444,
             "#bd3786"
            ],
            [
             0.5555555555555556,
             "#d8576b"
            ],
            [
             0.6666666666666666,
             "#ed7953"
            ],
            [
             0.7777777777777778,
             "#fb9f3a"
            ],
            [
             0.8888888888888888,
             "#fdca26"
            ],
            [
             1,
             "#f0f921"
            ]
           ]
          },
          "colorway": [
           "#636efa",
           "#EF553B",
           "#00cc96",
           "#ab63fa",
           "#FFA15A",
           "#19d3f3",
           "#FF6692",
           "#B6E880",
           "#FF97FF",
           "#FECB52"
          ],
          "font": {
           "color": "#2a3f5f"
          },
          "geo": {
           "bgcolor": "white",
           "lakecolor": "white",
           "landcolor": "#E5ECF6",
           "showlakes": true,
           "showland": true,
           "subunitcolor": "white"
          },
          "hoverlabel": {
           "align": "left"
          },
          "hovermode": "closest",
          "mapbox": {
           "style": "light"
          },
          "paper_bgcolor": "white",
          "plot_bgcolor": "#E5ECF6",
          "polar": {
           "angularaxis": {
            "gridcolor": "white",
            "linecolor": "white",
            "ticks": ""
           },
           "bgcolor": "#E5ECF6",
           "radialaxis": {
            "gridcolor": "white",
            "linecolor": "white",
            "ticks": ""
           }
          },
          "scene": {
           "xaxis": {
            "backgroundcolor": "#E5ECF6",
            "gridcolor": "white",
            "gridwidth": 2,
            "linecolor": "white",
            "showbackground": true,
            "ticks": "",
            "zerolinecolor": "white"
           },
           "yaxis": {
            "backgroundcolor": "#E5ECF6",
            "gridcolor": "white",
            "gridwidth": 2,
            "linecolor": "white",
            "showbackground": true,
            "ticks": "",
            "zerolinecolor": "white"
           },
           "zaxis": {
            "backgroundcolor": "#E5ECF6",
            "gridcolor": "white",
            "gridwidth": 2,
            "linecolor": "white",
            "showbackground": true,
            "ticks": "",
            "zerolinecolor": "white"
           }
          },
          "shapedefaults": {
           "line": {
            "color": "#2a3f5f"
           }
          },
          "ternary": {
           "aaxis": {
            "gridcolor": "white",
            "linecolor": "white",
            "ticks": ""
           },
           "baxis": {
            "gridcolor": "white",
            "linecolor": "white",
            "ticks": ""
           },
           "bgcolor": "#E5ECF6",
           "caxis": {
            "gridcolor": "white",
            "linecolor": "white",
            "ticks": ""
           }
          },
          "title": {
           "x": 0.05
          },
          "xaxis": {
           "automargin": true,
           "gridcolor": "white",
           "linecolor": "white",
           "ticks": "",
           "title": {
            "standoff": 15
           },
           "zerolinecolor": "white",
           "zerolinewidth": 2
          },
          "yaxis": {
           "automargin": true,
           "gridcolor": "white",
           "linecolor": "white",
           "ticks": "",
           "title": {
            "standoff": 15
           },
           "zerolinecolor": "white",
           "zerolinewidth": 2
          }
         }
        },
        "title": {
         "text": "Loss and Accuracy"
        },
        "xaxis": {
         "title": {
          "text": "Index"
         }
        },
        "yaxis": {
         "side": "left",
         "title": {
          "text": "Loss"
         }
        },
        "yaxis2": {
         "overlaying": "y",
         "side": "right",
         "title": {
          "text": "Accuracy"
         }
        }
       }
      }
     },
     "metadata": {},
     "output_type": "display_data"
    }
   ],
   "source": [
    "import pandas as pd\n",
    "import plotly.graph_objects as go\n",
    "\n",
    "# Convert to pandas DataFrame\n",
    "df = pd.DataFrame(results)\n",
    "\n",
    "fig = go.Figure()\n",
    "\n",
    "fig.add_trace(\n",
    "    go.Scatter(x=df.index, y=df['loss'], name='Loss', yaxis='y1')\n",
    ")\n",
    "fig.add_trace(\n",
    "    go.Scatter(x=df.index, y=df['acc'], name='Accuracy', yaxis='y2')\n",
    ")\n",
    "\n",
    "fig.update_layout(\n",
    "    title='Loss and Accuracy',\n",
    "    xaxis=dict(title='Index'),\n",
    "    yaxis=dict(title='Loss', side='left'),\n",
    "    yaxis2=dict(title='Accuracy', overlaying='y', side='right')\n",
    ")\n",
    "\n",
    "fig.show()"
   ]
  },
  {
   "cell_type": "code",
   "execution_count": 6,
   "metadata": {},
   "outputs": [],
   "source": [
    "def eval_epoch(model: nn.Module, dataloader: DataLoader, device: torch.device) -> dict[str, list[float]]:\n",
    "    model = model.to(device)\n",
    "    inputs = []\n",
    "    correct_outputs = []\n",
    "    probabilities = []\n",
    "    for input, labels in dataloader:\n",
    "        input = input.to(device).to(torch.int32)\n",
    "        labels = labels.to(device).to(torch.float)\n",
    "        output = model(input)\n",
    "        inputs += input.tolist()\n",
    "        correct_outputs += labels.tolist()\n",
    "        probabilities += torch.softmax(output, dim=1)[:, 1].tolist()\n",
    "    return {\n",
    "        \"inputs\": inputs,\n",
    "        \"correct_outputs\": correct_outputs,\n",
    "        \"probabilities\": probabilities\n",
    "    }"
   ]
  },
  {
   "cell_type": "code",
   "execution_count": 7,
   "metadata": {},
   "outputs": [
    {
     "data": {
      "text/html": [
       "<div>\n",
       "<style scoped>\n",
       "    .dataframe tbody tr th:only-of-type {\n",
       "        vertical-align: middle;\n",
       "    }\n",
       "\n",
       "    .dataframe tbody tr th {\n",
       "        vertical-align: top;\n",
       "    }\n",
       "\n",
       "    .dataframe thead th {\n",
       "        text-align: right;\n",
       "    }\n",
       "</style>\n",
       "<table border=\"1\" class=\"dataframe\">\n",
       "  <thead>\n",
       "    <tr style=\"text-align: right;\">\n",
       "      <th></th>\n",
       "      <th>inputs</th>\n",
       "      <th>correct_outputs</th>\n",
       "      <th>probabilities</th>\n",
       "    </tr>\n",
       "  </thead>\n",
       "  <tbody>\n",
       "    <tr>\n",
       "      <th>0</th>\n",
       "      <td>[1, 1, 1, 1, 0, 0, 0, 0, 0, 1, 1, 1, 1, 1, 1, ...</td>\n",
       "      <td>1.0</td>\n",
       "      <td>0.413695</td>\n",
       "    </tr>\n",
       "    <tr>\n",
       "      <th>1</th>\n",
       "      <td>[1, 1, 0, 1, 0, 0, 1, 1, 0, 1, 1, 0, 1, 0, 0, ...</td>\n",
       "      <td>1.0</td>\n",
       "      <td>0.413695</td>\n",
       "    </tr>\n",
       "    <tr>\n",
       "      <th>2</th>\n",
       "      <td>[1, 0, 0, 1, 1, 0, 0, 1, 1, 0, 0, 1, 1, 0, 1, ...</td>\n",
       "      <td>0.0</td>\n",
       "      <td>0.413695</td>\n",
       "    </tr>\n",
       "    <tr>\n",
       "      <th>3</th>\n",
       "      <td>[1, 1, 0, 1, 0, 1, 1, 0, 0, 0, 1, 1, 0, 1, 1, ...</td>\n",
       "      <td>0.0</td>\n",
       "      <td>0.413695</td>\n",
       "    </tr>\n",
       "    <tr>\n",
       "      <th>4</th>\n",
       "      <td>[0, 0, 1, 0, 0, 1, 1, 0, 0, 0, 1, 0, 0, 0, 1, ...</td>\n",
       "      <td>0.0</td>\n",
       "      <td>0.413695</td>\n",
       "    </tr>\n",
       "    <tr>\n",
       "      <th>...</th>\n",
       "      <td>...</td>\n",
       "      <td>...</td>\n",
       "      <td>...</td>\n",
       "    </tr>\n",
       "    <tr>\n",
       "      <th>995</th>\n",
       "      <td>[1, 1, 0, 1, 1, 0, 1, 0, 1, 0, 0, 0, 0, 0, 0, ...</td>\n",
       "      <td>0.0</td>\n",
       "      <td>0.413695</td>\n",
       "    </tr>\n",
       "    <tr>\n",
       "      <th>996</th>\n",
       "      <td>[0, 1, 1, 1, 1, 1, 1, 0, 0, 1, 0, 0, 0, 1, 1, ...</td>\n",
       "      <td>0.0</td>\n",
       "      <td>0.413695</td>\n",
       "    </tr>\n",
       "    <tr>\n",
       "      <th>997</th>\n",
       "      <td>[0, 0, 0, 0, 0, 0, 1, 1, 1, 0, 0, 1, 1, 0, 1, ...</td>\n",
       "      <td>0.0</td>\n",
       "      <td>0.413695</td>\n",
       "    </tr>\n",
       "    <tr>\n",
       "      <th>998</th>\n",
       "      <td>[1, 1, 0, 1, 1, 1, 0, 1, 1, 1, 0, 0, 0, 1, 0, ...</td>\n",
       "      <td>1.0</td>\n",
       "      <td>0.413695</td>\n",
       "    </tr>\n",
       "    <tr>\n",
       "      <th>999</th>\n",
       "      <td>[1, 1, 0, 1, 1, 0, 0, 1, 0, 1, 0, 1, 0, 1, 0, ...</td>\n",
       "      <td>0.0</td>\n",
       "      <td>0.413695</td>\n",
       "    </tr>\n",
       "  </tbody>\n",
       "</table>\n",
       "<p>1000 rows × 3 columns</p>\n",
       "</div>"
      ],
      "text/plain": [
       "                                                inputs  correct_outputs  \\\n",
       "0    [1, 1, 1, 1, 0, 0, 0, 0, 0, 1, 1, 1, 1, 1, 1, ...              1.0   \n",
       "1    [1, 1, 0, 1, 0, 0, 1, 1, 0, 1, 1, 0, 1, 0, 0, ...              1.0   \n",
       "2    [1, 0, 0, 1, 1, 0, 0, 1, 1, 0, 0, 1, 1, 0, 1, ...              0.0   \n",
       "3    [1, 1, 0, 1, 0, 1, 1, 0, 0, 0, 1, 1, 0, 1, 1, ...              0.0   \n",
       "4    [0, 0, 1, 0, 0, 1, 1, 0, 0, 0, 1, 0, 0, 0, 1, ...              0.0   \n",
       "..                                                 ...              ...   \n",
       "995  [1, 1, 0, 1, 1, 0, 1, 0, 1, 0, 0, 0, 0, 0, 0, ...              0.0   \n",
       "996  [0, 1, 1, 1, 1, 1, 1, 0, 0, 1, 0, 0, 0, 1, 1, ...              0.0   \n",
       "997  [0, 0, 0, 0, 0, 0, 1, 1, 1, 0, 0, 1, 1, 0, 1, ...              0.0   \n",
       "998  [1, 1, 0, 1, 1, 1, 0, 1, 1, 1, 0, 0, 0, 1, 0, ...              1.0   \n",
       "999  [1, 1, 0, 1, 1, 0, 0, 1, 0, 1, 0, 1, 0, 1, 0, ...              0.0   \n",
       "\n",
       "     probabilities  \n",
       "0         0.413695  \n",
       "1         0.413695  \n",
       "2         0.413695  \n",
       "3         0.413695  \n",
       "4         0.413695  \n",
       "..             ...  \n",
       "995       0.413695  \n",
       "996       0.413695  \n",
       "997       0.413695  \n",
       "998       0.413695  \n",
       "999       0.413695  \n",
       "\n",
       "[1000 rows x 3 columns]"
      ]
     },
     "execution_count": 7,
     "metadata": {},
     "output_type": "execute_result"
    }
   ],
   "source": [
    "eval_res = eval_epoch(model, test_dataloader, device)\n",
    "pd.DataFrame.from_dict(eval_res, orient=\"columns\")"
   ]
  },
  {
   "cell_type": "code",
   "execution_count": 8,
   "metadata": {},
   "outputs": [],
   "source": [
    "torch.save(model.state_dict(), \"checkpoints/example_transformer.ckpt\")"
   ]
  },
  {
   "cell_type": "code",
   "execution_count": 9,
   "metadata": {},
   "outputs": [
    {
     "name": "stdout",
     "output_type": "stream",
     "text": [
      "Transformer(\n",
      "  (embeddings): Embedding(3, 2)\n",
      "  (transformer): Sequential(\n",
      "    (0): AttentionBlock(\n",
      "      (attn): MultiheadAttention(\n",
      "        (out_proj): NonDynamicallyQuantizableLinear(in_features=2, out_features=2, bias=False)\n",
      "      )\n",
      "      (norm1): LayerNorm((2,), eps=1e-05, elementwise_affine=True)\n",
      "      (norm2): LayerNorm((2,), eps=1e-05, elementwise_affine=True)\n",
      "      (linear): Sequential(\n",
      "        (0): Linear(in_features=2, out_features=2, bias=True)\n",
      "        (1): ReLU()\n",
      "        (2): Linear(in_features=2, out_features=2, bias=True)\n",
      "      )\n",
      "    )\n",
      "  )\n",
      "  (mlp_head): Sequential(\n",
      "    (0): Linear(in_features=2, out_features=2, bias=True)\n",
      "  )\n",
      ")\n"
     ]
    },
    {
     "data": {
      "application/vnd.plotly.v1+json": {
       "config": {
        "plotlyServerURL": "https://plot.ly"
       },
       "data": [
        {
         "coloraxis": "coloraxis",
         "hovertemplate": "x: %{x}<br>y: %{y}<br>color: %{z}<extra></extra>",
         "name": "0",
         "type": "heatmap",
         "xaxis": "x",
         "yaxis": "y",
         "z": [
          [
           -0.7707823514938354,
           0.5852192640304565
          ],
          [
           0.0568714439868927,
           0.25819289684295654
          ]
         ]
        },
        {
         "coloraxis": "coloraxis",
         "hovertemplate": "x: %{x}<br>y: %{y}<br>color: %{z}<extra></extra>",
         "name": "0",
         "type": "heatmap",
         "xaxis": "x2",
         "yaxis": "y2",
         "z": [
          [
           0.4195946455001831,
           0.7268035411834717
          ],
          [
           0.12622633576393127,
           -0.8227967619895935
          ]
         ]
        },
        {
         "coloraxis": "coloraxis",
         "hovertemplate": "x: %{x}<br>y: %{y}<br>color: %{z}<extra></extra>",
         "name": "0",
         "type": "heatmap",
         "xaxis": "x3",
         "yaxis": "y3",
         "z": [
          [
           0.08882783353328705,
           -0.365776389837265
          ],
          [
           -0.44340041279792786,
           -0.3812447786331177
          ]
         ]
        },
        {
         "coloraxis": "coloraxis",
         "hovertemplate": "x: %{x}<br>y: %{y}<br>color: %{z}<extra></extra>",
         "name": "0",
         "type": "heatmap",
         "xaxis": "x4",
         "yaxis": "y4",
         "z": [
          [
           0.10192328691482544,
           -0.5788095593452454
          ],
          [
           0.21151846647262573,
           -0.20526160299777985
          ]
         ]
        }
       ],
       "layout": {
        "annotations": [
         {
          "font": {
           "size": 16
          },
          "showarrow": false,
          "text": "Q",
          "x": 0.225,
          "xanchor": "center",
          "xref": "paper",
          "y": 1,
          "yanchor": "bottom",
          "yref": "paper"
         },
         {
          "font": {
           "size": 16
          },
          "showarrow": false,
          "text": "K",
          "x": 0.775,
          "xanchor": "center",
          "xref": "paper",
          "y": 1,
          "yanchor": "bottom",
          "yref": "paper"
         },
         {
          "font": {
           "size": 16
          },
          "showarrow": false,
          "text": "V",
          "x": 0.225,
          "xanchor": "center",
          "xref": "paper",
          "y": 0.375,
          "yanchor": "bottom",
          "yref": "paper"
         },
         {
          "font": {
           "size": 16
          },
          "showarrow": false,
          "text": "Q @ K.T",
          "x": 0.775,
          "xanchor": "center",
          "xref": "paper",
          "y": 0.375,
          "yanchor": "bottom",
          "yref": "paper"
         }
        ],
        "height": 800,
        "template": {
         "data": {
          "bar": [
           {
            "error_x": {
             "color": "#2a3f5f"
            },
            "error_y": {
             "color": "#2a3f5f"
            },
            "marker": {
             "line": {
              "color": "#E5ECF6",
              "width": 0.5
             },
             "pattern": {
              "fillmode": "overlay",
              "size": 10,
              "solidity": 0.2
             }
            },
            "type": "bar"
           }
          ],
          "barpolar": [
           {
            "marker": {
             "line": {
              "color": "#E5ECF6",
              "width": 0.5
             },
             "pattern": {
              "fillmode": "overlay",
              "size": 10,
              "solidity": 0.2
             }
            },
            "type": "barpolar"
           }
          ],
          "carpet": [
           {
            "aaxis": {
             "endlinecolor": "#2a3f5f",
             "gridcolor": "white",
             "linecolor": "white",
             "minorgridcolor": "white",
             "startlinecolor": "#2a3f5f"
            },
            "baxis": {
             "endlinecolor": "#2a3f5f",
             "gridcolor": "white",
             "linecolor": "white",
             "minorgridcolor": "white",
             "startlinecolor": "#2a3f5f"
            },
            "type": "carpet"
           }
          ],
          "choropleth": [
           {
            "colorbar": {
             "outlinewidth": 0,
             "ticks": ""
            },
            "type": "choropleth"
           }
          ],
          "contour": [
           {
            "colorbar": {
             "outlinewidth": 0,
             "ticks": ""
            },
            "colorscale": [
             [
              0,
              "#0d0887"
             ],
             [
              0.1111111111111111,
              "#46039f"
             ],
             [
              0.2222222222222222,
              "#7201a8"
             ],
             [
              0.3333333333333333,
              "#9c179e"
             ],
             [
              0.4444444444444444,
              "#bd3786"
             ],
             [
              0.5555555555555556,
              "#d8576b"
             ],
             [
              0.6666666666666666,
              "#ed7953"
             ],
             [
              0.7777777777777778,
              "#fb9f3a"
             ],
             [
              0.8888888888888888,
              "#fdca26"
             ],
             [
              1,
              "#f0f921"
             ]
            ],
            "type": "contour"
           }
          ],
          "contourcarpet": [
           {
            "colorbar": {
             "outlinewidth": 0,
             "ticks": ""
            },
            "type": "contourcarpet"
           }
          ],
          "heatmap": [
           {
            "colorbar": {
             "outlinewidth": 0,
             "ticks": ""
            },
            "colorscale": [
             [
              0,
              "#0d0887"
             ],
             [
              0.1111111111111111,
              "#46039f"
             ],
             [
              0.2222222222222222,
              "#7201a8"
             ],
             [
              0.3333333333333333,
              "#9c179e"
             ],
             [
              0.4444444444444444,
              "#bd3786"
             ],
             [
              0.5555555555555556,
              "#d8576b"
             ],
             [
              0.6666666666666666,
              "#ed7953"
             ],
             [
              0.7777777777777778,
              "#fb9f3a"
             ],
             [
              0.8888888888888888,
              "#fdca26"
             ],
             [
              1,
              "#f0f921"
             ]
            ],
            "type": "heatmap"
           }
          ],
          "heatmapgl": [
           {
            "colorbar": {
             "outlinewidth": 0,
             "ticks": ""
            },
            "colorscale": [
             [
              0,
              "#0d0887"
             ],
             [
              0.1111111111111111,
              "#46039f"
             ],
             [
              0.2222222222222222,
              "#7201a8"
             ],
             [
              0.3333333333333333,
              "#9c179e"
             ],
             [
              0.4444444444444444,
              "#bd3786"
             ],
             [
              0.5555555555555556,
              "#d8576b"
             ],
             [
              0.6666666666666666,
              "#ed7953"
             ],
             [
              0.7777777777777778,
              "#fb9f3a"
             ],
             [
              0.8888888888888888,
              "#fdca26"
             ],
             [
              1,
              "#f0f921"
             ]
            ],
            "type": "heatmapgl"
           }
          ],
          "histogram": [
           {
            "marker": {
             "pattern": {
              "fillmode": "overlay",
              "size": 10,
              "solidity": 0.2
             }
            },
            "type": "histogram"
           }
          ],
          "histogram2d": [
           {
            "colorbar": {
             "outlinewidth": 0,
             "ticks": ""
            },
            "colorscale": [
             [
              0,
              "#0d0887"
             ],
             [
              0.1111111111111111,
              "#46039f"
             ],
             [
              0.2222222222222222,
              "#7201a8"
             ],
             [
              0.3333333333333333,
              "#9c179e"
             ],
             [
              0.4444444444444444,
              "#bd3786"
             ],
             [
              0.5555555555555556,
              "#d8576b"
             ],
             [
              0.6666666666666666,
              "#ed7953"
             ],
             [
              0.7777777777777778,
              "#fb9f3a"
             ],
             [
              0.8888888888888888,
              "#fdca26"
             ],
             [
              1,
              "#f0f921"
             ]
            ],
            "type": "histogram2d"
           }
          ],
          "histogram2dcontour": [
           {
            "colorbar": {
             "outlinewidth": 0,
             "ticks": ""
            },
            "colorscale": [
             [
              0,
              "#0d0887"
             ],
             [
              0.1111111111111111,
              "#46039f"
             ],
             [
              0.2222222222222222,
              "#7201a8"
             ],
             [
              0.3333333333333333,
              "#9c179e"
             ],
             [
              0.4444444444444444,
              "#bd3786"
             ],
             [
              0.5555555555555556,
              "#d8576b"
             ],
             [
              0.6666666666666666,
              "#ed7953"
             ],
             [
              0.7777777777777778,
              "#fb9f3a"
             ],
             [
              0.8888888888888888,
              "#fdca26"
             ],
             [
              1,
              "#f0f921"
             ]
            ],
            "type": "histogram2dcontour"
           }
          ],
          "mesh3d": [
           {
            "colorbar": {
             "outlinewidth": 0,
             "ticks": ""
            },
            "type": "mesh3d"
           }
          ],
          "parcoords": [
           {
            "line": {
             "colorbar": {
              "outlinewidth": 0,
              "ticks": ""
             }
            },
            "type": "parcoords"
           }
          ],
          "pie": [
           {
            "automargin": true,
            "type": "pie"
           }
          ],
          "scatter": [
           {
            "fillpattern": {
             "fillmode": "overlay",
             "size": 10,
             "solidity": 0.2
            },
            "type": "scatter"
           }
          ],
          "scatter3d": [
           {
            "line": {
             "colorbar": {
              "outlinewidth": 0,
              "ticks": ""
             }
            },
            "marker": {
             "colorbar": {
              "outlinewidth": 0,
              "ticks": ""
             }
            },
            "type": "scatter3d"
           }
          ],
          "scattercarpet": [
           {
            "marker": {
             "colorbar": {
              "outlinewidth": 0,
              "ticks": ""
             }
            },
            "type": "scattercarpet"
           }
          ],
          "scattergeo": [
           {
            "marker": {
             "colorbar": {
              "outlinewidth": 0,
              "ticks": ""
             }
            },
            "type": "scattergeo"
           }
          ],
          "scattergl": [
           {
            "marker": {
             "colorbar": {
              "outlinewidth": 0,
              "ticks": ""
             }
            },
            "type": "scattergl"
           }
          ],
          "scattermapbox": [
           {
            "marker": {
             "colorbar": {
              "outlinewidth": 0,
              "ticks": ""
             }
            },
            "type": "scattermapbox"
           }
          ],
          "scatterpolar": [
           {
            "marker": {
             "colorbar": {
              "outlinewidth": 0,
              "ticks": ""
             }
            },
            "type": "scatterpolar"
           }
          ],
          "scatterpolargl": [
           {
            "marker": {
             "colorbar": {
              "outlinewidth": 0,
              "ticks": ""
             }
            },
            "type": "scatterpolargl"
           }
          ],
          "scatterternary": [
           {
            "marker": {
             "colorbar": {
              "outlinewidth": 0,
              "ticks": ""
             }
            },
            "type": "scatterternary"
           }
          ],
          "surface": [
           {
            "colorbar": {
             "outlinewidth": 0,
             "ticks": ""
            },
            "colorscale": [
             [
              0,
              "#0d0887"
             ],
             [
              0.1111111111111111,
              "#46039f"
             ],
             [
              0.2222222222222222,
              "#7201a8"
             ],
             [
              0.3333333333333333,
              "#9c179e"
             ],
             [
              0.4444444444444444,
              "#bd3786"
             ],
             [
              0.5555555555555556,
              "#d8576b"
             ],
             [
              0.6666666666666666,
              "#ed7953"
             ],
             [
              0.7777777777777778,
              "#fb9f3a"
             ],
             [
              0.8888888888888888,
              "#fdca26"
             ],
             [
              1,
              "#f0f921"
             ]
            ],
            "type": "surface"
           }
          ],
          "table": [
           {
            "cells": {
             "fill": {
              "color": "#EBF0F8"
             },
             "line": {
              "color": "white"
             }
            },
            "header": {
             "fill": {
              "color": "#C8D4E3"
             },
             "line": {
              "color": "white"
             }
            },
            "type": "table"
           }
          ]
         },
         "layout": {
          "annotationdefaults": {
           "arrowcolor": "#2a3f5f",
           "arrowhead": 0,
           "arrowwidth": 1
          },
          "autotypenumbers": "strict",
          "coloraxis": {
           "colorbar": {
            "outlinewidth": 0,
            "ticks": ""
           }
          },
          "colorscale": {
           "diverging": [
            [
             0,
             "#8e0152"
            ],
            [
             0.1,
             "#c51b7d"
            ],
            [
             0.2,
             "#de77ae"
            ],
            [
             0.3,
             "#f1b6da"
            ],
            [
             0.4,
             "#fde0ef"
            ],
            [
             0.5,
             "#f7f7f7"
            ],
            [
             0.6,
             "#e6f5d0"
            ],
            [
             0.7,
             "#b8e186"
            ],
            [
             0.8,
             "#7fbc41"
            ],
            [
             0.9,
             "#4d9221"
            ],
            [
             1,
             "#276419"
            ]
           ],
           "sequential": [
            [
             0,
             "#0d0887"
            ],
            [
             0.1111111111111111,
             "#46039f"
            ],
            [
             0.2222222222222222,
             "#7201a8"
            ],
            [
             0.3333333333333333,
             "#9c179e"
            ],
            [
             0.4444444444444444,
             "#bd3786"
            ],
            [
             0.5555555555555556,
             "#d8576b"
            ],
            [
             0.6666666666666666,
             "#ed7953"
            ],
            [
             0.7777777777777778,
             "#fb9f3a"
            ],
            [
             0.8888888888888888,
             "#fdca26"
            ],
            [
             1,
             "#f0f921"
            ]
           ],
           "sequentialminus": [
            [
             0,
             "#0d0887"
            ],
            [
             0.1111111111111111,
             "#46039f"
            ],
            [
             0.2222222222222222,
             "#7201a8"
            ],
            [
             0.3333333333333333,
             "#9c179e"
            ],
            [
             0.4444444444444444,
             "#bd3786"
            ],
            [
             0.5555555555555556,
             "#d8576b"
            ],
            [
             0.6666666666666666,
             "#ed7953"
            ],
            [
             0.7777777777777778,
             "#fb9f3a"
            ],
            [
             0.8888888888888888,
             "#fdca26"
            ],
            [
             1,
             "#f0f921"
            ]
           ]
          },
          "colorway": [
           "#636efa",
           "#EF553B",
           "#00cc96",
           "#ab63fa",
           "#FFA15A",
           "#19d3f3",
           "#FF6692",
           "#B6E880",
           "#FF97FF",
           "#FECB52"
          ],
          "font": {
           "color": "#2a3f5f"
          },
          "geo": {
           "bgcolor": "white",
           "lakecolor": "white",
           "landcolor": "#E5ECF6",
           "showlakes": true,
           "showland": true,
           "subunitcolor": "white"
          },
          "hoverlabel": {
           "align": "left"
          },
          "hovermode": "closest",
          "mapbox": {
           "style": "light"
          },
          "paper_bgcolor": "white",
          "plot_bgcolor": "#E5ECF6",
          "polar": {
           "angularaxis": {
            "gridcolor": "white",
            "linecolor": "white",
            "ticks": ""
           },
           "bgcolor": "#E5ECF6",
           "radialaxis": {
            "gridcolor": "white",
            "linecolor": "white",
            "ticks": ""
           }
          },
          "scene": {
           "xaxis": {
            "backgroundcolor": "#E5ECF6",
            "gridcolor": "white",
            "gridwidth": 2,
            "linecolor": "white",
            "showbackground": true,
            "ticks": "",
            "zerolinecolor": "white"
           },
           "yaxis": {
            "backgroundcolor": "#E5ECF6",
            "gridcolor": "white",
            "gridwidth": 2,
            "linecolor": "white",
            "showbackground": true,
            "ticks": "",
            "zerolinecolor": "white"
           },
           "zaxis": {
            "backgroundcolor": "#E5ECF6",
            "gridcolor": "white",
            "gridwidth": 2,
            "linecolor": "white",
            "showbackground": true,
            "ticks": "",
            "zerolinecolor": "white"
           }
          },
          "shapedefaults": {
           "line": {
            "color": "#2a3f5f"
           }
          },
          "ternary": {
           "aaxis": {
            "gridcolor": "white",
            "linecolor": "white",
            "ticks": ""
           },
           "baxis": {
            "gridcolor": "white",
            "linecolor": "white",
            "ticks": ""
           },
           "bgcolor": "#E5ECF6",
           "caxis": {
            "gridcolor": "white",
            "linecolor": "white",
            "ticks": ""
           }
          },
          "title": {
           "x": 0.05
          },
          "xaxis": {
           "automargin": true,
           "gridcolor": "white",
           "linecolor": "white",
           "ticks": "",
           "title": {
            "standoff": 15
           },
           "zerolinecolor": "white",
           "zerolinewidth": 2
          },
          "yaxis": {
           "automargin": true,
           "gridcolor": "white",
           "linecolor": "white",
           "ticks": "",
           "title": {
            "standoff": 15
           },
           "zerolinecolor": "white",
           "zerolinewidth": 2
          }
         }
        },
        "title": {
         "text": "Subplots of q, k, v, and q @ k.T"
        },
        "width": 800,
        "xaxis": {
         "anchor": "y",
         "domain": [
          0,
          0.45
         ]
        },
        "xaxis2": {
         "anchor": "y2",
         "domain": [
          0.55,
          1
         ]
        },
        "xaxis3": {
         "anchor": "y3",
         "domain": [
          0,
          0.45
         ]
        },
        "xaxis4": {
         "anchor": "y4",
         "domain": [
          0.55,
          1
         ]
        },
        "yaxis": {
         "anchor": "x",
         "domain": [
          0.625,
          1
         ]
        },
        "yaxis2": {
         "anchor": "x2",
         "domain": [
          0.625,
          1
         ]
        },
        "yaxis3": {
         "anchor": "x3",
         "domain": [
          0,
          0.375
         ]
        },
        "yaxis4": {
         "anchor": "x4",
         "domain": [
          0,
          0.375
         ]
        }
       }
      }
     },
     "metadata": {},
     "output_type": "display_data"
    }
   ],
   "source": [
    "import plotly.express as px\n",
    "import plotly.subplots as sp\n",
    "\n",
    "print(model)\n",
    "\n",
    "qkv = model.transformer[0].attn.in_proj_weight.detach()\n",
    "q, k, v = qkv.reshape(3, hidden_dim, hidden_dim)\n",
    "qkT = q @ k.T\n",
    "\n",
    "# Create subplots\n",
    "fig = sp.make_subplots(rows=2, cols=2, subplot_titles=(\"Q\", \"K\", \"V\", \"Q @ K.T\"))\n",
    "\n",
    "# Add q plot\n",
    "fig.add_trace(px.imshow(q).data[0], row=1, col=1)\n",
    "\n",
    "# Add k plot\n",
    "fig.add_trace(px.imshow(k).data[0], row=1, col=2)\n",
    "\n",
    "# Add v plot\n",
    "fig.add_trace(px.imshow(v).data[0], row=2, col=1)\n",
    "\n",
    "# Add q @ k.T plot\n",
    "fig.add_trace(px.imshow(qkT).data[0], row=2, col=2)\n",
    "\n",
    "# Update layout\n",
    "fig.update_layout(height=800, width=800, title_text=\"Subplots of q, k, v, and q @ k.T\")\n",
    "\n",
    "fig.show()\n",
    "\n"
   ]
  },
  {
   "cell_type": "code",
   "execution_count": 10,
   "metadata": {},
   "outputs": [
    {
     "data": {
      "application/vnd.plotly.v1+json": {
       "config": {
        "plotlyServerURL": "https://plot.ly"
       },
       "data": [
        {
         "coloraxis": "coloraxis",
         "hovertemplate": "x: %{x}<br>y: %{y}<br>color: %{z}<extra></extra>",
         "name": "0",
         "type": "heatmap",
         "xaxis": "x",
         "yaxis": "y",
         "z": [
          [
           -7.450580596923828e-9,
           0,
           -0.033532723784446716,
           -0.033532723784446716,
           -0.0279439315199852,
           -0.0279439315199852,
           -0.02235514670610428,
           -0.02235514670610428,
           -0.016766361892223358,
           -0.016766361892223358,
           -0.011177577078342438,
           -0.011177577078342438,
           -0.00558878481388092,
           -0.00558878481388092,
           0,
           0,
           0,
           0,
           0,
           0,
           0
          ],
          [
           -5.960464477539063e-8,
           1.4901161193847656e-8,
           0.09152108430862427,
           0.09152108430862427,
           0.07626757025718689,
           0.07626757025718689,
           0.061014071106910706,
           0.061014071106910706,
           0.045760542154312134,
           0.045760542154312134,
           0.030507028102874756,
           0.030507028102874756,
           0.015253514051437378,
           0.015253514051437378,
           1.4901161193847656e-8,
           1.4901161193847656e-8,
           1.4901161193847656e-8,
           1.4901161193847656e-8,
           1.4901161193847656e-8,
           1.4901161193847656e-8,
           -2.9802322387695312e-8
          ],
          [
           0.07592636346817017,
           -0.04298495501279831,
           0.03965394198894501,
           0.03965394198894501,
           0.024400442838668823,
           0.024400442838668823,
           0.009146913886070251,
           0.009146913886070251,
           -0.0061066001653671265,
           -0.0061066001653671265,
           -0.02136009931564331,
           -0.02136009931564331,
           -0.03661361336708069,
           -0.03661361336708069,
           -0.051867127418518066,
           -0.051867127418518066,
           -0.051867127418518066,
           -0.051867127418518066,
           -0.051867127418518066,
           -0.051867127418518066,
           -0.05186714231967926
          ],
          [
           0.07592636346817017,
           -0.04298495501279831,
           0.03965394198894501,
           0.03965394198894501,
           0.024400442838668823,
           0.024400442838668823,
           0.009146913886070251,
           0.009146913886070251,
           -0.0061066001653671265,
           -0.0061066001653671265,
           -0.02136009931564331,
           -0.02136009931564331,
           -0.03661361336708069,
           -0.03661361336708069,
           -0.051867127418518066,
           -0.051867127418518066,
           -0.051867127418518066,
           -0.051867127418518066,
           -0.051867127418518066,
           -0.051867127418518066,
           -0.05186714231967926
          ],
          [
           0.06327193975448608,
           -0.035820797085762024,
           0.04681810736656189,
           0.04681810736656189,
           0.03304494917392731,
           0.03304494917392731,
           0.017791450023651123,
           0.017791450023651123,
           0.0025379210710525513,
           0.0025379210710525513,
           -0.012715592980384827,
           -0.012715592980384827,
           -0.027969107031822205,
           -0.027969107031822205,
           -0.04322260618209839,
           -0.04322260618209839,
           -0.04322260618209839,
           -0.04322260618209839,
           -0.04322260618209839,
           -0.04322260618209839,
           -0.043222635984420776
          ],
          [
           0.06327193975448608,
           -0.035820797085762024,
           0.04681810736656189,
           0.04681810736656189,
           0.03304494917392731,
           0.03304494917392731,
           0.017791450023651123,
           0.017791450023651123,
           0.0025379210710525513,
           0.0025379210710525513,
           -0.012715592980384827,
           -0.012715592980384827,
           -0.027969107031822205,
           -0.027969107031822205,
           -0.04322260618209839,
           -0.04322260618209839,
           -0.04322260618209839,
           -0.04322260618209839,
           -0.04322260618209839,
           -0.04322260618209839,
           -0.043222635984420776
          ],
          [
           0.05061757564544678,
           -0.028656624257564545,
           0.053982265293598175,
           0.053982265293598175,
           0.04020911455154419,
           0.04020911455154419,
           0.0264359712600708,
           0.0264359712600708,
           0.011182442307472229,
           0.011182442307472229,
           -0.004071056842803955,
           -0.004071056842803955,
           -0.019324570894241333,
           -0.019324570894241333,
           -0.03457808494567871,
           -0.03457808494567871,
           -0.03457808494567871,
           -0.03457808494567871,
           -0.03457808494567871,
           -0.03457808494567871,
           -0.0345781147480011
          ],
          [
           0.05061757564544678,
           -0.028656624257564545,
           0.053982265293598175,
           0.053982265293598175,
           0.04020911455154419,
           0.04020911455154419,
           0.0264359712600708,
           0.0264359712600708,
           0.011182442307472229,
           0.011182442307472229,
           -0.004071056842803955,
           -0.004071056842803955,
           -0.019324570894241333,
           -0.019324570894241333,
           -0.03457808494567871,
           -0.03457808494567871,
           -0.03457808494567871,
           -0.03457808494567871,
           -0.03457808494567871,
           -0.03457808494567871,
           -0.0345781147480011
          ],
          [
           0.037963151931762695,
           -0.021492473781108856,
           0.061146415770053864,
           0.061146415770053864,
           0.04737326502799988,
           0.04737326502799988,
           0.03360013663768768,
           0.03360013663768768,
           0.0198269784450531,
           0.0198269784450531,
           0.004573449492454529,
           0.004573449492454529,
           -0.010680064558982849,
           -0.010680064558982849,
           -0.025933563709259033,
           -0.025933563709259033,
           -0.025933563709259033,
           -0.025933563709259033,
           -0.025933563709259033,
           -0.025933563709259033,
           -0.025933563709259033
          ],
          [
           0.037963151931762695,
           -0.021492473781108856,
           0.061146415770053864,
           0.061146415770053864,
           0.04737326502799988,
           0.04737326502799988,
           0.03360013663768768,
           0.03360013663768768,
           0.0198269784450531,
           0.0198269784450531,
           0.004573449492454529,
           0.004573449492454529,
           -0.010680064558982849,
           -0.010680064558982849,
           -0.025933563709259033,
           -0.025933563709259033,
           -0.025933563709259033,
           -0.025933563709259033,
           -0.025933563709259033,
           -0.025933563709259033,
           -0.025933563709259033
          ],
          [
           0.02530878782272339,
           -0.01432831585407257,
           0.06831057369709015,
           0.06831057369709015,
           0.05453742295503616,
           0.05453742295503616,
           0.04076428711414337,
           0.04076428711414337,
           0.02699112892150879,
           0.02699112892150879,
           0.0132179856300354,
           0.0132179856300354,
           -0.0020355284214019775,
           -0.0020355284214019775,
           -0.017289042472839355,
           -0.017289042472839355,
           -0.017289042472839355,
           -0.017289042472839355,
           -0.017289042472839355,
           -0.017289042472839355,
           -0.01728905737400055
          ],
          [
           0.02530878782272339,
           -0.01432831585407257,
           0.06831057369709015,
           0.06831057369709015,
           0.05453742295503616,
           0.05453742295503616,
           0.04076428711414337,
           0.04076428711414337,
           0.02699112892150879,
           0.02699112892150879,
           0.0132179856300354,
           0.0132179856300354,
           -0.0020355284214019775,
           -0.0020355284214019775,
           -0.017289042472839355,
           -0.017289042472839355,
           -0.017289042472839355,
           -0.017289042472839355,
           -0.017289042472839355,
           -0.017289042472839355,
           -0.01728905737400055
          ],
          [
           0.012654423713684082,
           -0.007164165377616882,
           0.07547472417354584,
           0.07547472417354584,
           0.06170157343149185,
           0.06170157343149185,
           0.04792843759059906,
           0.04792843759059906,
           0.03415529429912567,
           0.03415529429912567,
           0.02038213610649109,
           0.02038213610649109,
           0.006608977913856506,
           0.006608977913856506,
           -0.008644521236419678,
           -0.008644521236419678,
           -0.008644521236419678,
           -0.008644521236419678,
           -0.008644521236419678,
           -0.008644521236419678,
           -0.008644506335258484
          ],
          [
           0.012654423713684082,
           -0.007164165377616882,
           0.07547472417354584,
           0.07547472417354584,
           0.06170157343149185,
           0.06170157343149185,
           0.04792843759059906,
           0.04792843759059906,
           0.03415529429912567,
           0.03415529429912567,
           0.02038213610649109,
           0.02038213610649109,
           0.006608977913856506,
           0.006608977913856506,
           -0.008644521236419678,
           -0.008644521236419678,
           -0.008644521236419678,
           -0.008644521236419678,
           -0.008644521236419678,
           -0.008644521236419678,
           -0.008644506335258484
          ],
          [
           0,
           0,
           0.08263888955116272,
           0.08263888955116272,
           0.06886573880910873,
           0.06886573880910873,
           0.055092595517635345,
           0.055092595517635345,
           0.04131944477558136,
           0.04131944477558136,
           0.027546286582946777,
           0.027546286582946777,
           0.013773143291473389,
           0.013773143291473389,
           -1.4901161193847656e-8,
           -1.4901161193847656e-8,
           -1.4901161193847656e-8,
           -1.4901161193847656e-8,
           -1.4901161193847656e-8,
           -1.4901161193847656e-8,
           0
          ],
          [
           0,
           0,
           0.08263888955116272,
           0.08263888955116272,
           0.06886573880910873,
           0.06886573880910873,
           0.055092595517635345,
           0.055092595517635345,
           0.04131944477558136,
           0.04131944477558136,
           0.027546286582946777,
           0.027546286582946777,
           0.013773143291473389,
           0.013773143291473389,
           -1.4901161193847656e-8,
           -1.4901161193847656e-8,
           -1.4901161193847656e-8,
           -1.4901161193847656e-8,
           -1.4901161193847656e-8,
           -1.4901161193847656e-8,
           0
          ],
          [
           0,
           0,
           0.08263888955116272,
           0.08263888955116272,
           0.06886573880910873,
           0.06886573880910873,
           0.055092595517635345,
           0.055092595517635345,
           0.04131944477558136,
           0.04131944477558136,
           0.027546286582946777,
           0.027546286582946777,
           0.013773143291473389,
           0.013773143291473389,
           -1.4901161193847656e-8,
           -1.4901161193847656e-8,
           -1.4901161193847656e-8,
           -1.4901161193847656e-8,
           -1.4901161193847656e-8,
           -1.4901161193847656e-8,
           0
          ],
          [
           0,
           0,
           0.08263888955116272,
           0.08263888955116272,
           0.06886573880910873,
           0.06886573880910873,
           0.055092595517635345,
           0.055092595517635345,
           0.04131944477558136,
           0.04131944477558136,
           0.027546286582946777,
           0.027546286582946777,
           0.013773143291473389,
           0.013773143291473389,
           -1.4901161193847656e-8,
           -1.4901161193847656e-8,
           -1.4901161193847656e-8,
           -1.4901161193847656e-8,
           -1.4901161193847656e-8,
           -1.4901161193847656e-8,
           0
          ],
          [
           0,
           0,
           0.08263888955116272,
           0.08263888955116272,
           0.06886573880910873,
           0.06886573880910873,
           0.055092595517635345,
           0.055092595517635345,
           0.04131944477558136,
           0.04131944477558136,
           0.027546286582946777,
           0.027546286582946777,
           0.013773143291473389,
           0.013773143291473389,
           -1.4901161193847656e-8,
           -1.4901161193847656e-8,
           -1.4901161193847656e-8,
           -1.4901161193847656e-8,
           -1.4901161193847656e-8,
           -1.4901161193847656e-8,
           0
          ],
          [
           0,
           0,
           0.08263888955116272,
           0.08263888955116272,
           0.06886573880910873,
           0.06886573880910873,
           0.055092595517635345,
           0.055092595517635345,
           0.04131944477558136,
           0.04131944477558136,
           0.027546286582946777,
           0.027546286582946777,
           0.013773143291473389,
           0.013773143291473389,
           -1.4901161193847656e-8,
           -1.4901161193847656e-8,
           -1.4901161193847656e-8,
           -1.4901161193847656e-8,
           -1.4901161193847656e-8,
           -1.4901161193847656e-8,
           0
          ],
          [
           0,
           0,
           0.08263888955116272,
           0.08263888955116272,
           0.06886573880910873,
           0.06886573880910873,
           0.055092595517635345,
           0.055092595517635345,
           0.04131944477558136,
           0.04131944477558136,
           0.027546286582946777,
           0.027546286582946777,
           0.013773143291473389,
           0.013773143291473389,
           -1.4901161193847656e-8,
           -1.4901161193847656e-8,
           -1.4901161193847656e-8,
           -1.4901161193847656e-8,
           -1.4901161193847656e-8,
           -1.4901161193847656e-8,
           -1.4901161193847656e-8
          ]
         ]
        },
        {
         "coloraxis": "coloraxis",
         "hovertemplate": "x: %{x}<br>y: %{y}<br>color: %{z}<extra></extra>",
         "name": "0",
         "type": "heatmap",
         "xaxis": "x2",
         "yaxis": "y2",
         "z": [
          [
           0.0374232679605484,
           0.03267256170511246
          ],
          [
           0.05383917689323425,
           0.028835996985435486
          ],
          [
           0.030780404806137085,
           0.03236664831638336
          ],
          [
           0.030780404806137085,
           0.03236664831638336
          ],
          [
           0.0344412624835968,
           0.031725361943244934
          ],
          [
           0.0344412624835968,
           0.031725361943244934
          ],
          [
           0.037922412157058716,
           0.031031563878059387
          ],
          [
           0.037922412157058716,
           0.031031563878059387
          ],
          [
           0.04122644662857056,
           0.03028571605682373
          ],
          [
           0.04122644662857056,
           0.03028571605682373
          ],
          [
           0.04435589909553528,
           0.029488131403923035
          ],
          [
           0.04435589909553528,
           0.029488131403923035
          ],
          [
           0.04731321334838867,
           0.028639212250709534
          ],
          [
           0.04731321334838867,
           0.028639212250709534
          ],
          [
           0.050100862979888916,
           0.027739331126213074
          ],
          [
           0.050100862979888916,
           0.027739331126213074
          ],
          [
           0.050100892782211304,
           0.02773931622505188
          ],
          [
           0.050100892782211304,
           0.02773931622505188
          ],
          [
           0.050100892782211304,
           0.02773931622505188
          ],
          [
           0.050100892782211304,
           0.02773931622505188
          ],
          [
           0.05010092258453369,
           0.027739286422729492
          ]
         ]
        },
        {
         "coloraxis": "coloraxis",
         "hovertemplate": "x: %{x}<br>y: %{y}<br>color: %{z}<extra></extra>",
         "name": "0",
         "type": "heatmap",
         "xaxis": "x3",
         "yaxis": "y3",
         "z": [
          [
           0.0015485882759094238,
           -0.020454376935958862
          ],
          [
           0.014661520719528198,
           -0.02596190571784973
          ],
          [
           -0.002485811710357666,
           -0.01787129044532776
          ],
          [
           -0.002485811710357666,
           -0.01787129044532776
          ],
          [
           0.0002917945384979248,
           -0.01914036273956299
          ],
          [
           0.0002917945384979248,
           -0.01914036273956299
          ],
          [
           0.002990514039993286,
           -0.020331136882305145
          ],
          [
           0.002990514039993286,
           -0.020331136882305145
          ],
          [
           0.005611717700958252,
           -0.021444663405418396
          ],
          [
           0.005611717700958252,
           -0.021444663405418396
          ],
          [
           0.008156806230545044,
           -0.02248196303844452
          ],
          [
           0.008156806230545044,
           -0.02248196303844452
          ],
          [
           0.010627061128616333,
           -0.023444056510925293
          ],
          [
           0.010627061128616333,
           -0.023444056510925293
          ],
          [
           0.01302376389503479,
           -0.02433193475008011
          ],
          [
           0.01302376389503479,
           -0.02433193475008011
          ],
          [
           0.013023793697357178,
           -0.024331949651241302
          ],
          [
           0.013023793697357178,
           -0.024331949651241302
          ],
          [
           0.013023793697357178,
           -0.024331949651241302
          ],
          [
           0.013023793697357178,
           -0.024331949651241302
          ],
          [
           0.013023823499679565,
           -0.024331942200660706
          ]
         ]
        },
        {
         "coloraxis": "coloraxis",
         "hovertemplate": "x: %{x}<br>y: %{y}<br>color: %{z}<extra></extra>",
         "name": "0",
         "type": "heatmap",
         "xaxis": "x4",
         "yaxis": "y4",
         "z": [
          [
           -7.450580596923828e-9,
           0,
           0.00558878481388092,
           0.00558878481388092,
           -0.0279439315199852,
           -0.0279439315199852,
           -0.02235514670610428,
           -0.02235514670610428,
           -0.016766361892223358,
           -0.016766361892223358,
           -0.011177577078342438,
           -0.011177577078342438,
           -0.00558878481388092,
           -0.00558878481388092,
           0,
           0,
           0,
           0,
           0,
           0,
           0
          ],
          [
           -5.960464477539063e-8,
           1.4901161193847656e-8,
           -0.015253499150276184,
           -0.015253499150276184,
           0.07626757025718689,
           0.07626757025718689,
           0.061014071106910706,
           0.061014071106910706,
           0.045760542154312134,
           0.045760542154312134,
           0.030507028102874756,
           0.030507028102874756,
           0.015253514051437378,
           0.015253514051437378,
           1.4901161193847656e-8,
           1.4901161193847656e-8,
           1.4901161193847656e-8,
           1.4901161193847656e-8,
           1.4901161193847656e-8,
           1.4901161193847656e-8,
           -2.9802322387695312e-8
          ],
          [
           -0.012654423713684082,
           0.007164165377616882,
           -0.006608977913856506,
           -0.006608977913856506,
           0.08491210639476776,
           0.08491210639476776,
           0.06965857744216919,
           0.06965857744216919,
           0.05440506339073181,
           0.05440506339073181,
           0.03915156424045563,
           0.03915156424045563,
           0.02389805018901825,
           0.02389805018901825,
           0.008644536137580872,
           0.008644536137580872,
           0.008644536137580872,
           0.008644536137580872,
           0.008644536137580872,
           0.008644536137580872,
           0.008644521236419678
          ],
          [
           -0.012654423713684082,
           0.007164165377616882,
           -0.006608977913856506,
           -0.006608977913856506,
           0.08491210639476776,
           0.08491210639476776,
           0.06965857744216919,
           0.06965857744216919,
           0.05440506339073181,
           0.05440506339073181,
           0.03915156424045563,
           0.03915156424045563,
           0.02389805018901825,
           0.02389805018901825,
           0.008644536137580872,
           0.008644536137580872,
           0.008644536137580872,
           0.008644536137580872,
           0.008644536137580872,
           0.008644536137580872,
           0.008644521236419678
          ],
          [
           0.06327193975448608,
           -0.035820797085762024,
           -0.049593932926654816,
           -0.049593932926654816,
           0.03304494917392731,
           0.03304494917392731,
           0.017791450023651123,
           0.017791450023651123,
           0.0025379210710525513,
           0.0025379210710525513,
           -0.012715592980384827,
           -0.012715592980384827,
           -0.027969107031822205,
           -0.027969107031822205,
           -0.04322260618209839,
           -0.04322260618209839,
           -0.04322260618209839,
           -0.04322260618209839,
           -0.04322260618209839,
           -0.04322260618209839,
           -0.043222635984420776
          ],
          [
           0.06327193975448608,
           -0.035820797085762024,
           -0.049593932926654816,
           -0.049593932926654816,
           0.03304494917392731,
           0.03304494917392731,
           0.017791450023651123,
           0.017791450023651123,
           0.0025379210710525513,
           0.0025379210710525513,
           -0.012715592980384827,
           -0.012715592980384827,
           -0.027969107031822205,
           -0.027969107031822205,
           -0.04322260618209839,
           -0.04322260618209839,
           -0.04322260618209839,
           -0.04322260618209839,
           -0.04322260618209839,
           -0.04322260618209839,
           -0.043222635984420776
          ],
          [
           0.05061757564544678,
           -0.028656624257564545,
           -0.04242977499961853,
           -0.04242977499961853,
           0.04020911455154419,
           0.04020911455154419,
           0.0264359712600708,
           0.0264359712600708,
           0.011182442307472229,
           0.011182442307472229,
           -0.004071056842803955,
           -0.004071056842803955,
           -0.019324570894241333,
           -0.019324570894241333,
           -0.03457808494567871,
           -0.03457808494567871,
           -0.03457808494567871,
           -0.03457808494567871,
           -0.03457808494567871,
           -0.03457808494567871,
           -0.0345781147480011
          ],
          [
           0.05061757564544678,
           -0.028656624257564545,
           -0.04242977499961853,
           -0.04242977499961853,
           0.04020911455154419,
           0.04020911455154419,
           0.0264359712600708,
           0.0264359712600708,
           0.011182442307472229,
           0.011182442307472229,
           -0.004071056842803955,
           -0.004071056842803955,
           -0.019324570894241333,
           -0.019324570894241333,
           -0.03457808494567871,
           -0.03457808494567871,
           -0.03457808494567871,
           -0.03457808494567871,
           -0.03457808494567871,
           -0.03457808494567871,
           -0.0345781147480011
          ],
          [
           0.037963151931762695,
           -0.021492473781108856,
           -0.03526562452316284,
           -0.03526562452316284,
           0.04737326502799988,
           0.04737326502799988,
           0.03360013663768768,
           0.03360013663768768,
           0.0198269784450531,
           0.0198269784450531,
           0.004573449492454529,
           0.004573449492454529,
           -0.010680064558982849,
           -0.010680064558982849,
           -0.025933563709259033,
           -0.025933563709259033,
           -0.025933563709259033,
           -0.025933563709259033,
           -0.025933563709259033,
           -0.025933563709259033,
           -0.025933563709259033
          ],
          [
           0.037963151931762695,
           -0.021492473781108856,
           -0.03526562452316284,
           -0.03526562452316284,
           0.04737326502799988,
           0.04737326502799988,
           0.03360013663768768,
           0.03360013663768768,
           0.0198269784450531,
           0.0198269784450531,
           0.004573449492454529,
           0.004573449492454529,
           -0.010680064558982849,
           -0.010680064558982849,
           -0.025933563709259033,
           -0.025933563709259033,
           -0.025933563709259033,
           -0.025933563709259033,
           -0.025933563709259033,
           -0.025933563709259033,
           -0.025933563709259033
          ],
          [
           0.02530878782272339,
           -0.01432831585407257,
           -0.028101466596126556,
           -0.028101466596126556,
           0.05453742295503616,
           0.05453742295503616,
           0.04076428711414337,
           0.04076428711414337,
           0.02699112892150879,
           0.02699112892150879,
           0.0132179856300354,
           0.0132179856300354,
           -0.0020355284214019775,
           -0.0020355284214019775,
           -0.017289042472839355,
           -0.017289042472839355,
           -0.017289042472839355,
           -0.017289042472839355,
           -0.017289042472839355,
           -0.017289042472839355,
           -0.01728905737400055
          ],
          [
           0.02530878782272339,
           -0.01432831585407257,
           -0.028101466596126556,
           -0.028101466596126556,
           0.05453742295503616,
           0.05453742295503616,
           0.04076428711414337,
           0.04076428711414337,
           0.02699112892150879,
           0.02699112892150879,
           0.0132179856300354,
           0.0132179856300354,
           -0.0020355284214019775,
           -0.0020355284214019775,
           -0.017289042472839355,
           -0.017289042472839355,
           -0.017289042472839355,
           -0.017289042472839355,
           -0.017289042472839355,
           -0.017289042472839355,
           -0.01728905737400055
          ],
          [
           0.012654423713684082,
           -0.007164165377616882,
           -0.020937316119670868,
           -0.020937316119670868,
           0.06170157343149185,
           0.06170157343149185,
           0.04792843759059906,
           0.04792843759059906,
           0.03415529429912567,
           0.03415529429912567,
           0.02038213610649109,
           0.02038213610649109,
           0.006608977913856506,
           0.006608977913856506,
           -0.008644521236419678,
           -0.008644521236419678,
           -0.008644521236419678,
           -0.008644521236419678,
           -0.008644521236419678,
           -0.008644521236419678,
           -0.008644506335258484
          ],
          [
           0.012654423713684082,
           -0.007164165377616882,
           -0.020937316119670868,
           -0.020937316119670868,
           0.06170157343149185,
           0.06170157343149185,
           0.04792843759059906,
           0.04792843759059906,
           0.03415529429912567,
           0.03415529429912567,
           0.02038213610649109,
           0.02038213610649109,
           0.006608977913856506,
           0.006608977913856506,
           -0.008644521236419678,
           -0.008644521236419678,
           -0.008644521236419678,
           -0.008644521236419678,
           -0.008644521236419678,
           -0.008644521236419678,
           -0.008644506335258484
          ],
          [
           0,
           0,
           -0.013773150742053986,
           -0.013773150742053986,
           0.06886573880910873,
           0.06886573880910873,
           0.055092595517635345,
           0.055092595517635345,
           0.04131944477558136,
           0.04131944477558136,
           0.027546286582946777,
           0.027546286582946777,
           0.013773143291473389,
           0.013773143291473389,
           -1.4901161193847656e-8,
           -1.4901161193847656e-8,
           -1.4901161193847656e-8,
           -1.4901161193847656e-8,
           -1.4901161193847656e-8,
           -1.4901161193847656e-8,
           0
          ],
          [
           0,
           0,
           -0.013773150742053986,
           -0.013773150742053986,
           0.06886573880910873,
           0.06886573880910873,
           0.055092595517635345,
           0.055092595517635345,
           0.04131944477558136,
           0.04131944477558136,
           0.027546286582946777,
           0.027546286582946777,
           0.013773143291473389,
           0.013773143291473389,
           -1.4901161193847656e-8,
           -1.4901161193847656e-8,
           -1.4901161193847656e-8,
           -1.4901161193847656e-8,
           -1.4901161193847656e-8,
           -1.4901161193847656e-8,
           0
          ],
          [
           0,
           0,
           -0.013773150742053986,
           -0.013773150742053986,
           0.06886573880910873,
           0.06886573880910873,
           0.055092595517635345,
           0.055092595517635345,
           0.04131944477558136,
           0.04131944477558136,
           0.027546286582946777,
           0.027546286582946777,
           0.013773143291473389,
           0.013773143291473389,
           -1.4901161193847656e-8,
           -1.4901161193847656e-8,
           -1.4901161193847656e-8,
           -1.4901161193847656e-8,
           -1.4901161193847656e-8,
           -1.4901161193847656e-8,
           0
          ],
          [
           0,
           0,
           -0.013773150742053986,
           -0.013773150742053986,
           0.06886573880910873,
           0.06886573880910873,
           0.055092595517635345,
           0.055092595517635345,
           0.04131944477558136,
           0.04131944477558136,
           0.027546286582946777,
           0.027546286582946777,
           0.013773143291473389,
           0.013773143291473389,
           -1.4901161193847656e-8,
           -1.4901161193847656e-8,
           -1.4901161193847656e-8,
           -1.4901161193847656e-8,
           -1.4901161193847656e-8,
           -1.4901161193847656e-8,
           0
          ],
          [
           0,
           0,
           -0.013773150742053986,
           -0.013773150742053986,
           0.06886573880910873,
           0.06886573880910873,
           0.055092595517635345,
           0.055092595517635345,
           0.04131944477558136,
           0.04131944477558136,
           0.027546286582946777,
           0.027546286582946777,
           0.013773143291473389,
           0.013773143291473389,
           -1.4901161193847656e-8,
           -1.4901161193847656e-8,
           -1.4901161193847656e-8,
           -1.4901161193847656e-8,
           -1.4901161193847656e-8,
           -1.4901161193847656e-8,
           0
          ],
          [
           0,
           0,
           -0.013773150742053986,
           -0.013773150742053986,
           0.06886573880910873,
           0.06886573880910873,
           0.055092595517635345,
           0.055092595517635345,
           0.04131944477558136,
           0.04131944477558136,
           0.027546286582946777,
           0.027546286582946777,
           0.013773143291473389,
           0.013773143291473389,
           -1.4901161193847656e-8,
           -1.4901161193847656e-8,
           -1.4901161193847656e-8,
           -1.4901161193847656e-8,
           -1.4901161193847656e-8,
           -1.4901161193847656e-8,
           0
          ],
          [
           0,
           0,
           -0.013773150742053986,
           -0.013773150742053986,
           0.06886573880910873,
           0.06886573880910873,
           0.055092595517635345,
           0.055092595517635345,
           0.04131944477558136,
           0.04131944477558136,
           0.027546286582946777,
           0.027546286582946777,
           0.013773143291473389,
           0.013773143291473389,
           -1.4901161193847656e-8,
           -1.4901161193847656e-8,
           -1.4901161193847656e-8,
           -1.4901161193847656e-8,
           -1.4901161193847656e-8,
           -1.4901161193847656e-8,
           -1.4901161193847656e-8
          ]
         ]
        },
        {
         "coloraxis": "coloraxis",
         "hovertemplate": "x: %{x}<br>y: %{y}<br>color: %{z}<extra></extra>",
         "name": "0",
         "type": "heatmap",
         "xaxis": "x5",
         "yaxis": "y5",
         "z": [
          [
           0.02464674413204193,
           0.021642819046974182
          ],
          [
           0.035469114780426025,
           0.01910562813282013
          ],
          [
           0.03931224346160889,
           0.018517181277275085
          ],
          [
           0.03931224346160889,
           0.018517181277275085
          ],
          [
           0.01734718680381775,
           0.022364966571331024
          ],
          [
           0.01734718680381775,
           0.022364966571331024
          ],
          [
           0.020828336477279663,
           0.021671168506145477
          ],
          [
           0.020828336477279663,
           0.021671168506145477
          ],
          [
           0.024132370948791504,
           0.02092532068490982
          ],
          [
           0.024132370948791504,
           0.02092532068490982
          ],
          [
           0.027261823415756226,
           0.020127736032009125
          ],
          [
           0.027261823415756226,
           0.020127736032009125
          ],
          [
           0.03021913766860962,
           0.019278816878795624
          ],
          [
           0.03021913766860962,
           0.019278816878795624
          ],
          [
           0.03300678730010986,
           0.018378935754299164
          ],
          [
           0.03300678730010986,
           0.018378935754299164
          ],
          [
           0.03300681710243225,
           0.01837892085313797
          ],
          [
           0.03300681710243225,
           0.01837892085313797
          ],
          [
           0.03300681710243225,
           0.01837892085313797
          ],
          [
           0.03300681710243225,
           0.01837892085313797
          ],
          [
           0.03300684690475464,
           0.01837892085313797
          ]
         ]
        },
        {
         "coloraxis": "coloraxis",
         "hovertemplate": "x: %{x}<br>y: %{y}<br>color: %{z}<extra></extra>",
         "name": "0",
         "type": "heatmap",
         "xaxis": "x6",
         "yaxis": "y6",
         "z": [
          [
           0.0009344369173049927,
           -0.01349494606256485
          ],
          [
           0.00958472490310669,
           -0.01712433248758316
          ],
          [
           0.012442618608474731,
           -0.018472768366336823
          ],
          [
           0.012442618608474731,
           -0.018472768366336823
          ],
          [
           -0.004223048686981201,
           -0.010858312249183655
          ],
          [
           -0.004223048686981201,
           -0.010858312249183655
          ],
          [
           -0.0015243291854858398,
           -0.012049086391925812
          ],
          [
           -0.0015243291854858398,
           -0.012049086391925812
          ],
          [
           0.001096874475479126,
           -0.013162612915039062
          ],
          [
           0.001096874475479126,
           -0.013162612915039062
          ],
          [
           0.003641963005065918,
           -0.014199912548065186
          ],
          [
           0.003641963005065918,
           -0.014199912548065186
          ],
          [
           0.006112217903137207,
           -0.01516200602054596
          ],
          [
           0.006112217903137207,
           -0.01516200602054596
          ],
          [
           0.008508920669555664,
           -0.016049884259700775
          ],
          [
           0.008508920669555664,
           -0.016049884259700775
          ],
          [
           0.008508950471878052,
           -0.01604989916086197
          ],
          [
           0.008508950471878052,
           -0.01604989916086197
          ],
          [
           0.008508950471878052,
           -0.01604989916086197
          ],
          [
           0.008508950471878052,
           -0.01604989916086197
          ],
          [
           0.008508950471878052,
           -0.016049906611442566
          ]
         ]
        },
        {
         "coloraxis": "coloraxis",
         "hovertemplate": "x: %{x}<br>y: %{y}<br>color: %{z}<extra></extra>",
         "name": "0",
         "type": "heatmap",
         "xaxis": "x7",
         "yaxis": "y7",
         "z": [
          [
           -7.450580596923828e-9,
           0,
           0.00558878481388092,
           0.00558878481388092,
           0.011177577078342438,
           0.011177577078342438,
           -0.02235514670610428,
           -0.02235514670610428,
           -0.016766361892223358,
           -0.016766361892223358,
           -0.011177577078342438,
           -0.011177577078342438,
           -0.00558878481388092,
           -0.00558878481388092,
           0,
           0,
           0,
           0,
           0,
           0,
           0
          ],
          [
           -5.960464477539063e-8,
           1.4901161193847656e-8,
           -0.015253499150276184,
           -0.015253499150276184,
           -0.030507013201713562,
           -0.030507013201713562,
           0.061014071106910706,
           0.061014071106910706,
           0.045760542154312134,
           0.045760542154312134,
           0.030507028102874756,
           0.030507028102874756,
           0.015253514051437378,
           0.015253514051437378,
           1.4901161193847656e-8,
           1.4901161193847656e-8,
           1.4901161193847656e-8,
           1.4901161193847656e-8,
           1.4901161193847656e-8,
           1.4901161193847656e-8,
           -2.9802322387695312e-8
          ],
          [
           -0.012654423713684082,
           0.007164165377616882,
           -0.006608977913856506,
           -0.006608977913856506,
           -0.02186247706413269,
           -0.02186247706413269,
           0.06965857744216919,
           0.06965857744216919,
           0.05440506339073181,
           0.05440506339073181,
           0.03915156424045563,
           0.03915156424045563,
           0.02389805018901825,
           0.02389805018901825,
           0.008644536137580872,
           0.008644536137580872,
           0.008644536137580872,
           0.008644536137580872,
           0.008644536137580872,
           0.008644536137580872,
           0.008644521236419678
          ],
          [
           -0.012654423713684082,
           0.007164165377616882,
           -0.006608977913856506,
           -0.006608977913856506,
           -0.02186247706413269,
           -0.02186247706413269,
           0.06965857744216919,
           0.06965857744216919,
           0.05440506339073181,
           0.05440506339073181,
           0.03915156424045563,
           0.03915156424045563,
           0.02389805018901825,
           0.02389805018901825,
           0.008644536137580872,
           0.008644536137580872,
           0.008644536137580872,
           0.008644536137580872,
           0.008644536137580872,
           0.008644536137580872,
           0.008644521236419678
          ],
          [
           -0.025308847427368164,
           0.014328323304653168,
           0.000555187463760376,
           0.000555187463760376,
           -0.013217970728874207,
           -0.013217970728874207,
           0.07830311357975006,
           0.07830311357975006,
           0.06304958462715149,
           0.06304958462715149,
           0.04779607057571411,
           0.04779607057571411,
           0.03254255652427673,
           0.03254255652427673,
           0.01728905737400055,
           0.01728905737400055,
           0.01728905737400055,
           0.01728905737400055,
           0.01728905737400055,
           0.01728905737400055,
           0.01728902757167816
          ],
          [
           -0.025308847427368164,
           0.014328323304653168,
           0.000555187463760376,
           0.000555187463760376,
           -0.013217970728874207,
           -0.013217970728874207,
           0.07830311357975006,
           0.07830311357975006,
           0.06304958462715149,
           0.06304958462715149,
           0.04779607057571411,
           0.04779607057571411,
           0.03254255652427673,
           0.03254255652427673,
           0.01728905737400055,
           0.01728905737400055,
           0.01728905737400055,
           0.01728905737400055,
           0.01728905737400055,
           0.01728905737400055,
           0.01728902757167816
          ],
          [
           0.05061757564544678,
           -0.028656624257564545,
           -0.04242977499961853,
           -0.04242977499961853,
           -0.056202925741672516,
           -0.056202925741672516,
           0.0264359712600708,
           0.0264359712600708,
           0.011182442307472229,
           0.011182442307472229,
           -0.004071056842803955,
           -0.004071056842803955,
           -0.019324570894241333,
           -0.019324570894241333,
           -0.03457808494567871,
           -0.03457808494567871,
           -0.03457808494567871,
           -0.03457808494567871,
           -0.03457808494567871,
           -0.03457808494567871,
           -0.0345781147480011
          ],
          [
           0.05061757564544678,
           -0.028656624257564545,
           -0.04242977499961853,
           -0.04242977499961853,
           -0.056202925741672516,
           -0.056202925741672516,
           0.0264359712600708,
           0.0264359712600708,
           0.011182442307472229,
           0.011182442307472229,
           -0.004071056842803955,
           -0.004071056842803955,
           -0.019324570894241333,
           -0.019324570894241333,
           -0.03457808494567871,
           -0.03457808494567871,
           -0.03457808494567871,
           -0.03457808494567871,
           -0.03457808494567871,
           -0.03457808494567871,
           -0.0345781147480011
          ],
          [
           0.037963151931762695,
           -0.021492473781108856,
           -0.03526562452316284,
           -0.03526562452316284,
           -0.04903877526521683,
           -0.04903877526521683,
           0.03360013663768768,
           0.03360013663768768,
           0.0198269784450531,
           0.0198269784450531,
           0.004573449492454529,
           0.004573449492454529,
           -0.010680064558982849,
           -0.010680064558982849,
           -0.025933563709259033,
           -0.025933563709259033,
           -0.025933563709259033,
           -0.025933563709259033,
           -0.025933563709259033,
           -0.025933563709259033,
           -0.025933563709259033
          ],
          [
           0.037963151931762695,
           -0.021492473781108856,
           -0.03526562452316284,
           -0.03526562452316284,
           -0.04903877526521683,
           -0.04903877526521683,
           0.03360013663768768,
           0.03360013663768768,
           0.0198269784450531,
           0.0198269784450531,
           0.004573449492454529,
           0.004573449492454529,
           -0.010680064558982849,
           -0.010680064558982849,
           -0.025933563709259033,
           -0.025933563709259033,
           -0.025933563709259033,
           -0.025933563709259033,
           -0.025933563709259033,
           -0.025933563709259033,
           -0.025933563709259033
          ],
          [
           0.02530878782272339,
           -0.01432831585407257,
           -0.028101466596126556,
           -0.028101466596126556,
           -0.04187461733818054,
           -0.04187461733818054,
           0.04076428711414337,
           0.04076428711414337,
           0.02699112892150879,
           0.02699112892150879,
           0.0132179856300354,
           0.0132179856300354,
           -0.0020355284214019775,
           -0.0020355284214019775,
           -0.017289042472839355,
           -0.017289042472839355,
           -0.017289042472839355,
           -0.017289042472839355,
           -0.017289042472839355,
           -0.017289042472839355,
           -0.01728905737400055
          ],
          [
           0.02530878782272339,
           -0.01432831585407257,
           -0.028101466596126556,
           -0.028101466596126556,
           -0.04187461733818054,
           -0.04187461733818054,
           0.04076428711414337,
           0.04076428711414337,
           0.02699112892150879,
           0.02699112892150879,
           0.0132179856300354,
           0.0132179856300354,
           -0.0020355284214019775,
           -0.0020355284214019775,
           -0.017289042472839355,
           -0.017289042472839355,
           -0.017289042472839355,
           -0.017289042472839355,
           -0.017289042472839355,
           -0.017289042472839355,
           -0.01728905737400055
          ],
          [
           0.012654423713684082,
           -0.007164165377616882,
           -0.020937316119670868,
           -0.020937316119670868,
           -0.034710466861724854,
           -0.034710466861724854,
           0.04792843759059906,
           0.04792843759059906,
           0.03415529429912567,
           0.03415529429912567,
           0.02038213610649109,
           0.02038213610649109,
           0.006608977913856506,
           0.006608977913856506,
           -0.008644521236419678,
           -0.008644521236419678,
           -0.008644521236419678,
           -0.008644521236419678,
           -0.008644521236419678,
           -0.008644521236419678,
           -0.008644506335258484
          ],
          [
           0.012654423713684082,
           -0.007164165377616882,
           -0.020937316119670868,
           -0.020937316119670868,
           -0.034710466861724854,
           -0.034710466861724854,
           0.04792843759059906,
           0.04792843759059906,
           0.03415529429912567,
           0.03415529429912567,
           0.02038213610649109,
           0.02038213610649109,
           0.006608977913856506,
           0.006608977913856506,
           -0.008644521236419678,
           -0.008644521236419678,
           -0.008644521236419678,
           -0.008644521236419678,
           -0.008644521236419678,
           -0.008644521236419678,
           -0.008644506335258484
          ],
          [
           0,
           0,
           -0.013773150742053986,
           -0.013773150742053986,
           -0.02754630148410797,
           -0.02754630148410797,
           0.055092595517635345,
           0.055092595517635345,
           0.04131944477558136,
           0.04131944477558136,
           0.027546286582946777,
           0.027546286582946777,
           0.013773143291473389,
           0.013773143291473389,
           -1.4901161193847656e-8,
           -1.4901161193847656e-8,
           -1.4901161193847656e-8,
           -1.4901161193847656e-8,
           -1.4901161193847656e-8,
           -1.4901161193847656e-8,
           0
          ],
          [
           0,
           0,
           -0.013773150742053986,
           -0.013773150742053986,
           -0.02754630148410797,
           -0.02754630148410797,
           0.055092595517635345,
           0.055092595517635345,
           0.04131944477558136,
           0.04131944477558136,
           0.027546286582946777,
           0.027546286582946777,
           0.013773143291473389,
           0.013773143291473389,
           -1.4901161193847656e-8,
           -1.4901161193847656e-8,
           -1.4901161193847656e-8,
           -1.4901161193847656e-8,
           -1.4901161193847656e-8,
           -1.4901161193847656e-8,
           0
          ],
          [
           0,
           0,
           -0.013773150742053986,
           -0.013773150742053986,
           -0.02754630148410797,
           -0.02754630148410797,
           0.055092595517635345,
           0.055092595517635345,
           0.04131944477558136,
           0.04131944477558136,
           0.027546286582946777,
           0.027546286582946777,
           0.013773143291473389,
           0.013773143291473389,
           -1.4901161193847656e-8,
           -1.4901161193847656e-8,
           -1.4901161193847656e-8,
           -1.4901161193847656e-8,
           -1.4901161193847656e-8,
           -1.4901161193847656e-8,
           0
          ],
          [
           0,
           0,
           -0.013773150742053986,
           -0.013773150742053986,
           -0.02754630148410797,
           -0.02754630148410797,
           0.055092595517635345,
           0.055092595517635345,
           0.04131944477558136,
           0.04131944477558136,
           0.027546286582946777,
           0.027546286582946777,
           0.013773143291473389,
           0.013773143291473389,
           -1.4901161193847656e-8,
           -1.4901161193847656e-8,
           -1.4901161193847656e-8,
           -1.4901161193847656e-8,
           -1.4901161193847656e-8,
           -1.4901161193847656e-8,
           0
          ],
          [
           0,
           0,
           -0.013773150742053986,
           -0.013773150742053986,
           -0.02754630148410797,
           -0.02754630148410797,
           0.055092595517635345,
           0.055092595517635345,
           0.04131944477558136,
           0.04131944477558136,
           0.027546286582946777,
           0.027546286582946777,
           0.013773143291473389,
           0.013773143291473389,
           -1.4901161193847656e-8,
           -1.4901161193847656e-8,
           -1.4901161193847656e-8,
           -1.4901161193847656e-8,
           -1.4901161193847656e-8,
           -1.4901161193847656e-8,
           0
          ],
          [
           0,
           0,
           -0.013773150742053986,
           -0.013773150742053986,
           -0.02754630148410797,
           -0.02754630148410797,
           0.055092595517635345,
           0.055092595517635345,
           0.04131944477558136,
           0.04131944477558136,
           0.027546286582946777,
           0.027546286582946777,
           0.013773143291473389,
           0.013773143291473389,
           -1.4901161193847656e-8,
           -1.4901161193847656e-8,
           -1.4901161193847656e-8,
           -1.4901161193847656e-8,
           -1.4901161193847656e-8,
           -1.4901161193847656e-8,
           0
          ],
          [
           0,
           0,
           -0.013773150742053986,
           -0.013773150742053986,
           -0.02754630148410797,
           -0.02754630148410797,
           0.055092595517635345,
           0.055092595517635345,
           0.04131944477558136,
           0.04131944477558136,
           0.027546286582946777,
           0.027546286582946777,
           0.013773143291473389,
           0.013773143291473389,
           -1.4901161193847656e-8,
           -1.4901161193847656e-8,
           -1.4901161193847656e-8,
           -1.4901161193847656e-8,
           -1.4901161193847656e-8,
           -1.4901161193847656e-8,
           -1.4901161193847656e-8
          ]
         ]
        },
        {
         "coloraxis": "coloraxis",
         "hovertemplate": "x: %{x}<br>y: %{y}<br>color: %{z}<extra></extra>",
         "name": "0",
         "type": "heatmap",
         "xaxis": "x8",
         "yaxis": "y8",
         "z": [
          [
           0.01205579936504364,
           0.010697320103645325
          ],
          [
           0.017358511686325073,
           0.009446978569030762
          ],
          [
           0.021201640367507935,
           0.008858531713485718
          ],
          [
           0.021201640367507935,
           0.008858531713485718
          ],
          [
           0.02486249804496765,
           0.00821724534034729
          ],
          [
           0.02486249804496765,
           0.00821724534034729
          ],
          [
           0.003975570201873779,
           0.012379936873912811
          ],
          [
           0.003975570201873779,
           0.012379936873912811
          ],
          [
           0.00727960467338562,
           0.011634089052677155
          ],
          [
           0.00727960467338562,
           0.011634089052677155
          ],
          [
           0.010409057140350342,
           0.010836504399776459
          ],
          [
           0.010409057140350342,
           0.010836504399776459
          ],
          [
           0.013366371393203735,
           0.009987585246562958
          ],
          [
           0.013366371393203735,
           0.009987585246562958
          ],
          [
           0.01615402102470398,
           0.009087704122066498
          ],
          [
           0.01615402102470398,
           0.009087704122066498
          ],
          [
           0.016154050827026367,
           0.009087689220905304
          ],
          [
           0.016154050827026367,
           0.009087689220905304
          ],
          [
           0.016154050827026367,
           0.009087689220905304
          ],
          [
           0.016154050827026367,
           0.009087689220905304
          ],
          [
           0.016154050827026367,
           0.00908765196800232
          ]
         ]
        },
        {
         "coloraxis": "coloraxis",
         "hovertemplate": "x: %{x}<br>y: %{y}<br>color: %{z}<extra></extra>",
         "name": "0",
         "type": "heatmap",
         "xaxis": "x9",
         "yaxis": "y9",
         "z": [
          [
           0.0003811866044998169,
           -0.006622113287448883
          ],
          [
           0.00462457537651062,
           -0.00839906930923462
          ],
          [
           0.007482469081878662,
           -0.009747505187988281
          ],
          [
           0.007482469081878662,
           -0.009747505187988281
          ],
          [
           0.010260075330734253,
           -0.01101657748222351
          ],
          [
           0.010260075330734253,
           -0.01101657748222351
          ],
          [
           -0.005932331085205078,
           -0.0038719549775123596
          ],
          [
           -0.005932331085205078,
           -0.0038719549775123596
          ],
          [
           -0.0033111274242401123,
           -0.00498548150062561
          ],
          [
           -0.0033111274242401123,
           -0.00498548150062561
          ],
          [
           -0.0007660388946533203,
           -0.006022781133651733
          ],
          [
           -0.0007660388946533203,
           -0.006022781133651733
          ],
          [
           0.0017042160034179688,
           -0.006984874606132507
          ],
          [
           0.0017042160034179688,
           -0.006984874606132507
          ],
          [
           0.004100918769836426,
           -0.007872752845287323
          ],
          [
           0.004100918769836426,
           -0.007872752845287323
          ],
          [
           0.0041009485721588135,
           -0.007872767746448517
          ],
          [
           0.0041009485721588135,
           -0.007872767746448517
          ],
          [
           0.0041009485721588135,
           -0.007872767746448517
          ],
          [
           0.0041009485721588135,
           -0.007872767746448517
          ],
          [
           0.0041009485721588135,
           -0.00787276029586792
          ]
         ]
        },
        {
         "coloraxis": "coloraxis",
         "hovertemplate": "x: %{x}<br>y: %{y}<br>color: %{z}<extra></extra>",
         "name": "0",
         "type": "heatmap",
         "xaxis": "x10",
         "yaxis": "y10",
         "z": [
          [
           -7.450580596923828e-9,
           0,
           0.00558878481388092,
           0.00558878481388092,
           0.011177577078342438,
           0.011177577078342438,
           0.016766361892223358,
           0.016766361892223358,
           -0.016766361892223358,
           -0.016766361892223358,
           -0.011177577078342438,
           -0.011177577078342438,
           -0.00558878481388092,
           -0.00558878481388092,
           0,
           0,
           0,
           0,
           0,
           0,
           0
          ],
          [
           -5.960464477539063e-8,
           1.4901161193847656e-8,
           -0.015253499150276184,
           -0.015253499150276184,
           -0.030507013201713562,
           -0.030507013201713562,
           -0.045760512351989746,
           -0.045760512351989746,
           0.045760542154312134,
           0.045760542154312134,
           0.030507028102874756,
           0.030507028102874756,
           0.015253514051437378,
           0.015253514051437378,
           1.4901161193847656e-8,
           1.4901161193847656e-8,
           1.4901161193847656e-8,
           1.4901161193847656e-8,
           1.4901161193847656e-8,
           1.4901161193847656e-8,
           -2.9802322387695312e-8
          ],
          [
           -0.012654423713684082,
           0.007164165377616882,
           -0.006608977913856506,
           -0.006608977913856506,
           -0.02186247706413269,
           -0.02186247706413269,
           -0.03711600601673126,
           -0.03711600601673126,
           0.05440506339073181,
           0.05440506339073181,
           0.03915156424045563,
           0.03915156424045563,
           0.02389805018901825,
           0.02389805018901825,
           0.008644536137580872,
           0.008644536137580872,
           0.008644536137580872,
           0.008644536137580872,
           0.008644536137580872,
           0.008644536137580872,
           0.008644521236419678
          ],
          [
           -0.012654423713684082,
           0.007164165377616882,
           -0.006608977913856506,
           -0.006608977913856506,
           -0.02186247706413269,
           -0.02186247706413269,
           -0.03711600601673126,
           -0.03711600601673126,
           0.05440506339073181,
           0.05440506339073181,
           0.03915156424045563,
           0.03915156424045563,
           0.02389805018901825,
           0.02389805018901825,
           0.008644536137580872,
           0.008644536137580872,
           0.008644536137580872,
           0.008644536137580872,
           0.008644536137580872,
           0.008644536137580872,
           0.008644521236419678
          ],
          [
           -0.025308847427368164,
           0.014328323304653168,
           0.000555187463760376,
           0.000555187463760376,
           -0.013217970728874207,
           -0.013217970728874207,
           -0.02847146987915039,
           -0.02847146987915039,
           0.06304958462715149,
           0.06304958462715149,
           0.04779607057571411,
           0.04779607057571411,
           0.03254255652427673,
           0.03254255652427673,
           0.01728905737400055,
           0.01728905737400055,
           0.01728905737400055,
           0.01728905737400055,
           0.01728905737400055,
           0.01728905737400055,
           0.01728902757167816
          ],
          [
           -0.025308847427368164,
           0.014328323304653168,
           0.000555187463760376,
           0.000555187463760376,
           -0.013217970728874207,
           -0.013217970728874207,
           -0.02847146987915039,
           -0.02847146987915039,
           0.06304958462715149,
           0.06304958462715149,
           0.04779607057571411,
           0.04779607057571411,
           0.03254255652427673,
           0.03254255652427673,
           0.01728905737400055,
           0.01728905737400055,
           0.01728905737400055,
           0.01728905737400055,
           0.01728905737400055,
           0.01728905737400055,
           0.01728902757167816
          ],
          [
           -0.03796321153640747,
           0.021492496132850647,
           0.007719345390796661,
           0.007719345390796661,
           -0.006053805351257324,
           -0.006053805351257324,
           -0.019826948642730713,
           -0.019826948642730713,
           0.07169410586357117,
           0.07169410586357117,
           0.05644060671329498,
           0.05644060671329498,
           0.041187092661857605,
           0.041187092661857605,
           0.025933578610420227,
           0.025933578610420227,
           0.025933578610420227,
           0.025933578610420227,
           0.025933578610420227,
           0.025933578610420227,
           0.02593354880809784
          ],
          [
           -0.03796321153640747,
           0.021492496132850647,
           0.007719345390796661,
           0.007719345390796661,
           -0.006053805351257324,
           -0.006053805351257324,
           -0.019826948642730713,
           -0.019826948642730713,
           0.07169410586357117,
           0.07169410586357117,
           0.05644060671329498,
           0.05644060671329498,
           0.041187092661857605,
           0.041187092661857605,
           0.025933578610420227,
           0.025933578610420227,
           0.025933578610420227,
           0.025933578610420227,
           0.025933578610420227,
           0.025933578610420227,
           0.02593354880809784
          ],
          [
           0.037963151931762695,
           -0.021492473781108856,
           -0.03526562452316284,
           -0.03526562452316284,
           -0.04903877526521683,
           -0.04903877526521683,
           -0.06281190365552902,
           -0.06281190365552902,
           0.0198269784450531,
           0.0198269784450531,
           0.004573449492454529,
           0.004573449492454529,
           -0.010680064558982849,
           -0.010680064558982849,
           -0.025933563709259033,
           -0.025933563709259033,
           -0.025933563709259033,
           -0.025933563709259033,
           -0.025933563709259033,
           -0.025933563709259033,
           -0.025933563709259033
          ],
          [
           0.037963151931762695,
           -0.021492473781108856,
           -0.03526562452316284,
           -0.03526562452316284,
           -0.04903877526521683,
           -0.04903877526521683,
           -0.06281190365552902,
           -0.06281190365552902,
           0.0198269784450531,
           0.0198269784450531,
           0.004573449492454529,
           0.004573449492454529,
           -0.010680064558982849,
           -0.010680064558982849,
           -0.025933563709259033,
           -0.025933563709259033,
           -0.025933563709259033,
           -0.025933563709259033,
           -0.025933563709259033,
           -0.025933563709259033,
           -0.025933563709259033
          ],
          [
           0.02530878782272339,
           -0.01432831585407257,
           -0.028101466596126556,
           -0.028101466596126556,
           -0.04187461733818054,
           -0.04187461733818054,
           -0.055647753179073334,
           -0.055647753179073334,
           0.02699112892150879,
           0.02699112892150879,
           0.0132179856300354,
           0.0132179856300354,
           -0.0020355284214019775,
           -0.0020355284214019775,
           -0.017289042472839355,
           -0.017289042472839355,
           -0.017289042472839355,
           -0.017289042472839355,
           -0.017289042472839355,
           -0.017289042472839355,
           -0.01728905737400055
          ],
          [
           0.02530878782272339,
           -0.01432831585407257,
           -0.028101466596126556,
           -0.028101466596126556,
           -0.04187461733818054,
           -0.04187461733818054,
           -0.055647753179073334,
           -0.055647753179073334,
           0.02699112892150879,
           0.02699112892150879,
           0.0132179856300354,
           0.0132179856300354,
           -0.0020355284214019775,
           -0.0020355284214019775,
           -0.017289042472839355,
           -0.017289042472839355,
           -0.017289042472839355,
           -0.017289042472839355,
           -0.017289042472839355,
           -0.017289042472839355,
           -0.01728905737400055
          ],
          [
           0.012654423713684082,
           -0.007164165377616882,
           -0.020937316119670868,
           -0.020937316119670868,
           -0.034710466861724854,
           -0.034710466861724854,
           -0.048483602702617645,
           -0.048483602702617645,
           0.03415529429912567,
           0.03415529429912567,
           0.02038213610649109,
           0.02038213610649109,
           0.006608977913856506,
           0.006608977913856506,
           -0.008644521236419678,
           -0.008644521236419678,
           -0.008644521236419678,
           -0.008644521236419678,
           -0.008644521236419678,
           -0.008644521236419678,
           -0.008644506335258484
          ],
          [
           0.012654423713684082,
           -0.007164165377616882,
           -0.020937316119670868,
           -0.020937316119670868,
           -0.034710466861724854,
           -0.034710466861724854,
           -0.048483602702617645,
           -0.048483602702617645,
           0.03415529429912567,
           0.03415529429912567,
           0.02038213610649109,
           0.02038213610649109,
           0.006608977913856506,
           0.006608977913856506,
           -0.008644521236419678,
           -0.008644521236419678,
           -0.008644521236419678,
           -0.008644521236419678,
           -0.008644521236419678,
           -0.008644521236419678,
           -0.008644506335258484
          ],
          [
           0,
           0,
           -0.013773150742053986,
           -0.013773150742053986,
           -0.02754630148410797,
           -0.02754630148410797,
           -0.04131944477558136,
           -0.04131944477558136,
           0.04131944477558136,
           0.04131944477558136,
           0.027546286582946777,
           0.027546286582946777,
           0.013773143291473389,
           0.013773143291473389,
           -1.4901161193847656e-8,
           -1.4901161193847656e-8,
           -1.4901161193847656e-8,
           -1.4901161193847656e-8,
           -1.4901161193847656e-8,
           -1.4901161193847656e-8,
           0
          ],
          [
           0,
           0,
           -0.013773150742053986,
           -0.013773150742053986,
           -0.02754630148410797,
           -0.02754630148410797,
           -0.04131944477558136,
           -0.04131944477558136,
           0.04131944477558136,
           0.04131944477558136,
           0.027546286582946777,
           0.027546286582946777,
           0.013773143291473389,
           0.013773143291473389,
           -1.4901161193847656e-8,
           -1.4901161193847656e-8,
           -1.4901161193847656e-8,
           -1.4901161193847656e-8,
           -1.4901161193847656e-8,
           -1.4901161193847656e-8,
           0
          ],
          [
           0,
           0,
           -0.013773150742053986,
           -0.013773150742053986,
           -0.02754630148410797,
           -0.02754630148410797,
           -0.04131944477558136,
           -0.04131944477558136,
           0.04131944477558136,
           0.04131944477558136,
           0.027546286582946777,
           0.027546286582946777,
           0.013773143291473389,
           0.013773143291473389,
           -1.4901161193847656e-8,
           -1.4901161193847656e-8,
           -1.4901161193847656e-8,
           -1.4901161193847656e-8,
           -1.4901161193847656e-8,
           -1.4901161193847656e-8,
           0
          ],
          [
           0,
           0,
           -0.013773150742053986,
           -0.013773150742053986,
           -0.02754630148410797,
           -0.02754630148410797,
           -0.04131944477558136,
           -0.04131944477558136,
           0.04131944477558136,
           0.04131944477558136,
           0.027546286582946777,
           0.027546286582946777,
           0.013773143291473389,
           0.013773143291473389,
           -1.4901161193847656e-8,
           -1.4901161193847656e-8,
           -1.4901161193847656e-8,
           -1.4901161193847656e-8,
           -1.4901161193847656e-8,
           -1.4901161193847656e-8,
           0
          ],
          [
           0,
           0,
           -0.013773150742053986,
           -0.013773150742053986,
           -0.02754630148410797,
           -0.02754630148410797,
           -0.04131944477558136,
           -0.04131944477558136,
           0.04131944477558136,
           0.04131944477558136,
           0.027546286582946777,
           0.027546286582946777,
           0.013773143291473389,
           0.013773143291473389,
           -1.4901161193847656e-8,
           -1.4901161193847656e-8,
           -1.4901161193847656e-8,
           -1.4901161193847656e-8,
           -1.4901161193847656e-8,
           -1.4901161193847656e-8,
           0
          ],
          [
           0,
           0,
           -0.013773150742053986,
           -0.013773150742053986,
           -0.02754630148410797,
           -0.02754630148410797,
           -0.04131944477558136,
           -0.04131944477558136,
           0.04131944477558136,
           0.04131944477558136,
           0.027546286582946777,
           0.027546286582946777,
           0.013773143291473389,
           0.013773143291473389,
           -1.4901161193847656e-8,
           -1.4901161193847656e-8,
           -1.4901161193847656e-8,
           -1.4901161193847656e-8,
           -1.4901161193847656e-8,
           -1.4901161193847656e-8,
           0
          ],
          [
           0,
           0,
           -0.013773150742053986,
           -0.013773150742053986,
           -0.02754630148410797,
           -0.02754630148410797,
           -0.04131944477558136,
           -0.04131944477558136,
           0.04131944477558136,
           0.04131944477558136,
           0.027546286582946777,
           0.027546286582946777,
           0.013773143291473389,
           0.013773143291473389,
           -1.4901161193847656e-8,
           -1.4901161193847656e-8,
           -1.4901161193847656e-8,
           -1.4901161193847656e-8,
           -1.4901161193847656e-8,
           -1.4901161193847656e-8,
           -1.4901161193847656e-8
          ]
         ]
        },
        {
         "coloraxis": "coloraxis",
         "hovertemplate": "x: %{x}<br>y: %{y}<br>color: %{z}<extra></extra>",
         "name": "0",
         "type": "heatmap",
         "xaxis": "x11",
         "yaxis": "y11",
         "z": [
          [
           -0.0003539919853210449,
           -0.0001646280288696289
          ],
          [
           -0.0004977881908416748,
           -0.0001405179500579834
          ],
          [
           0.0033453404903411865,
           -0.0007289648056030273
          ],
          [
           0.0033453404903411865,
           -0.0007289648056030273
          ],
          [
           0.007006198167800903,
           -0.001370251178741455
          ],
          [
           0.007006198167800903,
           -0.001370251178741455
          ],
          [
           0.010487347841262817,
           -0.002064049243927002
          ],
          [
           0.010487347841262817,
           -0.002064049243927002
          ],
          [
           -0.009336858987808228,
           0.0024111270904541016
          ],
          [
           -0.009336858987808228,
           0.0024111270904541016
          ],
          [
           -0.006207406520843506,
           0.0016135424375534058
          ],
          [
           -0.006207406520843506,
           0.0016135424375534058
          ],
          [
           -0.0032500922679901123,
           0.0007646232843399048
          ],
          [
           -0.0032500922679901123,
           0.0007646232843399048
          ],
          [
           -0.00046244263648986816,
           -0.00013525784015655518
          ],
          [
           -0.00046244263648986816,
           -0.00013525784015655518
          ],
          [
           -0.00046241283416748047,
           -0.00013527274131774902
          ],
          [
           -0.00046241283416748047,
           -0.00013527274131774902
          ],
          [
           -0.00046241283416748047,
           -0.00013527274131774902
          ],
          [
           -0.00046241283416748047,
           -0.00013527274131774902
          ],
          [
           -0.00046247243881225586,
           -0.00013522803783416748
          ]
         ]
        },
        {
         "coloraxis": "coloraxis",
         "hovertemplate": "x: %{x}<br>y: %{y}<br>color: %{z}<extra></extra>",
         "name": "0",
         "type": "heatmap",
         "xaxis": "x12",
         "yaxis": "y12",
         "z": [
          [
           -0.0001135021448135376,
           0.00016592442989349365
          ],
          [
           -0.0002218186855316162,
           0.00021598488092422485
          ],
          [
           0.0026360750198364258,
           -0.0011324509978294373
          ],
          [
           0.0026360750198364258,
           -0.0011324509978294373
          ],
          [
           0.005413681268692017,
           -0.0024015232920646667
          ],
          [
           0.005413681268692017,
           -0.0024015232920646667
          ],
          [
           0.008112400770187378,
           -0.0035922974348068237
          ],
          [
           0.008112400770187378,
           -0.0035922974348068237
          ],
          [
           -0.00761491060256958,
           0.003088831901550293
          ],
          [
           -0.00761491060256958,
           0.003088831901550293
          ],
          [
           -0.005069822072982788,
           0.00205153226852417
          ],
          [
           -0.005069822072982788,
           0.00205153226852417
          ],
          [
           -0.002599567174911499,
           0.001089438796043396
          ],
          [
           -0.002599567174911499,
           0.001089438796043396
          ],
          [
           -0.000202864408493042,
           0.00020156055688858032
          ],
          [
           -0.000202864408493042,
           0.00020156055688858032
          ],
          [
           -0.0002028346061706543,
           0.00020154565572738647
          ],
          [
           -0.0002028346061706543,
           0.00020154565572738647
          ],
          [
           -0.0002028346061706543,
           0.00020154565572738647
          ],
          [
           -0.0002028346061706543,
           0.00020154565572738647
          ],
          [
           -0.00020292401313781738,
           0.00020156055688858032
          ]
         ]
        },
        {
         "coloraxis": "coloraxis",
         "hovertemplate": "x: %{x}<br>y: %{y}<br>color: %{z}<extra></extra>",
         "name": "0",
         "type": "heatmap",
         "xaxis": "x13",
         "yaxis": "y13",
         "z": [
          [
           -7.450580596923828e-9,
           0,
           0.00558878481388092,
           0.00558878481388092,
           0.011177577078342438,
           0.011177577078342438,
           0.016766361892223358,
           0.016766361892223358,
           0.02235514670610428,
           0.02235514670610428,
           -0.011177577078342438,
           -0.011177577078342438,
           -0.00558878481388092,
           -0.00558878481388092,
           0,
           0,
           0,
           0,
           0,
           0,
           0
          ],
          [
           -5.960464477539063e-8,
           1.4901161193847656e-8,
           -0.015253499150276184,
           -0.015253499150276184,
           -0.030507013201713562,
           -0.030507013201713562,
           -0.045760512351989746,
           -0.045760512351989746,
           -0.06101404130458832,
           -0.06101404130458832,
           0.030507028102874756,
           0.030507028102874756,
           0.015253514051437378,
           0.015253514051437378,
           1.4901161193847656e-8,
           1.4901161193847656e-8,
           1.4901161193847656e-8,
           1.4901161193847656e-8,
           1.4901161193847656e-8,
           1.4901161193847656e-8,
           -2.9802322387695312e-8
          ],
          [
           -0.012654423713684082,
           0.007164165377616882,
           -0.006608977913856506,
           -0.006608977913856506,
           -0.02186247706413269,
           -0.02186247706413269,
           -0.03711600601673126,
           -0.03711600601673126,
           -0.05236952006816864,
           -0.05236952006816864,
           0.03915156424045563,
           0.03915156424045563,
           0.02389805018901825,
           0.02389805018901825,
           0.008644536137580872,
           0.008644536137580872,
           0.008644536137580872,
           0.008644536137580872,
           0.008644536137580872,
           0.008644536137580872,
           0.008644521236419678
          ],
          [
           -0.012654423713684082,
           0.007164165377616882,
           -0.006608977913856506,
           -0.006608977913856506,
           -0.02186247706413269,
           -0.02186247706413269,
           -0.03711600601673126,
           -0.03711600601673126,
           -0.05236952006816864,
           -0.05236952006816864,
           0.03915156424045563,
           0.03915156424045563,
           0.02389805018901825,
           0.02389805018901825,
           0.008644536137580872,
           0.008644536137580872,
           0.008644536137580872,
           0.008644536137580872,
           0.008644536137580872,
           0.008644536137580872,
           0.008644521236419678
          ],
          [
           -0.025308847427368164,
           0.014328323304653168,
           0.000555187463760376,
           0.000555187463760376,
           -0.013217970728874207,
           -0.013217970728874207,
           -0.02847146987915039,
           -0.02847146987915039,
           -0.04372499883174896,
           -0.04372499883174896,
           0.04779607057571411,
           0.04779607057571411,
           0.03254255652427673,
           0.03254255652427673,
           0.01728905737400055,
           0.01728905737400055,
           0.01728905737400055,
           0.01728905737400055,
           0.01728905737400055,
           0.01728905737400055,
           0.01728902757167816
          ],
          [
           -0.025308847427368164,
           0.014328323304653168,
           0.000555187463760376,
           0.000555187463760376,
           -0.013217970728874207,
           -0.013217970728874207,
           -0.02847146987915039,
           -0.02847146987915039,
           -0.04372499883174896,
           -0.04372499883174896,
           0.04779607057571411,
           0.04779607057571411,
           0.03254255652427673,
           0.03254255652427673,
           0.01728905737400055,
           0.01728905737400055,
           0.01728905737400055,
           0.01728905737400055,
           0.01728905737400055,
           0.01728905737400055,
           0.01728902757167816
          ],
          [
           -0.03796321153640747,
           0.021492496132850647,
           0.007719345390796661,
           0.007719345390796661,
           -0.006053805351257324,
           -0.006053805351257324,
           -0.019826948642730713,
           -0.019826948642730713,
           -0.035080477595329285,
           -0.035080477595329285,
           0.05644060671329498,
           0.05644060671329498,
           0.041187092661857605,
           0.041187092661857605,
           0.025933578610420227,
           0.025933578610420227,
           0.025933578610420227,
           0.025933578610420227,
           0.025933578610420227,
           0.025933578610420227,
           0.02593354880809784
          ],
          [
           -0.03796321153640747,
           0.021492496132850647,
           0.007719345390796661,
           0.007719345390796661,
           -0.006053805351257324,
           -0.006053805351257324,
           -0.019826948642730713,
           -0.019826948642730713,
           -0.035080477595329285,
           -0.035080477595329285,
           0.05644060671329498,
           0.05644060671329498,
           0.041187092661857605,
           0.041187092661857605,
           0.025933578610420227,
           0.025933578610420227,
           0.025933578610420227,
           0.025933578610420227,
           0.025933578610420227,
           0.025933578610420227,
           0.02593354880809784
          ],
          [
           -0.05061763525009155,
           0.028656646609306335,
           0.01488349586725235,
           0.01488349586725235,
           0.0011103451251983643,
           0.0011103451251983643,
           -0.01266278326511383,
           -0.01266278326511383,
           -0.026435941457748413,
           -0.026435941457748413,
           0.06508511304855347,
           0.06508511304855347,
           0.04983159899711609,
           0.04983159899711609,
           0.034578099846839905,
           0.034578099846839905,
           0.034578099846839905,
           0.034578099846839905,
           0.034578099846839905,
           0.034578099846839905,
           0.034578099846839905
          ],
          [
           -0.05061763525009155,
           0.028656646609306335,
           0.01488349586725235,
           0.01488349586725235,
           0.0011103451251983643,
           0.0011103451251983643,
           -0.01266278326511383,
           -0.01266278326511383,
           -0.026435941457748413,
           -0.026435941457748413,
           0.06508511304855347,
           0.06508511304855347,
           0.04983159899711609,
           0.04983159899711609,
           0.034578099846839905,
           0.034578099846839905,
           0.034578099846839905,
           0.034578099846839905,
           0.034578099846839905,
           0.034578099846839905,
           0.034578099846839905
          ],
          [
           0.02530878782272339,
           -0.01432831585407257,
           -0.028101466596126556,
           -0.028101466596126556,
           -0.04187461733818054,
           -0.04187461733818054,
           -0.055647753179073334,
           -0.055647753179073334,
           -0.06942091137170792,
           -0.06942091137170792,
           0.0132179856300354,
           0.0132179856300354,
           -0.0020355284214019775,
           -0.0020355284214019775,
           -0.017289042472839355,
           -0.017289042472839355,
           -0.017289042472839355,
           -0.017289042472839355,
           -0.017289042472839355,
           -0.017289042472839355,
           -0.01728905737400055
          ],
          [
           0.02530878782272339,
           -0.01432831585407257,
           -0.028101466596126556,
           -0.028101466596126556,
           -0.04187461733818054,
           -0.04187461733818054,
           -0.055647753179073334,
           -0.055647753179073334,
           -0.06942091137170792,
           -0.06942091137170792,
           0.0132179856300354,
           0.0132179856300354,
           -0.0020355284214019775,
           -0.0020355284214019775,
           -0.017289042472839355,
           -0.017289042472839355,
           -0.017289042472839355,
           -0.017289042472839355,
           -0.017289042472839355,
           -0.017289042472839355,
           -0.01728905737400055
          ],
          [
           0.012654423713684082,
           -0.007164165377616882,
           -0.020937316119670868,
           -0.020937316119670868,
           -0.034710466861724854,
           -0.034710466861724854,
           -0.048483602702617645,
           -0.048483602702617645,
           -0.062256745994091034,
           -0.062256745994091034,
           0.02038213610649109,
           0.02038213610649109,
           0.006608977913856506,
           0.006608977913856506,
           -0.008644521236419678,
           -0.008644521236419678,
           -0.008644521236419678,
           -0.008644521236419678,
           -0.008644521236419678,
           -0.008644521236419678,
           -0.008644506335258484
          ],
          [
           0.012654423713684082,
           -0.007164165377616882,
           -0.020937316119670868,
           -0.020937316119670868,
           -0.034710466861724854,
           -0.034710466861724854,
           -0.048483602702617645,
           -0.048483602702617645,
           -0.062256745994091034,
           -0.062256745994091034,
           0.02038213610649109,
           0.02038213610649109,
           0.006608977913856506,
           0.006608977913856506,
           -0.008644521236419678,
           -0.008644521236419678,
           -0.008644521236419678,
           -0.008644521236419678,
           -0.008644521236419678,
           -0.008644521236419678,
           -0.008644506335258484
          ],
          [
           0,
           0,
           -0.013773150742053986,
           -0.013773150742053986,
           -0.02754630148410797,
           -0.02754630148410797,
           -0.04131944477558136,
           -0.04131944477558136,
           -0.055092595517635345,
           -0.055092595517635345,
           0.027546286582946777,
           0.027546286582946777,
           0.013773143291473389,
           0.013773143291473389,
           -1.4901161193847656e-8,
           -1.4901161193847656e-8,
           -1.4901161193847656e-8,
           -1.4901161193847656e-8,
           -1.4901161193847656e-8,
           -1.4901161193847656e-8,
           0
          ],
          [
           0,
           0,
           -0.013773150742053986,
           -0.013773150742053986,
           -0.02754630148410797,
           -0.02754630148410797,
           -0.04131944477558136,
           -0.04131944477558136,
           -0.055092595517635345,
           -0.055092595517635345,
           0.027546286582946777,
           0.027546286582946777,
           0.013773143291473389,
           0.013773143291473389,
           -1.4901161193847656e-8,
           -1.4901161193847656e-8,
           -1.4901161193847656e-8,
           -1.4901161193847656e-8,
           -1.4901161193847656e-8,
           -1.4901161193847656e-8,
           0
          ],
          [
           0,
           0,
           -0.013773150742053986,
           -0.013773150742053986,
           -0.02754630148410797,
           -0.02754630148410797,
           -0.04131944477558136,
           -0.04131944477558136,
           -0.055092595517635345,
           -0.055092595517635345,
           0.027546286582946777,
           0.027546286582946777,
           0.013773143291473389,
           0.013773143291473389,
           -1.4901161193847656e-8,
           -1.4901161193847656e-8,
           -1.4901161193847656e-8,
           -1.4901161193847656e-8,
           -1.4901161193847656e-8,
           -1.4901161193847656e-8,
           0
          ],
          [
           0,
           0,
           -0.013773150742053986,
           -0.013773150742053986,
           -0.02754630148410797,
           -0.02754630148410797,
           -0.04131944477558136,
           -0.04131944477558136,
           -0.055092595517635345,
           -0.055092595517635345,
           0.027546286582946777,
           0.027546286582946777,
           0.013773143291473389,
           0.013773143291473389,
           -1.4901161193847656e-8,
           -1.4901161193847656e-8,
           -1.4901161193847656e-8,
           -1.4901161193847656e-8,
           -1.4901161193847656e-8,
           -1.4901161193847656e-8,
           0
          ],
          [
           0,
           0,
           -0.013773150742053986,
           -0.013773150742053986,
           -0.02754630148410797,
           -0.02754630148410797,
           -0.04131944477558136,
           -0.04131944477558136,
           -0.055092595517635345,
           -0.055092595517635345,
           0.027546286582946777,
           0.027546286582946777,
           0.013773143291473389,
           0.013773143291473389,
           -1.4901161193847656e-8,
           -1.4901161193847656e-8,
           -1.4901161193847656e-8,
           -1.4901161193847656e-8,
           -1.4901161193847656e-8,
           -1.4901161193847656e-8,
           0
          ],
          [
           0,
           0,
           -0.013773150742053986,
           -0.013773150742053986,
           -0.02754630148410797,
           -0.02754630148410797,
           -0.04131944477558136,
           -0.04131944477558136,
           -0.055092595517635345,
           -0.055092595517635345,
           0.027546286582946777,
           0.027546286582946777,
           0.013773143291473389,
           0.013773143291473389,
           -1.4901161193847656e-8,
           -1.4901161193847656e-8,
           -1.4901161193847656e-8,
           -1.4901161193847656e-8,
           -1.4901161193847656e-8,
           -1.4901161193847656e-8,
           0
          ],
          [
           0,
           0,
           -0.013773150742053986,
           -0.013773150742053986,
           -0.02754630148410797,
           -0.02754630148410797,
           -0.04131944477558136,
           -0.04131944477558136,
           -0.055092595517635345,
           -0.055092595517635345,
           0.027546286582946777,
           0.027546286582946777,
           0.013773143291473389,
           0.013773143291473389,
           -1.4901161193847656e-8,
           -1.4901161193847656e-8,
           -1.4901161193847656e-8,
           -1.4901161193847656e-8,
           -1.4901161193847656e-8,
           -1.4901161193847656e-8,
           -1.4901161193847656e-8
          ]
         ]
        },
        {
         "coloraxis": "coloraxis",
         "hovertemplate": "x: %{x}<br>y: %{y}<br>color: %{z}<extra></extra>",
         "name": "0",
         "type": "heatmap",
         "xaxis": "x14",
         "yaxis": "y14",
         "z": [
          [
           -0.01258675754070282,
           -0.010944366455078125
          ],
          [
           -0.018105268478393555,
           -0.009657829999923706
          ],
          [
           -0.014262139797210693,
           -0.01024627685546875
          ],
          [
           -0.014262139797210693,
           -0.01024627685546875
          ],
          [
           -0.010601282119750977,
           -0.010887563228607178
          ],
          [
           -0.010601282119750977,
           -0.010887563228607178
          ],
          [
           -0.0071201324462890625,
           -0.011581361293792725
          ],
          [
           -0.0071201324462890625,
           -0.011581361293792725
          ],
          [
           -0.0038160979747772217,
           -0.012327209115028381
          ],
          [
           -0.0038160979747772217,
           -0.012327209115028381
          ],
          [
           -0.022592782974243164,
           -0.007541686296463013
          ],
          [
           -0.022592782974243164,
           -0.007541686296463013
          ],
          [
           -0.01963546872138977,
           -0.008390605449676514
          ],
          [
           -0.01963546872138977,
           -0.008390605449676514
          ],
          [
           -0.016847819089889526,
           -0.009290486574172974
          ],
          [
           -0.016847819089889526,
           -0.009290486574172974
          ],
          [
           -0.01684778928756714,
           -0.009290501475334167
          ],
          [
           -0.01684778928756714,
           -0.009290501475334167
          ],
          [
           -0.01684778928756714,
           -0.009290501475334167
          ],
          [
           -0.01684778928756714,
           -0.009290501475334167
          ],
          [
           -0.016847848892211914,
           -0.009290531277656555
          ]
         ]
        },
        {
         "coloraxis": "coloraxis",
         "hovertemplate": "x: %{x}<br>y: %{y}<br>color: %{z}<extra></extra>",
         "name": "0",
         "type": "heatmap",
         "xaxis": "x15",
         "yaxis": "y15",
         "z": [
          [
           -0.0005513578653335571,
           0.006871011108160019
          ],
          [
           -0.004957258701324463,
           0.008723080158233643
          ],
          [
           -0.002099364995956421,
           0.0073746442794799805
          ],
          [
           -0.002099364995956421,
           0.0073746442794799805
          ],
          [
           0.0006782412528991699,
           0.006105571985244751
          ],
          [
           0.0006782412528991699,
           0.006105571985244751
          ],
          [
           0.0033769607543945312,
           0.004914797842502594
          ],
          [
           0.0033769607543945312,
           0.004914797842502594
          ],
          [
           0.005998164415359497,
           0.0038012713193893433
          ],
          [
           0.005998164415359497,
           0.0038012713193893433
          ],
          [
           -0.009272336959838867,
           0.010025091469287872
          ],
          [
           -0.009272336959838867,
           0.010025091469287872
          ],
          [
           -0.006802082061767578,
           0.009062997996807098
          ],
          [
           -0.006802082061767578,
           0.009062997996807098
          ],
          [
           -0.004405379295349121,
           0.008175119757652283
          ],
          [
           -0.004405379295349121,
           0.008175119757652283
          ],
          [
           -0.004405349493026733,
           0.008175104856491089
          ],
          [
           -0.004405349493026733,
           0.008175104856491089
          ],
          [
           -0.004405349493026733,
           0.008175104856491089
          ],
          [
           -0.004405349493026733,
           0.008175104856491089
          ],
          [
           -0.004405349493026733,
           0.00817512720823288
          ]
         ]
        },
        {
         "coloraxis": "coloraxis",
         "hovertemplate": "x: %{x}<br>y: %{y}<br>color: %{z}<extra></extra>",
         "name": "0",
         "type": "heatmap",
         "xaxis": "x16",
         "yaxis": "y16",
         "z": [
          [
           -7.450580596923828e-9,
           0,
           0.00558878481388092,
           0.00558878481388092,
           0.011177577078342438,
           0.011177577078342438,
           0.016766361892223358,
           0.016766361892223358,
           0.02235514670610428,
           0.02235514670610428,
           0.0279439315199852,
           0.0279439315199852,
           -0.00558878481388092,
           -0.00558878481388092,
           0,
           0,
           0,
           0,
           0,
           0,
           0
          ],
          [
           -5.960464477539063e-8,
           1.4901161193847656e-8,
           -0.015253499150276184,
           -0.015253499150276184,
           -0.030507013201713562,
           -0.030507013201713562,
           -0.045760512351989746,
           -0.045760512351989746,
           -0.06101404130458832,
           -0.06101404130458832,
           -0.0762675553560257,
           -0.0762675553560257,
           0.015253514051437378,
           0.015253514051437378,
           1.4901161193847656e-8,
           1.4901161193847656e-8,
           1.4901161193847656e-8,
           1.4901161193847656e-8,
           1.4901161193847656e-8,
           1.4901161193847656e-8,
           -2.9802322387695312e-8
          ],
          [
           -0.012654423713684082,
           0.007164165377616882,
           -0.006608977913856506,
           -0.006608977913856506,
           -0.02186247706413269,
           -0.02186247706413269,
           -0.03711600601673126,
           -0.03711600601673126,
           -0.05236952006816864,
           -0.05236952006816864,
           -0.06762301921844482,
           -0.06762301921844482,
           0.02389805018901825,
           0.02389805018901825,
           0.008644536137580872,
           0.008644536137580872,
           0.008644536137580872,
           0.008644536137580872,
           0.008644536137580872,
           0.008644536137580872,
           0.008644521236419678
          ],
          [
           -0.012654423713684082,
           0.007164165377616882,
           -0.006608977913856506,
           -0.006608977913856506,
           -0.02186247706413269,
           -0.02186247706413269,
           -0.03711600601673126,
           -0.03711600601673126,
           -0.05236952006816864,
           -0.05236952006816864,
           -0.06762301921844482,
           -0.06762301921844482,
           0.02389805018901825,
           0.02389805018901825,
           0.008644536137580872,
           0.008644536137580872,
           0.008644536137580872,
           0.008644536137580872,
           0.008644536137580872,
           0.008644536137580872,
           0.008644521236419678
          ],
          [
           -0.025308847427368164,
           0.014328323304653168,
           0.000555187463760376,
           0.000555187463760376,
           -0.013217970728874207,
           -0.013217970728874207,
           -0.02847146987915039,
           -0.02847146987915039,
           -0.04372499883174896,
           -0.04372499883174896,
           -0.05897851288318634,
           -0.05897851288318634,
           0.03254255652427673,
           0.03254255652427673,
           0.01728905737400055,
           0.01728905737400055,
           0.01728905737400055,
           0.01728905737400055,
           0.01728905737400055,
           0.01728905737400055,
           0.01728902757167816
          ],
          [
           -0.025308847427368164,
           0.014328323304653168,
           0.000555187463760376,
           0.000555187463760376,
           -0.013217970728874207,
           -0.013217970728874207,
           -0.02847146987915039,
           -0.02847146987915039,
           -0.04372499883174896,
           -0.04372499883174896,
           -0.05897851288318634,
           -0.05897851288318634,
           0.03254255652427673,
           0.03254255652427673,
           0.01728905737400055,
           0.01728905737400055,
           0.01728905737400055,
           0.01728905737400055,
           0.01728905737400055,
           0.01728905737400055,
           0.01728902757167816
          ],
          [
           -0.03796321153640747,
           0.021492496132850647,
           0.007719345390796661,
           0.007719345390796661,
           -0.006053805351257324,
           -0.006053805351257324,
           -0.019826948642730713,
           -0.019826948642730713,
           -0.035080477595329285,
           -0.035080477595329285,
           -0.05033397674560547,
           -0.05033397674560547,
           0.041187092661857605,
           0.041187092661857605,
           0.025933578610420227,
           0.025933578610420227,
           0.025933578610420227,
           0.025933578610420227,
           0.025933578610420227,
           0.025933578610420227,
           0.02593354880809784
          ],
          [
           -0.03796321153640747,
           0.021492496132850647,
           0.007719345390796661,
           0.007719345390796661,
           -0.006053805351257324,
           -0.006053805351257324,
           -0.019826948642730713,
           -0.019826948642730713,
           -0.035080477595329285,
           -0.035080477595329285,
           -0.05033397674560547,
           -0.05033397674560547,
           0.041187092661857605,
           0.041187092661857605,
           0.025933578610420227,
           0.025933578610420227,
           0.025933578610420227,
           0.025933578610420227,
           0.025933578610420227,
           0.025933578610420227,
           0.02593354880809784
          ],
          [
           -0.05061763525009155,
           0.028656646609306335,
           0.01488349586725235,
           0.01488349586725235,
           0.0011103451251983643,
           0.0011103451251983643,
           -0.01266278326511383,
           -0.01266278326511383,
           -0.026435941457748413,
           -0.026435941457748413,
           -0.041689470410346985,
           -0.041689470410346985,
           0.04983159899711609,
           0.04983159899711609,
           0.034578099846839905,
           0.034578099846839905,
           0.034578099846839905,
           0.034578099846839905,
           0.034578099846839905,
           0.034578099846839905,
           0.034578099846839905
          ],
          [
           -0.05061763525009155,
           0.028656646609306335,
           0.01488349586725235,
           0.01488349586725235,
           0.0011103451251983643,
           0.0011103451251983643,
           -0.01266278326511383,
           -0.01266278326511383,
           -0.026435941457748413,
           -0.026435941457748413,
           -0.041689470410346985,
           -0.041689470410346985,
           0.04983159899711609,
           0.04983159899711609,
           0.034578099846839905,
           0.034578099846839905,
           0.034578099846839905,
           0.034578099846839905,
           0.034578099846839905,
           0.034578099846839905,
           0.034578099846839905
          ],
          [
           -0.06327199935913086,
           0.03582080453634262,
           0.022047653794288635,
           0.022047653794288635,
           0.00827450305223465,
           0.00827450305223465,
           -0.005498632788658142,
           -0.005498632788658142,
           -0.019271790981292725,
           -0.019271790981292725,
           -0.03304493427276611,
           -0.03304493427276611,
           0.05847613513469696,
           0.05847613513469696,
           0.04322262108325958,
           0.04322262108325958,
           0.04322262108325958,
           0.04322262108325958,
           0.04322262108325958,
           0.04322262108325958,
           0.04322260618209839
          ],
          [
           -0.06327199935913086,
           0.03582080453634262,
           0.022047653794288635,
           0.022047653794288635,
           0.00827450305223465,
           0.00827450305223465,
           -0.005498632788658142,
           -0.005498632788658142,
           -0.019271790981292725,
           -0.019271790981292725,
           -0.03304493427276611,
           -0.03304493427276611,
           0.05847613513469696,
           0.05847613513469696,
           0.04322262108325958,
           0.04322262108325958,
           0.04322262108325958,
           0.04322262108325958,
           0.04322262108325958,
           0.04322262108325958,
           0.04322260618209839
          ],
          [
           0.012654423713684082,
           -0.007164165377616882,
           -0.020937316119670868,
           -0.020937316119670868,
           -0.034710466861724854,
           -0.034710466861724854,
           -0.048483602702617645,
           -0.048483602702617645,
           -0.062256745994091034,
           -0.062256745994091034,
           -0.07602990418672562,
           -0.07602990418672562,
           0.006608977913856506,
           0.006608977913856506,
           -0.008644521236419678,
           -0.008644521236419678,
           -0.008644521236419678,
           -0.008644521236419678,
           -0.008644521236419678,
           -0.008644521236419678,
           -0.008644506335258484
          ],
          [
           0.012654423713684082,
           -0.007164165377616882,
           -0.020937316119670868,
           -0.020937316119670868,
           -0.034710466861724854,
           -0.034710466861724854,
           -0.048483602702617645,
           -0.048483602702617645,
           -0.062256745994091034,
           -0.062256745994091034,
           -0.07602990418672562,
           -0.07602990418672562,
           0.006608977913856506,
           0.006608977913856506,
           -0.008644521236419678,
           -0.008644521236419678,
           -0.008644521236419678,
           -0.008644521236419678,
           -0.008644521236419678,
           -0.008644521236419678,
           -0.008644506335258484
          ],
          [
           0,
           0,
           -0.013773150742053986,
           -0.013773150742053986,
           -0.02754630148410797,
           -0.02754630148410797,
           -0.04131944477558136,
           -0.04131944477558136,
           -0.055092595517635345,
           -0.055092595517635345,
           -0.06886575371026993,
           -0.06886575371026993,
           0.013773143291473389,
           0.013773143291473389,
           -1.4901161193847656e-8,
           -1.4901161193847656e-8,
           -1.4901161193847656e-8,
           -1.4901161193847656e-8,
           -1.4901161193847656e-8,
           -1.4901161193847656e-8,
           0
          ],
          [
           0,
           0,
           -0.013773150742053986,
           -0.013773150742053986,
           -0.02754630148410797,
           -0.02754630148410797,
           -0.04131944477558136,
           -0.04131944477558136,
           -0.055092595517635345,
           -0.055092595517635345,
           -0.06886575371026993,
           -0.06886575371026993,
           0.013773143291473389,
           0.013773143291473389,
           -1.4901161193847656e-8,
           -1.4901161193847656e-8,
           -1.4901161193847656e-8,
           -1.4901161193847656e-8,
           -1.4901161193847656e-8,
           -1.4901161193847656e-8,
           0
          ],
          [
           0,
           0,
           -0.013773150742053986,
           -0.013773150742053986,
           -0.02754630148410797,
           -0.02754630148410797,
           -0.04131944477558136,
           -0.04131944477558136,
           -0.055092595517635345,
           -0.055092595517635345,
           -0.06886575371026993,
           -0.06886575371026993,
           0.013773143291473389,
           0.013773143291473389,
           -1.4901161193847656e-8,
           -1.4901161193847656e-8,
           -1.4901161193847656e-8,
           -1.4901161193847656e-8,
           -1.4901161193847656e-8,
           -1.4901161193847656e-8,
           0
          ],
          [
           0,
           0,
           -0.013773150742053986,
           -0.013773150742053986,
           -0.02754630148410797,
           -0.02754630148410797,
           -0.04131944477558136,
           -0.04131944477558136,
           -0.055092595517635345,
           -0.055092595517635345,
           -0.06886575371026993,
           -0.06886575371026993,
           0.013773143291473389,
           0.013773143291473389,
           -1.4901161193847656e-8,
           -1.4901161193847656e-8,
           -1.4901161193847656e-8,
           -1.4901161193847656e-8,
           -1.4901161193847656e-8,
           -1.4901161193847656e-8,
           0
          ],
          [
           0,
           0,
           -0.013773150742053986,
           -0.013773150742053986,
           -0.02754630148410797,
           -0.02754630148410797,
           -0.04131944477558136,
           -0.04131944477558136,
           -0.055092595517635345,
           -0.055092595517635345,
           -0.06886575371026993,
           -0.06886575371026993,
           0.013773143291473389,
           0.013773143291473389,
           -1.4901161193847656e-8,
           -1.4901161193847656e-8,
           -1.4901161193847656e-8,
           -1.4901161193847656e-8,
           -1.4901161193847656e-8,
           -1.4901161193847656e-8,
           0
          ],
          [
           0,
           0,
           -0.013773150742053986,
           -0.013773150742053986,
           -0.02754630148410797,
           -0.02754630148410797,
           -0.04131944477558136,
           -0.04131944477558136,
           -0.055092595517635345,
           -0.055092595517635345,
           -0.06886575371026993,
           -0.06886575371026993,
           0.013773143291473389,
           0.013773143291473389,
           -1.4901161193847656e-8,
           -1.4901161193847656e-8,
           -1.4901161193847656e-8,
           -1.4901161193847656e-8,
           -1.4901161193847656e-8,
           -1.4901161193847656e-8,
           0
          ],
          [
           0,
           0,
           -0.013773150742053986,
           -0.013773150742053986,
           -0.02754630148410797,
           -0.02754630148410797,
           -0.04131944477558136,
           -0.04131944477558136,
           -0.055092595517635345,
           -0.055092595517635345,
           -0.06886575371026993,
           -0.06886575371026993,
           0.013773143291473389,
           0.013773143291473389,
           -1.4901161193847656e-8,
           -1.4901161193847656e-8,
           -1.4901161193847656e-8,
           -1.4901161193847656e-8,
           -1.4901161193847656e-8,
           -1.4901161193847656e-8,
           -1.4901161193847656e-8
          ]
         ]
        },
        {
         "coloraxis": "coloraxis",
         "hovertemplate": "x: %{x}<br>y: %{y}<br>color: %{z}<extra></extra>",
         "name": "0",
         "type": "heatmap",
         "xaxis": "x17",
         "yaxis": "y17",
         "z": [
          [
           -0.024646848440170288,
           -0.0216427743434906
          ],
          [
           -0.03546920418739319,
           -0.019105613231658936
          ],
          [
           -0.03162607550621033,
           -0.01969406008720398
          ],
          [
           -0.03162607550621033,
           -0.01969406008720398
          ],
          [
           -0.02796521782875061,
           -0.020335346460342407
          ],
          [
           -0.02796521782875061,
           -0.020335346460342407
          ],
          [
           -0.024484068155288696,
           -0.021029144525527954
          ],
          [
           -0.024484068155288696,
           -0.021029144525527954
          ],
          [
           -0.021180033683776855,
           -0.02177499234676361
          ],
          [
           -0.021180033683776855,
           -0.02177499234676361
          ],
          [
           -0.018050581216812134,
           -0.022572576999664307
          ],
          [
           -0.018050581216812134,
           -0.022572576999664307
          ],
          [
           -0.03579464554786682,
           -0.0174790620803833
          ],
          [
           -0.03579464554786682,
           -0.0174790620803833
          ],
          [
           -0.03300699591636658,
           -0.01837894320487976
          ],
          [
           -0.03300699591636658,
           -0.01837894320487976
          ],
          [
           -0.03300696611404419,
           -0.018378958106040955
          ],
          [
           -0.03300696611404419,
           -0.018378958106040955
          ],
          [
           -0.03300696611404419,
           -0.018378958106040955
          ],
          [
           -0.03300696611404419,
           -0.018378958106040955
          ],
          [
           -0.03300696611404419,
           -0.018378928303718567
          ]
         ]
        },
        {
         "coloraxis": "coloraxis",
         "hovertemplate": "x: %{x}<br>y: %{y}<br>color: %{z}<extra></extra>",
         "name": "0",
         "type": "heatmap",
         "xaxis": "x18",
         "yaxis": "y18",
         "z": [
          [
           -0.0009345561265945435,
           0.013494960963726044
          ],
          [
           -0.009584695100784302,
           0.01712435483932495
          ],
          [
           -0.00672680139541626,
           0.01577591896057129
          ],
          [
           -0.00672680139541626,
           0.01577591896057129
          ],
          [
           -0.003949195146560669,
           0.01450684666633606
          ],
          [
           -0.003949195146560669,
           0.01450684666633606
          ],
          [
           -0.0012504756450653076,
           0.013316072523593903
          ],
          [
           -0.0012504756450653076,
           0.013316072523593903
          ],
          [
           0.0013707280158996582,
           0.012202546000480652
          ],
          [
           0.0013707280158996582,
           0.012202546000480652
          ],
          [
           0.00391581654548645,
           0.011165246367454529
          ],
          [
           0.00391581654548645,
           0.011165246367454529
          ],
          [
           -0.010905742645263672,
           0.016937844455242157
          ],
          [
           -0.010905742645263672,
           0.016937844455242157
          ],
          [
           -0.008509039878845215,
           0.01604996621608734
          ],
          [
           -0.008509039878845215,
           0.01604996621608734
          ],
          [
           -0.008509010076522827,
           0.016049951314926147
          ],
          [
           -0.008509010076522827,
           0.016049951314926147
          ],
          [
           -0.008509010076522827,
           0.016049951314926147
          ],
          [
           -0.008509010076522827,
           0.016049951314926147
          ],
          [
           -0.008509039878845215,
           0.016049958765506744
          ]
         ]
        },
        {
         "coloraxis": "coloraxis",
         "hovertemplate": "x: %{x}<br>y: %{y}<br>color: %{z}<extra></extra>",
         "name": "0",
         "type": "heatmap",
         "xaxis": "x19",
         "yaxis": "y19",
         "z": [
          [
           -7.450580596923828e-9,
           0,
           0.00558878481388092,
           0.00558878481388092,
           0.011177577078342438,
           0.011177577078342438,
           0.016766361892223358,
           0.016766361892223358,
           0.02235514670610428,
           0.02235514670610428,
           0.0279439315199852,
           0.0279439315199852,
           0.033532723784446716,
           0.033532723784446716,
           0,
           0,
           0,
           0,
           0,
           0,
           0
          ],
          [
           -5.960464477539063e-8,
           1.4901161193847656e-8,
           -0.015253499150276184,
           -0.015253499150276184,
           -0.030507013201713562,
           -0.030507013201713562,
           -0.045760512351989746,
           -0.045760512351989746,
           -0.06101404130458832,
           -0.06101404130458832,
           -0.0762675553560257,
           -0.0762675553560257,
           -0.09152106940746307,
           -0.09152106940746307,
           1.4901161193847656e-8,
           1.4901161193847656e-8,
           1.4901161193847656e-8,
           1.4901161193847656e-8,
           1.4901161193847656e-8,
           1.4901161193847656e-8,
           -2.9802322387695312e-8
          ],
          [
           -0.012654423713684082,
           0.007164165377616882,
           -0.006608977913856506,
           -0.006608977913856506,
           -0.02186247706413269,
           -0.02186247706413269,
           -0.03711600601673126,
           -0.03711600601673126,
           -0.05236952006816864,
           -0.05236952006816864,
           -0.06762301921844482,
           -0.06762301921844482,
           -0.0828765332698822,
           -0.0828765332698822,
           0.008644536137580872,
           0.008644536137580872,
           0.008644536137580872,
           0.008644536137580872,
           0.008644536137580872,
           0.008644536137580872,
           0.008644521236419678
          ],
          [
           -0.012654423713684082,
           0.007164165377616882,
           -0.006608977913856506,
           -0.006608977913856506,
           -0.02186247706413269,
           -0.02186247706413269,
           -0.03711600601673126,
           -0.03711600601673126,
           -0.05236952006816864,
           -0.05236952006816864,
           -0.06762301921844482,
           -0.06762301921844482,
           -0.0828765332698822,
           -0.0828765332698822,
           0.008644536137580872,
           0.008644536137580872,
           0.008644536137580872,
           0.008644536137580872,
           0.008644536137580872,
           0.008644536137580872,
           0.008644521236419678
          ],
          [
           -0.025308847427368164,
           0.014328323304653168,
           0.000555187463760376,
           0.000555187463760376,
           -0.013217970728874207,
           -0.013217970728874207,
           -0.02847146987915039,
           -0.02847146987915039,
           -0.04372499883174896,
           -0.04372499883174896,
           -0.05897851288318634,
           -0.05897851288318634,
           -0.07423202693462372,
           -0.07423202693462372,
           0.01728905737400055,
           0.01728905737400055,
           0.01728905737400055,
           0.01728905737400055,
           0.01728905737400055,
           0.01728905737400055,
           0.01728902757167816
          ],
          [
           -0.025308847427368164,
           0.014328323304653168,
           0.000555187463760376,
           0.000555187463760376,
           -0.013217970728874207,
           -0.013217970728874207,
           -0.02847146987915039,
           -0.02847146987915039,
           -0.04372499883174896,
           -0.04372499883174896,
           -0.05897851288318634,
           -0.05897851288318634,
           -0.07423202693462372,
           -0.07423202693462372,
           0.01728905737400055,
           0.01728905737400055,
           0.01728905737400055,
           0.01728905737400055,
           0.01728905737400055,
           0.01728905737400055,
           0.01728902757167816
          ],
          [
           -0.03796321153640747,
           0.021492496132850647,
           0.007719345390796661,
           0.007719345390796661,
           -0.006053805351257324,
           -0.006053805351257324,
           -0.019826948642730713,
           -0.019826948642730713,
           -0.035080477595329285,
           -0.035080477595329285,
           -0.05033397674560547,
           -0.05033397674560547,
           -0.06558749079704285,
           -0.06558749079704285,
           0.025933578610420227,
           0.025933578610420227,
           0.025933578610420227,
           0.025933578610420227,
           0.025933578610420227,
           0.025933578610420227,
           0.02593354880809784
          ],
          [
           -0.03796321153640747,
           0.021492496132850647,
           0.007719345390796661,
           0.007719345390796661,
           -0.006053805351257324,
           -0.006053805351257324,
           -0.019826948642730713,
           -0.019826948642730713,
           -0.035080477595329285,
           -0.035080477595329285,
           -0.05033397674560547,
           -0.05033397674560547,
           -0.06558749079704285,
           -0.06558749079704285,
           0.025933578610420227,
           0.025933578610420227,
           0.025933578610420227,
           0.025933578610420227,
           0.025933578610420227,
           0.025933578610420227,
           0.02593354880809784
          ],
          [
           -0.05061763525009155,
           0.028656646609306335,
           0.01488349586725235,
           0.01488349586725235,
           0.0011103451251983643,
           0.0011103451251983643,
           -0.01266278326511383,
           -0.01266278326511383,
           -0.026435941457748413,
           -0.026435941457748413,
           -0.041689470410346985,
           -0.041689470410346985,
           -0.05694298446178436,
           -0.05694298446178436,
           0.034578099846839905,
           0.034578099846839905,
           0.034578099846839905,
           0.034578099846839905,
           0.034578099846839905,
           0.034578099846839905,
           0.034578099846839905
          ],
          [
           -0.05061763525009155,
           0.028656646609306335,
           0.01488349586725235,
           0.01488349586725235,
           0.0011103451251983643,
           0.0011103451251983643,
           -0.01266278326511383,
           -0.01266278326511383,
           -0.026435941457748413,
           -0.026435941457748413,
           -0.041689470410346985,
           -0.041689470410346985,
           -0.05694298446178436,
           -0.05694298446178436,
           0.034578099846839905,
           0.034578099846839905,
           0.034578099846839905,
           0.034578099846839905,
           0.034578099846839905,
           0.034578099846839905,
           0.034578099846839905
          ],
          [
           -0.06327199935913086,
           0.03582080453634262,
           0.022047653794288635,
           0.022047653794288635,
           0.00827450305223465,
           0.00827450305223465,
           -0.005498632788658142,
           -0.005498632788658142,
           -0.019271790981292725,
           -0.019271790981292725,
           -0.03304493427276611,
           -0.03304493427276611,
           -0.04829844832420349,
           -0.04829844832420349,
           0.04322262108325958,
           0.04322262108325958,
           0.04322262108325958,
           0.04322262108325958,
           0.04322262108325958,
           0.04322262108325958,
           0.04322260618209839
          ],
          [
           -0.06327199935913086,
           0.03582080453634262,
           0.022047653794288635,
           0.022047653794288635,
           0.00827450305223465,
           0.00827450305223465,
           -0.005498632788658142,
           -0.005498632788658142,
           -0.019271790981292725,
           -0.019271790981292725,
           -0.03304493427276611,
           -0.03304493427276611,
           -0.04829844832420349,
           -0.04829844832420349,
           0.04322262108325958,
           0.04322262108325958,
           0.04322262108325958,
           0.04322262108325958,
           0.04322262108325958,
           0.04322262108325958,
           0.04322260618209839
          ],
          [
           -0.07592636346817017,
           0.04298495501279831,
           0.029211804270744324,
           0.029211804270744324,
           0.015438653528690338,
           0.015438653528690338,
           0.0016655176877975464,
           0.0016655176877975464,
           -0.012107625603675842,
           -0.012107625603675842,
           -0.025880783796310425,
           -0.025880783796310425,
           -0.03965394198894501,
           -0.03965394198894501,
           0.05186714231967926,
           0.05186714231967926,
           0.05186714231967926,
           0.05186714231967926,
           0.05186714231967926,
           0.05186714231967926,
           0.051867157220840454
          ],
          [
           -0.07592636346817017,
           0.04298495501279831,
           0.029211804270744324,
           0.029211804270744324,
           0.015438653528690338,
           0.015438653528690338,
           0.0016655176877975464,
           0.0016655176877975464,
           -0.012107625603675842,
           -0.012107625603675842,
           -0.025880783796310425,
           -0.025880783796310425,
           -0.03965394198894501,
           -0.03965394198894501,
           0.05186714231967926,
           0.05186714231967926,
           0.05186714231967926,
           0.05186714231967926,
           0.05186714231967926,
           0.05186714231967926,
           0.051867157220840454
          ],
          [
           0,
           0,
           -0.013773150742053986,
           -0.013773150742053986,
           -0.02754630148410797,
           -0.02754630148410797,
           -0.04131944477558136,
           -0.04131944477558136,
           -0.055092595517635345,
           -0.055092595517635345,
           -0.06886575371026993,
           -0.06886575371026993,
           -0.08263889700174332,
           -0.08263889700174332,
           -1.4901161193847656e-8,
           -1.4901161193847656e-8,
           -1.4901161193847656e-8,
           -1.4901161193847656e-8,
           -1.4901161193847656e-8,
           -1.4901161193847656e-8,
           0
          ],
          [
           0,
           0,
           -0.013773150742053986,
           -0.013773150742053986,
           -0.02754630148410797,
           -0.02754630148410797,
           -0.04131944477558136,
           -0.04131944477558136,
           -0.055092595517635345,
           -0.055092595517635345,
           -0.06886575371026993,
           -0.06886575371026993,
           -0.08263889700174332,
           -0.08263889700174332,
           -1.4901161193847656e-8,
           -1.4901161193847656e-8,
           -1.4901161193847656e-8,
           -1.4901161193847656e-8,
           -1.4901161193847656e-8,
           -1.4901161193847656e-8,
           0
          ],
          [
           0,
           0,
           -0.013773150742053986,
           -0.013773150742053986,
           -0.02754630148410797,
           -0.02754630148410797,
           -0.04131944477558136,
           -0.04131944477558136,
           -0.055092595517635345,
           -0.055092595517635345,
           -0.06886575371026993,
           -0.06886575371026993,
           -0.08263889700174332,
           -0.08263889700174332,
           -1.4901161193847656e-8,
           -1.4901161193847656e-8,
           -1.4901161193847656e-8,
           -1.4901161193847656e-8,
           -1.4901161193847656e-8,
           -1.4901161193847656e-8,
           0
          ],
          [
           0,
           0,
           -0.013773150742053986,
           -0.013773150742053986,
           -0.02754630148410797,
           -0.02754630148410797,
           -0.04131944477558136,
           -0.04131944477558136,
           -0.055092595517635345,
           -0.055092595517635345,
           -0.06886575371026993,
           -0.06886575371026993,
           -0.08263889700174332,
           -0.08263889700174332,
           -1.4901161193847656e-8,
           -1.4901161193847656e-8,
           -1.4901161193847656e-8,
           -1.4901161193847656e-8,
           -1.4901161193847656e-8,
           -1.4901161193847656e-8,
           0
          ],
          [
           0,
           0,
           -0.013773150742053986,
           -0.013773150742053986,
           -0.02754630148410797,
           -0.02754630148410797,
           -0.04131944477558136,
           -0.04131944477558136,
           -0.055092595517635345,
           -0.055092595517635345,
           -0.06886575371026993,
           -0.06886575371026993,
           -0.08263889700174332,
           -0.08263889700174332,
           -1.4901161193847656e-8,
           -1.4901161193847656e-8,
           -1.4901161193847656e-8,
           -1.4901161193847656e-8,
           -1.4901161193847656e-8,
           -1.4901161193847656e-8,
           0
          ],
          [
           0,
           0,
           -0.013773150742053986,
           -0.013773150742053986,
           -0.02754630148410797,
           -0.02754630148410797,
           -0.04131944477558136,
           -0.04131944477558136,
           -0.055092595517635345,
           -0.055092595517635345,
           -0.06886575371026993,
           -0.06886575371026993,
           -0.08263889700174332,
           -0.08263889700174332,
           -1.4901161193847656e-8,
           -1.4901161193847656e-8,
           -1.4901161193847656e-8,
           -1.4901161193847656e-8,
           -1.4901161193847656e-8,
           -1.4901161193847656e-8,
           0
          ],
          [
           0,
           0,
           -0.013773150742053986,
           -0.013773150742053986,
           -0.02754630148410797,
           -0.02754630148410797,
           -0.04131944477558136,
           -0.04131944477558136,
           -0.055092595517635345,
           -0.055092595517635345,
           -0.06886575371026993,
           -0.06886575371026993,
           -0.08263889700174332,
           -0.08263889700174332,
           -1.4901161193847656e-8,
           -1.4901161193847656e-8,
           -1.4901161193847656e-8,
           -1.4901161193847656e-8,
           -1.4901161193847656e-8,
           -1.4901161193847656e-8,
           -1.4901161193847656e-8
          ]
         ]
        },
        {
         "coloraxis": "coloraxis",
         "hovertemplate": "x: %{x}<br>y: %{y}<br>color: %{z}<extra></extra>",
         "name": "0",
         "type": "heatmap",
         "xaxis": "x20",
         "yaxis": "y20",
         "z": [
          [
           -0.036538273096084595,
           -0.03226093947887421
          ],
          [
           -0.0525946319103241,
           -0.028484627604484558
          ],
          [
           -0.048751503229141235,
           -0.029073074460029602
          ],
          [
           -0.048751503229141235,
           -0.029073074460029602
          ],
          [
           -0.04509064555168152,
           -0.02971436083316803
          ],
          [
           -0.04509064555168152,
           -0.02971436083316803
          ],
          [
           -0.041609495878219604,
           -0.030408158898353577
          ],
          [
           -0.041609495878219604,
           -0.030408158898353577
          ],
          [
           -0.038305461406707764,
           -0.031154006719589233
          ],
          [
           -0.038305461406707764,
           -0.031154006719589233
          ],
          [
           -0.03517600893974304,
           -0.03195159137248993
          ],
          [
           -0.03517600893974304,
           -0.03195159137248993
          ],
          [
           -0.03221869468688965,
           -0.03280051052570343
          ],
          [
           -0.03221869468688965,
           -0.03280051052570343
          ],
          [
           -0.048944562673568726,
           -0.027401208877563477
          ],
          [
           -0.048944562673568726,
           -0.027401208877563477
          ],
          [
           -0.04894453287124634,
           -0.02740122377872467
          ],
          [
           -0.04894453287124634,
           -0.02740122377872467
          ],
          [
           -0.04894453287124634,
           -0.02740122377872467
          ],
          [
           -0.04894453287124634,
           -0.02740122377872467
          ],
          [
           -0.048944562673568726,
           -0.027401164174079895
          ]
         ]
        },
        {
         "coloraxis": "coloraxis",
         "hovertemplate": "x: %{x}<br>y: %{y}<br>color: %{z}<extra></extra>",
         "name": "0",
         "type": "heatmap",
         "xaxis": "x21",
         "yaxis": "y21",
         "z": [
          [
           -0.0012649297714233398,
           0.020039495080709457
          ],
          [
           -0.014106839895248413,
           0.0254218652844429
          ],
          [
           -0.011248946189880371,
           0.02407342940568924
          ],
          [
           -0.011248946189880371,
           0.02407342940568924
          ],
          [
           -0.00847133994102478,
           0.02280435711145401
          ],
          [
           -0.00847133994102478,
           0.02280435711145401
          ],
          [
           -0.005772620439529419,
           0.021613582968711853
          ],
          [
           -0.005772620439529419,
           0.021613582968711853
          ],
          [
           -0.003151416778564453,
           0.020500056445598602
          ],
          [
           -0.003151416778564453,
           0.020500056445598602
          ],
          [
           -0.0006063282489776611,
           0.01946275681257248
          ],
          [
           -0.0006063282489776611,
           0.01946275681257248
          ],
          [
           0.001863926649093628,
           0.018500663340091705
          ],
          [
           0.001863926649093628,
           0.018500663340091705
          ],
          [
           -0.012516438961029053,
           0.023827973753213882
          ],
          [
           -0.012516438961029053,
           0.023827973753213882
          ],
          [
           -0.012516409158706665,
           0.02382795885205269
          ],
          [
           -0.012516409158706665,
           0.02382795885205269
          ],
          [
           -0.012516438961029053,
           0.023827962577342987
          ],
          [
           -0.012516438961029053,
           0.023827962577342987
          ],
          [
           -0.012516498565673828,
           0.023827962577342987
          ]
         ]
        }
       ],
       "layout": {
        "annotations": [
         {
          "font": {
           "size": 16
          },
          "showarrow": false,
          "text": "QK.T",
          "x": 0.14444444444444446,
          "xanchor": "center",
          "xref": "paper",
          "y": 0.9999999999999999,
          "yanchor": "bottom",
          "yref": "paper"
         },
         {
          "font": {
           "size": 16
          },
          "showarrow": false,
          "text": "A",
          "x": 0.5,
          "xanchor": "center",
          "xref": "paper",
          "y": 0.9999999999999999,
          "yanchor": "bottom",
          "yref": "paper"
         },
         {
          "font": {
           "size": 16
          },
          "showarrow": false,
          "text": "OUT",
          "x": 0.8555555555555556,
          "xanchor": "center",
          "xref": "paper",
          "y": 0.9999999999999999,
          "yanchor": "bottom",
          "yref": "paper"
         }
        ],
        "height": 800,
        "template": {
         "data": {
          "bar": [
           {
            "error_x": {
             "color": "#2a3f5f"
            },
            "error_y": {
             "color": "#2a3f5f"
            },
            "marker": {
             "line": {
              "color": "#E5ECF6",
              "width": 0.5
             },
             "pattern": {
              "fillmode": "overlay",
              "size": 10,
              "solidity": 0.2
             }
            },
            "type": "bar"
           }
          ],
          "barpolar": [
           {
            "marker": {
             "line": {
              "color": "#E5ECF6",
              "width": 0.5
             },
             "pattern": {
              "fillmode": "overlay",
              "size": 10,
              "solidity": 0.2
             }
            },
            "type": "barpolar"
           }
          ],
          "carpet": [
           {
            "aaxis": {
             "endlinecolor": "#2a3f5f",
             "gridcolor": "white",
             "linecolor": "white",
             "minorgridcolor": "white",
             "startlinecolor": "#2a3f5f"
            },
            "baxis": {
             "endlinecolor": "#2a3f5f",
             "gridcolor": "white",
             "linecolor": "white",
             "minorgridcolor": "white",
             "startlinecolor": "#2a3f5f"
            },
            "type": "carpet"
           }
          ],
          "choropleth": [
           {
            "colorbar": {
             "outlinewidth": 0,
             "ticks": ""
            },
            "type": "choropleth"
           }
          ],
          "contour": [
           {
            "colorbar": {
             "outlinewidth": 0,
             "ticks": ""
            },
            "colorscale": [
             [
              0,
              "#0d0887"
             ],
             [
              0.1111111111111111,
              "#46039f"
             ],
             [
              0.2222222222222222,
              "#7201a8"
             ],
             [
              0.3333333333333333,
              "#9c179e"
             ],
             [
              0.4444444444444444,
              "#bd3786"
             ],
             [
              0.5555555555555556,
              "#d8576b"
             ],
             [
              0.6666666666666666,
              "#ed7953"
             ],
             [
              0.7777777777777778,
              "#fb9f3a"
             ],
             [
              0.8888888888888888,
              "#fdca26"
             ],
             [
              1,
              "#f0f921"
             ]
            ],
            "type": "contour"
           }
          ],
          "contourcarpet": [
           {
            "colorbar": {
             "outlinewidth": 0,
             "ticks": ""
            },
            "type": "contourcarpet"
           }
          ],
          "heatmap": [
           {
            "colorbar": {
             "outlinewidth": 0,
             "ticks": ""
            },
            "colorscale": [
             [
              0,
              "#0d0887"
             ],
             [
              0.1111111111111111,
              "#46039f"
             ],
             [
              0.2222222222222222,
              "#7201a8"
             ],
             [
              0.3333333333333333,
              "#9c179e"
             ],
             [
              0.4444444444444444,
              "#bd3786"
             ],
             [
              0.5555555555555556,
              "#d8576b"
             ],
             [
              0.6666666666666666,
              "#ed7953"
             ],
             [
              0.7777777777777778,
              "#fb9f3a"
             ],
             [
              0.8888888888888888,
              "#fdca26"
             ],
             [
              1,
              "#f0f921"
             ]
            ],
            "type": "heatmap"
           }
          ],
          "heatmapgl": [
           {
            "colorbar": {
             "outlinewidth": 0,
             "ticks": ""
            },
            "colorscale": [
             [
              0,
              "#0d0887"
             ],
             [
              0.1111111111111111,
              "#46039f"
             ],
             [
              0.2222222222222222,
              "#7201a8"
             ],
             [
              0.3333333333333333,
              "#9c179e"
             ],
             [
              0.4444444444444444,
              "#bd3786"
             ],
             [
              0.5555555555555556,
              "#d8576b"
             ],
             [
              0.6666666666666666,
              "#ed7953"
             ],
             [
              0.7777777777777778,
              "#fb9f3a"
             ],
             [
              0.8888888888888888,
              "#fdca26"
             ],
             [
              1,
              "#f0f921"
             ]
            ],
            "type": "heatmapgl"
           }
          ],
          "histogram": [
           {
            "marker": {
             "pattern": {
              "fillmode": "overlay",
              "size": 10,
              "solidity": 0.2
             }
            },
            "type": "histogram"
           }
          ],
          "histogram2d": [
           {
            "colorbar": {
             "outlinewidth": 0,
             "ticks": ""
            },
            "colorscale": [
             [
              0,
              "#0d0887"
             ],
             [
              0.1111111111111111,
              "#46039f"
             ],
             [
              0.2222222222222222,
              "#7201a8"
             ],
             [
              0.3333333333333333,
              "#9c179e"
             ],
             [
              0.4444444444444444,
              "#bd3786"
             ],
             [
              0.5555555555555556,
              "#d8576b"
             ],
             [
              0.6666666666666666,
              "#ed7953"
             ],
             [
              0.7777777777777778,
              "#fb9f3a"
             ],
             [
              0.8888888888888888,
              "#fdca26"
             ],
             [
              1,
              "#f0f921"
             ]
            ],
            "type": "histogram2d"
           }
          ],
          "histogram2dcontour": [
           {
            "colorbar": {
             "outlinewidth": 0,
             "ticks": ""
            },
            "colorscale": [
             [
              0,
              "#0d0887"
             ],
             [
              0.1111111111111111,
              "#46039f"
             ],
             [
              0.2222222222222222,
              "#7201a8"
             ],
             [
              0.3333333333333333,
              "#9c179e"
             ],
             [
              0.4444444444444444,
              "#bd3786"
             ],
             [
              0.5555555555555556,
              "#d8576b"
             ],
             [
              0.6666666666666666,
              "#ed7953"
             ],
             [
              0.7777777777777778,
              "#fb9f3a"
             ],
             [
              0.8888888888888888,
              "#fdca26"
             ],
             [
              1,
              "#f0f921"
             ]
            ],
            "type": "histogram2dcontour"
           }
          ],
          "mesh3d": [
           {
            "colorbar": {
             "outlinewidth": 0,
             "ticks": ""
            },
            "type": "mesh3d"
           }
          ],
          "parcoords": [
           {
            "line": {
             "colorbar": {
              "outlinewidth": 0,
              "ticks": ""
             }
            },
            "type": "parcoords"
           }
          ],
          "pie": [
           {
            "automargin": true,
            "type": "pie"
           }
          ],
          "scatter": [
           {
            "fillpattern": {
             "fillmode": "overlay",
             "size": 10,
             "solidity": 0.2
            },
            "type": "scatter"
           }
          ],
          "scatter3d": [
           {
            "line": {
             "colorbar": {
              "outlinewidth": 0,
              "ticks": ""
             }
            },
            "marker": {
             "colorbar": {
              "outlinewidth": 0,
              "ticks": ""
             }
            },
            "type": "scatter3d"
           }
          ],
          "scattercarpet": [
           {
            "marker": {
             "colorbar": {
              "outlinewidth": 0,
              "ticks": ""
             }
            },
            "type": "scattercarpet"
           }
          ],
          "scattergeo": [
           {
            "marker": {
             "colorbar": {
              "outlinewidth": 0,
              "ticks": ""
             }
            },
            "type": "scattergeo"
           }
          ],
          "scattergl": [
           {
            "marker": {
             "colorbar": {
              "outlinewidth": 0,
              "ticks": ""
             }
            },
            "type": "scattergl"
           }
          ],
          "scattermapbox": [
           {
            "marker": {
             "colorbar": {
              "outlinewidth": 0,
              "ticks": ""
             }
            },
            "type": "scattermapbox"
           }
          ],
          "scatterpolar": [
           {
            "marker": {
             "colorbar": {
              "outlinewidth": 0,
              "ticks": ""
             }
            },
            "type": "scatterpolar"
           }
          ],
          "scatterpolargl": [
           {
            "marker": {
             "colorbar": {
              "outlinewidth": 0,
              "ticks": ""
             }
            },
            "type": "scatterpolargl"
           }
          ],
          "scatterternary": [
           {
            "marker": {
             "colorbar": {
              "outlinewidth": 0,
              "ticks": ""
             }
            },
            "type": "scatterternary"
           }
          ],
          "surface": [
           {
            "colorbar": {
             "outlinewidth": 0,
             "ticks": ""
            },
            "colorscale": [
             [
              0,
              "#0d0887"
             ],
             [
              0.1111111111111111,
              "#46039f"
             ],
             [
              0.2222222222222222,
              "#7201a8"
             ],
             [
              0.3333333333333333,
              "#9c179e"
             ],
             [
              0.4444444444444444,
              "#bd3786"
             ],
             [
              0.5555555555555556,
              "#d8576b"
             ],
             [
              0.6666666666666666,
              "#ed7953"
             ],
             [
              0.7777777777777778,
              "#fb9f3a"
             ],
             [
              0.8888888888888888,
              "#fdca26"
             ],
             [
              1,
              "#f0f921"
             ]
            ],
            "type": "surface"
           }
          ],
          "table": [
           {
            "cells": {
             "fill": {
              "color": "#EBF0F8"
             },
             "line": {
              "color": "white"
             }
            },
            "header": {
             "fill": {
              "color": "#C8D4E3"
             },
             "line": {
              "color": "white"
             }
            },
            "type": "table"
           }
          ]
         },
         "layout": {
          "annotationdefaults": {
           "arrowcolor": "#2a3f5f",
           "arrowhead": 0,
           "arrowwidth": 1
          },
          "autotypenumbers": "strict",
          "coloraxis": {
           "colorbar": {
            "outlinewidth": 0,
            "ticks": ""
           }
          },
          "colorscale": {
           "diverging": [
            [
             0,
             "#8e0152"
            ],
            [
             0.1,
             "#c51b7d"
            ],
            [
             0.2,
             "#de77ae"
            ],
            [
             0.3,
             "#f1b6da"
            ],
            [
             0.4,
             "#fde0ef"
            ],
            [
             0.5,
             "#f7f7f7"
            ],
            [
             0.6,
             "#e6f5d0"
            ],
            [
             0.7,
             "#b8e186"
            ],
            [
             0.8,
             "#7fbc41"
            ],
            [
             0.9,
             "#4d9221"
            ],
            [
             1,
             "#276419"
            ]
           ],
           "sequential": [
            [
             0,
             "#0d0887"
            ],
            [
             0.1111111111111111,
             "#46039f"
            ],
            [
             0.2222222222222222,
             "#7201a8"
            ],
            [
             0.3333333333333333,
             "#9c179e"
            ],
            [
             0.4444444444444444,
             "#bd3786"
            ],
            [
             0.5555555555555556,
             "#d8576b"
            ],
            [
             0.6666666666666666,
             "#ed7953"
            ],
            [
             0.7777777777777778,
             "#fb9f3a"
            ],
            [
             0.8888888888888888,
             "#fdca26"
            ],
            [
             1,
             "#f0f921"
            ]
           ],
           "sequentialminus": [
            [
             0,
             "#0d0887"
            ],
            [
             0.1111111111111111,
             "#46039f"
            ],
            [
             0.2222222222222222,
             "#7201a8"
            ],
            [
             0.3333333333333333,
             "#9c179e"
            ],
            [
             0.4444444444444444,
             "#bd3786"
            ],
            [
             0.5555555555555556,
             "#d8576b"
            ],
            [
             0.6666666666666666,
             "#ed7953"
            ],
            [
             0.7777777777777778,
             "#fb9f3a"
            ],
            [
             0.8888888888888888,
             "#fdca26"
            ],
            [
             1,
             "#f0f921"
            ]
           ]
          },
          "colorway": [
           "#636efa",
           "#EF553B",
           "#00cc96",
           "#ab63fa",
           "#FFA15A",
           "#19d3f3",
           "#FF6692",
           "#B6E880",
           "#FF97FF",
           "#FECB52"
          ],
          "font": {
           "color": "#2a3f5f"
          },
          "geo": {
           "bgcolor": "white",
           "lakecolor": "white",
           "landcolor": "#E5ECF6",
           "showlakes": true,
           "showland": true,
           "subunitcolor": "white"
          },
          "hoverlabel": {
           "align": "left"
          },
          "hovermode": "closest",
          "mapbox": {
           "style": "light"
          },
          "paper_bgcolor": "white",
          "plot_bgcolor": "#E5ECF6",
          "polar": {
           "angularaxis": {
            "gridcolor": "white",
            "linecolor": "white",
            "ticks": ""
           },
           "bgcolor": "#E5ECF6",
           "radialaxis": {
            "gridcolor": "white",
            "linecolor": "white",
            "ticks": ""
           }
          },
          "scene": {
           "xaxis": {
            "backgroundcolor": "#E5ECF6",
            "gridcolor": "white",
            "gridwidth": 2,
            "linecolor": "white",
            "showbackground": true,
            "ticks": "",
            "zerolinecolor": "white"
           },
           "yaxis": {
            "backgroundcolor": "#E5ECF6",
            "gridcolor": "white",
            "gridwidth": 2,
            "linecolor": "white",
            "showbackground": true,
            "ticks": "",
            "zerolinecolor": "white"
           },
           "zaxis": {
            "backgroundcolor": "#E5ECF6",
            "gridcolor": "white",
            "gridwidth": 2,
            "linecolor": "white",
            "showbackground": true,
            "ticks": "",
            "zerolinecolor": "white"
           }
          },
          "shapedefaults": {
           "line": {
            "color": "#2a3f5f"
           }
          },
          "ternary": {
           "aaxis": {
            "gridcolor": "white",
            "linecolor": "white",
            "ticks": ""
           },
           "baxis": {
            "gridcolor": "white",
            "linecolor": "white",
            "ticks": ""
           },
           "bgcolor": "#E5ECF6",
           "caxis": {
            "gridcolor": "white",
            "linecolor": "white",
            "ticks": ""
           }
          },
          "title": {
           "x": 0.05
          },
          "xaxis": {
           "automargin": true,
           "gridcolor": "white",
           "linecolor": "white",
           "ticks": "",
           "title": {
            "standoff": 15
           },
           "zerolinecolor": "white",
           "zerolinewidth": 2
          },
          "yaxis": {
           "automargin": true,
           "gridcolor": "white",
           "linecolor": "white",
           "ticks": "",
           "title": {
            "standoff": 15
           },
           "zerolinecolor": "white",
           "zerolinewidth": 2
          }
         }
        },
        "title": {
         "text": "Plots for 1, 3, 5, 7, 9, 11, 13 set bits"
        },
        "width": 800,
        "xaxis": {
         "anchor": "y",
         "domain": [
          0,
          0.2888888888888889
         ]
        },
        "xaxis10": {
         "anchor": "y10",
         "domain": [
          0,
          0.2888888888888889
         ]
        },
        "xaxis11": {
         "anchor": "y11",
         "domain": [
          0.35555555555555557,
          0.6444444444444445
         ]
        },
        "xaxis12": {
         "anchor": "y12",
         "domain": [
          0.7111111111111111,
          1
         ]
        },
        "xaxis13": {
         "anchor": "y13",
         "domain": [
          0,
          0.2888888888888889
         ]
        },
        "xaxis14": {
         "anchor": "y14",
         "domain": [
          0.35555555555555557,
          0.6444444444444445
         ]
        },
        "xaxis15": {
         "anchor": "y15",
         "domain": [
          0.7111111111111111,
          1
         ]
        },
        "xaxis16": {
         "anchor": "y16",
         "domain": [
          0,
          0.2888888888888889
         ]
        },
        "xaxis17": {
         "anchor": "y17",
         "domain": [
          0.35555555555555557,
          0.6444444444444445
         ]
        },
        "xaxis18": {
         "anchor": "y18",
         "domain": [
          0.7111111111111111,
          1
         ]
        },
        "xaxis19": {
         "anchor": "y19",
         "domain": [
          0,
          0.2888888888888889
         ]
        },
        "xaxis2": {
         "anchor": "y2",
         "domain": [
          0.35555555555555557,
          0.6444444444444445
         ]
        },
        "xaxis20": {
         "anchor": "y20",
         "domain": [
          0.35555555555555557,
          0.6444444444444445
         ]
        },
        "xaxis21": {
         "anchor": "y21",
         "domain": [
          0.7111111111111111,
          1
         ]
        },
        "xaxis3": {
         "anchor": "y3",
         "domain": [
          0.7111111111111111,
          1
         ]
        },
        "xaxis4": {
         "anchor": "y4",
         "domain": [
          0,
          0.2888888888888889
         ]
        },
        "xaxis5": {
         "anchor": "y5",
         "domain": [
          0.35555555555555557,
          0.6444444444444445
         ]
        },
        "xaxis6": {
         "anchor": "y6",
         "domain": [
          0.7111111111111111,
          1
         ]
        },
        "xaxis7": {
         "anchor": "y7",
         "domain": [
          0,
          0.2888888888888889
         ]
        },
        "xaxis8": {
         "anchor": "y8",
         "domain": [
          0.35555555555555557,
          0.6444444444444445
         ]
        },
        "xaxis9": {
         "anchor": "y9",
         "domain": [
          0.7111111111111111,
          1
         ]
        },
        "yaxis": {
         "anchor": "x",
         "domain": [
          0.9183673469387754,
          0.9999999999999999
         ]
        },
        "yaxis10": {
         "anchor": "x10",
         "domain": [
          0.4591836734693877,
          0.5408163265306122
         ]
        },
        "yaxis11": {
         "anchor": "x11",
         "domain": [
          0.4591836734693877,
          0.5408163265306122
         ]
        },
        "yaxis12": {
         "anchor": "x12",
         "domain": [
          0.4591836734693877,
          0.5408163265306122
         ]
        },
        "yaxis13": {
         "anchor": "x13",
         "domain": [
          0.30612244897959184,
          0.3877551020408163
         ]
        },
        "yaxis14": {
         "anchor": "x14",
         "domain": [
          0.30612244897959184,
          0.3877551020408163
         ]
        },
        "yaxis15": {
         "anchor": "x15",
         "domain": [
          0.30612244897959184,
          0.3877551020408163
         ]
        },
        "yaxis16": {
         "anchor": "x16",
         "domain": [
          0.15306122448979592,
          0.2346938775510204
         ]
        },
        "yaxis17": {
         "anchor": "x17",
         "domain": [
          0.15306122448979592,
          0.2346938775510204
         ]
        },
        "yaxis18": {
         "anchor": "x18",
         "domain": [
          0.15306122448979592,
          0.2346938775510204
         ]
        },
        "yaxis19": {
         "anchor": "x19",
         "domain": [
          0,
          0.08163265306122448
         ]
        },
        "yaxis2": {
         "anchor": "x2",
         "domain": [
          0.9183673469387754,
          0.9999999999999999
         ]
        },
        "yaxis20": {
         "anchor": "x20",
         "domain": [
          0,
          0.08163265306122448
         ]
        },
        "yaxis21": {
         "anchor": "x21",
         "domain": [
          0,
          0.08163265306122448
         ]
        },
        "yaxis3": {
         "anchor": "x3",
         "domain": [
          0.9183673469387754,
          0.9999999999999999
         ]
        },
        "yaxis4": {
         "anchor": "x4",
         "domain": [
          0.7653061224489794,
          0.8469387755102039
         ]
        },
        "yaxis5": {
         "anchor": "x5",
         "domain": [
          0.7653061224489794,
          0.8469387755102039
         ]
        },
        "yaxis6": {
         "anchor": "x6",
         "domain": [
          0.7653061224489794,
          0.8469387755102039
         ]
        },
        "yaxis7": {
         "anchor": "x7",
         "domain": [
          0.6122448979591837,
          0.6938775510204082
         ]
        },
        "yaxis8": {
         "anchor": "x8",
         "domain": [
          0.6122448979591837,
          0.6938775510204082
         ]
        },
        "yaxis9": {
         "anchor": "x9",
         "domain": [
          0.6122448979591837,
          0.6938775510204082
         ]
        }
       }
      }
     },
     "metadata": {},
     "output_type": "display_data"
    }
   ],
   "source": [
    "import plotly.express as px\n",
    "import plotly.subplots as sp\n",
    "\n",
    "X = torch.tensor([[1 if i < set_bits else 0 for i in range(N)] for set_bits in range(1, 15, 2)])\n",
    "batch_size = X.shape[0]\n",
    "\n",
    "X = torch.cat(\n",
    "    [\n",
    "        2 * torch.ones((batch_size, 1), dtype=torch.int).to(X.device),\n",
    "        X.type(torch.int),\n",
    "    ],\n",
    "    dim=1)\n",
    "# pos = (\n",
    "#     torch.eye(N + 1, N)\n",
    "#     .to(device)\n",
    "#     .unsqueeze(0)\n",
    "#     .repeat(batch_size, 1, 1)\n",
    "# )\n",
    "X = model.embeddings(X).detach()\n",
    "# X = torch.cat([pos, dat], dim=2)\n",
    "qkv = model.transformer[0].attn.in_proj_weight.detach()\n",
    "W   = model.transformer[0].attn.out_proj.weight.detach()\n",
    "q, k, v = qkv.reshape(3, hidden_dim, hidden_dim)\n",
    "Q, K, V = X @ q, X @ k, X @ v\n",
    "QKT = Q @ K.transpose(1, 2) / torch.sqrt(torch.tensor(hidden_dim).to(device))\n",
    "A = torch.softmax(QKT, dim=1) @ V\n",
    "OUT = A @ W\n",
    "postMLP = model.transformer[0].norm1(X+OUT)\n",
    "postMLP = model.transformer[0].norm2(postMLP + model.transformer[0].linear(postMLP))[:, -1, :].detach()\n",
    "FINAL   = model.mlp_head(postMLP).detach()\n",
    "# Create subplots\n",
    "X_mean, QKT_mean, A_mean, OUT_mean, postMLP_mean = X.mean(dim=0), QKT.mean(dim=0), A.mean(dim=0), OUT.mean(dim=0), postMLP.mean(dim=0)\n",
    "\n",
    "fig = sp.make_subplots(rows=X.shape[0], cols=3, subplot_titles=(\"QK.T\", \"A\", \"OUT\"))\n",
    "\n",
    "for i in range(X.shape[0]):\n",
    "    # fig.add_trace(px.imshow(X[i]-X_mean).data[0], row=i+1, col=1)\n",
    "    fig.add_trace(px.imshow(QKT[i]-QKT_mean).data[0], row=i+1, col=1)\n",
    "    fig.add_trace(px.imshow(A[i]-A_mean).data[0], row=i+1, col=2)\n",
    "    fig.add_trace(px.imshow(OUT[i]-OUT_mean).data[0], row=i+1, col=3)\n",
    "    # fig.add_trace(px.imshow((postMLP[i]-postMLP_mean).unsqueeze(0)).data[0], row=i+1, col=5)\n",
    "    # fig.add_trace(px.imshow(FINAL[i].unsqueeze(0)).data[0], row=i+1, col=6)\n",
    "\n",
    "fig.update_layout(height=800, width=800, title_text=\"Plots for 1, 3, 5, 7, 9, 11, 13 set bits\")\n",
    "fig.show()\n",
    "\n",
    "\n",
    "\n"
   ]
  }
 ],
 "metadata": {
  "kernelspec": {
   "display_name": ".venv",
   "language": "python",
   "name": "python3"
  },
  "language_info": {
   "codemirror_mode": {
    "name": "ipython",
    "version": 3
   },
   "file_extension": ".py",
   "mimetype": "text/x-python",
   "name": "python",
   "nbconvert_exporter": "python",
   "pygments_lexer": "ipython3",
   "version": "3.12.8"
  }
 },
 "nbformat": 4,
 "nbformat_minor": 2
}
