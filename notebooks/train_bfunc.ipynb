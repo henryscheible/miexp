{
 "cells": [
  {
   "cell_type": "code",
   "execution_count": 1,
   "metadata": {},
   "outputs": [],
   "source": [
    "from torch.optim import Optimizer\n",
    "from torch.utils.data import DataLoader\n",
    "from torch import nn\n",
    "import torch\n",
    "from tqdm.notebook import tqdm\n",
    "device = torch.device(\"cpu\")"
   ]
  },
  {
   "cell_type": "code",
   "execution_count": 2,
   "metadata": {},
   "outputs": [
    {
     "name": "stdout",
     "output_type": "stream",
     "text": [
      "Transformer(\n",
      "  (embeddings): Embedding(3, 2)\n",
      "  (transformer): Sequential(\n",
      "    (0): AttentionBlock(\n",
      "      (attn): MultiheadAttention(\n",
      "        (out_proj): NonDynamicallyQuantizableLinear(in_features=2, out_features=2, bias=False)\n",
      "      )\n",
      "      (linear): Sequential(\n",
      "        (0): Linear(in_features=2, out_features=2, bias=True)\n",
      "        (1): ReLU()\n",
      "        (2): Linear(in_features=2, out_features=2, bias=True)\n",
      "      )\n",
      "    )\n",
      "  )\n",
      "  (mlp_head): Sequential(\n",
      "    (0): Linear(in_features=2, out_features=2, bias=True)\n",
      "  )\n",
      ")\n"
     ]
    }
   ],
   "source": [
    "from miexp.models.transformer import Transformer\n",
    "N = 20\n",
    "dropout = 0\n",
    "hidden_dim, heads, layers, feed_forward_dim = 2, 1, 1, 2\n",
    "model = Transformer(dropout, N, hidden_dim, heads, layers, feed_forward_dim, \"cpu\")\n",
    "sum(p.numel() for p in model.parameters())\n",
    "\n",
    "\n",
    "from miexp.bfuncs import MajDataset\n",
    "num_samples = 1000\n",
    "train_dataset = MajDataset(N, num_samples=1000)\n",
    "test_dataset = MajDataset(N, num_samples=3000)\n",
    "train_dataloader = DataLoader(train_dataset, batch_size=256, shuffle=True)\n",
    "test_dataloader = DataLoader(test_dataset, batch_size=256, shuffle=True)\n",
    "\n",
    "optimizer = torch.optim.Adam(model.parameters(), lr=0.001)\n",
    "criterion = torch.nn.CrossEntropyLoss()\n",
    "\n",
    "print(model)"
   ]
  },
  {
   "cell_type": "code",
   "execution_count": 3,
   "metadata": {},
   "outputs": [],
   "source": [
    "def train_epoch(model: nn.Module, optimizer: Optimizer, dataloader: DataLoader, device: torch.device, criterion: nn.Module) -> dict[str, float | None]:\n",
    "    model = model.to(device)\n",
    "    total_train_loss = 0\n",
    "    total_train_acc = 0\n",
    "    total_items = 0\n",
    "    for input, labels in dataloader:\n",
    "        input = input.to(device).to(torch.int32)\n",
    "        labels = labels.to(device).to(torch.int64)\n",
    "        output = model(input)\n",
    "        loss = criterion(output, labels)\n",
    "        optimizer.zero_grad()\n",
    "        loss.backward()\n",
    "        optimizer.step()\n",
    "        total_train_loss += (loss.item()) * len(input)\n",
    "        total_train_acc += torch.sum(torch.argmax(output, dim=1) == labels).item()\n",
    "        total_items += len(input)\n",
    "    return {\n",
    "        \"acc\": total_train_acc / total_items,\n",
    "        \"loss\": total_train_loss / total_items,\n",
    "        # **{f\"norm/{name}\": torch.norm(param.grad).item() for name, param in model.named_parameters() if param.grad is not None}\n",
    "    }\n",
    "    \n",
    "def test_epoch(model: nn.Module, dataloader: DataLoader, device: torch.device, criterion: nn.Module) -> dict[str, float | None]:\n",
    "    model = model.to(device)\n",
    "    total_test_loss = 0\n",
    "    total_test_acc = 0\n",
    "    total_items = 0\n",
    "    with torch.no_grad():\n",
    "        for input, labels in dataloader:\n",
    "            input = input.to(device).to(torch.int32)\n",
    "            labels = labels.to(device).to(torch.int64)\n",
    "            output = model(input)\n",
    "            loss = criterion(output, labels)\n",
    "            total_test_loss += (loss.item()) * len(input)\n",
    "            total_test_acc += torch.sum(torch.argmax(output, dim=1) == labels).item()\n",
    "            total_items += len(input)\n",
    "    return {\n",
    "        \"acc\": total_test_acc / total_items,\n",
    "        \"loss\": total_test_loss / total_items,\n",
    "        # **{f\"norm/{name}\": torch.norm(param.grad).item() for name, param in model.named_parameters() if param.grad is not None}\n",
    "    }\n"
   ]
  },
  {
   "cell_type": "code",
   "execution_count": 4,
   "metadata": {},
   "outputs": [
    {
     "data": {
      "application/vnd.jupyter.widget-view+json": {
       "model_id": "43136e3e7364438f9d6fcc3d8cb9705b",
       "version_major": 2,
       "version_minor": 0
      },
      "text/plain": [
       "  0%|          | 0/200 [00:00<?, ?it/s]"
      ]
     },
     "metadata": {},
     "output_type": "display_data"
    },
    {
     "ename": "AssertionError",
     "evalue": "was expecting embedding dimension of 2, but got 21",
     "output_type": "error",
     "traceback": [
      "\u001b[0;31m---------------------------------------------------------------------------\u001b[0m",
      "\u001b[0;31mAssertionError\u001b[0m                            Traceback (most recent call last)",
      "Cell \u001b[0;32mIn[4], line 4\u001b[0m\n\u001b[1;32m      2\u001b[0m results_test \u001b[38;5;241m=\u001b[39m []\n\u001b[1;32m      3\u001b[0m \u001b[38;5;28;01mfor\u001b[39;00m epoch \u001b[38;5;129;01min\u001b[39;00m tqdm(\u001b[38;5;28mrange\u001b[39m(\u001b[38;5;241m200\u001b[39m)):\n\u001b[0;32m----> 4\u001b[0m     results_train\u001b[38;5;241m.\u001b[39mappend(\u001b[43mtrain_epoch\u001b[49m\u001b[43m(\u001b[49m\u001b[43mmodel\u001b[49m\u001b[43m,\u001b[49m\u001b[43m \u001b[49m\u001b[43moptimizer\u001b[49m\u001b[43m,\u001b[49m\u001b[43m \u001b[49m\u001b[43mtrain_dataloader\u001b[49m\u001b[43m,\u001b[49m\u001b[43m \u001b[49m\u001b[43mdevice\u001b[49m\u001b[43m,\u001b[49m\u001b[43m \u001b[49m\u001b[43mcriterion\u001b[49m\u001b[43m)\u001b[49m)\n\u001b[1;32m      5\u001b[0m     results_test\u001b[38;5;241m.\u001b[39mappend(test_epoch(model, test_dataloader, device, criterion))\n",
      "Cell \u001b[0;32mIn[3], line 9\u001b[0m, in \u001b[0;36mtrain_epoch\u001b[0;34m(model, optimizer, dataloader, device, criterion)\u001b[0m\n\u001b[1;32m      7\u001b[0m \u001b[38;5;28minput\u001b[39m \u001b[38;5;241m=\u001b[39m \u001b[38;5;28minput\u001b[39m\u001b[38;5;241m.\u001b[39mto(device)\u001b[38;5;241m.\u001b[39mto(torch\u001b[38;5;241m.\u001b[39mint32)\n\u001b[1;32m      8\u001b[0m labels \u001b[38;5;241m=\u001b[39m labels\u001b[38;5;241m.\u001b[39mto(device)\u001b[38;5;241m.\u001b[39mto(torch\u001b[38;5;241m.\u001b[39mint64)\n\u001b[0;32m----> 9\u001b[0m output \u001b[38;5;241m=\u001b[39m \u001b[43mmodel\u001b[49m\u001b[43m(\u001b[49m\u001b[38;5;28;43minput\u001b[39;49m\u001b[43m)\u001b[49m\n\u001b[1;32m     10\u001b[0m loss \u001b[38;5;241m=\u001b[39m criterion(output, labels)\n\u001b[1;32m     11\u001b[0m optimizer\u001b[38;5;241m.\u001b[39mzero_grad()\n",
      "File \u001b[0;32m~/miexp/.venv/lib/python3.12/site-packages/torch/nn/modules/module.py:1736\u001b[0m, in \u001b[0;36mModule._wrapped_call_impl\u001b[0;34m(self, *args, **kwargs)\u001b[0m\n\u001b[1;32m   1734\u001b[0m     \u001b[38;5;28;01mreturn\u001b[39;00m \u001b[38;5;28mself\u001b[39m\u001b[38;5;241m.\u001b[39m_compiled_call_impl(\u001b[38;5;241m*\u001b[39margs, \u001b[38;5;241m*\u001b[39m\u001b[38;5;241m*\u001b[39mkwargs)  \u001b[38;5;66;03m# type: ignore[misc]\u001b[39;00m\n\u001b[1;32m   1735\u001b[0m \u001b[38;5;28;01melse\u001b[39;00m:\n\u001b[0;32m-> 1736\u001b[0m     \u001b[38;5;28;01mreturn\u001b[39;00m \u001b[38;5;28;43mself\u001b[39;49m\u001b[38;5;241;43m.\u001b[39;49m\u001b[43m_call_impl\u001b[49m\u001b[43m(\u001b[49m\u001b[38;5;241;43m*\u001b[39;49m\u001b[43margs\u001b[49m\u001b[43m,\u001b[49m\u001b[43m \u001b[49m\u001b[38;5;241;43m*\u001b[39;49m\u001b[38;5;241;43m*\u001b[39;49m\u001b[43mkwargs\u001b[49m\u001b[43m)\u001b[49m\n",
      "File \u001b[0;32m~/miexp/.venv/lib/python3.12/site-packages/torch/nn/modules/module.py:1747\u001b[0m, in \u001b[0;36mModule._call_impl\u001b[0;34m(self, *args, **kwargs)\u001b[0m\n\u001b[1;32m   1742\u001b[0m \u001b[38;5;66;03m# If we don't have any hooks, we want to skip the rest of the logic in\u001b[39;00m\n\u001b[1;32m   1743\u001b[0m \u001b[38;5;66;03m# this function, and just call forward.\u001b[39;00m\n\u001b[1;32m   1744\u001b[0m \u001b[38;5;28;01mif\u001b[39;00m \u001b[38;5;129;01mnot\u001b[39;00m (\u001b[38;5;28mself\u001b[39m\u001b[38;5;241m.\u001b[39m_backward_hooks \u001b[38;5;129;01mor\u001b[39;00m \u001b[38;5;28mself\u001b[39m\u001b[38;5;241m.\u001b[39m_backward_pre_hooks \u001b[38;5;129;01mor\u001b[39;00m \u001b[38;5;28mself\u001b[39m\u001b[38;5;241m.\u001b[39m_forward_hooks \u001b[38;5;129;01mor\u001b[39;00m \u001b[38;5;28mself\u001b[39m\u001b[38;5;241m.\u001b[39m_forward_pre_hooks\n\u001b[1;32m   1745\u001b[0m         \u001b[38;5;129;01mor\u001b[39;00m _global_backward_pre_hooks \u001b[38;5;129;01mor\u001b[39;00m _global_backward_hooks\n\u001b[1;32m   1746\u001b[0m         \u001b[38;5;129;01mor\u001b[39;00m _global_forward_hooks \u001b[38;5;129;01mor\u001b[39;00m _global_forward_pre_hooks):\n\u001b[0;32m-> 1747\u001b[0m     \u001b[38;5;28;01mreturn\u001b[39;00m \u001b[43mforward_call\u001b[49m\u001b[43m(\u001b[49m\u001b[38;5;241;43m*\u001b[39;49m\u001b[43margs\u001b[49m\u001b[43m,\u001b[49m\u001b[43m \u001b[49m\u001b[38;5;241;43m*\u001b[39;49m\u001b[38;5;241;43m*\u001b[39;49m\u001b[43mkwargs\u001b[49m\u001b[43m)\u001b[49m\n\u001b[1;32m   1749\u001b[0m result \u001b[38;5;241m=\u001b[39m \u001b[38;5;28;01mNone\u001b[39;00m\n\u001b[1;32m   1750\u001b[0m called_always_called_hooks \u001b[38;5;241m=\u001b[39m \u001b[38;5;28mset\u001b[39m()\n",
      "File \u001b[0;32m~/miexp/src/miexp/models/transformer.py:103\u001b[0m, in \u001b[0;36mTransformer.forward\u001b[0;34m(self, x)\u001b[0m\n\u001b[1;32m     94\u001b[0m x \u001b[38;5;241m=\u001b[39m torch\u001b[38;5;241m.\u001b[39mcat(\n\u001b[1;32m     95\u001b[0m     [\n\u001b[1;32m     96\u001b[0m         \u001b[38;5;241m2\u001b[39m \u001b[38;5;241m*\u001b[39m torch\u001b[38;5;241m.\u001b[39mones((batch_size, \u001b[38;5;241m1\u001b[39m), dtype\u001b[38;5;241m=\u001b[39mtorch\u001b[38;5;241m.\u001b[39mint)\u001b[38;5;241m.\u001b[39mto(x\u001b[38;5;241m.\u001b[39mdevice),\n\u001b[0;32m   (...)\u001b[0m\n\u001b[1;32m     99\u001b[0m     dim\u001b[38;5;241m=\u001b[39m\u001b[38;5;241m1\u001b[39m,\n\u001b[1;32m    100\u001b[0m )\n\u001b[1;32m    101\u001b[0m \u001b[38;5;66;03m# dat = self.embeddings(x)\u001b[39;00m\n\u001b[1;32m    102\u001b[0m \u001b[38;5;66;03m# x = dat\u001b[39;00m\n\u001b[0;32m--> 103\u001b[0m x \u001b[38;5;241m=\u001b[39m \u001b[38;5;28;43mself\u001b[39;49m\u001b[38;5;241;43m.\u001b[39;49m\u001b[43mtransformer\u001b[49m\u001b[43m(\u001b[49m\u001b[43mx\u001b[49m\u001b[43m)\u001b[49m\n\u001b[1;32m    104\u001b[0m x\u001b[38;5;241m.\u001b[39mto(\u001b[38;5;28mself\u001b[39m\u001b[38;5;241m.\u001b[39mrank)\n\u001b[1;32m    105\u001b[0m x \u001b[38;5;241m=\u001b[39m x[:, \u001b[38;5;241m-\u001b[39m\u001b[38;5;241m1\u001b[39m, :]\n",
      "File \u001b[0;32m~/miexp/.venv/lib/python3.12/site-packages/torch/nn/modules/module.py:1736\u001b[0m, in \u001b[0;36mModule._wrapped_call_impl\u001b[0;34m(self, *args, **kwargs)\u001b[0m\n\u001b[1;32m   1734\u001b[0m     \u001b[38;5;28;01mreturn\u001b[39;00m \u001b[38;5;28mself\u001b[39m\u001b[38;5;241m.\u001b[39m_compiled_call_impl(\u001b[38;5;241m*\u001b[39margs, \u001b[38;5;241m*\u001b[39m\u001b[38;5;241m*\u001b[39mkwargs)  \u001b[38;5;66;03m# type: ignore[misc]\u001b[39;00m\n\u001b[1;32m   1735\u001b[0m \u001b[38;5;28;01melse\u001b[39;00m:\n\u001b[0;32m-> 1736\u001b[0m     \u001b[38;5;28;01mreturn\u001b[39;00m \u001b[38;5;28;43mself\u001b[39;49m\u001b[38;5;241;43m.\u001b[39;49m\u001b[43m_call_impl\u001b[49m\u001b[43m(\u001b[49m\u001b[38;5;241;43m*\u001b[39;49m\u001b[43margs\u001b[49m\u001b[43m,\u001b[49m\u001b[43m \u001b[49m\u001b[38;5;241;43m*\u001b[39;49m\u001b[38;5;241;43m*\u001b[39;49m\u001b[43mkwargs\u001b[49m\u001b[43m)\u001b[49m\n",
      "File \u001b[0;32m~/miexp/.venv/lib/python3.12/site-packages/torch/nn/modules/module.py:1747\u001b[0m, in \u001b[0;36mModule._call_impl\u001b[0;34m(self, *args, **kwargs)\u001b[0m\n\u001b[1;32m   1742\u001b[0m \u001b[38;5;66;03m# If we don't have any hooks, we want to skip the rest of the logic in\u001b[39;00m\n\u001b[1;32m   1743\u001b[0m \u001b[38;5;66;03m# this function, and just call forward.\u001b[39;00m\n\u001b[1;32m   1744\u001b[0m \u001b[38;5;28;01mif\u001b[39;00m \u001b[38;5;129;01mnot\u001b[39;00m (\u001b[38;5;28mself\u001b[39m\u001b[38;5;241m.\u001b[39m_backward_hooks \u001b[38;5;129;01mor\u001b[39;00m \u001b[38;5;28mself\u001b[39m\u001b[38;5;241m.\u001b[39m_backward_pre_hooks \u001b[38;5;129;01mor\u001b[39;00m \u001b[38;5;28mself\u001b[39m\u001b[38;5;241m.\u001b[39m_forward_hooks \u001b[38;5;129;01mor\u001b[39;00m \u001b[38;5;28mself\u001b[39m\u001b[38;5;241m.\u001b[39m_forward_pre_hooks\n\u001b[1;32m   1745\u001b[0m         \u001b[38;5;129;01mor\u001b[39;00m _global_backward_pre_hooks \u001b[38;5;129;01mor\u001b[39;00m _global_backward_hooks\n\u001b[1;32m   1746\u001b[0m         \u001b[38;5;129;01mor\u001b[39;00m _global_forward_hooks \u001b[38;5;129;01mor\u001b[39;00m _global_forward_pre_hooks):\n\u001b[0;32m-> 1747\u001b[0m     \u001b[38;5;28;01mreturn\u001b[39;00m \u001b[43mforward_call\u001b[49m\u001b[43m(\u001b[49m\u001b[38;5;241;43m*\u001b[39;49m\u001b[43margs\u001b[49m\u001b[43m,\u001b[49m\u001b[43m \u001b[49m\u001b[38;5;241;43m*\u001b[39;49m\u001b[38;5;241;43m*\u001b[39;49m\u001b[43mkwargs\u001b[49m\u001b[43m)\u001b[49m\n\u001b[1;32m   1749\u001b[0m result \u001b[38;5;241m=\u001b[39m \u001b[38;5;28;01mNone\u001b[39;00m\n\u001b[1;32m   1750\u001b[0m called_always_called_hooks \u001b[38;5;241m=\u001b[39m \u001b[38;5;28mset\u001b[39m()\n",
      "File \u001b[0;32m~/miexp/.venv/lib/python3.12/site-packages/torch/nn/modules/container.py:250\u001b[0m, in \u001b[0;36mSequential.forward\u001b[0;34m(self, input)\u001b[0m\n\u001b[1;32m    248\u001b[0m \u001b[38;5;28;01mdef\u001b[39;00m\u001b[38;5;250m \u001b[39m\u001b[38;5;21mforward\u001b[39m(\u001b[38;5;28mself\u001b[39m, \u001b[38;5;28minput\u001b[39m):\n\u001b[1;32m    249\u001b[0m     \u001b[38;5;28;01mfor\u001b[39;00m module \u001b[38;5;129;01min\u001b[39;00m \u001b[38;5;28mself\u001b[39m:\n\u001b[0;32m--> 250\u001b[0m         \u001b[38;5;28minput\u001b[39m \u001b[38;5;241m=\u001b[39m \u001b[43mmodule\u001b[49m\u001b[43m(\u001b[49m\u001b[38;5;28;43minput\u001b[39;49m\u001b[43m)\u001b[49m\n\u001b[1;32m    251\u001b[0m     \u001b[38;5;28;01mreturn\u001b[39;00m \u001b[38;5;28minput\u001b[39m\n",
      "File \u001b[0;32m~/miexp/.venv/lib/python3.12/site-packages/torch/nn/modules/module.py:1736\u001b[0m, in \u001b[0;36mModule._wrapped_call_impl\u001b[0;34m(self, *args, **kwargs)\u001b[0m\n\u001b[1;32m   1734\u001b[0m     \u001b[38;5;28;01mreturn\u001b[39;00m \u001b[38;5;28mself\u001b[39m\u001b[38;5;241m.\u001b[39m_compiled_call_impl(\u001b[38;5;241m*\u001b[39margs, \u001b[38;5;241m*\u001b[39m\u001b[38;5;241m*\u001b[39mkwargs)  \u001b[38;5;66;03m# type: ignore[misc]\u001b[39;00m\n\u001b[1;32m   1735\u001b[0m \u001b[38;5;28;01melse\u001b[39;00m:\n\u001b[0;32m-> 1736\u001b[0m     \u001b[38;5;28;01mreturn\u001b[39;00m \u001b[38;5;28;43mself\u001b[39;49m\u001b[38;5;241;43m.\u001b[39;49m\u001b[43m_call_impl\u001b[49m\u001b[43m(\u001b[49m\u001b[38;5;241;43m*\u001b[39;49m\u001b[43margs\u001b[49m\u001b[43m,\u001b[49m\u001b[43m \u001b[49m\u001b[38;5;241;43m*\u001b[39;49m\u001b[38;5;241;43m*\u001b[39;49m\u001b[43mkwargs\u001b[49m\u001b[43m)\u001b[49m\n",
      "File \u001b[0;32m~/miexp/.venv/lib/python3.12/site-packages/torch/nn/modules/module.py:1747\u001b[0m, in \u001b[0;36mModule._call_impl\u001b[0;34m(self, *args, **kwargs)\u001b[0m\n\u001b[1;32m   1742\u001b[0m \u001b[38;5;66;03m# If we don't have any hooks, we want to skip the rest of the logic in\u001b[39;00m\n\u001b[1;32m   1743\u001b[0m \u001b[38;5;66;03m# this function, and just call forward.\u001b[39;00m\n\u001b[1;32m   1744\u001b[0m \u001b[38;5;28;01mif\u001b[39;00m \u001b[38;5;129;01mnot\u001b[39;00m (\u001b[38;5;28mself\u001b[39m\u001b[38;5;241m.\u001b[39m_backward_hooks \u001b[38;5;129;01mor\u001b[39;00m \u001b[38;5;28mself\u001b[39m\u001b[38;5;241m.\u001b[39m_backward_pre_hooks \u001b[38;5;129;01mor\u001b[39;00m \u001b[38;5;28mself\u001b[39m\u001b[38;5;241m.\u001b[39m_forward_hooks \u001b[38;5;129;01mor\u001b[39;00m \u001b[38;5;28mself\u001b[39m\u001b[38;5;241m.\u001b[39m_forward_pre_hooks\n\u001b[1;32m   1745\u001b[0m         \u001b[38;5;129;01mor\u001b[39;00m _global_backward_pre_hooks \u001b[38;5;129;01mor\u001b[39;00m _global_backward_hooks\n\u001b[1;32m   1746\u001b[0m         \u001b[38;5;129;01mor\u001b[39;00m _global_forward_hooks \u001b[38;5;129;01mor\u001b[39;00m _global_forward_pre_hooks):\n\u001b[0;32m-> 1747\u001b[0m     \u001b[38;5;28;01mreturn\u001b[39;00m \u001b[43mforward_call\u001b[49m\u001b[43m(\u001b[49m\u001b[38;5;241;43m*\u001b[39;49m\u001b[43margs\u001b[49m\u001b[43m,\u001b[49m\u001b[43m \u001b[49m\u001b[38;5;241;43m*\u001b[39;49m\u001b[38;5;241;43m*\u001b[39;49m\u001b[43mkwargs\u001b[49m\u001b[43m)\u001b[49m\n\u001b[1;32m   1749\u001b[0m result \u001b[38;5;241m=\u001b[39m \u001b[38;5;28;01mNone\u001b[39;00m\n\u001b[1;32m   1750\u001b[0m called_always_called_hooks \u001b[38;5;241m=\u001b[39m \u001b[38;5;28mset\u001b[39m()\n",
      "File \u001b[0;32m~/miexp/src/miexp/models/transformer.py:45\u001b[0m, in \u001b[0;36mAttentionBlock.forward\u001b[0;34m(self, x)\u001b[0m\n\u001b[1;32m     35\u001b[0m \u001b[38;5;250m\u001b[39m\u001b[38;5;124;03m\"\"\"Forward method for Attn Block.\u001b[39;00m\n\u001b[1;32m     36\u001b[0m \n\u001b[1;32m     37\u001b[0m \u001b[38;5;124;03mArgs:\u001b[39;00m\n\u001b[0;32m   (...)\u001b[0m\n\u001b[1;32m     41\u001b[0m \u001b[38;5;124;03m    torch.Tensor: Output\u001b[39;00m\n\u001b[1;32m     42\u001b[0m \u001b[38;5;124;03m\"\"\"\u001b[39;00m\n\u001b[1;32m     43\u001b[0m \u001b[38;5;66;03m# x = self.norm1(x + self.attn(x, x, x)[0])\u001b[39;00m\n\u001b[1;32m     44\u001b[0m \u001b[38;5;66;03m# x = self.norm2(x + self.linear(x))\u001b[39;00m\n\u001b[0;32m---> 45\u001b[0m x \u001b[38;5;241m=\u001b[39m x \u001b[38;5;241m+\u001b[39m \u001b[38;5;28;43mself\u001b[39;49m\u001b[38;5;241;43m.\u001b[39;49m\u001b[43mattn\u001b[49m\u001b[43m(\u001b[49m\u001b[43mx\u001b[49m\u001b[43m,\u001b[49m\u001b[43m \u001b[49m\u001b[43mx\u001b[49m\u001b[43m,\u001b[49m\u001b[43m \u001b[49m\u001b[43mx\u001b[49m\u001b[43m)\u001b[49m[\u001b[38;5;241m0\u001b[39m]\n\u001b[1;32m     46\u001b[0m x \u001b[38;5;241m=\u001b[39m x \u001b[38;5;241m+\u001b[39m \u001b[38;5;28mself\u001b[39m\u001b[38;5;241m.\u001b[39mlinear(x)\n\u001b[1;32m     47\u001b[0m \u001b[38;5;28;01mreturn\u001b[39;00m x\n",
      "File \u001b[0;32m~/miexp/.venv/lib/python3.12/site-packages/torch/nn/modules/module.py:1736\u001b[0m, in \u001b[0;36mModule._wrapped_call_impl\u001b[0;34m(self, *args, **kwargs)\u001b[0m\n\u001b[1;32m   1734\u001b[0m     \u001b[38;5;28;01mreturn\u001b[39;00m \u001b[38;5;28mself\u001b[39m\u001b[38;5;241m.\u001b[39m_compiled_call_impl(\u001b[38;5;241m*\u001b[39margs, \u001b[38;5;241m*\u001b[39m\u001b[38;5;241m*\u001b[39mkwargs)  \u001b[38;5;66;03m# type: ignore[misc]\u001b[39;00m\n\u001b[1;32m   1735\u001b[0m \u001b[38;5;28;01melse\u001b[39;00m:\n\u001b[0;32m-> 1736\u001b[0m     \u001b[38;5;28;01mreturn\u001b[39;00m \u001b[38;5;28;43mself\u001b[39;49m\u001b[38;5;241;43m.\u001b[39;49m\u001b[43m_call_impl\u001b[49m\u001b[43m(\u001b[49m\u001b[38;5;241;43m*\u001b[39;49m\u001b[43margs\u001b[49m\u001b[43m,\u001b[49m\u001b[43m \u001b[49m\u001b[38;5;241;43m*\u001b[39;49m\u001b[38;5;241;43m*\u001b[39;49m\u001b[43mkwargs\u001b[49m\u001b[43m)\u001b[49m\n",
      "File \u001b[0;32m~/miexp/.venv/lib/python3.12/site-packages/torch/nn/modules/module.py:1747\u001b[0m, in \u001b[0;36mModule._call_impl\u001b[0;34m(self, *args, **kwargs)\u001b[0m\n\u001b[1;32m   1742\u001b[0m \u001b[38;5;66;03m# If we don't have any hooks, we want to skip the rest of the logic in\u001b[39;00m\n\u001b[1;32m   1743\u001b[0m \u001b[38;5;66;03m# this function, and just call forward.\u001b[39;00m\n\u001b[1;32m   1744\u001b[0m \u001b[38;5;28;01mif\u001b[39;00m \u001b[38;5;129;01mnot\u001b[39;00m (\u001b[38;5;28mself\u001b[39m\u001b[38;5;241m.\u001b[39m_backward_hooks \u001b[38;5;129;01mor\u001b[39;00m \u001b[38;5;28mself\u001b[39m\u001b[38;5;241m.\u001b[39m_backward_pre_hooks \u001b[38;5;129;01mor\u001b[39;00m \u001b[38;5;28mself\u001b[39m\u001b[38;5;241m.\u001b[39m_forward_hooks \u001b[38;5;129;01mor\u001b[39;00m \u001b[38;5;28mself\u001b[39m\u001b[38;5;241m.\u001b[39m_forward_pre_hooks\n\u001b[1;32m   1745\u001b[0m         \u001b[38;5;129;01mor\u001b[39;00m _global_backward_pre_hooks \u001b[38;5;129;01mor\u001b[39;00m _global_backward_hooks\n\u001b[1;32m   1746\u001b[0m         \u001b[38;5;129;01mor\u001b[39;00m _global_forward_hooks \u001b[38;5;129;01mor\u001b[39;00m _global_forward_pre_hooks):\n\u001b[0;32m-> 1747\u001b[0m     \u001b[38;5;28;01mreturn\u001b[39;00m \u001b[43mforward_call\u001b[49m\u001b[43m(\u001b[49m\u001b[38;5;241;43m*\u001b[39;49m\u001b[43margs\u001b[49m\u001b[43m,\u001b[49m\u001b[43m \u001b[49m\u001b[38;5;241;43m*\u001b[39;49m\u001b[38;5;241;43m*\u001b[39;49m\u001b[43mkwargs\u001b[49m\u001b[43m)\u001b[49m\n\u001b[1;32m   1749\u001b[0m result \u001b[38;5;241m=\u001b[39m \u001b[38;5;28;01mNone\u001b[39;00m\n\u001b[1;32m   1750\u001b[0m called_always_called_hooks \u001b[38;5;241m=\u001b[39m \u001b[38;5;28mset\u001b[39m()\n",
      "File \u001b[0;32m~/miexp/.venv/lib/python3.12/site-packages/torch/nn/modules/activation.py:1368\u001b[0m, in \u001b[0;36mMultiheadAttention.forward\u001b[0;34m(self, query, key, value, key_padding_mask, need_weights, attn_mask, average_attn_weights, is_causal)\u001b[0m\n\u001b[1;32m   1342\u001b[0m     attn_output, attn_output_weights \u001b[38;5;241m=\u001b[39m F\u001b[38;5;241m.\u001b[39mmulti_head_attention_forward(\n\u001b[1;32m   1343\u001b[0m         query,\n\u001b[1;32m   1344\u001b[0m         key,\n\u001b[0;32m   (...)\u001b[0m\n\u001b[1;32m   1365\u001b[0m         is_causal\u001b[38;5;241m=\u001b[39mis_causal,\n\u001b[1;32m   1366\u001b[0m     )\n\u001b[1;32m   1367\u001b[0m \u001b[38;5;28;01melse\u001b[39;00m:\n\u001b[0;32m-> 1368\u001b[0m     attn_output, attn_output_weights \u001b[38;5;241m=\u001b[39m \u001b[43mF\u001b[49m\u001b[38;5;241;43m.\u001b[39;49m\u001b[43mmulti_head_attention_forward\u001b[49m\u001b[43m(\u001b[49m\n\u001b[1;32m   1369\u001b[0m \u001b[43m        \u001b[49m\u001b[43mquery\u001b[49m\u001b[43m,\u001b[49m\n\u001b[1;32m   1370\u001b[0m \u001b[43m        \u001b[49m\u001b[43mkey\u001b[49m\u001b[43m,\u001b[49m\n\u001b[1;32m   1371\u001b[0m \u001b[43m        \u001b[49m\u001b[43mvalue\u001b[49m\u001b[43m,\u001b[49m\n\u001b[1;32m   1372\u001b[0m \u001b[43m        \u001b[49m\u001b[38;5;28;43mself\u001b[39;49m\u001b[38;5;241;43m.\u001b[39;49m\u001b[43membed_dim\u001b[49m\u001b[43m,\u001b[49m\n\u001b[1;32m   1373\u001b[0m \u001b[43m        \u001b[49m\u001b[38;5;28;43mself\u001b[39;49m\u001b[38;5;241;43m.\u001b[39;49m\u001b[43mnum_heads\u001b[49m\u001b[43m,\u001b[49m\n\u001b[1;32m   1374\u001b[0m \u001b[43m        \u001b[49m\u001b[38;5;28;43mself\u001b[39;49m\u001b[38;5;241;43m.\u001b[39;49m\u001b[43min_proj_weight\u001b[49m\u001b[43m,\u001b[49m\n\u001b[1;32m   1375\u001b[0m \u001b[43m        \u001b[49m\u001b[38;5;28;43mself\u001b[39;49m\u001b[38;5;241;43m.\u001b[39;49m\u001b[43min_proj_bias\u001b[49m\u001b[43m,\u001b[49m\n\u001b[1;32m   1376\u001b[0m \u001b[43m        \u001b[49m\u001b[38;5;28;43mself\u001b[39;49m\u001b[38;5;241;43m.\u001b[39;49m\u001b[43mbias_k\u001b[49m\u001b[43m,\u001b[49m\n\u001b[1;32m   1377\u001b[0m \u001b[43m        \u001b[49m\u001b[38;5;28;43mself\u001b[39;49m\u001b[38;5;241;43m.\u001b[39;49m\u001b[43mbias_v\u001b[49m\u001b[43m,\u001b[49m\n\u001b[1;32m   1378\u001b[0m \u001b[43m        \u001b[49m\u001b[38;5;28;43mself\u001b[39;49m\u001b[38;5;241;43m.\u001b[39;49m\u001b[43madd_zero_attn\u001b[49m\u001b[43m,\u001b[49m\n\u001b[1;32m   1379\u001b[0m \u001b[43m        \u001b[49m\u001b[38;5;28;43mself\u001b[39;49m\u001b[38;5;241;43m.\u001b[39;49m\u001b[43mdropout\u001b[49m\u001b[43m,\u001b[49m\n\u001b[1;32m   1380\u001b[0m \u001b[43m        \u001b[49m\u001b[38;5;28;43mself\u001b[39;49m\u001b[38;5;241;43m.\u001b[39;49m\u001b[43mout_proj\u001b[49m\u001b[38;5;241;43m.\u001b[39;49m\u001b[43mweight\u001b[49m\u001b[43m,\u001b[49m\n\u001b[1;32m   1381\u001b[0m \u001b[43m        \u001b[49m\u001b[38;5;28;43mself\u001b[39;49m\u001b[38;5;241;43m.\u001b[39;49m\u001b[43mout_proj\u001b[49m\u001b[38;5;241;43m.\u001b[39;49m\u001b[43mbias\u001b[49m\u001b[43m,\u001b[49m\n\u001b[1;32m   1382\u001b[0m \u001b[43m        \u001b[49m\u001b[43mtraining\u001b[49m\u001b[38;5;241;43m=\u001b[39;49m\u001b[38;5;28;43mself\u001b[39;49m\u001b[38;5;241;43m.\u001b[39;49m\u001b[43mtraining\u001b[49m\u001b[43m,\u001b[49m\n\u001b[1;32m   1383\u001b[0m \u001b[43m        \u001b[49m\u001b[43mkey_padding_mask\u001b[49m\u001b[38;5;241;43m=\u001b[39;49m\u001b[43mkey_padding_mask\u001b[49m\u001b[43m,\u001b[49m\n\u001b[1;32m   1384\u001b[0m \u001b[43m        \u001b[49m\u001b[43mneed_weights\u001b[49m\u001b[38;5;241;43m=\u001b[39;49m\u001b[43mneed_weights\u001b[49m\u001b[43m,\u001b[49m\n\u001b[1;32m   1385\u001b[0m \u001b[43m        \u001b[49m\u001b[43mattn_mask\u001b[49m\u001b[38;5;241;43m=\u001b[39;49m\u001b[43mattn_mask\u001b[49m\u001b[43m,\u001b[49m\n\u001b[1;32m   1386\u001b[0m \u001b[43m        \u001b[49m\u001b[43maverage_attn_weights\u001b[49m\u001b[38;5;241;43m=\u001b[39;49m\u001b[43maverage_attn_weights\u001b[49m\u001b[43m,\u001b[49m\n\u001b[1;32m   1387\u001b[0m \u001b[43m        \u001b[49m\u001b[43mis_causal\u001b[49m\u001b[38;5;241;43m=\u001b[39;49m\u001b[43mis_causal\u001b[49m\u001b[43m,\u001b[49m\n\u001b[1;32m   1388\u001b[0m \u001b[43m    \u001b[49m\u001b[43m)\u001b[49m\n\u001b[1;32m   1389\u001b[0m \u001b[38;5;28;01mif\u001b[39;00m \u001b[38;5;28mself\u001b[39m\u001b[38;5;241m.\u001b[39mbatch_first \u001b[38;5;129;01mand\u001b[39;00m is_batched:\n\u001b[1;32m   1390\u001b[0m     \u001b[38;5;28;01mreturn\u001b[39;00m attn_output\u001b[38;5;241m.\u001b[39mtranspose(\u001b[38;5;241m1\u001b[39m, \u001b[38;5;241m0\u001b[39m), attn_output_weights\n",
      "File \u001b[0;32m~/miexp/.venv/lib/python3.12/site-packages/torch/nn/functional.py:6070\u001b[0m, in \u001b[0;36mmulti_head_attention_forward\u001b[0;34m(query, key, value, embed_dim_to_check, num_heads, in_proj_weight, in_proj_bias, bias_k, bias_v, add_zero_attn, dropout_p, out_proj_weight, out_proj_bias, training, key_padding_mask, need_weights, attn_mask, use_separate_proj_weight, q_proj_weight, k_proj_weight, v_proj_weight, static_k, static_v, average_attn_weights, is_causal)\u001b[0m\n\u001b[1;32m   6063\u001b[0m     \u001b[38;5;28;01mif\u001b[39;00m key_padding_mask \u001b[38;5;129;01mis\u001b[39;00m \u001b[38;5;129;01mnot\u001b[39;00m \u001b[38;5;28;01mNone\u001b[39;00m:\n\u001b[1;32m   6064\u001b[0m         \u001b[38;5;66;03m# We have the attn_mask, and use that to merge kpm into it.\u001b[39;00m\n\u001b[1;32m   6065\u001b[0m         \u001b[38;5;66;03m# Turn off use of is_causal hint, as the merged mask is no\u001b[39;00m\n\u001b[1;32m   6066\u001b[0m         \u001b[38;5;66;03m# longer causal.\u001b[39;00m\n\u001b[1;32m   6067\u001b[0m         is_causal \u001b[38;5;241m=\u001b[39m \u001b[38;5;28;01mFalse\u001b[39;00m\n\u001b[1;32m   6069\u001b[0m \u001b[38;5;28;01massert\u001b[39;00m (\n\u001b[0;32m-> 6070\u001b[0m     embed_dim \u001b[38;5;241m==\u001b[39m embed_dim_to_check\n\u001b[1;32m   6071\u001b[0m ), \u001b[38;5;124mf\u001b[39m\u001b[38;5;124m\"\u001b[39m\u001b[38;5;124mwas expecting embedding dimension of \u001b[39m\u001b[38;5;132;01m{\u001b[39;00membed_dim_to_check\u001b[38;5;132;01m}\u001b[39;00m\u001b[38;5;124m, but got \u001b[39m\u001b[38;5;132;01m{\u001b[39;00membed_dim\u001b[38;5;132;01m}\u001b[39;00m\u001b[38;5;124m\"\u001b[39m\n\u001b[1;32m   6072\u001b[0m \u001b[38;5;28;01mif\u001b[39;00m \u001b[38;5;28misinstance\u001b[39m(embed_dim, torch\u001b[38;5;241m.\u001b[39mTensor):\n\u001b[1;32m   6073\u001b[0m     \u001b[38;5;66;03m# embed_dim can be a tensor when JIT tracing\u001b[39;00m\n\u001b[1;32m   6074\u001b[0m     head_dim \u001b[38;5;241m=\u001b[39m embed_dim\u001b[38;5;241m.\u001b[39mdiv(num_heads, rounding_mode\u001b[38;5;241m=\u001b[39m\u001b[38;5;124m\"\u001b[39m\u001b[38;5;124mtrunc\u001b[39m\u001b[38;5;124m\"\u001b[39m)\n",
      "\u001b[0;31mAssertionError\u001b[0m: was expecting embedding dimension of 2, but got 21"
     ]
    }
   ],
   "source": [
    "results_train = []\n",
    "results_test = []\n",
    "for epoch in tqdm(range(200)):\n",
    "    results_train.append(train_epoch(model, optimizer, train_dataloader, device, criterion))\n",
    "    results_test.append(test_epoch(model, test_dataloader, device, criterion))"
   ]
  },
  {
   "cell_type": "code",
   "execution_count": null,
   "metadata": {},
   "outputs": [
    {
     "name": "stdout",
     "output_type": "stream",
     "text": [
      "     acc      loss\n",
      "0  0.601  0.705272\n",
      "1  0.601  0.703143\n",
      "2  0.601  0.700886\n",
      "3  0.601  0.698865\n",
      "4  0.601  0.696913\n",
      "        acc      loss\n",
      "0  0.584667  0.716335\n",
      "1  0.584667  0.713984\n",
      "2  0.584667  0.711730\n",
      "3  0.584667  0.709527\n",
      "4  0.584667  0.707412\n"
     ]
    },
    {
     "data": {
      "application/vnd.plotly.v1+json": {
       "config": {
        "plotlyServerURL": "https://plot.ly"
       },
       "data": [
        {
         "name": "Train Loss",
         "type": "scatter",
         "x": [
          0,
          1,
          2,
          3,
          4,
          5,
          6,
          7,
          8,
          9,
          10,
          11,
          12,
          13,
          14,
          15,
          16,
          17,
          18,
          19,
          20,
          21,
          22,
          23,
          24,
          25,
          26,
          27,
          28,
          29,
          30,
          31,
          32,
          33,
          34,
          35,
          36,
          37,
          38,
          39,
          40,
          41,
          42,
          43,
          44,
          45,
          46,
          47,
          48,
          49,
          50,
          51,
          52,
          53,
          54,
          55,
          56,
          57,
          58,
          59,
          60,
          61,
          62,
          63,
          64,
          65,
          66,
          67,
          68,
          69,
          70,
          71,
          72,
          73,
          74,
          75,
          76,
          77,
          78,
          79,
          80,
          81,
          82,
          83,
          84,
          85,
          86,
          87,
          88,
          89,
          90,
          91,
          92,
          93,
          94,
          95,
          96,
          97,
          98,
          99,
          100,
          101,
          102,
          103,
          104,
          105,
          106,
          107,
          108,
          109,
          110,
          111,
          112,
          113,
          114,
          115,
          116,
          117,
          118,
          119,
          120,
          121,
          122,
          123,
          124,
          125,
          126,
          127,
          128,
          129,
          130,
          131,
          132,
          133,
          134,
          135,
          136,
          137,
          138,
          139,
          140,
          141,
          142,
          143,
          144,
          145,
          146,
          147,
          148,
          149,
          150,
          151,
          152,
          153,
          154,
          155,
          156,
          157,
          158,
          159,
          160,
          161,
          162,
          163,
          164,
          165,
          166,
          167,
          168,
          169,
          170,
          171,
          172,
          173,
          174,
          175,
          176,
          177,
          178,
          179,
          180,
          181,
          182,
          183,
          184,
          185,
          186,
          187,
          188,
          189,
          190,
          191,
          192,
          193,
          194,
          195,
          196,
          197,
          198,
          199
         ],
         "y": [
          0.7052717270851135,
          0.7031426134109497,
          0.7008860588073731,
          0.69886483335495,
          0.696913019657135,
          0.6951616487503052,
          0.693231351852417,
          0.6915723547935486,
          0.6898540992736817,
          0.6882601656913757,
          0.6866785750389099,
          0.6852052240371704,
          0.6838036851882935,
          0.6823280296325683,
          0.6808561611175538,
          0.6795969896316528,
          0.6782716207504272,
          0.6769174060821533,
          0.6756532125473023,
          0.6744212837219238,
          0.6730494809150696,
          0.6717829775810241,
          0.6706797680854797,
          0.669330069065094,
          0.6682090396881104,
          0.6670433778762818,
          0.6658970613479614,
          0.6647052183151245,
          0.6635271162986756,
          0.6624440150260925,
          0.6614272150993347,
          0.6604099969863891,
          0.6592631368637085,
          0.6584044227600098,
          0.6574935240745544,
          0.6566004900932312,
          0.6557114286422729,
          0.6549323897361755,
          0.6540528750419616,
          0.6533760075569153,
          0.6526213483810425,
          0.6519313707351685,
          0.6512300262451172,
          0.6505696377754211,
          0.6499769334793091,
          0.649377655506134,
          0.6488666081428528,
          0.6482681226730347,
          0.6477985992431641,
          0.6472793774604797,
          0.6467794280052185,
          0.6462813320159913,
          0.6457580528259277,
          0.6453507118225098,
          0.6447747220993042,
          0.6443007369041442,
          0.6438009238243103,
          0.6432776556015015,
          0.6427763981819152,
          0.6423059902191162,
          0.6417258062362671,
          0.6411532473564148,
          0.6406104536056518,
          0.6400314316749572,
          0.6394229292869568,
          0.6388238983154297,
          0.6381889662742615,
          0.6375563683509826,
          0.6368993496894837,
          0.6362604250907898,
          0.6356035170555114,
          0.6348765587806702,
          0.6341366701126099,
          0.6334160261154175,
          0.6326563296318054,
          0.6318917589187623,
          0.6311642618179322,
          0.6303299241065979,
          0.6295614957809448,
          0.628657530784607,
          0.6278025183677673,
          0.6269224920272827,
          0.6260526728630066,
          0.6251811151504516,
          0.6242231612205505,
          0.6233105039596558,
          0.6223379664421081,
          0.6213513550758362,
          0.6203871092796326,
          0.619383511543274,
          0.6183170595169067,
          0.6172975811958313,
          0.6162597856521607,
          0.6151584496498108,
          0.614117787361145,
          0.6129634194374084,
          0.6118405256271362,
          0.6107295804023742,
          0.6095895833969116,
          0.6084467930793762,
          0.6072127442359925,
          0.6060152993202209,
          0.6048547644615173,
          0.6036094951629639,
          0.6024755058288574,
          0.6011710357666016,
          0.5999537944793701,
          0.5986852045059204,
          0.5974368419647217,
          0.5961139283180237,
          0.5948609952926636,
          0.593521014213562,
          0.5922283592224121,
          0.590958219051361,
          0.589684091091156,
          0.5883236956596375,
          0.5869839925765992,
          0.5856454200744629,
          0.5844009141921997,
          0.5829522414207459,
          0.5816075873374938,
          0.5803192396163941,
          0.5790636253356933,
          0.5776972513198853,
          0.5763952507972717,
          0.575157205581665,
          0.573863787651062,
          0.572501591205597,
          0.5711494913101196,
          0.5698898725509643,
          0.5684513206481934,
          0.5672817425727844,
          0.5657292675971984,
          0.564487850189209,
          0.5631449718475342,
          0.5619320592880249,
          0.560607624053955,
          0.5594179015159607,
          0.5581910305023193,
          0.5570485601425171,
          0.5557737336158752,
          0.5547513780593872,
          0.5536077542304992,
          0.5524638843536377,
          0.5513090362548828,
          0.5501906070709228,
          0.5491998391151428,
          0.5481865782737732,
          0.5469801321029663,
          0.5458681597709656,
          0.5447771873474121,
          0.5436940169334412,
          0.5426216034889221,
          0.5416196689605713,
          0.5404359855651856,
          0.5393297910690308,
          0.5385950121879578,
          0.5372856321334839,
          0.5360416388511657,
          0.5349994564056396,
          0.5339362473487854,
          0.5327755527496338,
          0.5316821608543396,
          0.5305609955787659,
          0.5295717101097107,
          0.5284165277481079,
          0.5273628649711609,
          0.5265185809135438,
          0.5253205094337463,
          0.5241346483230591,
          0.5229633054733276,
          0.5220235743522644,
          0.5208715810775757,
          0.5197751235961914,
          0.5186103305816651,
          0.5174944443702698,
          0.5164365186691284,
          0.5154246106147766,
          0.5142494058609008,
          0.5133426632881165,
          0.5121447477340698,
          0.5110193843841553,
          0.5098853912353516,
          0.5087943382263184,
          0.5077643523216248,
          0.5066696529388428,
          0.5055006613731384,
          0.5044880819320678,
          0.5034090287685394,
          0.5022317695617676,
          0.501327499628067,
          0.5002159857749939,
          0.4990196168422699,
          0.49775536584854124,
          0.49689692378044126,
          0.49592761039733885,
          0.49455767250061033,
          0.4934064764976501,
          0.4926119635105133,
          0.4914516122341156
         ],
         "yaxis": "y"
        },
        {
         "name": "Train Accuracy",
         "type": "scatter",
         "x": [
          0,
          1,
          2,
          3,
          4,
          5,
          6,
          7,
          8,
          9,
          10,
          11,
          12,
          13,
          14,
          15,
          16,
          17,
          18,
          19,
          20,
          21,
          22,
          23,
          24,
          25,
          26,
          27,
          28,
          29,
          30,
          31,
          32,
          33,
          34,
          35,
          36,
          37,
          38,
          39,
          40,
          41,
          42,
          43,
          44,
          45,
          46,
          47,
          48,
          49,
          50,
          51,
          52,
          53,
          54,
          55,
          56,
          57,
          58,
          59,
          60,
          61,
          62,
          63,
          64,
          65,
          66,
          67,
          68,
          69,
          70,
          71,
          72,
          73,
          74,
          75,
          76,
          77,
          78,
          79,
          80,
          81,
          82,
          83,
          84,
          85,
          86,
          87,
          88,
          89,
          90,
          91,
          92,
          93,
          94,
          95,
          96,
          97,
          98,
          99,
          100,
          101,
          102,
          103,
          104,
          105,
          106,
          107,
          108,
          109,
          110,
          111,
          112,
          113,
          114,
          115,
          116,
          117,
          118,
          119,
          120,
          121,
          122,
          123,
          124,
          125,
          126,
          127,
          128,
          129,
          130,
          131,
          132,
          133,
          134,
          135,
          136,
          137,
          138,
          139,
          140,
          141,
          142,
          143,
          144,
          145,
          146,
          147,
          148,
          149,
          150,
          151,
          152,
          153,
          154,
          155,
          156,
          157,
          158,
          159,
          160,
          161,
          162,
          163,
          164,
          165,
          166,
          167,
          168,
          169,
          170,
          171,
          172,
          173,
          174,
          175,
          176,
          177,
          178,
          179,
          180,
          181,
          182,
          183,
          184,
          185,
          186,
          187,
          188,
          189,
          190,
          191,
          192,
          193,
          194,
          195,
          196,
          197,
          198,
          199
         ],
         "y": [
          0.601,
          0.601,
          0.601,
          0.601,
          0.601,
          0.601,
          0.601,
          0.601,
          0.601,
          0.601,
          0.601,
          0.601,
          0.601,
          0.601,
          0.601,
          0.601,
          0.601,
          0.601,
          0.601,
          0.601,
          0.601,
          0.601,
          0.601,
          0.601,
          0.601,
          0.601,
          0.601,
          0.601,
          0.601,
          0.601,
          0.601,
          0.601,
          0.601,
          0.601,
          0.601,
          0.601,
          0.601,
          0.601,
          0.601,
          0.601,
          0.601,
          0.601,
          0.601,
          0.601,
          0.601,
          0.601,
          0.601,
          0.601,
          0.601,
          0.601,
          0.601,
          0.601,
          0.601,
          0.601,
          0.601,
          0.601,
          0.601,
          0.601,
          0.601,
          0.601,
          0.601,
          0.601,
          0.601,
          0.601,
          0.601,
          0.601,
          0.601,
          0.601,
          0.601,
          0.601,
          0.601,
          0.601,
          0.601,
          0.601,
          0.601,
          0.601,
          0.601,
          0.601,
          0.601,
          0.601,
          0.601,
          0.601,
          0.601,
          0.601,
          0.601,
          0.601,
          0.601,
          0.602,
          0.602,
          0.602,
          0.602,
          0.602,
          0.602,
          0.602,
          0.603,
          0.603,
          0.603,
          0.603,
          0.603,
          0.603,
          0.603,
          0.603,
          0.603,
          0.607,
          0.609,
          0.609,
          0.609,
          0.609,
          0.609,
          0.609,
          0.609,
          0.609,
          0.609,
          0.609,
          0.609,
          0.623,
          0.637,
          0.637,
          0.637,
          0.637,
          0.637,
          0.637,
          0.637,
          0.637,
          0.637,
          0.637,
          0.637,
          0.637,
          0.637,
          0.637,
          0.637,
          0.637,
          0.637,
          0.637,
          0.637,
          0.637,
          0.637,
          0.637,
          0.637,
          0.637,
          0.637,
          0.637,
          0.637,
          0.637,
          0.637,
          0.637,
          0.637,
          0.656,
          0.659,
          0.674,
          0.69,
          0.69,
          0.69,
          0.69,
          0.69,
          0.69,
          0.69,
          0.69,
          0.69,
          0.69,
          0.69,
          0.69,
          0.69,
          0.69,
          0.69,
          0.69,
          0.69,
          0.69,
          0.69,
          0.69,
          0.69,
          0.69,
          0.69,
          0.69,
          0.69,
          0.69,
          0.69,
          0.69,
          0.69,
          0.69,
          0.69,
          0.69,
          0.69,
          0.69,
          0.69,
          0.69,
          0.69,
          0.69,
          0.69,
          0.69,
          0.69,
          0.69,
          0.69,
          0.69,
          0.69,
          0.69,
          0.69,
          0.69,
          0.69,
          0.69
         ],
         "yaxis": "y2"
        },
        {
         "name": "Test Loss",
         "type": "scatter",
         "x": [
          0,
          1,
          2,
          3,
          4,
          5,
          6,
          7,
          8,
          9,
          10,
          11,
          12,
          13,
          14,
          15,
          16,
          17,
          18,
          19,
          20,
          21,
          22,
          23,
          24,
          25,
          26,
          27,
          28,
          29,
          30,
          31,
          32,
          33,
          34,
          35,
          36,
          37,
          38,
          39,
          40,
          41,
          42,
          43,
          44,
          45,
          46,
          47,
          48,
          49,
          50,
          51,
          52,
          53,
          54,
          55,
          56,
          57,
          58,
          59,
          60,
          61,
          62,
          63,
          64,
          65,
          66,
          67,
          68,
          69,
          70,
          71,
          72,
          73,
          74,
          75,
          76,
          77,
          78,
          79,
          80,
          81,
          82,
          83,
          84,
          85,
          86,
          87,
          88,
          89,
          90,
          91,
          92,
          93,
          94,
          95,
          96,
          97,
          98,
          99,
          100,
          101,
          102,
          103,
          104,
          105,
          106,
          107,
          108,
          109,
          110,
          111,
          112,
          113,
          114,
          115,
          116,
          117,
          118,
          119,
          120,
          121,
          122,
          123,
          124,
          125,
          126,
          127,
          128,
          129,
          130,
          131,
          132,
          133,
          134,
          135,
          136,
          137,
          138,
          139,
          140,
          141,
          142,
          143,
          144,
          145,
          146,
          147,
          148,
          149,
          150,
          151,
          152,
          153,
          154,
          155,
          156,
          157,
          158,
          159,
          160,
          161,
          162,
          163,
          164,
          165,
          166,
          167,
          168,
          169,
          170,
          171,
          172,
          173,
          174,
          175,
          176,
          177,
          178,
          179,
          180,
          181,
          182,
          183,
          184,
          185,
          186,
          187,
          188,
          189,
          190,
          191,
          192,
          193,
          194,
          195,
          196,
          197,
          198,
          199
         ],
         "y": [
          0.7163347743352254,
          0.7139836462338766,
          0.7117299432754517,
          0.7095266421635945,
          0.7074115098317464,
          0.7053498603502909,
          0.7034352178573609,
          0.7015641182263692,
          0.6997596548398336,
          0.6980050628980001,
          0.6963038078943888,
          0.694657348950704,
          0.6930383907953898,
          0.6914780492782593,
          0.6899776169459025,
          0.6884599636395772,
          0.6869734584490458,
          0.6855132544835408,
          0.6840417111714681,
          0.6825709075927734,
          0.6811487968762716,
          0.6797427252133688,
          0.6782969851493835,
          0.6769066549936931,
          0.675489513874054,
          0.6740809445381164,
          0.6727186586062114,
          0.6713874216079712,
          0.6701194704373677,
          0.668835561911265,
          0.6676035415331523,
          0.666380663394928,
          0.6652428344090779,
          0.6640690441131591,
          0.6629209229151408,
          0.6618164173762003,
          0.6608118928273519,
          0.6597959087689718,
          0.6588407680193583,
          0.6579001202583313,
          0.6570794307390849,
          0.6562173283894857,
          0.6554500721295675,
          0.654696770509084,
          0.6540068786938985,
          0.6533292144139607,
          0.6526668763160706,
          0.6520281138420105,
          0.6513860923449198,
          0.650755481561025,
          0.6501643587748209,
          0.6496189309755961,
          0.6490585877100626,
          0.6484772845904032,
          0.6479395025571187,
          0.6473885650634765,
          0.6468377362887064,
          0.6462826131184896,
          0.6457129726409913,
          0.6451936054229737,
          0.6445739450454712,
          0.6440000163714091,
          0.6433859750429789,
          0.6428021553357443,
          0.6422098360061645,
          0.6415580086708069,
          0.6409018715222676,
          0.640212685585022,
          0.6395119808514913,
          0.6388810356458028,
          0.6381813543637593,
          0.6374156087239583,
          0.6366548846562703,
          0.6359104299545288,
          0.6350971841812134,
          0.6343157124519349,
          0.633587486743927,
          0.6327326041857402,
          0.6319285577138265,
          0.630984711488088,
          0.6300546868642172,
          0.6291270769437154,
          0.6281591552098592,
          0.6272456981341044,
          0.6262872374852498,
          0.6252587914466858,
          0.62427192735672,
          0.6232427461942037,
          0.6223048103650411,
          0.6213413702646892,
          0.6202276703516643,
          0.6191043197313945,
          0.6179410899480184,
          0.6168296980857849,
          0.6156259291966756,
          0.6144595357577006,
          0.6133368379275004,
          0.6121693129539489,
          0.6110756998062133,
          0.6099693150520324,
          0.6086721131006877,
          0.607378921508789,
          0.6060734222730001,
          0.6048520795504252,
          0.6036377490361532,
          0.6023181138038636,
          0.6009272346496582,
          0.5996422247886658,
          0.5984182241757711,
          0.5971360807418823,
          0.595816519578298,
          0.5944993092219035,
          0.5931894059181213,
          0.5917656668027242,
          0.5903038883209228,
          0.5889566332499186,
          0.5876028911272685,
          0.586402193069458,
          0.5851074816385905,
          0.5838240254720052,
          0.5824731815656026,
          0.5811027410825094,
          0.5797791152000428,
          0.5784837075869242,
          0.5771608427365621,
          0.5760339091618856,
          0.5748919248580933,
          0.5733880933125813,
          0.572129363377889,
          0.5705549650192261,
          0.5692416226069132,
          0.5680811567306518,
          0.5665959321657816,
          0.5653091729482015,
          0.5641603298187255,
          0.5628870509465536,
          0.5616122080485026,
          0.5605528831481934,
          0.5593663837114969,
          0.5580819641749064,
          0.5571119407018026,
          0.5561848390897115,
          0.5552307629585266,
          0.5539745235443115,
          0.5528544934590658,
          0.5516537035306295,
          0.5504868410428365,
          0.549505985736847,
          0.5485428764025371,
          0.5474902038574219,
          0.5465009805361429,
          0.5452910534540812,
          0.5440208497047424,
          0.5430426082611084,
          0.5418805424372355,
          0.5407454430262247,
          0.5399695881207784,
          0.5387718106905619,
          0.5375841932296753,
          0.536481485525767,
          0.535489210764567,
          0.5344049976666768,
          0.533374091943105,
          0.5323771222432454,
          0.5311433361371358,
          0.5302144808769226,
          0.5293334315617879,
          0.5280828926563262,
          0.5270614050229391,
          0.52586057249705,
          0.5248420570691427,
          0.5237654156684876,
          0.5225621267954509,
          0.521517431418101,
          0.5206022253036499,
          0.5196993710199992,
          0.5186891295115152,
          0.51779465564092,
          0.5165906745592753,
          0.5153707672754924,
          0.5141877826054891,
          0.5131311950683594,
          0.5120858823458354,
          0.5110616623560588,
          0.510005825360616,
          0.5092084368069967,
          0.5082468088467916,
          0.507078237692515,
          0.5058139793078105,
          0.5047312285900116,
          0.5033345289230347,
          0.5022699847221375,
          0.5014463707605997,
          0.500580663839976,
          0.5000073458353679,
          0.49904045995076496,
          0.4978591783841451,
          0.4965129760106405,
          0.49530271220207217,
          0.49417817600568137
         ],
         "yaxis": "y"
        },
        {
         "name": "Test Accuracy",
         "type": "scatter",
         "x": [
          0,
          1,
          2,
          3,
          4,
          5,
          6,
          7,
          8,
          9,
          10,
          11,
          12,
          13,
          14,
          15,
          16,
          17,
          18,
          19,
          20,
          21,
          22,
          23,
          24,
          25,
          26,
          27,
          28,
          29,
          30,
          31,
          32,
          33,
          34,
          35,
          36,
          37,
          38,
          39,
          40,
          41,
          42,
          43,
          44,
          45,
          46,
          47,
          48,
          49,
          50,
          51,
          52,
          53,
          54,
          55,
          56,
          57,
          58,
          59,
          60,
          61,
          62,
          63,
          64,
          65,
          66,
          67,
          68,
          69,
          70,
          71,
          72,
          73,
          74,
          75,
          76,
          77,
          78,
          79,
          80,
          81,
          82,
          83,
          84,
          85,
          86,
          87,
          88,
          89,
          90,
          91,
          92,
          93,
          94,
          95,
          96,
          97,
          98,
          99,
          100,
          101,
          102,
          103,
          104,
          105,
          106,
          107,
          108,
          109,
          110,
          111,
          112,
          113,
          114,
          115,
          116,
          117,
          118,
          119,
          120,
          121,
          122,
          123,
          124,
          125,
          126,
          127,
          128,
          129,
          130,
          131,
          132,
          133,
          134,
          135,
          136,
          137,
          138,
          139,
          140,
          141,
          142,
          143,
          144,
          145,
          146,
          147,
          148,
          149,
          150,
          151,
          152,
          153,
          154,
          155,
          156,
          157,
          158,
          159,
          160,
          161,
          162,
          163,
          164,
          165,
          166,
          167,
          168,
          169,
          170,
          171,
          172,
          173,
          174,
          175,
          176,
          177,
          178,
          179,
          180,
          181,
          182,
          183,
          184,
          185,
          186,
          187,
          188,
          189,
          190,
          191,
          192,
          193,
          194,
          195,
          196,
          197,
          198,
          199
         ],
         "y": [
          0.5846666666666667,
          0.5846666666666667,
          0.5846666666666667,
          0.5846666666666667,
          0.5846666666666667,
          0.5846666666666667,
          0.5846666666666667,
          0.5846666666666667,
          0.5846666666666667,
          0.5846666666666667,
          0.5846666666666667,
          0.5846666666666667,
          0.5846666666666667,
          0.5846666666666667,
          0.5846666666666667,
          0.5846666666666667,
          0.5846666666666667,
          0.5846666666666667,
          0.5846666666666667,
          0.5846666666666667,
          0.5846666666666667,
          0.5846666666666667,
          0.5846666666666667,
          0.5846666666666667,
          0.5846666666666667,
          0.5846666666666667,
          0.5846666666666667,
          0.5846666666666667,
          0.5846666666666667,
          0.5846666666666667,
          0.5846666666666667,
          0.5846666666666667,
          0.5846666666666667,
          0.5846666666666667,
          0.5846666666666667,
          0.5846666666666667,
          0.5846666666666667,
          0.5846666666666667,
          0.5846666666666667,
          0.5846666666666667,
          0.5846666666666667,
          0.5846666666666667,
          0.5846666666666667,
          0.5846666666666667,
          0.5846666666666667,
          0.5846666666666667,
          0.5846666666666667,
          0.5846666666666667,
          0.5846666666666667,
          0.5846666666666667,
          0.5846666666666667,
          0.5846666666666667,
          0.5846666666666667,
          0.5846666666666667,
          0.5846666666666667,
          0.5846666666666667,
          0.5846666666666667,
          0.5846666666666667,
          0.5846666666666667,
          0.5846666666666667,
          0.5846666666666667,
          0.5846666666666667,
          0.5846666666666667,
          0.5846666666666667,
          0.5846666666666667,
          0.5846666666666667,
          0.5846666666666667,
          0.5846666666666667,
          0.5846666666666667,
          0.5846666666666667,
          0.5846666666666667,
          0.5846666666666667,
          0.5846666666666667,
          0.5846666666666667,
          0.5846666666666667,
          0.5846666666666667,
          0.5846666666666667,
          0.5846666666666667,
          0.5846666666666667,
          0.5846666666666667,
          0.5846666666666667,
          0.5846666666666667,
          0.5846666666666667,
          0.5846666666666667,
          0.5846666666666667,
          0.5846666666666667,
          0.5853333333333334,
          0.5853333333333334,
          0.5853333333333334,
          0.5853333333333334,
          0.5853333333333334,
          0.5853333333333334,
          0.5853333333333334,
          0.588,
          0.588,
          0.588,
          0.588,
          0.588,
          0.588,
          0.588,
          0.588,
          0.588,
          0.588,
          0.5973333333333334,
          0.5973333333333334,
          0.5973333333333334,
          0.5973333333333334,
          0.5973333333333334,
          0.5973333333333334,
          0.5973333333333334,
          0.5973333333333334,
          0.5973333333333334,
          0.5973333333333334,
          0.5973333333333334,
          0.5973333333333334,
          0.6276666666666667,
          0.6276666666666667,
          0.6276666666666667,
          0.6276666666666667,
          0.6276666666666667,
          0.6276666666666667,
          0.6276666666666667,
          0.6276666666666667,
          0.6276666666666667,
          0.6276666666666667,
          0.6276666666666667,
          0.6276666666666667,
          0.6276666666666667,
          0.6276666666666667,
          0.6276666666666667,
          0.6276666666666667,
          0.6276666666666667,
          0.6276666666666667,
          0.6276666666666667,
          0.6276666666666667,
          0.6276666666666667,
          0.6276666666666667,
          0.6276666666666667,
          0.6276666666666667,
          0.6276666666666667,
          0.6276666666666667,
          0.6276666666666667,
          0.6276666666666667,
          0.6276666666666667,
          0.6276666666666667,
          0.6276666666666667,
          0.6276666666666667,
          0.6703333333333333,
          0.6703333333333333,
          0.6703333333333333,
          0.6703333333333333,
          0.6703333333333333,
          0.6703333333333333,
          0.6703333333333333,
          0.6703333333333333,
          0.6703333333333333,
          0.6703333333333333,
          0.6703333333333333,
          0.6703333333333333,
          0.6703333333333333,
          0.6703333333333333,
          0.6703333333333333,
          0.6703333333333333,
          0.6703333333333333,
          0.6703333333333333,
          0.6703333333333333,
          0.6703333333333333,
          0.6703333333333333,
          0.6703333333333333,
          0.6703333333333333,
          0.6703333333333333,
          0.6703333333333333,
          0.6703333333333333,
          0.6703333333333333,
          0.6703333333333333,
          0.6703333333333333,
          0.6703333333333333,
          0.6703333333333333,
          0.6703333333333333,
          0.6703333333333333,
          0.6703333333333333,
          0.6703333333333333,
          0.6703333333333333,
          0.6703333333333333,
          0.6703333333333333,
          0.6703333333333333,
          0.6703333333333333,
          0.6703333333333333,
          0.6703333333333333,
          0.6703333333333333,
          0.6703333333333333,
          0.6703333333333333,
          0.6703333333333333,
          0.6703333333333333,
          0.6703333333333333,
          0.6703333333333333,
          0.6703333333333333,
          0.6703333333333333,
          0.671,
          0.671
         ],
         "yaxis": "y2"
        }
       ],
       "layout": {
        "template": {
         "data": {
          "bar": [
           {
            "error_x": {
             "color": "#2a3f5f"
            },
            "error_y": {
             "color": "#2a3f5f"
            },
            "marker": {
             "line": {
              "color": "#E5ECF6",
              "width": 0.5
             },
             "pattern": {
              "fillmode": "overlay",
              "size": 10,
              "solidity": 0.2
             }
            },
            "type": "bar"
           }
          ],
          "barpolar": [
           {
            "marker": {
             "line": {
              "color": "#E5ECF6",
              "width": 0.5
             },
             "pattern": {
              "fillmode": "overlay",
              "size": 10,
              "solidity": 0.2
             }
            },
            "type": "barpolar"
           }
          ],
          "carpet": [
           {
            "aaxis": {
             "endlinecolor": "#2a3f5f",
             "gridcolor": "white",
             "linecolor": "white",
             "minorgridcolor": "white",
             "startlinecolor": "#2a3f5f"
            },
            "baxis": {
             "endlinecolor": "#2a3f5f",
             "gridcolor": "white",
             "linecolor": "white",
             "minorgridcolor": "white",
             "startlinecolor": "#2a3f5f"
            },
            "type": "carpet"
           }
          ],
          "choropleth": [
           {
            "colorbar": {
             "outlinewidth": 0,
             "ticks": ""
            },
            "type": "choropleth"
           }
          ],
          "contour": [
           {
            "colorbar": {
             "outlinewidth": 0,
             "ticks": ""
            },
            "colorscale": [
             [
              0,
              "#0d0887"
             ],
             [
              0.1111111111111111,
              "#46039f"
             ],
             [
              0.2222222222222222,
              "#7201a8"
             ],
             [
              0.3333333333333333,
              "#9c179e"
             ],
             [
              0.4444444444444444,
              "#bd3786"
             ],
             [
              0.5555555555555556,
              "#d8576b"
             ],
             [
              0.6666666666666666,
              "#ed7953"
             ],
             [
              0.7777777777777778,
              "#fb9f3a"
             ],
             [
              0.8888888888888888,
              "#fdca26"
             ],
             [
              1,
              "#f0f921"
             ]
            ],
            "type": "contour"
           }
          ],
          "contourcarpet": [
           {
            "colorbar": {
             "outlinewidth": 0,
             "ticks": ""
            },
            "type": "contourcarpet"
           }
          ],
          "heatmap": [
           {
            "colorbar": {
             "outlinewidth": 0,
             "ticks": ""
            },
            "colorscale": [
             [
              0,
              "#0d0887"
             ],
             [
              0.1111111111111111,
              "#46039f"
             ],
             [
              0.2222222222222222,
              "#7201a8"
             ],
             [
              0.3333333333333333,
              "#9c179e"
             ],
             [
              0.4444444444444444,
              "#bd3786"
             ],
             [
              0.5555555555555556,
              "#d8576b"
             ],
             [
              0.6666666666666666,
              "#ed7953"
             ],
             [
              0.7777777777777778,
              "#fb9f3a"
             ],
             [
              0.8888888888888888,
              "#fdca26"
             ],
             [
              1,
              "#f0f921"
             ]
            ],
            "type": "heatmap"
           }
          ],
          "heatmapgl": [
           {
            "colorbar": {
             "outlinewidth": 0,
             "ticks": ""
            },
            "colorscale": [
             [
              0,
              "#0d0887"
             ],
             [
              0.1111111111111111,
              "#46039f"
             ],
             [
              0.2222222222222222,
              "#7201a8"
             ],
             [
              0.3333333333333333,
              "#9c179e"
             ],
             [
              0.4444444444444444,
              "#bd3786"
             ],
             [
              0.5555555555555556,
              "#d8576b"
             ],
             [
              0.6666666666666666,
              "#ed7953"
             ],
             [
              0.7777777777777778,
              "#fb9f3a"
             ],
             [
              0.8888888888888888,
              "#fdca26"
             ],
             [
              1,
              "#f0f921"
             ]
            ],
            "type": "heatmapgl"
           }
          ],
          "histogram": [
           {
            "marker": {
             "pattern": {
              "fillmode": "overlay",
              "size": 10,
              "solidity": 0.2
             }
            },
            "type": "histogram"
           }
          ],
          "histogram2d": [
           {
            "colorbar": {
             "outlinewidth": 0,
             "ticks": ""
            },
            "colorscale": [
             [
              0,
              "#0d0887"
             ],
             [
              0.1111111111111111,
              "#46039f"
             ],
             [
              0.2222222222222222,
              "#7201a8"
             ],
             [
              0.3333333333333333,
              "#9c179e"
             ],
             [
              0.4444444444444444,
              "#bd3786"
             ],
             [
              0.5555555555555556,
              "#d8576b"
             ],
             [
              0.6666666666666666,
              "#ed7953"
             ],
             [
              0.7777777777777778,
              "#fb9f3a"
             ],
             [
              0.8888888888888888,
              "#fdca26"
             ],
             [
              1,
              "#f0f921"
             ]
            ],
            "type": "histogram2d"
           }
          ],
          "histogram2dcontour": [
           {
            "colorbar": {
             "outlinewidth": 0,
             "ticks": ""
            },
            "colorscale": [
             [
              0,
              "#0d0887"
             ],
             [
              0.1111111111111111,
              "#46039f"
             ],
             [
              0.2222222222222222,
              "#7201a8"
             ],
             [
              0.3333333333333333,
              "#9c179e"
             ],
             [
              0.4444444444444444,
              "#bd3786"
             ],
             [
              0.5555555555555556,
              "#d8576b"
             ],
             [
              0.6666666666666666,
              "#ed7953"
             ],
             [
              0.7777777777777778,
              "#fb9f3a"
             ],
             [
              0.8888888888888888,
              "#fdca26"
             ],
             [
              1,
              "#f0f921"
             ]
            ],
            "type": "histogram2dcontour"
           }
          ],
          "mesh3d": [
           {
            "colorbar": {
             "outlinewidth": 0,
             "ticks": ""
            },
            "type": "mesh3d"
           }
          ],
          "parcoords": [
           {
            "line": {
             "colorbar": {
              "outlinewidth": 0,
              "ticks": ""
             }
            },
            "type": "parcoords"
           }
          ],
          "pie": [
           {
            "automargin": true,
            "type": "pie"
           }
          ],
          "scatter": [
           {
            "fillpattern": {
             "fillmode": "overlay",
             "size": 10,
             "solidity": 0.2
            },
            "type": "scatter"
           }
          ],
          "scatter3d": [
           {
            "line": {
             "colorbar": {
              "outlinewidth": 0,
              "ticks": ""
             }
            },
            "marker": {
             "colorbar": {
              "outlinewidth": 0,
              "ticks": ""
             }
            },
            "type": "scatter3d"
           }
          ],
          "scattercarpet": [
           {
            "marker": {
             "colorbar": {
              "outlinewidth": 0,
              "ticks": ""
             }
            },
            "type": "scattercarpet"
           }
          ],
          "scattergeo": [
           {
            "marker": {
             "colorbar": {
              "outlinewidth": 0,
              "ticks": ""
             }
            },
            "type": "scattergeo"
           }
          ],
          "scattergl": [
           {
            "marker": {
             "colorbar": {
              "outlinewidth": 0,
              "ticks": ""
             }
            },
            "type": "scattergl"
           }
          ],
          "scattermapbox": [
           {
            "marker": {
             "colorbar": {
              "outlinewidth": 0,
              "ticks": ""
             }
            },
            "type": "scattermapbox"
           }
          ],
          "scatterpolar": [
           {
            "marker": {
             "colorbar": {
              "outlinewidth": 0,
              "ticks": ""
             }
            },
            "type": "scatterpolar"
           }
          ],
          "scatterpolargl": [
           {
            "marker": {
             "colorbar": {
              "outlinewidth": 0,
              "ticks": ""
             }
            },
            "type": "scatterpolargl"
           }
          ],
          "scatterternary": [
           {
            "marker": {
             "colorbar": {
              "outlinewidth": 0,
              "ticks": ""
             }
            },
            "type": "scatterternary"
           }
          ],
          "surface": [
           {
            "colorbar": {
             "outlinewidth": 0,
             "ticks": ""
            },
            "colorscale": [
             [
              0,
              "#0d0887"
             ],
             [
              0.1111111111111111,
              "#46039f"
             ],
             [
              0.2222222222222222,
              "#7201a8"
             ],
             [
              0.3333333333333333,
              "#9c179e"
             ],
             [
              0.4444444444444444,
              "#bd3786"
             ],
             [
              0.5555555555555556,
              "#d8576b"
             ],
             [
              0.6666666666666666,
              "#ed7953"
             ],
             [
              0.7777777777777778,
              "#fb9f3a"
             ],
             [
              0.8888888888888888,
              "#fdca26"
             ],
             [
              1,
              "#f0f921"
             ]
            ],
            "type": "surface"
           }
          ],
          "table": [
           {
            "cells": {
             "fill": {
              "color": "#EBF0F8"
             },
             "line": {
              "color": "white"
             }
            },
            "header": {
             "fill": {
              "color": "#C8D4E3"
             },
             "line": {
              "color": "white"
             }
            },
            "type": "table"
           }
          ]
         },
         "layout": {
          "annotationdefaults": {
           "arrowcolor": "#2a3f5f",
           "arrowhead": 0,
           "arrowwidth": 1
          },
          "autotypenumbers": "strict",
          "coloraxis": {
           "colorbar": {
            "outlinewidth": 0,
            "ticks": ""
           }
          },
          "colorscale": {
           "diverging": [
            [
             0,
             "#8e0152"
            ],
            [
             0.1,
             "#c51b7d"
            ],
            [
             0.2,
             "#de77ae"
            ],
            [
             0.3,
             "#f1b6da"
            ],
            [
             0.4,
             "#fde0ef"
            ],
            [
             0.5,
             "#f7f7f7"
            ],
            [
             0.6,
             "#e6f5d0"
            ],
            [
             0.7,
             "#b8e186"
            ],
            [
             0.8,
             "#7fbc41"
            ],
            [
             0.9,
             "#4d9221"
            ],
            [
             1,
             "#276419"
            ]
           ],
           "sequential": [
            [
             0,
             "#0d0887"
            ],
            [
             0.1111111111111111,
             "#46039f"
            ],
            [
             0.2222222222222222,
             "#7201a8"
            ],
            [
             0.3333333333333333,
             "#9c179e"
            ],
            [
             0.4444444444444444,
             "#bd3786"
            ],
            [
             0.5555555555555556,
             "#d8576b"
            ],
            [
             0.6666666666666666,
             "#ed7953"
            ],
            [
             0.7777777777777778,
             "#fb9f3a"
            ],
            [
             0.8888888888888888,
             "#fdca26"
            ],
            [
             1,
             "#f0f921"
            ]
           ],
           "sequentialminus": [
            [
             0,
             "#0d0887"
            ],
            [
             0.1111111111111111,
             "#46039f"
            ],
            [
             0.2222222222222222,
             "#7201a8"
            ],
            [
             0.3333333333333333,
             "#9c179e"
            ],
            [
             0.4444444444444444,
             "#bd3786"
            ],
            [
             0.5555555555555556,
             "#d8576b"
            ],
            [
             0.6666666666666666,
             "#ed7953"
            ],
            [
             0.7777777777777778,
             "#fb9f3a"
            ],
            [
             0.8888888888888888,
             "#fdca26"
            ],
            [
             1,
             "#f0f921"
            ]
           ]
          },
          "colorway": [
           "#636efa",
           "#EF553B",
           "#00cc96",
           "#ab63fa",
           "#FFA15A",
           "#19d3f3",
           "#FF6692",
           "#B6E880",
           "#FF97FF",
           "#FECB52"
          ],
          "font": {
           "color": "#2a3f5f"
          },
          "geo": {
           "bgcolor": "white",
           "lakecolor": "white",
           "landcolor": "#E5ECF6",
           "showlakes": true,
           "showland": true,
           "subunitcolor": "white"
          },
          "hoverlabel": {
           "align": "left"
          },
          "hovermode": "closest",
          "mapbox": {
           "style": "light"
          },
          "paper_bgcolor": "white",
          "plot_bgcolor": "#E5ECF6",
          "polar": {
           "angularaxis": {
            "gridcolor": "white",
            "linecolor": "white",
            "ticks": ""
           },
           "bgcolor": "#E5ECF6",
           "radialaxis": {
            "gridcolor": "white",
            "linecolor": "white",
            "ticks": ""
           }
          },
          "scene": {
           "xaxis": {
            "backgroundcolor": "#E5ECF6",
            "gridcolor": "white",
            "gridwidth": 2,
            "linecolor": "white",
            "showbackground": true,
            "ticks": "",
            "zerolinecolor": "white"
           },
           "yaxis": {
            "backgroundcolor": "#E5ECF6",
            "gridcolor": "white",
            "gridwidth": 2,
            "linecolor": "white",
            "showbackground": true,
            "ticks": "",
            "zerolinecolor": "white"
           },
           "zaxis": {
            "backgroundcolor": "#E5ECF6",
            "gridcolor": "white",
            "gridwidth": 2,
            "linecolor": "white",
            "showbackground": true,
            "ticks": "",
            "zerolinecolor": "white"
           }
          },
          "shapedefaults": {
           "line": {
            "color": "#2a3f5f"
           }
          },
          "ternary": {
           "aaxis": {
            "gridcolor": "white",
            "linecolor": "white",
            "ticks": ""
           },
           "baxis": {
            "gridcolor": "white",
            "linecolor": "white",
            "ticks": ""
           },
           "bgcolor": "#E5ECF6",
           "caxis": {
            "gridcolor": "white",
            "linecolor": "white",
            "ticks": ""
           }
          },
          "title": {
           "x": 0.05
          },
          "xaxis": {
           "automargin": true,
           "gridcolor": "white",
           "linecolor": "white",
           "ticks": "",
           "title": {
            "standoff": 15
           },
           "zerolinecolor": "white",
           "zerolinewidth": 2
          },
          "yaxis": {
           "automargin": true,
           "gridcolor": "white",
           "linecolor": "white",
           "ticks": "",
           "title": {
            "standoff": 15
           },
           "zerolinecolor": "white",
           "zerolinewidth": 2
          }
         }
        },
        "title": {
         "text": "Loss and Accuracy"
        },
        "xaxis": {
         "title": {
          "text": "Index"
         }
        },
        "yaxis": {
         "side": "left",
         "title": {
          "text": "Loss"
         }
        },
        "yaxis2": {
         "overlaying": "y",
         "side": "right",
         "title": {
          "text": "Accuracy"
         }
        }
       }
      }
     },
     "metadata": {},
     "output_type": "display_data"
    }
   ],
   "source": [
    "import pandas as pd\n",
    "import plotly.graph_objects as go\n",
    "\n",
    "# Convert to pandas DataFrame\n",
    "df_train = pd.DataFrame(results_train) \n",
    "df_test = pd.DataFrame(results_test) \n",
    "\n",
    "print(df_train.head())\n",
    "print(df_test.head())\n",
    "fig = go.Figure()\n",
    "\n",
    "fig.add_trace(\n",
    "    go.Scatter(x=df_train.index, y=df_train['loss'], name='Train Loss', yaxis='y1')\n",
    ")\n",
    "fig.add_trace(\n",
    "    go.Scatter(x=df_train.index, y=df_train['acc'], name='Train Accuracy', yaxis='y2')\n",
    ")\n",
    "fig.add_trace(\n",
    "    go.Scatter(x=df_test.index, y=df_test['loss'], name='Test Loss', yaxis='y1')\n",
    ")\n",
    "fig.add_trace(\n",
    "    go.Scatter(x=df_test.index, y=df_test['acc'], name='Test Accuracy', yaxis='y2')\n",
    ")\n",
    "\n",
    "fig.update_layout(\n",
    "    title='Loss and Accuracy',\n",
    "    xaxis=dict(title='Index'),\n",
    "    yaxis=dict(title='Loss', side='left'),\n",
    "    yaxis2=dict(title='Accuracy', overlaying='y', side='right')\n",
    ")\n",
    "\n",
    "fig.show()"
   ]
  },
  {
   "cell_type": "code",
   "execution_count": 7,
   "metadata": {},
   "outputs": [],
   "source": [
    "def eval_epoch(model: nn.Module, dataloader: DataLoader, device: torch.device) -> dict[str, list[float]]:\n",
    "    model = model.to(device)\n",
    "    inputs = []\n",
    "    correct_outputs = []\n",
    "    probabilities = []\n",
    "    for input, labels in dataloader:\n",
    "        input = input.to(device).to(torch.int32)\n",
    "        labels = labels.to(device).to(torch.float)\n",
    "        output = model(input)\n",
    "        inputs += input.tolist()\n",
    "        correct_outputs += labels.tolist()\n",
    "        probabilities += torch.softmax(output, dim=1)[:, 1].tolist()\n",
    "    return {\n",
    "        \"inputs\": inputs,\n",
    "        \"correct_outputs\": correct_outputs,\n",
    "        \"probabilities\": probabilities\n",
    "    }"
   ]
  },
  {
   "cell_type": "code",
   "execution_count": null,
   "metadata": {},
   "outputs": [
    {
     "data": {
      "text/html": [
       "<div>\n",
       "<style scoped>\n",
       "    .dataframe tbody tr th:only-of-type {\n",
       "        vertical-align: middle;\n",
       "    }\n",
       "\n",
       "    .dataframe tbody tr th {\n",
       "        vertical-align: top;\n",
       "    }\n",
       "\n",
       "    .dataframe thead th {\n",
       "        text-align: right;\n",
       "    }\n",
       "</style>\n",
       "<table border=\"1\" class=\"dataframe\">\n",
       "  <thead>\n",
       "    <tr style=\"text-align: right;\">\n",
       "      <th></th>\n",
       "      <th>inputs</th>\n",
       "      <th>correct_outputs</th>\n",
       "      <th>probabilities</th>\n",
       "    </tr>\n",
       "  </thead>\n",
       "  <tbody>\n",
       "    <tr>\n",
       "      <th>0</th>\n",
       "      <td>[0, 1, 1, 1, 0, 1, 1, 1, 1, 1, 0, 1, 0, 1, 1, ...</td>\n",
       "      <td>1.0</td>\n",
       "      <td>0.676614</td>\n",
       "    </tr>\n",
       "    <tr>\n",
       "      <th>1</th>\n",
       "      <td>[0, 0, 1, 1, 1, 1, 0, 0, 0, 1, 1, 0, 0, 0, 0, ...</td>\n",
       "      <td>0.0</td>\n",
       "      <td>0.549349</td>\n",
       "    </tr>\n",
       "    <tr>\n",
       "      <th>2</th>\n",
       "      <td>[0, 1, 1, 1, 0, 1, 0, 0, 1, 1, 1, 0, 0, 0, 0, ...</td>\n",
       "      <td>0.0</td>\n",
       "      <td>0.092262</td>\n",
       "    </tr>\n",
       "    <tr>\n",
       "      <th>3</th>\n",
       "      <td>[0, 1, 0, 1, 1, 0, 1, 0, 1, 1, 0, 0, 0, 0, 1, ...</td>\n",
       "      <td>1.0</td>\n",
       "      <td>0.464449</td>\n",
       "    </tr>\n",
       "    <tr>\n",
       "      <th>4</th>\n",
       "      <td>[0, 1, 0, 0, 0, 1, 0, 1, 1, 0, 0, 0, 1, 0, 1, ...</td>\n",
       "      <td>0.0</td>\n",
       "      <td>0.092262</td>\n",
       "    </tr>\n",
       "    <tr>\n",
       "      <th>...</th>\n",
       "      <td>...</td>\n",
       "      <td>...</td>\n",
       "      <td>...</td>\n",
       "    </tr>\n",
       "    <tr>\n",
       "      <th>2995</th>\n",
       "      <td>[1, 0, 1, 1, 1, 0, 1, 0, 0, 0, 0, 1, 0, 1, 1, ...</td>\n",
       "      <td>0.0</td>\n",
       "      <td>0.549348</td>\n",
       "    </tr>\n",
       "    <tr>\n",
       "      <th>2996</th>\n",
       "      <td>[0, 1, 0, 0, 0, 0, 0, 1, 1, 0, 1, 0, 1, 1, 0, ...</td>\n",
       "      <td>1.0</td>\n",
       "      <td>0.553636</td>\n",
       "    </tr>\n",
       "    <tr>\n",
       "      <th>2997</th>\n",
       "      <td>[0, 0, 0, 0, 1, 1, 1, 1, 1, 0, 0, 0, 1, 0, 1, ...</td>\n",
       "      <td>0.0</td>\n",
       "      <td>0.092262</td>\n",
       "    </tr>\n",
       "    <tr>\n",
       "      <th>2998</th>\n",
       "      <td>[1, 1, 0, 1, 1, 0, 1, 1, 0, 1, 1, 0, 1, 1, 0, ...</td>\n",
       "      <td>1.0</td>\n",
       "      <td>0.560913</td>\n",
       "    </tr>\n",
       "    <tr>\n",
       "      <th>2999</th>\n",
       "      <td>[0, 0, 0, 0, 1, 0, 1, 1, 0, 1, 1, 0, 0, 0, 0, ...</td>\n",
       "      <td>0.0</td>\n",
       "      <td>0.544520</td>\n",
       "    </tr>\n",
       "  </tbody>\n",
       "</table>\n",
       "<p>3000 rows × 3 columns</p>\n",
       "</div>"
      ],
      "text/plain": [
       "                                                 inputs  correct_outputs  \\\n",
       "0     [0, 1, 1, 1, 0, 1, 1, 1, 1, 1, 0, 1, 0, 1, 1, ...              1.0   \n",
       "1     [0, 0, 1, 1, 1, 1, 0, 0, 0, 1, 1, 0, 0, 0, 0, ...              0.0   \n",
       "2     [0, 1, 1, 1, 0, 1, 0, 0, 1, 1, 1, 0, 0, 0, 0, ...              0.0   \n",
       "3     [0, 1, 0, 1, 1, 0, 1, 0, 1, 1, 0, 0, 0, 0, 1, ...              1.0   \n",
       "4     [0, 1, 0, 0, 0, 1, 0, 1, 1, 0, 0, 0, 1, 0, 1, ...              0.0   \n",
       "...                                                 ...              ...   \n",
       "2995  [1, 0, 1, 1, 1, 0, 1, 0, 0, 0, 0, 1, 0, 1, 1, ...              0.0   \n",
       "2996  [0, 1, 0, 0, 0, 0, 0, 1, 1, 0, 1, 0, 1, 1, 0, ...              1.0   \n",
       "2997  [0, 0, 0, 0, 1, 1, 1, 1, 1, 0, 0, 0, 1, 0, 1, ...              0.0   \n",
       "2998  [1, 1, 0, 1, 1, 0, 1, 1, 0, 1, 1, 0, 1, 1, 0, ...              1.0   \n",
       "2999  [0, 0, 0, 0, 1, 0, 1, 1, 0, 1, 1, 0, 0, 0, 0, ...              0.0   \n",
       "\n",
       "      probabilities  \n",
       "0          0.676614  \n",
       "1          0.549349  \n",
       "2          0.092262  \n",
       "3          0.464449  \n",
       "4          0.092262  \n",
       "...             ...  \n",
       "2995       0.549348  \n",
       "2996       0.553636  \n",
       "2997       0.092262  \n",
       "2998       0.560913  \n",
       "2999       0.544520  \n",
       "\n",
       "[3000 rows x 3 columns]"
      ]
     },
     "execution_count": 8,
     "metadata": {},
     "output_type": "execute_result"
    }
   ],
   "source": [
    "eval_res = eval_epoch(model, test_dataloader, device)\n",
    "pd.DataFrame.from_dict(eval_res, orient=\"columns\")"
   ]
  },
  {
   "cell_type": "code",
   "execution_count": 9,
   "metadata": {},
   "outputs": [],
   "source": [
    "torch.save(model.state_dict(), \"checkpoints/example_transformer.ckpt\")"
   ]
  },
  {
   "cell_type": "code",
   "execution_count": null,
   "metadata": {},
   "outputs": [
    {
     "name": "stdout",
     "output_type": "stream",
     "text": [
      "Transformer(\n",
      "  (embeddings): Embedding(3, 2)\n",
      "  (transformer): Sequential(\n",
      "    (0): AttentionBlock(\n",
      "      (attn): MultiheadAttention(\n",
      "        (out_proj): NonDynamicallyQuantizableLinear(in_features=2, out_features=2, bias=False)\n",
      "      )\n",
      "      (linear): Sequential(\n",
      "        (0): Linear(in_features=2, out_features=2, bias=True)\n",
      "        (1): ReLU()\n",
      "        (2): Linear(in_features=2, out_features=2, bias=True)\n",
      "      )\n",
      "    )\n",
      "  )\n",
      "  (mlp_head): Sequential(\n",
      "    (0): Linear(in_features=2, out_features=2, bias=True)\n",
      "  )\n",
      ")\n"
     ]
    },
    {
     "data": {
      "application/vnd.plotly.v1+json": {
       "config": {
        "plotlyServerURL": "https://plot.ly"
       },
       "data": [
        {
         "coloraxis": "coloraxis",
         "hovertemplate": "x: %{x}<br>y: %{y}<br>color: %{z}<extra></extra>",
         "name": "0",
         "type": "heatmap",
         "xaxis": "x",
         "yaxis": "y",
         "z": [
          [
           0.2062561810016632,
           0.3441654145717621
          ],
          [
           -0.3542172312736511,
           0.6104040741920471
          ]
         ]
        },
        {
         "coloraxis": "coloraxis",
         "hovertemplate": "x: %{x}<br>y: %{y}<br>color: %{z}<extra></extra>",
         "name": "0",
         "type": "heatmap",
         "xaxis": "x2",
         "yaxis": "y2",
         "z": [
          [
           0.9399723410606384,
           -1.115668535232544
          ],
          [
           0.7580558657646179,
           -1.2093888521194458
          ]
         ]
        },
        {
         "coloraxis": "coloraxis",
         "hovertemplate": "x: %{x}<br>y: %{y}<br>color: %{z}<extra></extra>",
         "name": "0",
         "type": "heatmap",
         "xaxis": "x3",
         "yaxis": "y3",
         "z": [
          [
           1.143978476524353,
           1.2741183042526245
          ],
          [
           -0.11330219358205795,
           -1.002744197845459
          ]
         ]
        },
        {
         "coloraxis": "coloraxis",
         "hovertemplate": "x: %{x}<br>y: %{y}<br>color: %{z}<extra></extra>",
         "name": "0",
         "type": "heatmap",
         "xaxis": "x4",
         "yaxis": "y4",
         "z": [
          [
           1.2017158269882202,
           2.316366195678711
          ],
          [
           1.0042259693145752,
           2.178560495376587
          ]
         ]
        }
       ],
       "layout": {
        "annotations": [
         {
          "font": {
           "size": 16
          },
          "showarrow": false,
          "text": "QK.T",
          "x": 0.225,
          "xanchor": "center",
          "xref": "paper",
          "y": 1,
          "yanchor": "bottom",
          "yref": "paper"
         },
         {
          "font": {
           "size": 16
          },
          "showarrow": false,
          "text": "V",
          "x": 0.775,
          "xanchor": "center",
          "xref": "paper",
          "y": 1,
          "yanchor": "bottom",
          "yref": "paper"
         },
         {
          "font": {
           "size": 16
          },
          "showarrow": false,
          "text": "W",
          "x": 0.225,
          "xanchor": "center",
          "xref": "paper",
          "y": 0.375,
          "yanchor": "bottom",
          "yref": "paper"
         },
         {
          "font": {
           "size": 16
          },
          "showarrow": false,
          "text": "VW",
          "x": 0.775,
          "xanchor": "center",
          "xref": "paper",
          "y": 0.375,
          "yanchor": "bottom",
          "yref": "paper"
         }
        ],
        "height": 800,
        "template": {
         "data": {
          "bar": [
           {
            "error_x": {
             "color": "#2a3f5f"
            },
            "error_y": {
             "color": "#2a3f5f"
            },
            "marker": {
             "line": {
              "color": "#E5ECF6",
              "width": 0.5
             },
             "pattern": {
              "fillmode": "overlay",
              "size": 10,
              "solidity": 0.2
             }
            },
            "type": "bar"
           }
          ],
          "barpolar": [
           {
            "marker": {
             "line": {
              "color": "#E5ECF6",
              "width": 0.5
             },
             "pattern": {
              "fillmode": "overlay",
              "size": 10,
              "solidity": 0.2
             }
            },
            "type": "barpolar"
           }
          ],
          "carpet": [
           {
            "aaxis": {
             "endlinecolor": "#2a3f5f",
             "gridcolor": "white",
             "linecolor": "white",
             "minorgridcolor": "white",
             "startlinecolor": "#2a3f5f"
            },
            "baxis": {
             "endlinecolor": "#2a3f5f",
             "gridcolor": "white",
             "linecolor": "white",
             "minorgridcolor": "white",
             "startlinecolor": "#2a3f5f"
            },
            "type": "carpet"
           }
          ],
          "choropleth": [
           {
            "colorbar": {
             "outlinewidth": 0,
             "ticks": ""
            },
            "type": "choropleth"
           }
          ],
          "contour": [
           {
            "colorbar": {
             "outlinewidth": 0,
             "ticks": ""
            },
            "colorscale": [
             [
              0,
              "#0d0887"
             ],
             [
              0.1111111111111111,
              "#46039f"
             ],
             [
              0.2222222222222222,
              "#7201a8"
             ],
             [
              0.3333333333333333,
              "#9c179e"
             ],
             [
              0.4444444444444444,
              "#bd3786"
             ],
             [
              0.5555555555555556,
              "#d8576b"
             ],
             [
              0.6666666666666666,
              "#ed7953"
             ],
             [
              0.7777777777777778,
              "#fb9f3a"
             ],
             [
              0.8888888888888888,
              "#fdca26"
             ],
             [
              1,
              "#f0f921"
             ]
            ],
            "type": "contour"
           }
          ],
          "contourcarpet": [
           {
            "colorbar": {
             "outlinewidth": 0,
             "ticks": ""
            },
            "type": "contourcarpet"
           }
          ],
          "heatmap": [
           {
            "colorbar": {
             "outlinewidth": 0,
             "ticks": ""
            },
            "colorscale": [
             [
              0,
              "#0d0887"
             ],
             [
              0.1111111111111111,
              "#46039f"
             ],
             [
              0.2222222222222222,
              "#7201a8"
             ],
             [
              0.3333333333333333,
              "#9c179e"
             ],
             [
              0.4444444444444444,
              "#bd3786"
             ],
             [
              0.5555555555555556,
              "#d8576b"
             ],
             [
              0.6666666666666666,
              "#ed7953"
             ],
             [
              0.7777777777777778,
              "#fb9f3a"
             ],
             [
              0.8888888888888888,
              "#fdca26"
             ],
             [
              1,
              "#f0f921"
             ]
            ],
            "type": "heatmap"
           }
          ],
          "heatmapgl": [
           {
            "colorbar": {
             "outlinewidth": 0,
             "ticks": ""
            },
            "colorscale": [
             [
              0,
              "#0d0887"
             ],
             [
              0.1111111111111111,
              "#46039f"
             ],
             [
              0.2222222222222222,
              "#7201a8"
             ],
             [
              0.3333333333333333,
              "#9c179e"
             ],
             [
              0.4444444444444444,
              "#bd3786"
             ],
             [
              0.5555555555555556,
              "#d8576b"
             ],
             [
              0.6666666666666666,
              "#ed7953"
             ],
             [
              0.7777777777777778,
              "#fb9f3a"
             ],
             [
              0.8888888888888888,
              "#fdca26"
             ],
             [
              1,
              "#f0f921"
             ]
            ],
            "type": "heatmapgl"
           }
          ],
          "histogram": [
           {
            "marker": {
             "pattern": {
              "fillmode": "overlay",
              "size": 10,
              "solidity": 0.2
             }
            },
            "type": "histogram"
           }
          ],
          "histogram2d": [
           {
            "colorbar": {
             "outlinewidth": 0,
             "ticks": ""
            },
            "colorscale": [
             [
              0,
              "#0d0887"
             ],
             [
              0.1111111111111111,
              "#46039f"
             ],
             [
              0.2222222222222222,
              "#7201a8"
             ],
             [
              0.3333333333333333,
              "#9c179e"
             ],
             [
              0.4444444444444444,
              "#bd3786"
             ],
             [
              0.5555555555555556,
              "#d8576b"
             ],
             [
              0.6666666666666666,
              "#ed7953"
             ],
             [
              0.7777777777777778,
              "#fb9f3a"
             ],
             [
              0.8888888888888888,
              "#fdca26"
             ],
             [
              1,
              "#f0f921"
             ]
            ],
            "type": "histogram2d"
           }
          ],
          "histogram2dcontour": [
           {
            "colorbar": {
             "outlinewidth": 0,
             "ticks": ""
            },
            "colorscale": [
             [
              0,
              "#0d0887"
             ],
             [
              0.1111111111111111,
              "#46039f"
             ],
             [
              0.2222222222222222,
              "#7201a8"
             ],
             [
              0.3333333333333333,
              "#9c179e"
             ],
             [
              0.4444444444444444,
              "#bd3786"
             ],
             [
              0.5555555555555556,
              "#d8576b"
             ],
             [
              0.6666666666666666,
              "#ed7953"
             ],
             [
              0.7777777777777778,
              "#fb9f3a"
             ],
             [
              0.8888888888888888,
              "#fdca26"
             ],
             [
              1,
              "#f0f921"
             ]
            ],
            "type": "histogram2dcontour"
           }
          ],
          "mesh3d": [
           {
            "colorbar": {
             "outlinewidth": 0,
             "ticks": ""
            },
            "type": "mesh3d"
           }
          ],
          "parcoords": [
           {
            "line": {
             "colorbar": {
              "outlinewidth": 0,
              "ticks": ""
             }
            },
            "type": "parcoords"
           }
          ],
          "pie": [
           {
            "automargin": true,
            "type": "pie"
           }
          ],
          "scatter": [
           {
            "fillpattern": {
             "fillmode": "overlay",
             "size": 10,
             "solidity": 0.2
            },
            "type": "scatter"
           }
          ],
          "scatter3d": [
           {
            "line": {
             "colorbar": {
              "outlinewidth": 0,
              "ticks": ""
             }
            },
            "marker": {
             "colorbar": {
              "outlinewidth": 0,
              "ticks": ""
             }
            },
            "type": "scatter3d"
           }
          ],
          "scattercarpet": [
           {
            "marker": {
             "colorbar": {
              "outlinewidth": 0,
              "ticks": ""
             }
            },
            "type": "scattercarpet"
           }
          ],
          "scattergeo": [
           {
            "marker": {
             "colorbar": {
              "outlinewidth": 0,
              "ticks": ""
             }
            },
            "type": "scattergeo"
           }
          ],
          "scattergl": [
           {
            "marker": {
             "colorbar": {
              "outlinewidth": 0,
              "ticks": ""
             }
            },
            "type": "scattergl"
           }
          ],
          "scattermapbox": [
           {
            "marker": {
             "colorbar": {
              "outlinewidth": 0,
              "ticks": ""
             }
            },
            "type": "scattermapbox"
           }
          ],
          "scatterpolar": [
           {
            "marker": {
             "colorbar": {
              "outlinewidth": 0,
              "ticks": ""
             }
            },
            "type": "scatterpolar"
           }
          ],
          "scatterpolargl": [
           {
            "marker": {
             "colorbar": {
              "outlinewidth": 0,
              "ticks": ""
             }
            },
            "type": "scatterpolargl"
           }
          ],
          "scatterternary": [
           {
            "marker": {
             "colorbar": {
              "outlinewidth": 0,
              "ticks": ""
             }
            },
            "type": "scatterternary"
           }
          ],
          "surface": [
           {
            "colorbar": {
             "outlinewidth": 0,
             "ticks": ""
            },
            "colorscale": [
             [
              0,
              "#0d0887"
             ],
             [
              0.1111111111111111,
              "#46039f"
             ],
             [
              0.2222222222222222,
              "#7201a8"
             ],
             [
              0.3333333333333333,
              "#9c179e"
             ],
             [
              0.4444444444444444,
              "#bd3786"
             ],
             [
              0.5555555555555556,
              "#d8576b"
             ],
             [
              0.6666666666666666,
              "#ed7953"
             ],
             [
              0.7777777777777778,
              "#fb9f3a"
             ],
             [
              0.8888888888888888,
              "#fdca26"
             ],
             [
              1,
              "#f0f921"
             ]
            ],
            "type": "surface"
           }
          ],
          "table": [
           {
            "cells": {
             "fill": {
              "color": "#EBF0F8"
             },
             "line": {
              "color": "white"
             }
            },
            "header": {
             "fill": {
              "color": "#C8D4E3"
             },
             "line": {
              "color": "white"
             }
            },
            "type": "table"
           }
          ]
         },
         "layout": {
          "annotationdefaults": {
           "arrowcolor": "#2a3f5f",
           "arrowhead": 0,
           "arrowwidth": 1
          },
          "autotypenumbers": "strict",
          "coloraxis": {
           "colorbar": {
            "outlinewidth": 0,
            "ticks": ""
           }
          },
          "colorscale": {
           "diverging": [
            [
             0,
             "#8e0152"
            ],
            [
             0.1,
             "#c51b7d"
            ],
            [
             0.2,
             "#de77ae"
            ],
            [
             0.3,
             "#f1b6da"
            ],
            [
             0.4,
             "#fde0ef"
            ],
            [
             0.5,
             "#f7f7f7"
            ],
            [
             0.6,
             "#e6f5d0"
            ],
            [
             0.7,
             "#b8e186"
            ],
            [
             0.8,
             "#7fbc41"
            ],
            [
             0.9,
             "#4d9221"
            ],
            [
             1,
             "#276419"
            ]
           ],
           "sequential": [
            [
             0,
             "#0d0887"
            ],
            [
             0.1111111111111111,
             "#46039f"
            ],
            [
             0.2222222222222222,
             "#7201a8"
            ],
            [
             0.3333333333333333,
             "#9c179e"
            ],
            [
             0.4444444444444444,
             "#bd3786"
            ],
            [
             0.5555555555555556,
             "#d8576b"
            ],
            [
             0.6666666666666666,
             "#ed7953"
            ],
            [
             0.7777777777777778,
             "#fb9f3a"
            ],
            [
             0.8888888888888888,
             "#fdca26"
            ],
            [
             1,
             "#f0f921"
            ]
           ],
           "sequentialminus": [
            [
             0,
             "#0d0887"
            ],
            [
             0.1111111111111111,
             "#46039f"
            ],
            [
             0.2222222222222222,
             "#7201a8"
            ],
            [
             0.3333333333333333,
             "#9c179e"
            ],
            [
             0.4444444444444444,
             "#bd3786"
            ],
            [
             0.5555555555555556,
             "#d8576b"
            ],
            [
             0.6666666666666666,
             "#ed7953"
            ],
            [
             0.7777777777777778,
             "#fb9f3a"
            ],
            [
             0.8888888888888888,
             "#fdca26"
            ],
            [
             1,
             "#f0f921"
            ]
           ]
          },
          "colorway": [
           "#636efa",
           "#EF553B",
           "#00cc96",
           "#ab63fa",
           "#FFA15A",
           "#19d3f3",
           "#FF6692",
           "#B6E880",
           "#FF97FF",
           "#FECB52"
          ],
          "font": {
           "color": "#2a3f5f"
          },
          "geo": {
           "bgcolor": "white",
           "lakecolor": "white",
           "landcolor": "#E5ECF6",
           "showlakes": true,
           "showland": true,
           "subunitcolor": "white"
          },
          "hoverlabel": {
           "align": "left"
          },
          "hovermode": "closest",
          "mapbox": {
           "style": "light"
          },
          "paper_bgcolor": "white",
          "plot_bgcolor": "#E5ECF6",
          "polar": {
           "angularaxis": {
            "gridcolor": "white",
            "linecolor": "white",
            "ticks": ""
           },
           "bgcolor": "#E5ECF6",
           "radialaxis": {
            "gridcolor": "white",
            "linecolor": "white",
            "ticks": ""
           }
          },
          "scene": {
           "xaxis": {
            "backgroundcolor": "#E5ECF6",
            "gridcolor": "white",
            "gridwidth": 2,
            "linecolor": "white",
            "showbackground": true,
            "ticks": "",
            "zerolinecolor": "white"
           },
           "yaxis": {
            "backgroundcolor": "#E5ECF6",
            "gridcolor": "white",
            "gridwidth": 2,
            "linecolor": "white",
            "showbackground": true,
            "ticks": "",
            "zerolinecolor": "white"
           },
           "zaxis": {
            "backgroundcolor": "#E5ECF6",
            "gridcolor": "white",
            "gridwidth": 2,
            "linecolor": "white",
            "showbackground": true,
            "ticks": "",
            "zerolinecolor": "white"
           }
          },
          "shapedefaults": {
           "line": {
            "color": "#2a3f5f"
           }
          },
          "ternary": {
           "aaxis": {
            "gridcolor": "white",
            "linecolor": "white",
            "ticks": ""
           },
           "baxis": {
            "gridcolor": "white",
            "linecolor": "white",
            "ticks": ""
           },
           "bgcolor": "#E5ECF6",
           "caxis": {
            "gridcolor": "white",
            "linecolor": "white",
            "ticks": ""
           }
          },
          "title": {
           "x": 0.05
          },
          "xaxis": {
           "automargin": true,
           "gridcolor": "white",
           "linecolor": "white",
           "ticks": "",
           "title": {
            "standoff": 15
           },
           "zerolinecolor": "white",
           "zerolinewidth": 2
          },
          "yaxis": {
           "automargin": true,
           "gridcolor": "white",
           "linecolor": "white",
           "ticks": "",
           "title": {
            "standoff": 15
           },
           "zerolinecolor": "white",
           "zerolinewidth": 2
          }
         }
        },
        "title": {
         "text": "Subplots of q, k, v, and q @ k.T"
        },
        "width": 800,
        "xaxis": {
         "anchor": "y",
         "domain": [
          0,
          0.45
         ]
        },
        "xaxis2": {
         "anchor": "y2",
         "domain": [
          0.55,
          1
         ]
        },
        "xaxis3": {
         "anchor": "y3",
         "domain": [
          0,
          0.45
         ]
        },
        "xaxis4": {
         "anchor": "y4",
         "domain": [
          0.55,
          1
         ]
        },
        "yaxis": {
         "anchor": "x",
         "domain": [
          0.625,
          1
         ]
        },
        "yaxis2": {
         "anchor": "x2",
         "domain": [
          0.625,
          1
         ]
        },
        "yaxis3": {
         "anchor": "x3",
         "domain": [
          0,
          0.375
         ]
        },
        "yaxis4": {
         "anchor": "x4",
         "domain": [
          0,
          0.375
         ]
        }
       }
      }
     },
     "metadata": {},
     "output_type": "display_data"
    }
   ],
   "source": [
    "import plotly.express as px\n",
    "import plotly.subplots as sp\n",
    "\n",
    "print(model)\n",
    "\n",
    "qkv = model.transformer[0].attn.in_proj_weight.detach()\n",
    "q, k, v = qkv.reshape(3, hidden_dim, hidden_dim)\n",
    "qkT = q @ k.T\n",
    "w = model.transformer[0].attn.out_proj.weight.detach()\n",
    "\n",
    "# Create subplots\n",
    "fig = sp.make_subplots(rows=2, cols=2, subplot_titles=(\"QK.T\", \"V\", \"W\", \"VW\"))\n",
    "\n",
    "# Add q plot\n",
    "fig.add_trace(px.imshow(qkT).data[0], row=1, col=1)\n",
    "\n",
    "# Add k plot\n",
    "fig.add_trace(px.imshow(v).data[0], row=1, col=2)\n",
    "\n",
    "# Add v plot\n",
    "fig.add_trace(px.imshow(w).data[0], row=2, col=1)\n",
    "\n",
    "# Add q @ k.T plot\n",
    "fig.add_trace(px.imshow(v @ w).data[0], row=2, col=2)\n",
    "\n",
    "# Update layout\n",
    "fig.update_layout(height=800, width=800, title_text=\"Subplots of q, k, v, and q @ k.T\")\n",
    "\n",
    "fig.show()\n",
    "\n"
   ]
  },
  {
   "cell_type": "code",
   "execution_count": 11,
   "metadata": {},
   "outputs": [
    {
     "name": "stdout",
     "output_type": "stream",
     "text": [
      "torch.Size([7, 21, 2])\n",
      "tensor([[[ 0.2395, -0.2966],\n",
      "         [ 0.7130, -0.6147],\n",
      "         [ 4.7592, -3.8890],\n",
      "         [ 4.7592, -3.8890],\n",
      "         [ 4.7592, -3.8890],\n",
      "         [ 4.7592, -3.8890],\n",
      "         [ 4.7592, -3.8890],\n",
      "         [ 4.7592, -3.8890],\n",
      "         [ 4.7592, -3.8890],\n",
      "         [ 4.7592, -3.8890],\n",
      "         [ 4.7592, -3.8890],\n",
      "         [ 4.7592, -3.8890],\n",
      "         [ 4.7592, -3.8890],\n",
      "         [ 4.7592, -3.8890],\n",
      "         [ 4.7592, -3.8890],\n",
      "         [ 4.7592, -3.8890],\n",
      "         [ 4.7592, -3.8890],\n",
      "         [ 4.7592, -3.8890],\n",
      "         [ 4.7592, -3.8890],\n",
      "         [ 4.7592, -3.8890],\n",
      "         [ 4.7592, -3.8890]],\n",
      "\n",
      "        [[-1.6449,  0.6103],\n",
      "         [-1.1727,  0.2915],\n",
      "         [-1.1727,  0.2915],\n",
      "         [-1.1727,  0.2915],\n",
      "         [ 3.9447, -3.4602],\n",
      "         [ 3.9447, -3.4602],\n",
      "         [ 3.9447, -3.4602],\n",
      "         [ 3.9447, -3.4602],\n",
      "         [ 3.9447, -3.4602],\n",
      "         [ 3.9447, -3.4602],\n",
      "         [ 3.9447, -3.4602],\n",
      "         [ 3.9447, -3.4602],\n",
      "         [ 3.9447, -3.4602],\n",
      "         [ 3.9447, -3.4602],\n",
      "         [ 3.9447, -3.4602],\n",
      "         [ 3.9447, -3.4602],\n",
      "         [ 3.9447, -3.4602],\n",
      "         [ 3.9447, -3.4602],\n",
      "         [ 3.9447, -3.4602],\n",
      "         [ 3.9447, -3.4602],\n",
      "         [ 3.9447, -3.4602]],\n",
      "\n",
      "        [[-2.8557,  1.1975],\n",
      "         [-2.4500,  0.9094],\n",
      "         [-2.4500,  0.9094],\n",
      "         [-2.4500,  0.9094],\n",
      "         [-2.4500,  0.9094],\n",
      "         [-2.4500,  0.9094],\n",
      "         [ 3.0725, -2.9968],\n",
      "         [ 3.0725, -2.9968],\n",
      "         [ 3.0725, -2.9968],\n",
      "         [ 3.0725, -2.9968],\n",
      "         [ 3.0725, -2.9968],\n",
      "         [ 3.0725, -2.9968],\n",
      "         [ 3.0725, -2.9968],\n",
      "         [ 3.0725, -2.9968],\n",
      "         [ 3.0725, -2.9968],\n",
      "         [ 3.0725, -2.9968],\n",
      "         [ 3.0725, -2.9968],\n",
      "         [ 3.0725, -2.9968],\n",
      "         [ 3.0725, -2.9968],\n",
      "         [ 3.0725, -2.9968],\n",
      "         [ 3.0725, -2.9968]],\n",
      "\n",
      "        [[-3.7018,  1.6133],\n",
      "         [-3.3746,  1.3624],\n",
      "         [-3.3746,  1.3624],\n",
      "         [-3.3746,  1.3624],\n",
      "         [-3.3746,  1.3624],\n",
      "         [-3.3746,  1.3624],\n",
      "         [-3.3746,  1.3624],\n",
      "         [-3.3746,  1.3624],\n",
      "         [ 2.1368, -2.4929],\n",
      "         [ 2.1368, -2.4929],\n",
      "         [ 2.1368, -2.4929],\n",
      "         [ 2.1368, -2.4929],\n",
      "         [ 2.1368, -2.4929],\n",
      "         [ 2.1368, -2.4929],\n",
      "         [ 2.1368, -2.4929],\n",
      "         [ 2.1368, -2.4929],\n",
      "         [ 2.1368, -2.4929],\n",
      "         [ 2.1368, -2.4929],\n",
      "         [ 2.1368, -2.4929],\n",
      "         [ 2.1368, -2.4929],\n",
      "         [ 2.1368, -2.4929]],\n",
      "\n",
      "        [[-4.3299,  1.9285],\n",
      "         [-4.0784,  1.7144],\n",
      "         [-4.0784,  1.7144],\n",
      "         [-4.0784,  1.7144],\n",
      "         [-4.0784,  1.7144],\n",
      "         [-4.0784,  1.7144],\n",
      "         [-4.0784,  1.7144],\n",
      "         [-4.0784,  1.7144],\n",
      "         [-4.0784,  1.7144],\n",
      "         [-4.0784,  1.7144],\n",
      "         [ 1.1292, -1.9404],\n",
      "         [ 1.1292, -1.9404],\n",
      "         [ 1.1292, -1.9404],\n",
      "         [ 1.1292, -1.9404],\n",
      "         [ 1.1292, -1.9404],\n",
      "         [ 1.1292, -1.9404],\n",
      "         [ 1.1292, -1.9404],\n",
      "         [ 1.1292, -1.9404],\n",
      "         [ 1.1292, -1.9404],\n",
      "         [ 1.1292, -1.9404],\n",
      "         [ 1.1292, -1.9404]],\n",
      "\n",
      "        [[-4.8188,  2.1822],\n",
      "         [-4.6367,  2.0026],\n",
      "         [-4.6367,  2.0026],\n",
      "         [-4.6367,  2.0026],\n",
      "         [-4.6367,  2.0026],\n",
      "         [-4.6367,  2.0026],\n",
      "         [-4.6367,  2.0026],\n",
      "         [-4.6367,  2.0026],\n",
      "         [-4.6367,  2.0026],\n",
      "         [-4.6367,  2.0026],\n",
      "         [-4.6367,  2.0026],\n",
      "         [-4.6367,  2.0026],\n",
      "         [ 0.0387, -1.3281],\n",
      "         [ 0.0387, -1.3281],\n",
      "         [ 0.0387, -1.3281],\n",
      "         [ 0.0387, -1.3281],\n",
      "         [ 0.0387, -1.3281],\n",
      "         [ 0.0387, -1.3281],\n",
      "         [ 0.0387, -1.3281],\n",
      "         [ 0.0387, -1.3281],\n",
      "         [ 0.0387, -1.3281]],\n",
      "\n",
      "        [[-5.2157,  2.3987],\n",
      "         [-5.0961,  2.2514],\n",
      "         [-5.0961,  2.2514],\n",
      "         [-5.0961,  2.2514],\n",
      "         [-5.0961,  2.2514],\n",
      "         [-5.0961,  2.2514],\n",
      "         [-5.0961,  2.2514],\n",
      "         [-5.0961,  2.2514],\n",
      "         [-5.0961,  2.2514],\n",
      "         [-5.0961,  2.2514],\n",
      "         [-5.0961,  2.2514],\n",
      "         [-5.0961,  2.2514],\n",
      "         [-5.0961,  2.2514],\n",
      "         [-5.0961,  2.2514],\n",
      "         [-1.1501, -0.6394],\n",
      "         [-1.1501, -0.6394],\n",
      "         [-1.1501, -0.6394],\n",
      "         [-1.1501, -0.6394],\n",
      "         [-1.1501, -0.6394],\n",
      "         [-1.1501, -0.6394],\n",
      "         [-1.1501, -0.6394]]], grad_fn=<SubBackward0>)\n"
     ]
    },
    {
     "data": {
      "application/vnd.plotly.v1+json": {
       "config": {
        "plotlyServerURL": "https://plot.ly"
       },
       "data": [
        {
         "coloraxis": "coloraxis",
         "hovertemplate": "x: %{x}<br>y: %{y}<br>color: %{z}<extra></extra>",
         "name": "0",
         "type": "heatmap",
         "xaxis": "x",
         "yaxis": "y",
         "z": [
          [
           -1.463082194328308,
           1.6098759174346924
          ],
          [
           -1.3620511293411255,
           1.3411707878112793
          ],
          [
           -0.34026581048965454,
           -1.6547359228134155
          ],
          [
           -0.34026581048965454,
           -1.6547359228134155
          ],
          [
           -0.34026581048965454,
           -1.6547359228134155
          ],
          [
           -0.34026581048965454,
           -1.6547359228134155
          ],
          [
           -0.34026581048965454,
           -1.6547359228134155
          ],
          [
           -0.34026581048965454,
           -1.6547359228134155
          ],
          [
           -0.34026581048965454,
           -1.6547359228134155
          ],
          [
           -0.34026581048965454,
           -1.6547359228134155
          ],
          [
           -0.34026581048965454,
           -1.6547359228134155
          ],
          [
           -0.34026581048965454,
           -1.6547359228134155
          ],
          [
           -0.34026581048965454,
           -1.6547359228134155
          ],
          [
           -0.34026581048965454,
           -1.6547359228134155
          ],
          [
           -0.34026581048965454,
           -1.6547359228134155
          ],
          [
           -0.34026581048965454,
           -1.6547359228134155
          ],
          [
           -0.34026581048965454,
           -1.6547359228134155
          ],
          [
           -0.34026581048965454,
           -1.6547359228134155
          ],
          [
           -0.34026581048965454,
           -1.6547359228134155
          ],
          [
           -0.34026581048965454,
           -1.6547359228134155
          ],
          [
           -0.34026581048965454,
           -1.6547359228134155
          ]
         ]
        },
        {
         "coloraxis": "coloraxis",
         "hovertemplate": "x: %{x}<br>y: %{y}<br>color: %{z}<extra></extra>",
         "name": "0",
         "type": "heatmap",
         "xaxis": "x2",
         "yaxis": "y2",
         "z": [
          [
           1.4475709199905396,
           1.294237494468689,
           -0.35081031918525696,
           -0.35081031918525696,
           -0.35081031918525696,
           -0.35081031918525696,
           -0.35081031918525696,
           -0.35081031918525696,
           -0.35081031918525696,
           -0.35081031918525696,
           -0.35081031918525696,
           -0.35081031918525696,
           -0.35081031918525696,
           -0.35081031918525696,
           -0.35081031918525696,
           -0.35081031918525696,
           -0.35081031918525696,
           -0.35081031918525696,
           -0.35081031918525696,
           -0.35081031918525696,
           -0.35081031918525696
          ],
          [
           1.1804143190383911,
           1.0599266290664673,
           -0.22749575972557068,
           -0.22749575972557068,
           -0.22749575972557068,
           -0.22749575972557068,
           -0.22749575972557068,
           -0.22749575972557068,
           -0.22749575972557068,
           -0.22749575972557068,
           -0.22749575972557068,
           -0.22749575972557068,
           -0.22749575972557068,
           -0.22749575972557068,
           -0.22749575972557068,
           -0.22749575972557068,
           -0.22749575972557068,
           -0.22749575972557068,
           -0.22749575972557068,
           -0.22749575972557068,
           -0.22749577462673187
          ],
          [
           -1.8168964385986328,
           -1.5658715963363647,
           1.1947271823883057,
           1.1947271823883057,
           1.1947271823883057,
           1.1947271823883057,
           1.1947271823883057,
           1.1947271823883057,
           1.1947271823883057,
           1.1947271823883057,
           1.1947271823883057,
           1.1947271823883057,
           1.1947271823883057,
           1.1947271823883057,
           1.1947271823883057,
           1.1947271823883057,
           1.1947271823883057,
           1.1947271823883057,
           1.1947271823883057,
           1.1947271823883057,
           1.1947271823883057
          ],
          [
           -1.8168964385986328,
           -1.5658715963363647,
           1.1947271823883057,
           1.1947271823883057,
           1.1947271823883057,
           1.1947271823883057,
           1.1947271823883057,
           1.1947271823883057,
           1.1947271823883057,
           1.1947271823883057,
           1.1947271823883057,
           1.1947271823883057,
           1.1947271823883057,
           1.1947271823883057,
           1.1947271823883057,
           1.1947271823883057,
           1.1947271823883057,
           1.1947271823883057,
           1.1947271823883057,
           1.1947271823883057,
           1.1947271823883057
          ],
          [
           -1.8168964385986328,
           -1.5658715963363647,
           1.1947271823883057,
           1.1947271823883057,
           1.1947271823883057,
           1.1947271823883057,
           1.1947271823883057,
           1.1947271823883057,
           1.1947271823883057,
           1.1947271823883057,
           1.1947271823883057,
           1.1947271823883057,
           1.1947271823883057,
           1.1947271823883057,
           1.1947271823883057,
           1.1947271823883057,
           1.1947271823883057,
           1.1947271823883057,
           1.1947271823883057,
           1.1947271823883057,
           1.1947271823883057
          ],
          [
           -1.8168964385986328,
           -1.5658715963363647,
           1.1947271823883057,
           1.1947271823883057,
           1.1947271823883057,
           1.1947271823883057,
           1.1947271823883057,
           1.1947271823883057,
           1.1947271823883057,
           1.1947271823883057,
           1.1947271823883057,
           1.1947271823883057,
           1.1947271823883057,
           1.1947271823883057,
           1.1947271823883057,
           1.1947271823883057,
           1.1947271823883057,
           1.1947271823883057,
           1.1947271823883057,
           1.1947271823883057,
           1.1947271823883057
          ],
          [
           -1.8168964385986328,
           -1.5658715963363647,
           1.1947271823883057,
           1.1947271823883057,
           1.1947271823883057,
           1.1947271823883057,
           1.1947271823883057,
           1.1947271823883057,
           1.1947271823883057,
           1.1947271823883057,
           1.1947271823883057,
           1.1947271823883057,
           1.1947271823883057,
           1.1947271823883057,
           1.1947271823883057,
           1.1947271823883057,
           1.1947271823883057,
           1.1947271823883057,
           1.1947271823883057,
           1.1947271823883057,
           1.1947271823883057
          ],
          [
           -1.8168964385986328,
           -1.5658715963363647,
           1.1947271823883057,
           1.1947271823883057,
           1.1947271823883057,
           1.1947271823883057,
           1.1947271823883057,
           1.1947271823883057,
           1.1947271823883057,
           1.1947271823883057,
           1.1947271823883057,
           1.1947271823883057,
           1.1947271823883057,
           1.1947271823883057,
           1.1947271823883057,
           1.1947271823883057,
           1.1947271823883057,
           1.1947271823883057,
           1.1947271823883057,
           1.1947271823883057,
           1.1947271823883057
          ],
          [
           -1.8168964385986328,
           -1.5658715963363647,
           1.1947271823883057,
           1.1947271823883057,
           1.1947271823883057,
           1.1947271823883057,
           1.1947271823883057,
           1.1947271823883057,
           1.1947271823883057,
           1.1947271823883057,
           1.1947271823883057,
           1.1947271823883057,
           1.1947271823883057,
           1.1947271823883057,
           1.1947271823883057,
           1.1947271823883057,
           1.1947271823883057,
           1.1947271823883057,
           1.1947271823883057,
           1.1947271823883057,
           1.1947271823883057
          ],
          [
           -1.8168964385986328,
           -1.5658715963363647,
           1.1947271823883057,
           1.1947271823883057,
           1.1947271823883057,
           1.1947271823883057,
           1.1947271823883057,
           1.1947271823883057,
           1.1947271823883057,
           1.1947271823883057,
           1.1947271823883057,
           1.1947271823883057,
           1.1947271823883057,
           1.1947271823883057,
           1.1947271823883057,
           1.1947271823883057,
           1.1947271823883057,
           1.1947271823883057,
           1.1947271823883057,
           1.1947271823883057,
           1.1947271823883057
          ],
          [
           -1.8168964385986328,
           -1.5658715963363647,
           1.1947271823883057,
           1.1947271823883057,
           1.1947271823883057,
           1.1947271823883057,
           1.1947271823883057,
           1.1947271823883057,
           1.1947271823883057,
           1.1947271823883057,
           1.1947271823883057,
           1.1947271823883057,
           1.1947271823883057,
           1.1947271823883057,
           1.1947271823883057,
           1.1947271823883057,
           1.1947271823883057,
           1.1947271823883057,
           1.1947271823883057,
           1.1947271823883057,
           1.1947271823883057
          ],
          [
           -1.8168964385986328,
           -1.5658715963363647,
           1.1947271823883057,
           1.1947271823883057,
           1.1947271823883057,
           1.1947271823883057,
           1.1947271823883057,
           1.1947271823883057,
           1.1947271823883057,
           1.1947271823883057,
           1.1947271823883057,
           1.1947271823883057,
           1.1947271823883057,
           1.1947271823883057,
           1.1947271823883057,
           1.1947271823883057,
           1.1947271823883057,
           1.1947271823883057,
           1.1947271823883057,
           1.1947271823883057,
           1.1947271823883057
          ],
          [
           -1.8168964385986328,
           -1.5658715963363647,
           1.1947271823883057,
           1.1947271823883057,
           1.1947271823883057,
           1.1947271823883057,
           1.1947271823883057,
           1.1947271823883057,
           1.1947271823883057,
           1.1947271823883057,
           1.1947271823883057,
           1.1947271823883057,
           1.1947271823883057,
           1.1947271823883057,
           1.1947271823883057,
           1.1947271823883057,
           1.1947271823883057,
           1.1947271823883057,
           1.1947271823883057,
           1.1947271823883057,
           1.1947271823883057
          ],
          [
           -1.8168964385986328,
           -1.5658715963363647,
           1.1947271823883057,
           1.1947271823883057,
           1.1947271823883057,
           1.1947271823883057,
           1.1947271823883057,
           1.1947271823883057,
           1.1947271823883057,
           1.1947271823883057,
           1.1947271823883057,
           1.1947271823883057,
           1.1947271823883057,
           1.1947271823883057,
           1.1947271823883057,
           1.1947271823883057,
           1.1947271823883057,
           1.1947271823883057,
           1.1947271823883057,
           1.1947271823883057,
           1.1947271823883057
          ],
          [
           -1.8168964385986328,
           -1.5658715963363647,
           1.1947271823883057,
           1.1947271823883057,
           1.1947271823883057,
           1.1947271823883057,
           1.1947271823883057,
           1.1947271823883057,
           1.1947271823883057,
           1.1947271823883057,
           1.1947271823883057,
           1.1947271823883057,
           1.1947271823883057,
           1.1947271823883057,
           1.1947271823883057,
           1.1947271823883057,
           1.1947271823883057,
           1.1947271823883057,
           1.1947271823883057,
           1.1947271823883057,
           1.1947271823883057
          ],
          [
           -1.8168964385986328,
           -1.5658715963363647,
           1.1947271823883057,
           1.1947271823883057,
           1.1947271823883057,
           1.1947271823883057,
           1.1947271823883057,
           1.1947271823883057,
           1.1947271823883057,
           1.1947271823883057,
           1.1947271823883057,
           1.1947271823883057,
           1.1947271823883057,
           1.1947271823883057,
           1.1947271823883057,
           1.1947271823883057,
           1.1947271823883057,
           1.1947271823883057,
           1.1947271823883057,
           1.1947271823883057,
           1.1947271823883057
          ],
          [
           -1.8168964385986328,
           -1.5658715963363647,
           1.1947271823883057,
           1.1947271823883057,
           1.1947271823883057,
           1.1947271823883057,
           1.1947271823883057,
           1.1947271823883057,
           1.1947271823883057,
           1.1947271823883057,
           1.1947271823883057,
           1.1947271823883057,
           1.1947271823883057,
           1.1947271823883057,
           1.1947271823883057,
           1.1947271823883057,
           1.1947271823883057,
           1.1947271823883057,
           1.1947271823883057,
           1.1947271823883057,
           1.1947271823883057
          ],
          [
           -1.8168964385986328,
           -1.5658715963363647,
           1.1947271823883057,
           1.1947271823883057,
           1.1947271823883057,
           1.1947271823883057,
           1.1947271823883057,
           1.1947271823883057,
           1.1947271823883057,
           1.1947271823883057,
           1.1947271823883057,
           1.1947271823883057,
           1.1947271823883057,
           1.1947271823883057,
           1.1947271823883057,
           1.1947271823883057,
           1.1947271823883057,
           1.1947271823883057,
           1.1947271823883057,
           1.1947271823883057,
           1.1947271823883057
          ],
          [
           -1.8168964385986328,
           -1.5658715963363647,
           1.1947271823883057,
           1.1947271823883057,
           1.1947271823883057,
           1.1947271823883057,
           1.1947271823883057,
           1.1947271823883057,
           1.1947271823883057,
           1.1947271823883057,
           1.1947271823883057,
           1.1947271823883057,
           1.1947271823883057,
           1.1947271823883057,
           1.1947271823883057,
           1.1947271823883057,
           1.1947271823883057,
           1.1947271823883057,
           1.1947271823883057,
           1.1947271823883057,
           1.1947271823883057
          ],
          [
           -1.8168964385986328,
           -1.5658715963363647,
           1.1947271823883057,
           1.1947271823883057,
           1.1947271823883057,
           1.1947271823883057,
           1.1947271823883057,
           1.1947271823883057,
           1.1947271823883057,
           1.1947271823883057,
           1.1947271823883057,
           1.1947271823883057,
           1.1947271823883057,
           1.1947271823883057,
           1.1947271823883057,
           1.1947271823883057,
           1.1947271823883057,
           1.1947271823883057,
           1.1947271823883057,
           1.1947271823883057,
           1.1947271823883057
          ],
          [
           -1.8168964385986328,
           -1.5658715963363647,
           1.1947271823883057,
           1.1947271823883057,
           1.1947271823883057,
           1.1947271823883057,
           1.1947271823883057,
           1.1947271823883057,
           1.1947271823883057,
           1.1947271823883057,
           1.1947271823883057,
           1.1947271823883057,
           1.1947271823883057,
           1.1947271823883057,
           1.1947271823883057,
           1.1947271823883057,
           1.1947271823883057,
           1.1947271823883057,
           1.1947271823883057,
           1.1947271823883057,
           1.1947271823883057
          ]
         ]
        },
        {
         "coloraxis": "coloraxis",
         "hovertemplate": "x: %{x}<br>y: %{y}<br>color: %{z}<extra></extra>",
         "name": "0",
         "type": "heatmap",
         "xaxis": "x3",
         "yaxis": "y3",
         "z": [
          [
           -0.48149943351745605,
           0.33388686180114746
          ],
          [
           -0.4908193051815033,
           0.435982346534729
          ],
          [
           -1.5450737476348877,
           2.318373918533325
          ],
          [
           -1.5450737476348877,
           2.318373918533325
          ],
          [
           -1.5450737476348877,
           2.318373918533325
          ],
          [
           -1.5450737476348877,
           2.318373918533325
          ],
          [
           -1.5450737476348877,
           2.318373918533325
          ],
          [
           -1.5450737476348877,
           2.318373918533325
          ],
          [
           -1.5450737476348877,
           2.318373918533325
          ],
          [
           -1.5450737476348877,
           2.318373918533325
          ],
          [
           -1.5450737476348877,
           2.318373918533325
          ],
          [
           -1.5450737476348877,
           2.318373918533325
          ],
          [
           -1.5450737476348877,
           2.318373918533325
          ],
          [
           -1.5450737476348877,
           2.318373918533325
          ],
          [
           -1.5450737476348877,
           2.318373918533325
          ],
          [
           -1.5450737476348877,
           2.318373918533325
          ],
          [
           -1.5450737476348877,
           2.318373918533325
          ],
          [
           -1.5450737476348877,
           2.318373918533325
          ],
          [
           -1.5450737476348877,
           2.318373918533325
          ],
          [
           -1.5450737476348877,
           2.318373918533325
          ],
          [
           -1.5450739860534668,
           2.318373680114746
          ]
         ]
        },
        {
         "coloraxis": "coloraxis",
         "hovertemplate": "x: %{x}<br>y: %{y}<br>color: %{z}<extra></extra>",
         "name": "0",
         "type": "heatmap",
         "xaxis": "x4",
         "yaxis": "y4",
         "z": [
          [
           -0.5886551141738892,
           -0.9482903480529785
          ],
          [
           -0.6108844876289368,
           -1.0625406503677368
          ],
          [
           -2.030208110809326,
           -4.293342590332031
          ],
          [
           -2.030208110809326,
           -4.293342590332031
          ],
          [
           -2.030208110809326,
           -4.293342590332031
          ],
          [
           -2.030208110809326,
           -4.293342590332031
          ],
          [
           -2.030208110809326,
           -4.293342590332031
          ],
          [
           -2.030208110809326,
           -4.293342590332031
          ],
          [
           -2.030208110809326,
           -4.293342590332031
          ],
          [
           -2.030208110809326,
           -4.293342590332031
          ],
          [
           -2.030208110809326,
           -4.293342590332031
          ],
          [
           -2.030208110809326,
           -4.293342590332031
          ],
          [
           -2.030208110809326,
           -4.293342590332031
          ],
          [
           -2.030208110809326,
           -4.293342590332031
          ],
          [
           -2.030208110809326,
           -4.293342590332031
          ],
          [
           -2.030208110809326,
           -4.293342590332031
          ],
          [
           -2.030208110809326,
           -4.293342590332031
          ],
          [
           -2.030208110809326,
           -4.293342590332031
          ],
          [
           -2.030208110809326,
           -4.293342590332031
          ],
          [
           -2.030208110809326,
           -4.293342590332031
          ],
          [
           -2.030208110809326,
           -4.293342590332031
          ]
         ]
        },
        {
         "coloraxis": "coloraxis",
         "hovertemplate": "x: %{x}<br>y: %{y}<br>color: %{z}<extra></extra>",
         "name": "0",
         "type": "heatmap",
         "xaxis": "x5",
         "yaxis": "y5",
         "z": [
          [
           -1.7641464471817017,
           -5.8119940757751465
          ]
         ]
        },
        {
         "coloraxis": "coloraxis",
         "hovertemplate": "x: %{x}<br>y: %{y}<br>color: %{z}<extra></extra>",
         "name": "0",
         "type": "heatmap",
         "xaxis": "x6",
         "yaxis": "y6",
         "z": [
          [
           -1.463082194328308,
           1.6098759174346924
          ],
          [
           -1.3620511293411255,
           1.3411707878112793
          ],
          [
           -1.3620511293411255,
           1.3411707878112793
          ],
          [
           -1.3620511293411255,
           1.3411707878112793
          ],
          [
           -0.34026581048965454,
           -1.6547359228134155
          ],
          [
           -0.34026581048965454,
           -1.6547359228134155
          ],
          [
           -0.34026581048965454,
           -1.6547359228134155
          ],
          [
           -0.34026581048965454,
           -1.6547359228134155
          ],
          [
           -0.34026581048965454,
           -1.6547359228134155
          ],
          [
           -0.34026581048965454,
           -1.6547359228134155
          ],
          [
           -0.34026581048965454,
           -1.6547359228134155
          ],
          [
           -0.34026581048965454,
           -1.6547359228134155
          ],
          [
           -0.34026581048965454,
           -1.6547359228134155
          ],
          [
           -0.34026581048965454,
           -1.6547359228134155
          ],
          [
           -0.34026581048965454,
           -1.6547359228134155
          ],
          [
           -0.34026581048965454,
           -1.6547359228134155
          ],
          [
           -0.34026581048965454,
           -1.6547359228134155
          ],
          [
           -0.34026581048965454,
           -1.6547359228134155
          ],
          [
           -0.34026581048965454,
           -1.6547359228134155
          ],
          [
           -0.34026581048965454,
           -1.6547359228134155
          ],
          [
           -0.34026581048965454,
           -1.6547359228134155
          ]
         ]
        },
        {
         "coloraxis": "coloraxis",
         "hovertemplate": "x: %{x}<br>y: %{y}<br>color: %{z}<extra></extra>",
         "name": "0",
         "type": "heatmap",
         "xaxis": "x7",
         "yaxis": "y7",
         "z": [
          [
           1.4475709199905396,
           1.294237494468689,
           1.294237494468689,
           1.294237494468689,
           -0.35081031918525696,
           -0.35081031918525696,
           -0.35081031918525696,
           -0.35081031918525696,
           -0.35081031918525696,
           -0.35081031918525696,
           -0.35081031918525696,
           -0.35081031918525696,
           -0.35081031918525696,
           -0.35081031918525696,
           -0.35081031918525696,
           -0.35081031918525696,
           -0.35081031918525696,
           -0.35081031918525696,
           -0.35081031918525696,
           -0.35081031918525696,
           -0.35081031918525696
          ],
          [
           1.1804143190383911,
           1.0599266290664673,
           1.0599266290664673,
           1.0599266290664673,
           -0.22749575972557068,
           -0.22749575972557068,
           -0.22749575972557068,
           -0.22749575972557068,
           -0.22749575972557068,
           -0.22749575972557068,
           -0.22749575972557068,
           -0.22749575972557068,
           -0.22749575972557068,
           -0.22749575972557068,
           -0.22749575972557068,
           -0.22749575972557068,
           -0.22749575972557068,
           -0.22749575972557068,
           -0.22749575972557068,
           -0.22749575972557068,
           -0.22749577462673187
          ],
          [
           1.1804143190383911,
           1.0599266290664673,
           1.0599266290664673,
           1.0599266290664673,
           -0.22749575972557068,
           -0.22749575972557068,
           -0.22749575972557068,
           -0.22749575972557068,
           -0.22749575972557068,
           -0.22749575972557068,
           -0.22749575972557068,
           -0.22749575972557068,
           -0.22749575972557068,
           -0.22749575972557068,
           -0.22749575972557068,
           -0.22749575972557068,
           -0.22749575972557068,
           -0.22749575972557068,
           -0.22749575972557068,
           -0.22749575972557068,
           -0.22749577462673187
          ],
          [
           1.1804143190383911,
           1.0599266290664673,
           1.0599266290664673,
           1.0599266290664673,
           -0.22749575972557068,
           -0.22749575972557068,
           -0.22749575972557068,
           -0.22749575972557068,
           -0.22749575972557068,
           -0.22749575972557068,
           -0.22749575972557068,
           -0.22749575972557068,
           -0.22749575972557068,
           -0.22749575972557068,
           -0.22749575972557068,
           -0.22749575972557068,
           -0.22749575972557068,
           -0.22749575972557068,
           -0.22749575972557068,
           -0.22749575972557068,
           -0.22749577462673187
          ],
          [
           -1.8168964385986328,
           -1.5658715963363647,
           -1.5658715963363647,
           -1.5658715963363647,
           1.1947271823883057,
           1.1947271823883057,
           1.1947271823883057,
           1.1947271823883057,
           1.1947271823883057,
           1.1947271823883057,
           1.1947271823883057,
           1.1947271823883057,
           1.1947271823883057,
           1.1947271823883057,
           1.1947271823883057,
           1.1947271823883057,
           1.1947271823883057,
           1.1947271823883057,
           1.1947271823883057,
           1.1947271823883057,
           1.1947271823883057
          ],
          [
           -1.8168964385986328,
           -1.5658715963363647,
           -1.5658715963363647,
           -1.5658715963363647,
           1.1947271823883057,
           1.1947271823883057,
           1.1947271823883057,
           1.1947271823883057,
           1.1947271823883057,
           1.1947271823883057,
           1.1947271823883057,
           1.1947271823883057,
           1.1947271823883057,
           1.1947271823883057,
           1.1947271823883057,
           1.1947271823883057,
           1.1947271823883057,
           1.1947271823883057,
           1.1947271823883057,
           1.1947271823883057,
           1.1947271823883057
          ],
          [
           -1.8168964385986328,
           -1.5658715963363647,
           -1.5658715963363647,
           -1.5658715963363647,
           1.1947271823883057,
           1.1947271823883057,
           1.1947271823883057,
           1.1947271823883057,
           1.1947271823883057,
           1.1947271823883057,
           1.1947271823883057,
           1.1947271823883057,
           1.1947271823883057,
           1.1947271823883057,
           1.1947271823883057,
           1.1947271823883057,
           1.1947271823883057,
           1.1947271823883057,
           1.1947271823883057,
           1.1947271823883057,
           1.1947271823883057
          ],
          [
           -1.8168964385986328,
           -1.5658715963363647,
           -1.5658715963363647,
           -1.5658715963363647,
           1.1947271823883057,
           1.1947271823883057,
           1.1947271823883057,
           1.1947271823883057,
           1.1947271823883057,
           1.1947271823883057,
           1.1947271823883057,
           1.1947271823883057,
           1.1947271823883057,
           1.1947271823883057,
           1.1947271823883057,
           1.1947271823883057,
           1.1947271823883057,
           1.1947271823883057,
           1.1947271823883057,
           1.1947271823883057,
           1.1947271823883057
          ],
          [
           -1.8168964385986328,
           -1.5658715963363647,
           -1.5658715963363647,
           -1.5658715963363647,
           1.1947271823883057,
           1.1947271823883057,
           1.1947271823883057,
           1.1947271823883057,
           1.1947271823883057,
           1.1947271823883057,
           1.1947271823883057,
           1.1947271823883057,
           1.1947271823883057,
           1.1947271823883057,
           1.1947271823883057,
           1.1947271823883057,
           1.1947271823883057,
           1.1947271823883057,
           1.1947271823883057,
           1.1947271823883057,
           1.1947271823883057
          ],
          [
           -1.8168964385986328,
           -1.5658715963363647,
           -1.5658715963363647,
           -1.5658715963363647,
           1.1947271823883057,
           1.1947271823883057,
           1.1947271823883057,
           1.1947271823883057,
           1.1947271823883057,
           1.1947271823883057,
           1.1947271823883057,
           1.1947271823883057,
           1.1947271823883057,
           1.1947271823883057,
           1.1947271823883057,
           1.1947271823883057,
           1.1947271823883057,
           1.1947271823883057,
           1.1947271823883057,
           1.1947271823883057,
           1.1947271823883057
          ],
          [
           -1.8168964385986328,
           -1.5658715963363647,
           -1.5658715963363647,
           -1.5658715963363647,
           1.1947271823883057,
           1.1947271823883057,
           1.1947271823883057,
           1.1947271823883057,
           1.1947271823883057,
           1.1947271823883057,
           1.1947271823883057,
           1.1947271823883057,
           1.1947271823883057,
           1.1947271823883057,
           1.1947271823883057,
           1.1947271823883057,
           1.1947271823883057,
           1.1947271823883057,
           1.1947271823883057,
           1.1947271823883057,
           1.1947271823883057
          ],
          [
           -1.8168964385986328,
           -1.5658715963363647,
           -1.5658715963363647,
           -1.5658715963363647,
           1.1947271823883057,
           1.1947271823883057,
           1.1947271823883057,
           1.1947271823883057,
           1.1947271823883057,
           1.1947271823883057,
           1.1947271823883057,
           1.1947271823883057,
           1.1947271823883057,
           1.1947271823883057,
           1.1947271823883057,
           1.1947271823883057,
           1.1947271823883057,
           1.1947271823883057,
           1.1947271823883057,
           1.1947271823883057,
           1.1947271823883057
          ],
          [
           -1.8168964385986328,
           -1.5658715963363647,
           -1.5658715963363647,
           -1.5658715963363647,
           1.1947271823883057,
           1.1947271823883057,
           1.1947271823883057,
           1.1947271823883057,
           1.1947271823883057,
           1.1947271823883057,
           1.1947271823883057,
           1.1947271823883057,
           1.1947271823883057,
           1.1947271823883057,
           1.1947271823883057,
           1.1947271823883057,
           1.1947271823883057,
           1.1947271823883057,
           1.1947271823883057,
           1.1947271823883057,
           1.1947271823883057
          ],
          [
           -1.8168964385986328,
           -1.5658715963363647,
           -1.5658715963363647,
           -1.5658715963363647,
           1.1947271823883057,
           1.1947271823883057,
           1.1947271823883057,
           1.1947271823883057,
           1.1947271823883057,
           1.1947271823883057,
           1.1947271823883057,
           1.1947271823883057,
           1.1947271823883057,
           1.1947271823883057,
           1.1947271823883057,
           1.1947271823883057,
           1.1947271823883057,
           1.1947271823883057,
           1.1947271823883057,
           1.1947271823883057,
           1.1947271823883057
          ],
          [
           -1.8168964385986328,
           -1.5658715963363647,
           -1.5658715963363647,
           -1.5658715963363647,
           1.1947271823883057,
           1.1947271823883057,
           1.1947271823883057,
           1.1947271823883057,
           1.1947271823883057,
           1.1947271823883057,
           1.1947271823883057,
           1.1947271823883057,
           1.1947271823883057,
           1.1947271823883057,
           1.1947271823883057,
           1.1947271823883057,
           1.1947271823883057,
           1.1947271823883057,
           1.1947271823883057,
           1.1947271823883057,
           1.1947271823883057
          ],
          [
           -1.8168964385986328,
           -1.5658715963363647,
           -1.5658715963363647,
           -1.5658715963363647,
           1.1947271823883057,
           1.1947271823883057,
           1.1947271823883057,
           1.1947271823883057,
           1.1947271823883057,
           1.1947271823883057,
           1.1947271823883057,
           1.1947271823883057,
           1.1947271823883057,
           1.1947271823883057,
           1.1947271823883057,
           1.1947271823883057,
           1.1947271823883057,
           1.1947271823883057,
           1.1947271823883057,
           1.1947271823883057,
           1.1947271823883057
          ],
          [
           -1.8168964385986328,
           -1.5658715963363647,
           -1.5658715963363647,
           -1.5658715963363647,
           1.1947271823883057,
           1.1947271823883057,
           1.1947271823883057,
           1.1947271823883057,
           1.1947271823883057,
           1.1947271823883057,
           1.1947271823883057,
           1.1947271823883057,
           1.1947271823883057,
           1.1947271823883057,
           1.1947271823883057,
           1.1947271823883057,
           1.1947271823883057,
           1.1947271823883057,
           1.1947271823883057,
           1.1947271823883057,
           1.1947271823883057
          ],
          [
           -1.8168964385986328,
           -1.5658715963363647,
           -1.5658715963363647,
           -1.5658715963363647,
           1.1947271823883057,
           1.1947271823883057,
           1.1947271823883057,
           1.1947271823883057,
           1.1947271823883057,
           1.1947271823883057,
           1.1947271823883057,
           1.1947271823883057,
           1.1947271823883057,
           1.1947271823883057,
           1.1947271823883057,
           1.1947271823883057,
           1.1947271823883057,
           1.1947271823883057,
           1.1947271823883057,
           1.1947271823883057,
           1.1947271823883057
          ],
          [
           -1.8168964385986328,
           -1.5658715963363647,
           -1.5658715963363647,
           -1.5658715963363647,
           1.1947271823883057,
           1.1947271823883057,
           1.1947271823883057,
           1.1947271823883057,
           1.1947271823883057,
           1.1947271823883057,
           1.1947271823883057,
           1.1947271823883057,
           1.1947271823883057,
           1.1947271823883057,
           1.1947271823883057,
           1.1947271823883057,
           1.1947271823883057,
           1.1947271823883057,
           1.1947271823883057,
           1.1947271823883057,
           1.1947271823883057
          ],
          [
           -1.8168964385986328,
           -1.5658715963363647,
           -1.5658715963363647,
           -1.5658715963363647,
           1.1947271823883057,
           1.1947271823883057,
           1.1947271823883057,
           1.1947271823883057,
           1.1947271823883057,
           1.1947271823883057,
           1.1947271823883057,
           1.1947271823883057,
           1.1947271823883057,
           1.1947271823883057,
           1.1947271823883057,
           1.1947271823883057,
           1.1947271823883057,
           1.1947271823883057,
           1.1947271823883057,
           1.1947271823883057,
           1.1947271823883057
          ],
          [
           -1.8168964385986328,
           -1.5658715963363647,
           -1.5658715963363647,
           -1.5658715963363647,
           1.1947271823883057,
           1.1947271823883057,
           1.1947271823883057,
           1.1947271823883057,
           1.1947271823883057,
           1.1947271823883057,
           1.1947271823883057,
           1.1947271823883057,
           1.1947271823883057,
           1.1947271823883057,
           1.1947271823883057,
           1.1947271823883057,
           1.1947271823883057,
           1.1947271823883057,
           1.1947271823883057,
           1.1947271823883057,
           1.1947271823883057
          ]
         ]
        },
        {
         "coloraxis": "coloraxis",
         "hovertemplate": "x: %{x}<br>y: %{y}<br>color: %{z}<extra></extra>",
         "name": "0",
         "type": "heatmap",
         "xaxis": "x8",
         "yaxis": "y8",
         "z": [
          [
           -0.5392712354660034,
           0.33067649602890015
          ],
          [
           -0.5338137745857239,
           0.4272688627243042
          ],
          [
           -0.5338137745857239,
           0.4272688627243042
          ],
          [
           -0.5338137745857239,
           0.4272688627243042
          ],
          [
           -1.503928303718567,
           2.2494115829467773
          ],
          [
           -1.503928303718567,
           2.2494115829467773
          ],
          [
           -1.503928303718567,
           2.2494115829467773
          ],
          [
           -1.503928303718567,
           2.2494115829467773
          ],
          [
           -1.503928303718567,
           2.2494115829467773
          ],
          [
           -1.503928303718567,
           2.2494115829467773
          ],
          [
           -1.503928303718567,
           2.2494115829467773
          ],
          [
           -1.503928303718567,
           2.2494115829467773
          ],
          [
           -1.503928303718567,
           2.2494115829467773
          ],
          [
           -1.503928303718567,
           2.2494115829467773
          ],
          [
           -1.503928303718567,
           2.2494115829467773
          ],
          [
           -1.503928303718567,
           2.2494115829467773
          ],
          [
           -1.503928303718567,
           2.2494115829467773
          ],
          [
           -1.503928303718567,
           2.2494115829467773
          ],
          [
           -1.503928303718567,
           2.2494115829467773
          ],
          [
           -1.503928303718567,
           2.2494115829467773
          ],
          [
           -1.5039281845092773,
           2.2494115829467773
          ]
         ]
        },
        {
         "coloraxis": "coloraxis",
         "hovertemplate": "x: %{x}<br>y: %{y}<br>color: %{z}<extra></extra>",
         "name": "0",
         "type": "heatmap",
         "xaxis": "x9",
         "yaxis": "y9",
         "z": [
          [
           -0.6543810367584229,
           -1.0186792612075806
          ],
          [
           -0.6590819358825684,
           -1.1085833311080933
          ],
          [
           -0.6590819358825684,
           -1.1085833311080933
          ],
          [
           -0.6590819358825684,
           -1.1085833311080933
          ],
          [
           -1.9753248691558838,
           -4.171767234802246
          ],
          [
           -1.9753248691558838,
           -4.171767234802246
          ],
          [
           -1.9753248691558838,
           -4.171767234802246
          ],
          [
           -1.9753248691558838,
           -4.171767234802246
          ],
          [
           -1.9753248691558838,
           -4.171767234802246
          ],
          [
           -1.9753248691558838,
           -4.171767234802246
          ],
          [
           -1.9753248691558838,
           -4.171767234802246
          ],
          [
           -1.9753248691558838,
           -4.171767234802246
          ],
          [
           -1.9753248691558838,
           -4.171767234802246
          ],
          [
           -1.9753248691558838,
           -4.171767234802246
          ],
          [
           -1.9753248691558838,
           -4.171767234802246
          ],
          [
           -1.9753248691558838,
           -4.171767234802246
          ],
          [
           -1.9753248691558838,
           -4.171767234802246
          ],
          [
           -1.9753248691558838,
           -4.171767234802246
          ],
          [
           -1.9753248691558838,
           -4.171767234802246
          ],
          [
           -1.9753248691558838,
           -4.171767234802246
          ],
          [
           -1.9753247499465942,
           -4.171766757965088
          ]
         ]
        },
        {
         "coloraxis": "coloraxis",
         "hovertemplate": "x: %{x}<br>y: %{y}<br>color: %{z}<extra></extra>",
         "name": "0",
         "type": "heatmap",
         "xaxis": "x10",
         "yaxis": "y10",
         "z": [
          [
           -1.7092632055282593,
           -5.690418243408203
          ]
         ]
        },
        {
         "coloraxis": "coloraxis",
         "hovertemplate": "x: %{x}<br>y: %{y}<br>color: %{z}<extra></extra>",
         "name": "0",
         "type": "heatmap",
         "xaxis": "x11",
         "yaxis": "y11",
         "z": [
          [
           -1.463082194328308,
           1.6098759174346924
          ],
          [
           -1.3620511293411255,
           1.3411707878112793
          ],
          [
           -1.3620511293411255,
           1.3411707878112793
          ],
          [
           -1.3620511293411255,
           1.3411707878112793
          ],
          [
           -1.3620511293411255,
           1.3411707878112793
          ],
          [
           -1.3620511293411255,
           1.3411707878112793
          ],
          [
           -0.34026581048965454,
           -1.6547359228134155
          ],
          [
           -0.34026581048965454,
           -1.6547359228134155
          ],
          [
           -0.34026581048965454,
           -1.6547359228134155
          ],
          [
           -0.34026581048965454,
           -1.6547359228134155
          ],
          [
           -0.34026581048965454,
           -1.6547359228134155
          ],
          [
           -0.34026581048965454,
           -1.6547359228134155
          ],
          [
           -0.34026581048965454,
           -1.6547359228134155
          ],
          [
           -0.34026581048965454,
           -1.6547359228134155
          ],
          [
           -0.34026581048965454,
           -1.6547359228134155
          ],
          [
           -0.34026581048965454,
           -1.6547359228134155
          ],
          [
           -0.34026581048965454,
           -1.6547359228134155
          ],
          [
           -0.34026581048965454,
           -1.6547359228134155
          ],
          [
           -0.34026581048965454,
           -1.6547359228134155
          ],
          [
           -0.34026581048965454,
           -1.6547359228134155
          ],
          [
           -0.34026581048965454,
           -1.6547359228134155
          ]
         ]
        },
        {
         "coloraxis": "coloraxis",
         "hovertemplate": "x: %{x}<br>y: %{y}<br>color: %{z}<extra></extra>",
         "name": "0",
         "type": "heatmap",
         "xaxis": "x12",
         "yaxis": "y12",
         "z": [
          [
           1.4475709199905396,
           1.294237494468689,
           1.294237494468689,
           1.294237494468689,
           1.294237494468689,
           1.294237494468689,
           -0.35081031918525696,
           -0.35081031918525696,
           -0.35081031918525696,
           -0.35081031918525696,
           -0.35081031918525696,
           -0.35081031918525696,
           -0.35081031918525696,
           -0.35081031918525696,
           -0.35081031918525696,
           -0.35081031918525696,
           -0.35081031918525696,
           -0.35081031918525696,
           -0.35081031918525696,
           -0.35081031918525696,
           -0.35081031918525696
          ],
          [
           1.1804143190383911,
           1.0599266290664673,
           1.0599266290664673,
           1.0599266290664673,
           1.0599266290664673,
           1.0599266290664673,
           -0.22749575972557068,
           -0.22749575972557068,
           -0.22749575972557068,
           -0.22749575972557068,
           -0.22749575972557068,
           -0.22749575972557068,
           -0.22749575972557068,
           -0.22749575972557068,
           -0.22749575972557068,
           -0.22749575972557068,
           -0.22749575972557068,
           -0.22749575972557068,
           -0.22749575972557068,
           -0.22749575972557068,
           -0.22749577462673187
          ],
          [
           1.1804143190383911,
           1.0599266290664673,
           1.0599266290664673,
           1.0599266290664673,
           1.0599266290664673,
           1.0599266290664673,
           -0.22749575972557068,
           -0.22749575972557068,
           -0.22749575972557068,
           -0.22749575972557068,
           -0.22749575972557068,
           -0.22749575972557068,
           -0.22749575972557068,
           -0.22749575972557068,
           -0.22749575972557068,
           -0.22749575972557068,
           -0.22749575972557068,
           -0.22749575972557068,
           -0.22749575972557068,
           -0.22749575972557068,
           -0.22749577462673187
          ],
          [
           1.1804143190383911,
           1.0599266290664673,
           1.0599266290664673,
           1.0599266290664673,
           1.0599266290664673,
           1.0599266290664673,
           -0.22749575972557068,
           -0.22749575972557068,
           -0.22749575972557068,
           -0.22749575972557068,
           -0.22749575972557068,
           -0.22749575972557068,
           -0.22749575972557068,
           -0.22749575972557068,
           -0.22749575972557068,
           -0.22749575972557068,
           -0.22749575972557068,
           -0.22749575972557068,
           -0.22749575972557068,
           -0.22749575972557068,
           -0.22749577462673187
          ],
          [
           1.1804143190383911,
           1.0599266290664673,
           1.0599266290664673,
           1.0599266290664673,
           1.0599266290664673,
           1.0599266290664673,
           -0.22749575972557068,
           -0.22749575972557068,
           -0.22749575972557068,
           -0.22749575972557068,
           -0.22749575972557068,
           -0.22749575972557068,
           -0.22749575972557068,
           -0.22749575972557068,
           -0.22749575972557068,
           -0.22749575972557068,
           -0.22749575972557068,
           -0.22749575972557068,
           -0.22749575972557068,
           -0.22749575972557068,
           -0.22749577462673187
          ],
          [
           1.1804143190383911,
           1.0599266290664673,
           1.0599266290664673,
           1.0599266290664673,
           1.0599266290664673,
           1.0599266290664673,
           -0.22749575972557068,
           -0.22749575972557068,
           -0.22749575972557068,
           -0.22749575972557068,
           -0.22749575972557068,
           -0.22749575972557068,
           -0.22749575972557068,
           -0.22749575972557068,
           -0.22749575972557068,
           -0.22749575972557068,
           -0.22749575972557068,
           -0.22749575972557068,
           -0.22749575972557068,
           -0.22749575972557068,
           -0.22749577462673187
          ],
          [
           -1.8168964385986328,
           -1.5658715963363647,
           -1.5658715963363647,
           -1.5658715963363647,
           -1.5658715963363647,
           -1.5658715963363647,
           1.1947271823883057,
           1.1947271823883057,
           1.1947271823883057,
           1.1947271823883057,
           1.1947271823883057,
           1.1947271823883057,
           1.1947271823883057,
           1.1947271823883057,
           1.1947271823883057,
           1.1947271823883057,
           1.1947271823883057,
           1.1947271823883057,
           1.1947271823883057,
           1.1947271823883057,
           1.1947271823883057
          ],
          [
           -1.8168964385986328,
           -1.5658715963363647,
           -1.5658715963363647,
           -1.5658715963363647,
           -1.5658715963363647,
           -1.5658715963363647,
           1.1947271823883057,
           1.1947271823883057,
           1.1947271823883057,
           1.1947271823883057,
           1.1947271823883057,
           1.1947271823883057,
           1.1947271823883057,
           1.1947271823883057,
           1.1947271823883057,
           1.1947271823883057,
           1.1947271823883057,
           1.1947271823883057,
           1.1947271823883057,
           1.1947271823883057,
           1.1947271823883057
          ],
          [
           -1.8168964385986328,
           -1.5658715963363647,
           -1.5658715963363647,
           -1.5658715963363647,
           -1.5658715963363647,
           -1.5658715963363647,
           1.1947271823883057,
           1.1947271823883057,
           1.1947271823883057,
           1.1947271823883057,
           1.1947271823883057,
           1.1947271823883057,
           1.1947271823883057,
           1.1947271823883057,
           1.1947271823883057,
           1.1947271823883057,
           1.1947271823883057,
           1.1947271823883057,
           1.1947271823883057,
           1.1947271823883057,
           1.1947271823883057
          ],
          [
           -1.8168964385986328,
           -1.5658715963363647,
           -1.5658715963363647,
           -1.5658715963363647,
           -1.5658715963363647,
           -1.5658715963363647,
           1.1947271823883057,
           1.1947271823883057,
           1.1947271823883057,
           1.1947271823883057,
           1.1947271823883057,
           1.1947271823883057,
           1.1947271823883057,
           1.1947271823883057,
           1.1947271823883057,
           1.1947271823883057,
           1.1947271823883057,
           1.1947271823883057,
           1.1947271823883057,
           1.1947271823883057,
           1.1947271823883057
          ],
          [
           -1.8168964385986328,
           -1.5658715963363647,
           -1.5658715963363647,
           -1.5658715963363647,
           -1.5658715963363647,
           -1.5658715963363647,
           1.1947271823883057,
           1.1947271823883057,
           1.1947271823883057,
           1.1947271823883057,
           1.1947271823883057,
           1.1947271823883057,
           1.1947271823883057,
           1.1947271823883057,
           1.1947271823883057,
           1.1947271823883057,
           1.1947271823883057,
           1.1947271823883057,
           1.1947271823883057,
           1.1947271823883057,
           1.1947271823883057
          ],
          [
           -1.8168964385986328,
           -1.5658715963363647,
           -1.5658715963363647,
           -1.5658715963363647,
           -1.5658715963363647,
           -1.5658715963363647,
           1.1947271823883057,
           1.1947271823883057,
           1.1947271823883057,
           1.1947271823883057,
           1.1947271823883057,
           1.1947271823883057,
           1.1947271823883057,
           1.1947271823883057,
           1.1947271823883057,
           1.1947271823883057,
           1.1947271823883057,
           1.1947271823883057,
           1.1947271823883057,
           1.1947271823883057,
           1.1947271823883057
          ],
          [
           -1.8168964385986328,
           -1.5658715963363647,
           -1.5658715963363647,
           -1.5658715963363647,
           -1.5658715963363647,
           -1.5658715963363647,
           1.1947271823883057,
           1.1947271823883057,
           1.1947271823883057,
           1.1947271823883057,
           1.1947271823883057,
           1.1947271823883057,
           1.1947271823883057,
           1.1947271823883057,
           1.1947271823883057,
           1.1947271823883057,
           1.1947271823883057,
           1.1947271823883057,
           1.1947271823883057,
           1.1947271823883057,
           1.1947271823883057
          ],
          [
           -1.8168964385986328,
           -1.5658715963363647,
           -1.5658715963363647,
           -1.5658715963363647,
           -1.5658715963363647,
           -1.5658715963363647,
           1.1947271823883057,
           1.1947271823883057,
           1.1947271823883057,
           1.1947271823883057,
           1.1947271823883057,
           1.1947271823883057,
           1.1947271823883057,
           1.1947271823883057,
           1.1947271823883057,
           1.1947271823883057,
           1.1947271823883057,
           1.1947271823883057,
           1.1947271823883057,
           1.1947271823883057,
           1.1947271823883057
          ],
          [
           -1.8168964385986328,
           -1.5658715963363647,
           -1.5658715963363647,
           -1.5658715963363647,
           -1.5658715963363647,
           -1.5658715963363647,
           1.1947271823883057,
           1.1947271823883057,
           1.1947271823883057,
           1.1947271823883057,
           1.1947271823883057,
           1.1947271823883057,
           1.1947271823883057,
           1.1947271823883057,
           1.1947271823883057,
           1.1947271823883057,
           1.1947271823883057,
           1.1947271823883057,
           1.1947271823883057,
           1.1947271823883057,
           1.1947271823883057
          ],
          [
           -1.8168964385986328,
           -1.5658715963363647,
           -1.5658715963363647,
           -1.5658715963363647,
           -1.5658715963363647,
           -1.5658715963363647,
           1.1947271823883057,
           1.1947271823883057,
           1.1947271823883057,
           1.1947271823883057,
           1.1947271823883057,
           1.1947271823883057,
           1.1947271823883057,
           1.1947271823883057,
           1.1947271823883057,
           1.1947271823883057,
           1.1947271823883057,
           1.1947271823883057,
           1.1947271823883057,
           1.1947271823883057,
           1.1947271823883057
          ],
          [
           -1.8168964385986328,
           -1.5658715963363647,
           -1.5658715963363647,
           -1.5658715963363647,
           -1.5658715963363647,
           -1.5658715963363647,
           1.1947271823883057,
           1.1947271823883057,
           1.1947271823883057,
           1.1947271823883057,
           1.1947271823883057,
           1.1947271823883057,
           1.1947271823883057,
           1.1947271823883057,
           1.1947271823883057,
           1.1947271823883057,
           1.1947271823883057,
           1.1947271823883057,
           1.1947271823883057,
           1.1947271823883057,
           1.1947271823883057
          ],
          [
           -1.8168964385986328,
           -1.5658715963363647,
           -1.5658715963363647,
           -1.5658715963363647,
           -1.5658715963363647,
           -1.5658715963363647,
           1.1947271823883057,
           1.1947271823883057,
           1.1947271823883057,
           1.1947271823883057,
           1.1947271823883057,
           1.1947271823883057,
           1.1947271823883057,
           1.1947271823883057,
           1.1947271823883057,
           1.1947271823883057,
           1.1947271823883057,
           1.1947271823883057,
           1.1947271823883057,
           1.1947271823883057,
           1.1947271823883057
          ],
          [
           -1.8168964385986328,
           -1.5658715963363647,
           -1.5658715963363647,
           -1.5658715963363647,
           -1.5658715963363647,
           -1.5658715963363647,
           1.1947271823883057,
           1.1947271823883057,
           1.1947271823883057,
           1.1947271823883057,
           1.1947271823883057,
           1.1947271823883057,
           1.1947271823883057,
           1.1947271823883057,
           1.1947271823883057,
           1.1947271823883057,
           1.1947271823883057,
           1.1947271823883057,
           1.1947271823883057,
           1.1947271823883057,
           1.1947271823883057
          ],
          [
           -1.8168964385986328,
           -1.5658715963363647,
           -1.5658715963363647,
           -1.5658715963363647,
           -1.5658715963363647,
           -1.5658715963363647,
           1.1947271823883057,
           1.1947271823883057,
           1.1947271823883057,
           1.1947271823883057,
           1.1947271823883057,
           1.1947271823883057,
           1.1947271823883057,
           1.1947271823883057,
           1.1947271823883057,
           1.1947271823883057,
           1.1947271823883057,
           1.1947271823883057,
           1.1947271823883057,
           1.1947271823883057,
           1.1947271823883057
          ],
          [
           -1.8168964385986328,
           -1.5658715963363647,
           -1.5658715963363647,
           -1.5658715963363647,
           -1.5658715963363647,
           -1.5658715963363647,
           1.1947271823883057,
           1.1947271823883057,
           1.1947271823883057,
           1.1947271823883057,
           1.1947271823883057,
           1.1947271823883057,
           1.1947271823883057,
           1.1947271823883057,
           1.1947271823883057,
           1.1947271823883057,
           1.1947271823883057,
           1.1947271823883057,
           1.1947271823883057,
           1.1947271823883057,
           1.1947271823883057
          ]
         ]
        },
        {
         "coloraxis": "coloraxis",
         "hovertemplate": "x: %{x}<br>y: %{y}<br>color: %{z}<extra></extra>",
         "name": "0",
         "type": "heatmap",
         "xaxis": "x13",
         "yaxis": "y13",
         "z": [
          [
           -0.5619699954986572,
           0.3174060583114624
          ],
          [
           -0.5481366515159607,
           0.41031625866889954
          ],
          [
           -0.5481366515159607,
           0.41031625866889954
          ],
          [
           -0.5481366515159607,
           0.41031625866889954
          ],
          [
           -0.5481366515159607,
           0.41031625866889954
          ],
          [
           -0.5481366515159607,
           0.41031625866889954
          ],
          [
           -1.4522408246994019,
           2.1678004264831543
          ],
          [
           -1.4522408246994019,
           2.1678004264831543
          ],
          [
           -1.4522408246994019,
           2.1678004264831543
          ],
          [
           -1.4522408246994019,
           2.1678004264831543
          ],
          [
           -1.4522408246994019,
           2.1678004264831543
          ],
          [
           -1.4522408246994019,
           2.1678004264831543
          ],
          [
           -1.4522408246994019,
           2.1678004264831543
          ],
          [
           -1.4522408246994019,
           2.1678004264831543
          ],
          [
           -1.4522408246994019,
           2.1678004264831543
          ],
          [
           -1.4522408246994019,
           2.1678004264831543
          ],
          [
           -1.4522408246994019,
           2.1678004264831543
          ],
          [
           -1.4522408246994019,
           2.1678004264831543
          ],
          [
           -1.4522408246994019,
           2.1678004264831543
          ],
          [
           -1.4522408246994019,
           2.1678004264831543
          ],
          [
           -1.4522407054901123,
           2.1678006649017334
          ]
         ]
        },
        {
         "coloraxis": "coloraxis",
         "hovertemplate": "x: %{x}<br>y: %{y}<br>color: %{z}<extra></extra>",
         "name": "0",
         "type": "heatmap",
         "xaxis": "x14",
         "yaxis": "y14",
         "z": [
          [
           -0.6788443922996521,
           -1.034293293952942
          ],
          [
           -0.6735462546348572,
           -1.1098332405090332
          ],
          [
           -0.6735462546348572,
           -1.1098332405090332
          ],
          [
           -0.6735462546348572,
           -1.1098332405090332
          ],
          [
           -0.6735462546348572,
           -1.1098332405090332
          ],
          [
           -0.6735462546348572,
           -1.1098332405090332
          ],
          [
           -1.9069488048553467,
           -4.024075984954834
          ],
          [
           -1.9069488048553467,
           -4.024075984954834
          ],
          [
           -1.9069488048553467,
           -4.024075984954834
          ],
          [
           -1.9069488048553467,
           -4.024075984954834
          ],
          [
           -1.9069488048553467,
           -4.024075984954834
          ],
          [
           -1.9069488048553467,
           -4.024075984954834
          ],
          [
           -1.9069488048553467,
           -4.024075984954834
          ],
          [
           -1.9069488048553467,
           -4.024075984954834
          ],
          [
           -1.9069488048553467,
           -4.024075984954834
          ],
          [
           -1.9069488048553467,
           -4.024075984954834
          ],
          [
           -1.9069488048553467,
           -4.024075984954834
          ],
          [
           -1.9069488048553467,
           -4.024075984954834
          ],
          [
           -1.9069488048553467,
           -4.024075984954834
          ],
          [
           -1.9069488048553467,
           -4.024075984954834
          ],
          [
           -1.9069486856460571,
           -4.024075984954834
          ]
         ]
        },
        {
         "coloraxis": "coloraxis",
         "hovertemplate": "x: %{x}<br>y: %{y}<br>color: %{z}<extra></extra>",
         "name": "0",
         "type": "heatmap",
         "xaxis": "x15",
         "yaxis": "y15",
         "z": [
          [
           -1.6408871412277222,
           -5.542727470397949
          ]
         ]
        },
        {
         "coloraxis": "coloraxis",
         "hovertemplate": "x: %{x}<br>y: %{y}<br>color: %{z}<extra></extra>",
         "name": "0",
         "type": "heatmap",
         "xaxis": "x16",
         "yaxis": "y16",
         "z": [
          [
           -1.463082194328308,
           1.6098759174346924
          ],
          [
           -1.3620511293411255,
           1.3411707878112793
          ],
          [
           -1.3620511293411255,
           1.3411707878112793
          ],
          [
           -1.3620511293411255,
           1.3411707878112793
          ],
          [
           -1.3620511293411255,
           1.3411707878112793
          ],
          [
           -1.3620511293411255,
           1.3411707878112793
          ],
          [
           -1.3620511293411255,
           1.3411707878112793
          ],
          [
           -1.3620511293411255,
           1.3411707878112793
          ],
          [
           -0.34026581048965454,
           -1.6547359228134155
          ],
          [
           -0.34026581048965454,
           -1.6547359228134155
          ],
          [
           -0.34026581048965454,
           -1.6547359228134155
          ],
          [
           -0.34026581048965454,
           -1.6547359228134155
          ],
          [
           -0.34026581048965454,
           -1.6547359228134155
          ],
          [
           -0.34026581048965454,
           -1.6547359228134155
          ],
          [
           -0.34026581048965454,
           -1.6547359228134155
          ],
          [
           -0.34026581048965454,
           -1.6547359228134155
          ],
          [
           -0.34026581048965454,
           -1.6547359228134155
          ],
          [
           -0.34026581048965454,
           -1.6547359228134155
          ],
          [
           -0.34026581048965454,
           -1.6547359228134155
          ],
          [
           -0.34026581048965454,
           -1.6547359228134155
          ],
          [
           -0.34026581048965454,
           -1.6547359228134155
          ]
         ]
        },
        {
         "coloraxis": "coloraxis",
         "hovertemplate": "x: %{x}<br>y: %{y}<br>color: %{z}<extra></extra>",
         "name": "0",
         "type": "heatmap",
         "xaxis": "x17",
         "yaxis": "y17",
         "z": [
          [
           1.4475709199905396,
           1.294237494468689,
           1.294237494468689,
           1.294237494468689,
           1.294237494468689,
           1.294237494468689,
           1.294237494468689,
           1.294237494468689,
           -0.35081031918525696,
           -0.35081031918525696,
           -0.35081031918525696,
           -0.35081031918525696,
           -0.35081031918525696,
           -0.35081031918525696,
           -0.35081031918525696,
           -0.35081031918525696,
           -0.35081031918525696,
           -0.35081031918525696,
           -0.35081031918525696,
           -0.35081031918525696,
           -0.35081031918525696
          ],
          [
           1.1804143190383911,
           1.0599266290664673,
           1.0599266290664673,
           1.0599266290664673,
           1.0599266290664673,
           1.0599266290664673,
           1.0599266290664673,
           1.0599266290664673,
           -0.22749575972557068,
           -0.22749575972557068,
           -0.22749575972557068,
           -0.22749575972557068,
           -0.22749575972557068,
           -0.22749575972557068,
           -0.22749575972557068,
           -0.22749575972557068,
           -0.22749575972557068,
           -0.22749575972557068,
           -0.22749575972557068,
           -0.22749575972557068,
           -0.22749577462673187
          ],
          [
           1.1804143190383911,
           1.0599266290664673,
           1.0599266290664673,
           1.0599266290664673,
           1.0599266290664673,
           1.0599266290664673,
           1.0599266290664673,
           1.0599266290664673,
           -0.22749575972557068,
           -0.22749575972557068,
           -0.22749575972557068,
           -0.22749575972557068,
           -0.22749575972557068,
           -0.22749575972557068,
           -0.22749575972557068,
           -0.22749575972557068,
           -0.22749575972557068,
           -0.22749575972557068,
           -0.22749575972557068,
           -0.22749575972557068,
           -0.22749577462673187
          ],
          [
           1.1804143190383911,
           1.0599266290664673,
           1.0599266290664673,
           1.0599266290664673,
           1.0599266290664673,
           1.0599266290664673,
           1.0599266290664673,
           1.0599266290664673,
           -0.22749575972557068,
           -0.22749575972557068,
           -0.22749575972557068,
           -0.22749575972557068,
           -0.22749575972557068,
           -0.22749575972557068,
           -0.22749575972557068,
           -0.22749575972557068,
           -0.22749575972557068,
           -0.22749575972557068,
           -0.22749575972557068,
           -0.22749575972557068,
           -0.22749577462673187
          ],
          [
           1.1804143190383911,
           1.0599266290664673,
           1.0599266290664673,
           1.0599266290664673,
           1.0599266290664673,
           1.0599266290664673,
           1.0599266290664673,
           1.0599266290664673,
           -0.22749575972557068,
           -0.22749575972557068,
           -0.22749575972557068,
           -0.22749575972557068,
           -0.22749575972557068,
           -0.22749575972557068,
           -0.22749575972557068,
           -0.22749575972557068,
           -0.22749575972557068,
           -0.22749575972557068,
           -0.22749575972557068,
           -0.22749575972557068,
           -0.22749577462673187
          ],
          [
           1.1804143190383911,
           1.0599266290664673,
           1.0599266290664673,
           1.0599266290664673,
           1.0599266290664673,
           1.0599266290664673,
           1.0599266290664673,
           1.0599266290664673,
           -0.22749575972557068,
           -0.22749575972557068,
           -0.22749575972557068,
           -0.22749575972557068,
           -0.22749575972557068,
           -0.22749575972557068,
           -0.22749575972557068,
           -0.22749575972557068,
           -0.22749575972557068,
           -0.22749575972557068,
           -0.22749575972557068,
           -0.22749575972557068,
           -0.22749577462673187
          ],
          [
           1.1804143190383911,
           1.0599266290664673,
           1.0599266290664673,
           1.0599266290664673,
           1.0599266290664673,
           1.0599266290664673,
           1.0599266290664673,
           1.0599266290664673,
           -0.22749575972557068,
           -0.22749575972557068,
           -0.22749575972557068,
           -0.22749575972557068,
           -0.22749575972557068,
           -0.22749575972557068,
           -0.22749575972557068,
           -0.22749575972557068,
           -0.22749575972557068,
           -0.22749575972557068,
           -0.22749575972557068,
           -0.22749575972557068,
           -0.22749577462673187
          ],
          [
           1.1804143190383911,
           1.0599266290664673,
           1.0599266290664673,
           1.0599266290664673,
           1.0599266290664673,
           1.0599266290664673,
           1.0599266290664673,
           1.0599266290664673,
           -0.22749575972557068,
           -0.22749575972557068,
           -0.22749575972557068,
           -0.22749575972557068,
           -0.22749575972557068,
           -0.22749575972557068,
           -0.22749575972557068,
           -0.22749575972557068,
           -0.22749575972557068,
           -0.22749575972557068,
           -0.22749575972557068,
           -0.22749575972557068,
           -0.22749577462673187
          ],
          [
           -1.8168964385986328,
           -1.5658715963363647,
           -1.5658715963363647,
           -1.5658715963363647,
           -1.5658715963363647,
           -1.5658715963363647,
           -1.5658715963363647,
           -1.5658715963363647,
           1.1947271823883057,
           1.1947271823883057,
           1.1947271823883057,
           1.1947271823883057,
           1.1947271823883057,
           1.1947271823883057,
           1.1947271823883057,
           1.1947271823883057,
           1.1947271823883057,
           1.1947271823883057,
           1.1947271823883057,
           1.1947271823883057,
           1.1947271823883057
          ],
          [
           -1.8168964385986328,
           -1.5658715963363647,
           -1.5658715963363647,
           -1.5658715963363647,
           -1.5658715963363647,
           -1.5658715963363647,
           -1.5658715963363647,
           -1.5658715963363647,
           1.1947271823883057,
           1.1947271823883057,
           1.1947271823883057,
           1.1947271823883057,
           1.1947271823883057,
           1.1947271823883057,
           1.1947271823883057,
           1.1947271823883057,
           1.1947271823883057,
           1.1947271823883057,
           1.1947271823883057,
           1.1947271823883057,
           1.1947271823883057
          ],
          [
           -1.8168964385986328,
           -1.5658715963363647,
           -1.5658715963363647,
           -1.5658715963363647,
           -1.5658715963363647,
           -1.5658715963363647,
           -1.5658715963363647,
           -1.5658715963363647,
           1.1947271823883057,
           1.1947271823883057,
           1.1947271823883057,
           1.1947271823883057,
           1.1947271823883057,
           1.1947271823883057,
           1.1947271823883057,
           1.1947271823883057,
           1.1947271823883057,
           1.1947271823883057,
           1.1947271823883057,
           1.1947271823883057,
           1.1947271823883057
          ],
          [
           -1.8168964385986328,
           -1.5658715963363647,
           -1.5658715963363647,
           -1.5658715963363647,
           -1.5658715963363647,
           -1.5658715963363647,
           -1.5658715963363647,
           -1.5658715963363647,
           1.1947271823883057,
           1.1947271823883057,
           1.1947271823883057,
           1.1947271823883057,
           1.1947271823883057,
           1.1947271823883057,
           1.1947271823883057,
           1.1947271823883057,
           1.1947271823883057,
           1.1947271823883057,
           1.1947271823883057,
           1.1947271823883057,
           1.1947271823883057
          ],
          [
           -1.8168964385986328,
           -1.5658715963363647,
           -1.5658715963363647,
           -1.5658715963363647,
           -1.5658715963363647,
           -1.5658715963363647,
           -1.5658715963363647,
           -1.5658715963363647,
           1.1947271823883057,
           1.1947271823883057,
           1.1947271823883057,
           1.1947271823883057,
           1.1947271823883057,
           1.1947271823883057,
           1.1947271823883057,
           1.1947271823883057,
           1.1947271823883057,
           1.1947271823883057,
           1.1947271823883057,
           1.1947271823883057,
           1.1947271823883057
          ],
          [
           -1.8168964385986328,
           -1.5658715963363647,
           -1.5658715963363647,
           -1.5658715963363647,
           -1.5658715963363647,
           -1.5658715963363647,
           -1.5658715963363647,
           -1.5658715963363647,
           1.1947271823883057,
           1.1947271823883057,
           1.1947271823883057,
           1.1947271823883057,
           1.1947271823883057,
           1.1947271823883057,
           1.1947271823883057,
           1.1947271823883057,
           1.1947271823883057,
           1.1947271823883057,
           1.1947271823883057,
           1.1947271823883057,
           1.1947271823883057
          ],
          [
           -1.8168964385986328,
           -1.5658715963363647,
           -1.5658715963363647,
           -1.5658715963363647,
           -1.5658715963363647,
           -1.5658715963363647,
           -1.5658715963363647,
           -1.5658715963363647,
           1.1947271823883057,
           1.1947271823883057,
           1.1947271823883057,
           1.1947271823883057,
           1.1947271823883057,
           1.1947271823883057,
           1.1947271823883057,
           1.1947271823883057,
           1.1947271823883057,
           1.1947271823883057,
           1.1947271823883057,
           1.1947271823883057,
           1.1947271823883057
          ],
          [
           -1.8168964385986328,
           -1.5658715963363647,
           -1.5658715963363647,
           -1.5658715963363647,
           -1.5658715963363647,
           -1.5658715963363647,
           -1.5658715963363647,
           -1.5658715963363647,
           1.1947271823883057,
           1.1947271823883057,
           1.1947271823883057,
           1.1947271823883057,
           1.1947271823883057,
           1.1947271823883057,
           1.1947271823883057,
           1.1947271823883057,
           1.1947271823883057,
           1.1947271823883057,
           1.1947271823883057,
           1.1947271823883057,
           1.1947271823883057
          ],
          [
           -1.8168964385986328,
           -1.5658715963363647,
           -1.5658715963363647,
           -1.5658715963363647,
           -1.5658715963363647,
           -1.5658715963363647,
           -1.5658715963363647,
           -1.5658715963363647,
           1.1947271823883057,
           1.1947271823883057,
           1.1947271823883057,
           1.1947271823883057,
           1.1947271823883057,
           1.1947271823883057,
           1.1947271823883057,
           1.1947271823883057,
           1.1947271823883057,
           1.1947271823883057,
           1.1947271823883057,
           1.1947271823883057,
           1.1947271823883057
          ],
          [
           -1.8168964385986328,
           -1.5658715963363647,
           -1.5658715963363647,
           -1.5658715963363647,
           -1.5658715963363647,
           -1.5658715963363647,
           -1.5658715963363647,
           -1.5658715963363647,
           1.1947271823883057,
           1.1947271823883057,
           1.1947271823883057,
           1.1947271823883057,
           1.1947271823883057,
           1.1947271823883057,
           1.1947271823883057,
           1.1947271823883057,
           1.1947271823883057,
           1.1947271823883057,
           1.1947271823883057,
           1.1947271823883057,
           1.1947271823883057
          ],
          [
           -1.8168964385986328,
           -1.5658715963363647,
           -1.5658715963363647,
           -1.5658715963363647,
           -1.5658715963363647,
           -1.5658715963363647,
           -1.5658715963363647,
           -1.5658715963363647,
           1.1947271823883057,
           1.1947271823883057,
           1.1947271823883057,
           1.1947271823883057,
           1.1947271823883057,
           1.1947271823883057,
           1.1947271823883057,
           1.1947271823883057,
           1.1947271823883057,
           1.1947271823883057,
           1.1947271823883057,
           1.1947271823883057,
           1.1947271823883057
          ],
          [
           -1.8168964385986328,
           -1.5658715963363647,
           -1.5658715963363647,
           -1.5658715963363647,
           -1.5658715963363647,
           -1.5658715963363647,
           -1.5658715963363647,
           -1.5658715963363647,
           1.1947271823883057,
           1.1947271823883057,
           1.1947271823883057,
           1.1947271823883057,
           1.1947271823883057,
           1.1947271823883057,
           1.1947271823883057,
           1.1947271823883057,
           1.1947271823883057,
           1.1947271823883057,
           1.1947271823883057,
           1.1947271823883057,
           1.1947271823883057
          ],
          [
           -1.8168964385986328,
           -1.5658715963363647,
           -1.5658715963363647,
           -1.5658715963363647,
           -1.5658715963363647,
           -1.5658715963363647,
           -1.5658715963363647,
           -1.5658715963363647,
           1.1947271823883057,
           1.1947271823883057,
           1.1947271823883057,
           1.1947271823883057,
           1.1947271823883057,
           1.1947271823883057,
           1.1947271823883057,
           1.1947271823883057,
           1.1947271823883057,
           1.1947271823883057,
           1.1947271823883057,
           1.1947271823883057,
           1.1947271823883057
          ]
         ]
        },
        {
         "coloraxis": "coloraxis",
         "hovertemplate": "x: %{x}<br>y: %{y}<br>color: %{z}<extra></extra>",
         "name": "0",
         "type": "heatmap",
         "xaxis": "x18",
         "yaxis": "y18",
         "z": [
          [
           -0.568777859210968,
           0.298492968082428
          ],
          [
           -0.5489783883094788,
           0.38792967796325684
          ],
          [
           -0.5489783883094788,
           0.38792967796325684
          ],
          [
           -0.5489783883094788,
           0.38792967796325684
          ],
          [
           -0.5489783883094788,
           0.38792967796325684
          ],
          [
           -0.5489783883094788,
           0.38792967796325684
          ],
          [
           -0.5489783883094788,
           0.38792967796325684
          ],
          [
           -0.5489783883094788,
           0.38792967796325684
          ],
          [
           -1.3887234926223755,
           2.069654941558838
          ],
          [
           -1.3887234926223755,
           2.069654941558838
          ],
          [
           -1.3887234926223755,
           2.069654941558838
          ],
          [
           -1.3887234926223755,
           2.069654941558838
          ],
          [
           -1.3887234926223755,
           2.069654941558838
          ],
          [
           -1.3887234926223755,
           2.069654941558838
          ],
          [
           -1.3887234926223755,
           2.069654941558838
          ],
          [
           -1.3887234926223755,
           2.069654941558838
          ],
          [
           -1.3887234926223755,
           2.069654941558838
          ],
          [
           -1.3887234926223755,
           2.069654941558838
          ],
          [
           -1.3887234926223755,
           2.069654941558838
          ],
          [
           -1.3887234926223755,
           2.069654941558838
          ],
          [
           -1.388723611831665,
           2.069654703140259
          ]
         ]
        },
        {
         "coloraxis": "coloraxis",
         "hovertemplate": "x: %{x}<br>y: %{y}<br>color: %{z}<extra></extra>",
         "name": "0",
         "type": "heatmap",
         "xaxis": "x19",
         "yaxis": "y19",
         "z": [
          [
           -0.6844895482063293,
           -1.0240023136138916
          ],
          [
           -0.6719727516174316,
           -1.088457703590393
          ],
          [
           -0.6719727516174316,
           -1.088457703590393
          ],
          [
           -0.6719727516174316,
           -1.088457703590393
          ],
          [
           -0.6719727516174316,
           -1.088457703590393
          ],
          [
           -0.6719727516174316,
           -1.088457703590393
          ],
          [
           -0.6719727516174316,
           -1.088457703590393
          ],
          [
           -0.6719727516174316,
           -1.088457703590393
          ],
          [
           -1.8231662511825562,
           -3.8447325229644775
          ],
          [
           -1.8231662511825562,
           -3.8447325229644775
          ],
          [
           -1.8231662511825562,
           -3.8447325229644775
          ],
          [
           -1.8231662511825562,
           -3.8447325229644775
          ],
          [
           -1.8231662511825562,
           -3.8447325229644775
          ],
          [
           -1.8231662511825562,
           -3.8447325229644775
          ],
          [
           -1.8231662511825562,
           -3.8447325229644775
          ],
          [
           -1.8231662511825562,
           -3.8447325229644775
          ],
          [
           -1.8231662511825562,
           -3.8447325229644775
          ],
          [
           -1.8231662511825562,
           -3.8447325229644775
          ],
          [
           -1.8231662511825562,
           -3.8447325229644775
          ],
          [
           -1.8231662511825562,
           -3.8447325229644775
          ],
          [
           -1.8231663703918457,
           -3.8447325229644775
          ]
         ]
        },
        {
         "coloraxis": "coloraxis",
         "hovertemplate": "x: %{x}<br>y: %{y}<br>color: %{z}<extra></extra>",
         "name": "0",
         "type": "heatmap",
         "xaxis": "x20",
         "yaxis": "y20",
         "z": [
          [
           -1.5571047067642212,
           -5.363383769989014
          ]
         ]
        },
        {
         "coloraxis": "coloraxis",
         "hovertemplate": "x: %{x}<br>y: %{y}<br>color: %{z}<extra></extra>",
         "name": "0",
         "type": "heatmap",
         "xaxis": "x21",
         "yaxis": "y21",
         "z": [
          [
           -1.463082194328308,
           1.6098759174346924
          ],
          [
           -1.3620511293411255,
           1.3411707878112793
          ],
          [
           -1.3620511293411255,
           1.3411707878112793
          ],
          [
           -1.3620511293411255,
           1.3411707878112793
          ],
          [
           -1.3620511293411255,
           1.3411707878112793
          ],
          [
           -1.3620511293411255,
           1.3411707878112793
          ],
          [
           -1.3620511293411255,
           1.3411707878112793
          ],
          [
           -1.3620511293411255,
           1.3411707878112793
          ],
          [
           -1.3620511293411255,
           1.3411707878112793
          ],
          [
           -1.3620511293411255,
           1.3411707878112793
          ],
          [
           -0.34026581048965454,
           -1.6547359228134155
          ],
          [
           -0.34026581048965454,
           -1.6547359228134155
          ],
          [
           -0.34026581048965454,
           -1.6547359228134155
          ],
          [
           -0.34026581048965454,
           -1.6547359228134155
          ],
          [
           -0.34026581048965454,
           -1.6547359228134155
          ],
          [
           -0.34026581048965454,
           -1.6547359228134155
          ],
          [
           -0.34026581048965454,
           -1.6547359228134155
          ],
          [
           -0.34026581048965454,
           -1.6547359228134155
          ],
          [
           -0.34026581048965454,
           -1.6547359228134155
          ],
          [
           -0.34026581048965454,
           -1.6547359228134155
          ],
          [
           -0.34026581048965454,
           -1.6547359228134155
          ]
         ]
        },
        {
         "coloraxis": "coloraxis",
         "hovertemplate": "x: %{x}<br>y: %{y}<br>color: %{z}<extra></extra>",
         "name": "0",
         "type": "heatmap",
         "xaxis": "x22",
         "yaxis": "y22",
         "z": [
          [
           1.4475709199905396,
           1.294237494468689,
           1.294237494468689,
           1.294237494468689,
           1.294237494468689,
           1.294237494468689,
           1.294237494468689,
           1.294237494468689,
           1.294237494468689,
           1.294237494468689,
           -0.35081031918525696,
           -0.35081031918525696,
           -0.35081031918525696,
           -0.35081031918525696,
           -0.35081031918525696,
           -0.35081031918525696,
           -0.35081031918525696,
           -0.35081031918525696,
           -0.35081031918525696,
           -0.35081031918525696,
           -0.35081031918525696
          ],
          [
           1.1804143190383911,
           1.0599266290664673,
           1.0599266290664673,
           1.0599266290664673,
           1.0599266290664673,
           1.0599266290664673,
           1.0599266290664673,
           1.0599266290664673,
           1.0599266290664673,
           1.0599266290664673,
           -0.22749575972557068,
           -0.22749575972557068,
           -0.22749575972557068,
           -0.22749575972557068,
           -0.22749575972557068,
           -0.22749575972557068,
           -0.22749575972557068,
           -0.22749575972557068,
           -0.22749575972557068,
           -0.22749575972557068,
           -0.22749577462673187
          ],
          [
           1.1804143190383911,
           1.0599266290664673,
           1.0599266290664673,
           1.0599266290664673,
           1.0599266290664673,
           1.0599266290664673,
           1.0599266290664673,
           1.0599266290664673,
           1.0599266290664673,
           1.0599266290664673,
           -0.22749575972557068,
           -0.22749575972557068,
           -0.22749575972557068,
           -0.22749575972557068,
           -0.22749575972557068,
           -0.22749575972557068,
           -0.22749575972557068,
           -0.22749575972557068,
           -0.22749575972557068,
           -0.22749575972557068,
           -0.22749577462673187
          ],
          [
           1.1804143190383911,
           1.0599266290664673,
           1.0599266290664673,
           1.0599266290664673,
           1.0599266290664673,
           1.0599266290664673,
           1.0599266290664673,
           1.0599266290664673,
           1.0599266290664673,
           1.0599266290664673,
           -0.22749575972557068,
           -0.22749575972557068,
           -0.22749575972557068,
           -0.22749575972557068,
           -0.22749575972557068,
           -0.22749575972557068,
           -0.22749575972557068,
           -0.22749575972557068,
           -0.22749575972557068,
           -0.22749575972557068,
           -0.22749577462673187
          ],
          [
           1.1804143190383911,
           1.0599266290664673,
           1.0599266290664673,
           1.0599266290664673,
           1.0599266290664673,
           1.0599266290664673,
           1.0599266290664673,
           1.0599266290664673,
           1.0599266290664673,
           1.0599266290664673,
           -0.22749575972557068,
           -0.22749575972557068,
           -0.22749575972557068,
           -0.22749575972557068,
           -0.22749575972557068,
           -0.22749575972557068,
           -0.22749575972557068,
           -0.22749575972557068,
           -0.22749575972557068,
           -0.22749575972557068,
           -0.22749577462673187
          ],
          [
           1.1804143190383911,
           1.0599266290664673,
           1.0599266290664673,
           1.0599266290664673,
           1.0599266290664673,
           1.0599266290664673,
           1.0599266290664673,
           1.0599266290664673,
           1.0599266290664673,
           1.0599266290664673,
           -0.22749575972557068,
           -0.22749575972557068,
           -0.22749575972557068,
           -0.22749575972557068,
           -0.22749575972557068,
           -0.22749575972557068,
           -0.22749575972557068,
           -0.22749575972557068,
           -0.22749575972557068,
           -0.22749575972557068,
           -0.22749577462673187
          ],
          [
           1.1804143190383911,
           1.0599266290664673,
           1.0599266290664673,
           1.0599266290664673,
           1.0599266290664673,
           1.0599266290664673,
           1.0599266290664673,
           1.0599266290664673,
           1.0599266290664673,
           1.0599266290664673,
           -0.22749575972557068,
           -0.22749575972557068,
           -0.22749575972557068,
           -0.22749575972557068,
           -0.22749575972557068,
           -0.22749575972557068,
           -0.22749575972557068,
           -0.22749575972557068,
           -0.22749575972557068,
           -0.22749575972557068,
           -0.22749577462673187
          ],
          [
           1.1804143190383911,
           1.0599266290664673,
           1.0599266290664673,
           1.0599266290664673,
           1.0599266290664673,
           1.0599266290664673,
           1.0599266290664673,
           1.0599266290664673,
           1.0599266290664673,
           1.0599266290664673,
           -0.22749575972557068,
           -0.22749575972557068,
           -0.22749575972557068,
           -0.22749575972557068,
           -0.22749575972557068,
           -0.22749575972557068,
           -0.22749575972557068,
           -0.22749575972557068,
           -0.22749575972557068,
           -0.22749575972557068,
           -0.22749577462673187
          ],
          [
           1.1804143190383911,
           1.0599266290664673,
           1.0599266290664673,
           1.0599266290664673,
           1.0599266290664673,
           1.0599266290664673,
           1.0599266290664673,
           1.0599266290664673,
           1.0599266290664673,
           1.0599266290664673,
           -0.22749575972557068,
           -0.22749575972557068,
           -0.22749575972557068,
           -0.22749575972557068,
           -0.22749575972557068,
           -0.22749575972557068,
           -0.22749575972557068,
           -0.22749575972557068,
           -0.22749575972557068,
           -0.22749575972557068,
           -0.22749577462673187
          ],
          [
           1.1804143190383911,
           1.0599266290664673,
           1.0599266290664673,
           1.0599266290664673,
           1.0599266290664673,
           1.0599266290664673,
           1.0599266290664673,
           1.0599266290664673,
           1.0599266290664673,
           1.0599266290664673,
           -0.22749575972557068,
           -0.22749575972557068,
           -0.22749575972557068,
           -0.22749575972557068,
           -0.22749575972557068,
           -0.22749575972557068,
           -0.22749575972557068,
           -0.22749575972557068,
           -0.22749575972557068,
           -0.22749575972557068,
           -0.22749577462673187
          ],
          [
           -1.8168964385986328,
           -1.5658715963363647,
           -1.5658715963363647,
           -1.5658715963363647,
           -1.5658715963363647,
           -1.5658715963363647,
           -1.5658715963363647,
           -1.5658715963363647,
           -1.5658715963363647,
           -1.5658715963363647,
           1.1947271823883057,
           1.1947271823883057,
           1.1947271823883057,
           1.1947271823883057,
           1.1947271823883057,
           1.1947271823883057,
           1.1947271823883057,
           1.1947271823883057,
           1.1947271823883057,
           1.1947271823883057,
           1.1947271823883057
          ],
          [
           -1.8168964385986328,
           -1.5658715963363647,
           -1.5658715963363647,
           -1.5658715963363647,
           -1.5658715963363647,
           -1.5658715963363647,
           -1.5658715963363647,
           -1.5658715963363647,
           -1.5658715963363647,
           -1.5658715963363647,
           1.1947271823883057,
           1.1947271823883057,
           1.1947271823883057,
           1.1947271823883057,
           1.1947271823883057,
           1.1947271823883057,
           1.1947271823883057,
           1.1947271823883057,
           1.1947271823883057,
           1.1947271823883057,
           1.1947271823883057
          ],
          [
           -1.8168964385986328,
           -1.5658715963363647,
           -1.5658715963363647,
           -1.5658715963363647,
           -1.5658715963363647,
           -1.5658715963363647,
           -1.5658715963363647,
           -1.5658715963363647,
           -1.5658715963363647,
           -1.5658715963363647,
           1.1947271823883057,
           1.1947271823883057,
           1.1947271823883057,
           1.1947271823883057,
           1.1947271823883057,
           1.1947271823883057,
           1.1947271823883057,
           1.1947271823883057,
           1.1947271823883057,
           1.1947271823883057,
           1.1947271823883057
          ],
          [
           -1.8168964385986328,
           -1.5658715963363647,
           -1.5658715963363647,
           -1.5658715963363647,
           -1.5658715963363647,
           -1.5658715963363647,
           -1.5658715963363647,
           -1.5658715963363647,
           -1.5658715963363647,
           -1.5658715963363647,
           1.1947271823883057,
           1.1947271823883057,
           1.1947271823883057,
           1.1947271823883057,
           1.1947271823883057,
           1.1947271823883057,
           1.1947271823883057,
           1.1947271823883057,
           1.1947271823883057,
           1.1947271823883057,
           1.1947271823883057
          ],
          [
           -1.8168964385986328,
           -1.5658715963363647,
           -1.5658715963363647,
           -1.5658715963363647,
           -1.5658715963363647,
           -1.5658715963363647,
           -1.5658715963363647,
           -1.5658715963363647,
           -1.5658715963363647,
           -1.5658715963363647,
           1.1947271823883057,
           1.1947271823883057,
           1.1947271823883057,
           1.1947271823883057,
           1.1947271823883057,
           1.1947271823883057,
           1.1947271823883057,
           1.1947271823883057,
           1.1947271823883057,
           1.1947271823883057,
           1.1947271823883057
          ],
          [
           -1.8168964385986328,
           -1.5658715963363647,
           -1.5658715963363647,
           -1.5658715963363647,
           -1.5658715963363647,
           -1.5658715963363647,
           -1.5658715963363647,
           -1.5658715963363647,
           -1.5658715963363647,
           -1.5658715963363647,
           1.1947271823883057,
           1.1947271823883057,
           1.1947271823883057,
           1.1947271823883057,
           1.1947271823883057,
           1.1947271823883057,
           1.1947271823883057,
           1.1947271823883057,
           1.1947271823883057,
           1.1947271823883057,
           1.1947271823883057
          ],
          [
           -1.8168964385986328,
           -1.5658715963363647,
           -1.5658715963363647,
           -1.5658715963363647,
           -1.5658715963363647,
           -1.5658715963363647,
           -1.5658715963363647,
           -1.5658715963363647,
           -1.5658715963363647,
           -1.5658715963363647,
           1.1947271823883057,
           1.1947271823883057,
           1.1947271823883057,
           1.1947271823883057,
           1.1947271823883057,
           1.1947271823883057,
           1.1947271823883057,
           1.1947271823883057,
           1.1947271823883057,
           1.1947271823883057,
           1.1947271823883057
          ],
          [
           -1.8168964385986328,
           -1.5658715963363647,
           -1.5658715963363647,
           -1.5658715963363647,
           -1.5658715963363647,
           -1.5658715963363647,
           -1.5658715963363647,
           -1.5658715963363647,
           -1.5658715963363647,
           -1.5658715963363647,
           1.1947271823883057,
           1.1947271823883057,
           1.1947271823883057,
           1.1947271823883057,
           1.1947271823883057,
           1.1947271823883057,
           1.1947271823883057,
           1.1947271823883057,
           1.1947271823883057,
           1.1947271823883057,
           1.1947271823883057
          ],
          [
           -1.8168964385986328,
           -1.5658715963363647,
           -1.5658715963363647,
           -1.5658715963363647,
           -1.5658715963363647,
           -1.5658715963363647,
           -1.5658715963363647,
           -1.5658715963363647,
           -1.5658715963363647,
           -1.5658715963363647,
           1.1947271823883057,
           1.1947271823883057,
           1.1947271823883057,
           1.1947271823883057,
           1.1947271823883057,
           1.1947271823883057,
           1.1947271823883057,
           1.1947271823883057,
           1.1947271823883057,
           1.1947271823883057,
           1.1947271823883057
          ],
          [
           -1.8168964385986328,
           -1.5658715963363647,
           -1.5658715963363647,
           -1.5658715963363647,
           -1.5658715963363647,
           -1.5658715963363647,
           -1.5658715963363647,
           -1.5658715963363647,
           -1.5658715963363647,
           -1.5658715963363647,
           1.1947271823883057,
           1.1947271823883057,
           1.1947271823883057,
           1.1947271823883057,
           1.1947271823883057,
           1.1947271823883057,
           1.1947271823883057,
           1.1947271823883057,
           1.1947271823883057,
           1.1947271823883057,
           1.1947271823883057
          ],
          [
           -1.8168964385986328,
           -1.5658715963363647,
           -1.5658715963363647,
           -1.5658715963363647,
           -1.5658715963363647,
           -1.5658715963363647,
           -1.5658715963363647,
           -1.5658715963363647,
           -1.5658715963363647,
           -1.5658715963363647,
           1.1947271823883057,
           1.1947271823883057,
           1.1947271823883057,
           1.1947271823883057,
           1.1947271823883057,
           1.1947271823883057,
           1.1947271823883057,
           1.1947271823883057,
           1.1947271823883057,
           1.1947271823883057,
           1.1947271823883057
          ]
         ]
        },
        {
         "coloraxis": "coloraxis",
         "hovertemplate": "x: %{x}<br>y: %{y}<br>color: %{z}<extra></extra>",
         "name": "0",
         "type": "heatmap",
         "xaxis": "x23",
         "yaxis": "y23",
         "z": [
          [
           -0.5656214356422424,
           0.27399376034736633
          ],
          [
           -0.5408163070678711,
           0.3596225082874298
          ],
          [
           -0.5408163070678711,
           0.3596225082874298
          ],
          [
           -0.5408163070678711,
           0.3596225082874298
          ],
          [
           -0.5408163070678711,
           0.3596225082874298
          ],
          [
           -0.5408163070678711,
           0.3596225082874298
          ],
          [
           -0.5408163070678711,
           0.3596225082874298
          ],
          [
           -0.5408163070678711,
           0.3596225082874298
          ],
          [
           -0.5408163070678711,
           0.3596225082874298
          ],
          [
           -0.5408163070678711,
           0.3596225082874298
          ],
          [
           -1.3100758790969849,
           1.9493122100830078
          ],
          [
           -1.3100758790969849,
           1.9493122100830078
          ],
          [
           -1.3100758790969849,
           1.9493122100830078
          ],
          [
           -1.3100758790969849,
           1.9493122100830078
          ],
          [
           -1.3100758790969849,
           1.9493122100830078
          ],
          [
           -1.3100758790969849,
           1.9493122100830078
          ],
          [
           -1.3100758790969849,
           1.9493122100830078
          ],
          [
           -1.3100758790969849,
           1.9493122100830078
          ],
          [
           -1.3100758790969849,
           1.9493122100830078
          ],
          [
           -1.3100758790969849,
           1.9493122100830078
          ],
          [
           -1.3100758790969849,
           1.9493118524551392
          ]
         ]
        },
        {
         "coloraxis": "coloraxis",
         "hovertemplate": "x: %{x}<br>y: %{y}<br>color: %{z}<extra></extra>",
         "name": "0",
         "type": "heatmap",
         "xaxis": "x24",
         "yaxis": "y24",
         "z": [
          [
           -0.6781027913093567,
           -0.9954142570495605
          ],
          [
           -0.6594282388687134,
           -1.049673318862915
          ],
          [
           -0.6594282388687134,
           -1.049673318862915
          ],
          [
           -0.6594282388687134,
           -1.049673318862915
          ],
          [
           -0.6594282388687134,
           -1.049673318862915
          ],
          [
           -0.6594282388687134,
           -1.049673318862915
          ],
          [
           -0.6594282388687134,
           -1.049673318862915
          ],
          [
           -0.6594282388687134,
           -1.049673318862915
          ],
          [
           -0.6594282388687134,
           -1.049673318862915
          ],
          [
           -0.6594282388687134,
           -1.049673318862915
          ],
          [
           -1.719559907913208,
           -3.6238532066345215
          ],
          [
           -1.719559907913208,
           -3.6238532066345215
          ],
          [
           -1.719559907913208,
           -3.6238532066345215
          ],
          [
           -1.719559907913208,
           -3.6238532066345215
          ],
          [
           -1.719559907913208,
           -3.6238532066345215
          ],
          [
           -1.719559907913208,
           -3.6238532066345215
          ],
          [
           -1.719559907913208,
           -3.6238532066345215
          ],
          [
           -1.719559907913208,
           -3.6238532066345215
          ],
          [
           -1.719559907913208,
           -3.6238532066345215
          ],
          [
           -1.719559907913208,
           -3.6238532066345215
          ],
          [
           -1.719559907913208,
           -3.6238527297973633
          ]
         ]
        },
        {
         "coloraxis": "coloraxis",
         "hovertemplate": "x: %{x}<br>y: %{y}<br>color: %{z}<extra></extra>",
         "name": "0",
         "type": "heatmap",
         "xaxis": "x25",
         "yaxis": "y25",
         "z": [
          [
           -1.4534982442855835,
           -5.1425042152404785
          ]
         ]
        },
        {
         "coloraxis": "coloraxis",
         "hovertemplate": "x: %{x}<br>y: %{y}<br>color: %{z}<extra></extra>",
         "name": "0",
         "type": "heatmap",
         "xaxis": "x26",
         "yaxis": "y26",
         "z": [
          [
           -1.463082194328308,
           1.6098759174346924
          ],
          [
           -1.3620511293411255,
           1.3411707878112793
          ],
          [
           -1.3620511293411255,
           1.3411707878112793
          ],
          [
           -1.3620511293411255,
           1.3411707878112793
          ],
          [
           -1.3620511293411255,
           1.3411707878112793
          ],
          [
           -1.3620511293411255,
           1.3411707878112793
          ],
          [
           -1.3620511293411255,
           1.3411707878112793
          ],
          [
           -1.3620511293411255,
           1.3411707878112793
          ],
          [
           -1.3620511293411255,
           1.3411707878112793
          ],
          [
           -1.3620511293411255,
           1.3411707878112793
          ],
          [
           -1.3620511293411255,
           1.3411707878112793
          ],
          [
           -1.3620511293411255,
           1.3411707878112793
          ],
          [
           -0.34026581048965454,
           -1.6547359228134155
          ],
          [
           -0.34026581048965454,
           -1.6547359228134155
          ],
          [
           -0.34026581048965454,
           -1.6547359228134155
          ],
          [
           -0.34026581048965454,
           -1.6547359228134155
          ],
          [
           -0.34026581048965454,
           -1.6547359228134155
          ],
          [
           -0.34026581048965454,
           -1.6547359228134155
          ],
          [
           -0.34026581048965454,
           -1.6547359228134155
          ],
          [
           -0.34026581048965454,
           -1.6547359228134155
          ],
          [
           -0.34026581048965454,
           -1.6547359228134155
          ]
         ]
        },
        {
         "coloraxis": "coloraxis",
         "hovertemplate": "x: %{x}<br>y: %{y}<br>color: %{z}<extra></extra>",
         "name": "0",
         "type": "heatmap",
         "xaxis": "x27",
         "yaxis": "y27",
         "z": [
          [
           1.4475709199905396,
           1.294237494468689,
           1.294237494468689,
           1.294237494468689,
           1.294237494468689,
           1.294237494468689,
           1.294237494468689,
           1.294237494468689,
           1.294237494468689,
           1.294237494468689,
           1.294237494468689,
           1.294237494468689,
           -0.35081031918525696,
           -0.35081031918525696,
           -0.35081031918525696,
           -0.35081031918525696,
           -0.35081031918525696,
           -0.35081031918525696,
           -0.35081031918525696,
           -0.35081031918525696,
           -0.35081031918525696
          ],
          [
           1.1804143190383911,
           1.0599266290664673,
           1.0599266290664673,
           1.0599266290664673,
           1.0599266290664673,
           1.0599266290664673,
           1.0599266290664673,
           1.0599266290664673,
           1.0599266290664673,
           1.0599266290664673,
           1.0599266290664673,
           1.0599266290664673,
           -0.22749575972557068,
           -0.22749575972557068,
           -0.22749575972557068,
           -0.22749575972557068,
           -0.22749575972557068,
           -0.22749575972557068,
           -0.22749575972557068,
           -0.22749575972557068,
           -0.22749577462673187
          ],
          [
           1.1804143190383911,
           1.0599266290664673,
           1.0599266290664673,
           1.0599266290664673,
           1.0599266290664673,
           1.0599266290664673,
           1.0599266290664673,
           1.0599266290664673,
           1.0599266290664673,
           1.0599266290664673,
           1.0599266290664673,
           1.0599266290664673,
           -0.22749575972557068,
           -0.22749575972557068,
           -0.22749575972557068,
           -0.22749575972557068,
           -0.22749575972557068,
           -0.22749575972557068,
           -0.22749575972557068,
           -0.22749575972557068,
           -0.22749577462673187
          ],
          [
           1.1804143190383911,
           1.0599266290664673,
           1.0599266290664673,
           1.0599266290664673,
           1.0599266290664673,
           1.0599266290664673,
           1.0599266290664673,
           1.0599266290664673,
           1.0599266290664673,
           1.0599266290664673,
           1.0599266290664673,
           1.0599266290664673,
           -0.22749575972557068,
           -0.22749575972557068,
           -0.22749575972557068,
           -0.22749575972557068,
           -0.22749575972557068,
           -0.22749575972557068,
           -0.22749575972557068,
           -0.22749575972557068,
           -0.22749577462673187
          ],
          [
           1.1804143190383911,
           1.0599266290664673,
           1.0599266290664673,
           1.0599266290664673,
           1.0599266290664673,
           1.0599266290664673,
           1.0599266290664673,
           1.0599266290664673,
           1.0599266290664673,
           1.0599266290664673,
           1.0599266290664673,
           1.0599266290664673,
           -0.22749575972557068,
           -0.22749575972557068,
           -0.22749575972557068,
           -0.22749575972557068,
           -0.22749575972557068,
           -0.22749575972557068,
           -0.22749575972557068,
           -0.22749575972557068,
           -0.22749577462673187
          ],
          [
           1.1804143190383911,
           1.0599266290664673,
           1.0599266290664673,
           1.0599266290664673,
           1.0599266290664673,
           1.0599266290664673,
           1.0599266290664673,
           1.0599266290664673,
           1.0599266290664673,
           1.0599266290664673,
           1.0599266290664673,
           1.0599266290664673,
           -0.22749575972557068,
           -0.22749575972557068,
           -0.22749575972557068,
           -0.22749575972557068,
           -0.22749575972557068,
           -0.22749575972557068,
           -0.22749575972557068,
           -0.22749575972557068,
           -0.22749577462673187
          ],
          [
           1.1804143190383911,
           1.0599266290664673,
           1.0599266290664673,
           1.0599266290664673,
           1.0599266290664673,
           1.0599266290664673,
           1.0599266290664673,
           1.0599266290664673,
           1.0599266290664673,
           1.0599266290664673,
           1.0599266290664673,
           1.0599266290664673,
           -0.22749575972557068,
           -0.22749575972557068,
           -0.22749575972557068,
           -0.22749575972557068,
           -0.22749575972557068,
           -0.22749575972557068,
           -0.22749575972557068,
           -0.22749575972557068,
           -0.22749577462673187
          ],
          [
           1.1804143190383911,
           1.0599266290664673,
           1.0599266290664673,
           1.0599266290664673,
           1.0599266290664673,
           1.0599266290664673,
           1.0599266290664673,
           1.0599266290664673,
           1.0599266290664673,
           1.0599266290664673,
           1.0599266290664673,
           1.0599266290664673,
           -0.22749575972557068,
           -0.22749575972557068,
           -0.22749575972557068,
           -0.22749575972557068,
           -0.22749575972557068,
           -0.22749575972557068,
           -0.22749575972557068,
           -0.22749575972557068,
           -0.22749577462673187
          ],
          [
           1.1804143190383911,
           1.0599266290664673,
           1.0599266290664673,
           1.0599266290664673,
           1.0599266290664673,
           1.0599266290664673,
           1.0599266290664673,
           1.0599266290664673,
           1.0599266290664673,
           1.0599266290664673,
           1.0599266290664673,
           1.0599266290664673,
           -0.22749575972557068,
           -0.22749575972557068,
           -0.22749575972557068,
           -0.22749575972557068,
           -0.22749575972557068,
           -0.22749575972557068,
           -0.22749575972557068,
           -0.22749575972557068,
           -0.22749577462673187
          ],
          [
           1.1804143190383911,
           1.0599266290664673,
           1.0599266290664673,
           1.0599266290664673,
           1.0599266290664673,
           1.0599266290664673,
           1.0599266290664673,
           1.0599266290664673,
           1.0599266290664673,
           1.0599266290664673,
           1.0599266290664673,
           1.0599266290664673,
           -0.22749575972557068,
           -0.22749575972557068,
           -0.22749575972557068,
           -0.22749575972557068,
           -0.22749575972557068,
           -0.22749575972557068,
           -0.22749575972557068,
           -0.22749575972557068,
           -0.22749577462673187
          ],
          [
           1.1804143190383911,
           1.0599266290664673,
           1.0599266290664673,
           1.0599266290664673,
           1.0599266290664673,
           1.0599266290664673,
           1.0599266290664673,
           1.0599266290664673,
           1.0599266290664673,
           1.0599266290664673,
           1.0599266290664673,
           1.0599266290664673,
           -0.22749575972557068,
           -0.22749575972557068,
           -0.22749575972557068,
           -0.22749575972557068,
           -0.22749575972557068,
           -0.22749575972557068,
           -0.22749575972557068,
           -0.22749575972557068,
           -0.22749577462673187
          ],
          [
           1.1804143190383911,
           1.0599266290664673,
           1.0599266290664673,
           1.0599266290664673,
           1.0599266290664673,
           1.0599266290664673,
           1.0599266290664673,
           1.0599266290664673,
           1.0599266290664673,
           1.0599266290664673,
           1.0599266290664673,
           1.0599266290664673,
           -0.22749575972557068,
           -0.22749575972557068,
           -0.22749575972557068,
           -0.22749575972557068,
           -0.22749575972557068,
           -0.22749575972557068,
           -0.22749575972557068,
           -0.22749575972557068,
           -0.22749577462673187
          ],
          [
           -1.8168964385986328,
           -1.5658715963363647,
           -1.5658715963363647,
           -1.5658715963363647,
           -1.5658715963363647,
           -1.5658715963363647,
           -1.5658715963363647,
           -1.5658715963363647,
           -1.5658715963363647,
           -1.5658715963363647,
           -1.5658715963363647,
           -1.5658715963363647,
           1.1947271823883057,
           1.1947271823883057,
           1.1947271823883057,
           1.1947271823883057,
           1.1947271823883057,
           1.1947271823883057,
           1.1947271823883057,
           1.1947271823883057,
           1.1947271823883057
          ],
          [
           -1.8168964385986328,
           -1.5658715963363647,
           -1.5658715963363647,
           -1.5658715963363647,
           -1.5658715963363647,
           -1.5658715963363647,
           -1.5658715963363647,
           -1.5658715963363647,
           -1.5658715963363647,
           -1.5658715963363647,
           -1.5658715963363647,
           -1.5658715963363647,
           1.1947271823883057,
           1.1947271823883057,
           1.1947271823883057,
           1.1947271823883057,
           1.1947271823883057,
           1.1947271823883057,
           1.1947271823883057,
           1.1947271823883057,
           1.1947271823883057
          ],
          [
           -1.8168964385986328,
           -1.5658715963363647,
           -1.5658715963363647,
           -1.5658715963363647,
           -1.5658715963363647,
           -1.5658715963363647,
           -1.5658715963363647,
           -1.5658715963363647,
           -1.5658715963363647,
           -1.5658715963363647,
           -1.5658715963363647,
           -1.5658715963363647,
           1.1947271823883057,
           1.1947271823883057,
           1.1947271823883057,
           1.1947271823883057,
           1.1947271823883057,
           1.1947271823883057,
           1.1947271823883057,
           1.1947271823883057,
           1.1947271823883057
          ],
          [
           -1.8168964385986328,
           -1.5658715963363647,
           -1.5658715963363647,
           -1.5658715963363647,
           -1.5658715963363647,
           -1.5658715963363647,
           -1.5658715963363647,
           -1.5658715963363647,
           -1.5658715963363647,
           -1.5658715963363647,
           -1.5658715963363647,
           -1.5658715963363647,
           1.1947271823883057,
           1.1947271823883057,
           1.1947271823883057,
           1.1947271823883057,
           1.1947271823883057,
           1.1947271823883057,
           1.1947271823883057,
           1.1947271823883057,
           1.1947271823883057
          ],
          [
           -1.8168964385986328,
           -1.5658715963363647,
           -1.5658715963363647,
           -1.5658715963363647,
           -1.5658715963363647,
           -1.5658715963363647,
           -1.5658715963363647,
           -1.5658715963363647,
           -1.5658715963363647,
           -1.5658715963363647,
           -1.5658715963363647,
           -1.5658715963363647,
           1.1947271823883057,
           1.1947271823883057,
           1.1947271823883057,
           1.1947271823883057,
           1.1947271823883057,
           1.1947271823883057,
           1.1947271823883057,
           1.1947271823883057,
           1.1947271823883057
          ],
          [
           -1.8168964385986328,
           -1.5658715963363647,
           -1.5658715963363647,
           -1.5658715963363647,
           -1.5658715963363647,
           -1.5658715963363647,
           -1.5658715963363647,
           -1.5658715963363647,
           -1.5658715963363647,
           -1.5658715963363647,
           -1.5658715963363647,
           -1.5658715963363647,
           1.1947271823883057,
           1.1947271823883057,
           1.1947271823883057,
           1.1947271823883057,
           1.1947271823883057,
           1.1947271823883057,
           1.1947271823883057,
           1.1947271823883057,
           1.1947271823883057
          ],
          [
           -1.8168964385986328,
           -1.5658715963363647,
           -1.5658715963363647,
           -1.5658715963363647,
           -1.5658715963363647,
           -1.5658715963363647,
           -1.5658715963363647,
           -1.5658715963363647,
           -1.5658715963363647,
           -1.5658715963363647,
           -1.5658715963363647,
           -1.5658715963363647,
           1.1947271823883057,
           1.1947271823883057,
           1.1947271823883057,
           1.1947271823883057,
           1.1947271823883057,
           1.1947271823883057,
           1.1947271823883057,
           1.1947271823883057,
           1.1947271823883057
          ],
          [
           -1.8168964385986328,
           -1.5658715963363647,
           -1.5658715963363647,
           -1.5658715963363647,
           -1.5658715963363647,
           -1.5658715963363647,
           -1.5658715963363647,
           -1.5658715963363647,
           -1.5658715963363647,
           -1.5658715963363647,
           -1.5658715963363647,
           -1.5658715963363647,
           1.1947271823883057,
           1.1947271823883057,
           1.1947271823883057,
           1.1947271823883057,
           1.1947271823883057,
           1.1947271823883057,
           1.1947271823883057,
           1.1947271823883057,
           1.1947271823883057
          ],
          [
           -1.8168964385986328,
           -1.5658715963363647,
           -1.5658715963363647,
           -1.5658715963363647,
           -1.5658715963363647,
           -1.5658715963363647,
           -1.5658715963363647,
           -1.5658715963363647,
           -1.5658715963363647,
           -1.5658715963363647,
           -1.5658715963363647,
           -1.5658715963363647,
           1.1947271823883057,
           1.1947271823883057,
           1.1947271823883057,
           1.1947271823883057,
           1.1947271823883057,
           1.1947271823883057,
           1.1947271823883057,
           1.1947271823883057,
           1.1947271823883057
          ]
         ]
        },
        {
         "coloraxis": "coloraxis",
         "hovertemplate": "x: %{x}<br>y: %{y}<br>color: %{z}<extra></extra>",
         "name": "0",
         "type": "heatmap",
         "xaxis": "x28",
         "yaxis": "y28",
         "z": [
          [
           -0.554207444190979,
           0.24252377450466156
          ],
          [
           -0.5246168971061707,
           0.323631227016449
          ],
          [
           -0.5246168971061707,
           0.323631227016449
          ],
          [
           -0.5246168971061707,
           0.323631227016449
          ],
          [
           -0.5246168971061707,
           0.323631227016449
          ],
          [
           -0.5246168971061707,
           0.323631227016449
          ],
          [
           -0.5246168971061707,
           0.323631227016449
          ],
          [
           -0.5246168971061707,
           0.323631227016449
          ],
          [
           -0.5246168971061707,
           0.323631227016449
          ],
          [
           -0.5246168971061707,
           0.323631227016449
          ],
          [
           -0.5246168971061707,
           0.323631227016449
          ],
          [
           -0.5246168971061707,
           0.323631227016449
          ],
          [
           -1.2108420133590698,
           1.7982302904129028
          ],
          [
           -1.2108420133590698,
           1.7982302904129028
          ],
          [
           -1.2108420133590698,
           1.7982302904129028
          ],
          [
           -1.2108420133590698,
           1.7982302904129028
          ],
          [
           -1.2108420133590698,
           1.7982302904129028
          ],
          [
           -1.2108420133590698,
           1.7982302904129028
          ],
          [
           -1.2108420133590698,
           1.7982302904129028
          ],
          [
           -1.2108420133590698,
           1.7982302904129028
          ],
          [
           -1.2108418941497803,
           1.7982301712036133
          ]
         ]
        },
        {
         "coloraxis": "coloraxis",
         "hovertemplate": "x: %{x}<br>y: %{y}<br>color: %{z}<extra></extra>",
         "name": "0",
         "type": "heatmap",
         "xaxis": "x29",
         "yaxis": "y29",
         "z": [
          [
           -0.6614798307418823,
           -0.9493151903152466
          ],
          [
           -0.6368185877799988,
           -0.9929433465003967
          ],
          [
           -0.6368185877799988,
           -0.9929433465003967
          ],
          [
           -0.6368185877799988,
           -0.9929433465003967
          ],
          [
           -0.6368185877799988,
           -0.9929433465003967
          ],
          [
           -0.6368185877799988,
           -0.9929433465003967
          ],
          [
           -0.6368185877799988,
           -0.9929433465003967
          ],
          [
           -0.6368185877799988,
           -0.9929433465003967
          ],
          [
           -0.6368185877799988,
           -0.9929433465003967
          ],
          [
           -0.6368185877799988,
           -0.9929433465003967
          ],
          [
           -0.6368185877799988,
           -0.9929433465003967
          ],
          [
           -0.6368185877799988,
           -0.9929433465003967
          ],
          [
           -1.5889207124710083,
           -3.345921039581299
          ],
          [
           -1.5889207124710083,
           -3.345921039581299
          ],
          [
           -1.5889207124710083,
           -3.345921039581299
          ],
          [
           -1.5889207124710083,
           -3.345921039581299
          ],
          [
           -1.5889207124710083,
           -3.345921039581299
          ],
          [
           -1.5889207124710083,
           -3.345921039581299
          ],
          [
           -1.5889207124710083,
           -3.345921039581299
          ],
          [
           -1.5889207124710083,
           -3.345921039581299
          ],
          [
           -1.5889204740524292,
           -3.3459208011627197
          ]
         ]
        },
        {
         "coloraxis": "coloraxis",
         "hovertemplate": "x: %{x}<br>y: %{y}<br>color: %{z}<extra></extra>",
         "name": "0",
         "type": "heatmap",
         "xaxis": "x30",
         "yaxis": "y30",
         "z": [
          [
           -1.3228589296340942,
           -4.864572048187256
          ]
         ]
        },
        {
         "coloraxis": "coloraxis",
         "hovertemplate": "x: %{x}<br>y: %{y}<br>color: %{z}<extra></extra>",
         "name": "0",
         "type": "heatmap",
         "xaxis": "x31",
         "yaxis": "y31",
         "z": [
          [
           -1.463082194328308,
           1.6098759174346924
          ],
          [
           -1.3620511293411255,
           1.3411707878112793
          ],
          [
           -1.3620511293411255,
           1.3411707878112793
          ],
          [
           -1.3620511293411255,
           1.3411707878112793
          ],
          [
           -1.3620511293411255,
           1.3411707878112793
          ],
          [
           -1.3620511293411255,
           1.3411707878112793
          ],
          [
           -1.3620511293411255,
           1.3411707878112793
          ],
          [
           -1.3620511293411255,
           1.3411707878112793
          ],
          [
           -1.3620511293411255,
           1.3411707878112793
          ],
          [
           -1.3620511293411255,
           1.3411707878112793
          ],
          [
           -1.3620511293411255,
           1.3411707878112793
          ],
          [
           -1.3620511293411255,
           1.3411707878112793
          ],
          [
           -1.3620511293411255,
           1.3411707878112793
          ],
          [
           -1.3620511293411255,
           1.3411707878112793
          ],
          [
           -0.34026581048965454,
           -1.6547359228134155
          ],
          [
           -0.34026581048965454,
           -1.6547359228134155
          ],
          [
           -0.34026581048965454,
           -1.6547359228134155
          ],
          [
           -0.34026581048965454,
           -1.6547359228134155
          ],
          [
           -0.34026581048965454,
           -1.6547359228134155
          ],
          [
           -0.34026581048965454,
           -1.6547359228134155
          ],
          [
           -0.34026581048965454,
           -1.6547359228134155
          ]
         ]
        },
        {
         "coloraxis": "coloraxis",
         "hovertemplate": "x: %{x}<br>y: %{y}<br>color: %{z}<extra></extra>",
         "name": "0",
         "type": "heatmap",
         "xaxis": "x32",
         "yaxis": "y32",
         "z": [
          [
           1.4475709199905396,
           1.294237494468689,
           1.294237494468689,
           1.294237494468689,
           1.294237494468689,
           1.294237494468689,
           1.294237494468689,
           1.294237494468689,
           1.294237494468689,
           1.294237494468689,
           1.294237494468689,
           1.294237494468689,
           1.294237494468689,
           1.294237494468689,
           -0.35081031918525696,
           -0.35081031918525696,
           -0.35081031918525696,
           -0.35081031918525696,
           -0.35081031918525696,
           -0.35081031918525696,
           -0.35081031918525696
          ],
          [
           1.1804143190383911,
           1.0599266290664673,
           1.0599266290664673,
           1.0599266290664673,
           1.0599266290664673,
           1.0599266290664673,
           1.0599266290664673,
           1.0599266290664673,
           1.0599266290664673,
           1.0599266290664673,
           1.0599266290664673,
           1.0599266290664673,
           1.0599266290664673,
           1.0599266290664673,
           -0.22749575972557068,
           -0.22749575972557068,
           -0.22749575972557068,
           -0.22749575972557068,
           -0.22749575972557068,
           -0.22749575972557068,
           -0.22749577462673187
          ],
          [
           1.1804143190383911,
           1.0599266290664673,
           1.0599266290664673,
           1.0599266290664673,
           1.0599266290664673,
           1.0599266290664673,
           1.0599266290664673,
           1.0599266290664673,
           1.0599266290664673,
           1.0599266290664673,
           1.0599266290664673,
           1.0599266290664673,
           1.0599266290664673,
           1.0599266290664673,
           -0.22749575972557068,
           -0.22749575972557068,
           -0.22749575972557068,
           -0.22749575972557068,
           -0.22749575972557068,
           -0.22749575972557068,
           -0.22749577462673187
          ],
          [
           1.1804143190383911,
           1.0599266290664673,
           1.0599266290664673,
           1.0599266290664673,
           1.0599266290664673,
           1.0599266290664673,
           1.0599266290664673,
           1.0599266290664673,
           1.0599266290664673,
           1.0599266290664673,
           1.0599266290664673,
           1.0599266290664673,
           1.0599266290664673,
           1.0599266290664673,
           -0.22749575972557068,
           -0.22749575972557068,
           -0.22749575972557068,
           -0.22749575972557068,
           -0.22749575972557068,
           -0.22749575972557068,
           -0.22749577462673187
          ],
          [
           1.1804143190383911,
           1.0599266290664673,
           1.0599266290664673,
           1.0599266290664673,
           1.0599266290664673,
           1.0599266290664673,
           1.0599266290664673,
           1.0599266290664673,
           1.0599266290664673,
           1.0599266290664673,
           1.0599266290664673,
           1.0599266290664673,
           1.0599266290664673,
           1.0599266290664673,
           -0.22749575972557068,
           -0.22749575972557068,
           -0.22749575972557068,
           -0.22749575972557068,
           -0.22749575972557068,
           -0.22749575972557068,
           -0.22749577462673187
          ],
          [
           1.1804143190383911,
           1.0599266290664673,
           1.0599266290664673,
           1.0599266290664673,
           1.0599266290664673,
           1.0599266290664673,
           1.0599266290664673,
           1.0599266290664673,
           1.0599266290664673,
           1.0599266290664673,
           1.0599266290664673,
           1.0599266290664673,
           1.0599266290664673,
           1.0599266290664673,
           -0.22749575972557068,
           -0.22749575972557068,
           -0.22749575972557068,
           -0.22749575972557068,
           -0.22749575972557068,
           -0.22749575972557068,
           -0.22749577462673187
          ],
          [
           1.1804143190383911,
           1.0599266290664673,
           1.0599266290664673,
           1.0599266290664673,
           1.0599266290664673,
           1.0599266290664673,
           1.0599266290664673,
           1.0599266290664673,
           1.0599266290664673,
           1.0599266290664673,
           1.0599266290664673,
           1.0599266290664673,
           1.0599266290664673,
           1.0599266290664673,
           -0.22749575972557068,
           -0.22749575972557068,
           -0.22749575972557068,
           -0.22749575972557068,
           -0.22749575972557068,
           -0.22749575972557068,
           -0.22749577462673187
          ],
          [
           1.1804143190383911,
           1.0599266290664673,
           1.0599266290664673,
           1.0599266290664673,
           1.0599266290664673,
           1.0599266290664673,
           1.0599266290664673,
           1.0599266290664673,
           1.0599266290664673,
           1.0599266290664673,
           1.0599266290664673,
           1.0599266290664673,
           1.0599266290664673,
           1.0599266290664673,
           -0.22749575972557068,
           -0.22749575972557068,
           -0.22749575972557068,
           -0.22749575972557068,
           -0.22749575972557068,
           -0.22749575972557068,
           -0.22749577462673187
          ],
          [
           1.1804143190383911,
           1.0599266290664673,
           1.0599266290664673,
           1.0599266290664673,
           1.0599266290664673,
           1.0599266290664673,
           1.0599266290664673,
           1.0599266290664673,
           1.0599266290664673,
           1.0599266290664673,
           1.0599266290664673,
           1.0599266290664673,
           1.0599266290664673,
           1.0599266290664673,
           -0.22749575972557068,
           -0.22749575972557068,
           -0.22749575972557068,
           -0.22749575972557068,
           -0.22749575972557068,
           -0.22749575972557068,
           -0.22749577462673187
          ],
          [
           1.1804143190383911,
           1.0599266290664673,
           1.0599266290664673,
           1.0599266290664673,
           1.0599266290664673,
           1.0599266290664673,
           1.0599266290664673,
           1.0599266290664673,
           1.0599266290664673,
           1.0599266290664673,
           1.0599266290664673,
           1.0599266290664673,
           1.0599266290664673,
           1.0599266290664673,
           -0.22749575972557068,
           -0.22749575972557068,
           -0.22749575972557068,
           -0.22749575972557068,
           -0.22749575972557068,
           -0.22749575972557068,
           -0.22749577462673187
          ],
          [
           1.1804143190383911,
           1.0599266290664673,
           1.0599266290664673,
           1.0599266290664673,
           1.0599266290664673,
           1.0599266290664673,
           1.0599266290664673,
           1.0599266290664673,
           1.0599266290664673,
           1.0599266290664673,
           1.0599266290664673,
           1.0599266290664673,
           1.0599266290664673,
           1.0599266290664673,
           -0.22749575972557068,
           -0.22749575972557068,
           -0.22749575972557068,
           -0.22749575972557068,
           -0.22749575972557068,
           -0.22749575972557068,
           -0.22749577462673187
          ],
          [
           1.1804143190383911,
           1.0599266290664673,
           1.0599266290664673,
           1.0599266290664673,
           1.0599266290664673,
           1.0599266290664673,
           1.0599266290664673,
           1.0599266290664673,
           1.0599266290664673,
           1.0599266290664673,
           1.0599266290664673,
           1.0599266290664673,
           1.0599266290664673,
           1.0599266290664673,
           -0.22749575972557068,
           -0.22749575972557068,
           -0.22749575972557068,
           -0.22749575972557068,
           -0.22749575972557068,
           -0.22749575972557068,
           -0.22749577462673187
          ],
          [
           1.1804143190383911,
           1.0599266290664673,
           1.0599266290664673,
           1.0599266290664673,
           1.0599266290664673,
           1.0599266290664673,
           1.0599266290664673,
           1.0599266290664673,
           1.0599266290664673,
           1.0599266290664673,
           1.0599266290664673,
           1.0599266290664673,
           1.0599266290664673,
           1.0599266290664673,
           -0.22749575972557068,
           -0.22749575972557068,
           -0.22749575972557068,
           -0.22749575972557068,
           -0.22749575972557068,
           -0.22749575972557068,
           -0.22749577462673187
          ],
          [
           1.1804143190383911,
           1.0599266290664673,
           1.0599266290664673,
           1.0599266290664673,
           1.0599266290664673,
           1.0599266290664673,
           1.0599266290664673,
           1.0599266290664673,
           1.0599266290664673,
           1.0599266290664673,
           1.0599266290664673,
           1.0599266290664673,
           1.0599266290664673,
           1.0599266290664673,
           -0.22749575972557068,
           -0.22749575972557068,
           -0.22749575972557068,
           -0.22749575972557068,
           -0.22749575972557068,
           -0.22749575972557068,
           -0.22749577462673187
          ],
          [
           -1.8168964385986328,
           -1.5658715963363647,
           -1.5658715963363647,
           -1.5658715963363647,
           -1.5658715963363647,
           -1.5658715963363647,
           -1.5658715963363647,
           -1.5658715963363647,
           -1.5658715963363647,
           -1.5658715963363647,
           -1.5658715963363647,
           -1.5658715963363647,
           -1.5658715963363647,
           -1.5658715963363647,
           1.1947271823883057,
           1.1947271823883057,
           1.1947271823883057,
           1.1947271823883057,
           1.1947271823883057,
           1.1947271823883057,
           1.1947271823883057
          ],
          [
           -1.8168964385986328,
           -1.5658715963363647,
           -1.5658715963363647,
           -1.5658715963363647,
           -1.5658715963363647,
           -1.5658715963363647,
           -1.5658715963363647,
           -1.5658715963363647,
           -1.5658715963363647,
           -1.5658715963363647,
           -1.5658715963363647,
           -1.5658715963363647,
           -1.5658715963363647,
           -1.5658715963363647,
           1.1947271823883057,
           1.1947271823883057,
           1.1947271823883057,
           1.1947271823883057,
           1.1947271823883057,
           1.1947271823883057,
           1.1947271823883057
          ],
          [
           -1.8168964385986328,
           -1.5658715963363647,
           -1.5658715963363647,
           -1.5658715963363647,
           -1.5658715963363647,
           -1.5658715963363647,
           -1.5658715963363647,
           -1.5658715963363647,
           -1.5658715963363647,
           -1.5658715963363647,
           -1.5658715963363647,
           -1.5658715963363647,
           -1.5658715963363647,
           -1.5658715963363647,
           1.1947271823883057,
           1.1947271823883057,
           1.1947271823883057,
           1.1947271823883057,
           1.1947271823883057,
           1.1947271823883057,
           1.1947271823883057
          ],
          [
           -1.8168964385986328,
           -1.5658715963363647,
           -1.5658715963363647,
           -1.5658715963363647,
           -1.5658715963363647,
           -1.5658715963363647,
           -1.5658715963363647,
           -1.5658715963363647,
           -1.5658715963363647,
           -1.5658715963363647,
           -1.5658715963363647,
           -1.5658715963363647,
           -1.5658715963363647,
           -1.5658715963363647,
           1.1947271823883057,
           1.1947271823883057,
           1.1947271823883057,
           1.1947271823883057,
           1.1947271823883057,
           1.1947271823883057,
           1.1947271823883057
          ],
          [
           -1.8168964385986328,
           -1.5658715963363647,
           -1.5658715963363647,
           -1.5658715963363647,
           -1.5658715963363647,
           -1.5658715963363647,
           -1.5658715963363647,
           -1.5658715963363647,
           -1.5658715963363647,
           -1.5658715963363647,
           -1.5658715963363647,
           -1.5658715963363647,
           -1.5658715963363647,
           -1.5658715963363647,
           1.1947271823883057,
           1.1947271823883057,
           1.1947271823883057,
           1.1947271823883057,
           1.1947271823883057,
           1.1947271823883057,
           1.1947271823883057
          ],
          [
           -1.8168964385986328,
           -1.5658715963363647,
           -1.5658715963363647,
           -1.5658715963363647,
           -1.5658715963363647,
           -1.5658715963363647,
           -1.5658715963363647,
           -1.5658715963363647,
           -1.5658715963363647,
           -1.5658715963363647,
           -1.5658715963363647,
           -1.5658715963363647,
           -1.5658715963363647,
           -1.5658715963363647,
           1.1947271823883057,
           1.1947271823883057,
           1.1947271823883057,
           1.1947271823883057,
           1.1947271823883057,
           1.1947271823883057,
           1.1947271823883057
          ],
          [
           -1.8168964385986328,
           -1.5658715963363647,
           -1.5658715963363647,
           -1.5658715963363647,
           -1.5658715963363647,
           -1.5658715963363647,
           -1.5658715963363647,
           -1.5658715963363647,
           -1.5658715963363647,
           -1.5658715963363647,
           -1.5658715963363647,
           -1.5658715963363647,
           -1.5658715963363647,
           -1.5658715963363647,
           1.1947271823883057,
           1.1947271823883057,
           1.1947271823883057,
           1.1947271823883057,
           1.1947271823883057,
           1.1947271823883057,
           1.1947271823883057
          ]
         ]
        },
        {
         "coloraxis": "coloraxis",
         "hovertemplate": "x: %{x}<br>y: %{y}<br>color: %{z}<extra></extra>",
         "name": "0",
         "type": "heatmap",
         "xaxis": "x33",
         "yaxis": "y33",
         "z": [
          [
           -0.5340917110443115,
           0.2013823539018631
          ],
          [
           -0.4993913173675537,
           0.27681419253349304
          ],
          [
           -0.4993913173675537,
           0.27681419253349304
          ],
          [
           -0.4993913173675537,
           0.27681419253349304
          ],
          [
           -0.4993913173675537,
           0.27681419253349304
          ],
          [
           -0.4993913173675537,
           0.27681419253349304
          ],
          [
           -0.4993913173675537,
           0.27681419253349304
          ],
          [
           -0.4993913173675537,
           0.27681419253349304
          ],
          [
           -0.4993913173675537,
           0.27681419253349304
          ],
          [
           -0.4993913173675537,
           0.27681419253349304
          ],
          [
           -0.4993913173675537,
           0.27681419253349304
          ],
          [
           -0.4993913173675537,
           0.27681419253349304
          ],
          [
           -0.4993913173675537,
           0.27681419253349304
          ],
          [
           -0.4993913173675537,
           0.27681419253349304
          ],
          [
           -1.0821664333343506,
           1.6028698682785034
          ],
          [
           -1.0821664333343506,
           1.6028698682785034
          ],
          [
           -1.0821664333343506,
           1.6028698682785034
          ],
          [
           -1.0821664333343506,
           1.6028698682785034
          ],
          [
           -1.0821664333343506,
           1.6028698682785034
          ],
          [
           -1.0821664333343506,
           1.6028698682785034
          ],
          [
           -1.0821664333343506,
           1.6028698682785034
          ]
         ]
        },
        {
         "coloraxis": "coloraxis",
         "hovertemplate": "x: %{x}<br>y: %{y}<br>color: %{z}<extra></extra>",
         "name": "0",
         "type": "heatmap",
         "xaxis": "x34",
         "yaxis": "y34",
         "z": [
          [
           -0.6338065266609192,
           -0.8824310302734375
          ],
          [
           -0.6026566028594971,
           -0.9138574600219727
          ],
          [
           -0.6026566028594971,
           -0.9138574600219727
          ],
          [
           -0.6026566028594971,
           -0.9138574600219727
          ],
          [
           -0.6026566028594971,
           -0.9138574600219727
          ],
          [
           -0.6026566028594971,
           -0.9138574600219727
          ],
          [
           -0.6026566028594971,
           -0.9138574600219727
          ],
          [
           -0.6026566028594971,
           -0.9138574600219727
          ],
          [
           -0.6026566028594971,
           -0.9138574600219727
          ],
          [
           -0.6026566028594971,
           -0.9138574600219727
          ],
          [
           -0.6026566028594971,
           -0.9138574600219727
          ],
          [
           -0.6026566028594971,
           -0.9138574600219727
          ],
          [
           -0.6026566028594971,
           -0.9138574600219727
          ],
          [
           -0.6026566028594971,
           -0.9138574600219727
          ],
          [
           -1.419583797454834,
           -2.986076593399048
          ],
          [
           -1.419583797454834,
           -2.986076593399048
          ],
          [
           -1.419583797454834,
           -2.986076593399048
          ],
          [
           -1.419583797454834,
           -2.986076593399048
          ],
          [
           -1.419583797454834,
           -2.9860763549804688
          ],
          [
           -1.419583797454834,
           -2.9860763549804688
          ],
          [
           -1.419583797454834,
           -2.9860763549804688
          ]
         ]
        },
        {
         "coloraxis": "coloraxis",
         "hovertemplate": "x: %{x}<br>y: %{y}<br>color: %{z}<extra></extra>",
         "name": "0",
         "type": "heatmap",
         "xaxis": "x35",
         "yaxis": "y35",
         "z": [
          [
           -1.1535221338272095,
           -4.504727840423584
          ]
         ]
        }
       ],
       "layout": {
        "annotations": [
         {
          "font": {
           "size": 16
          },
          "showarrow": false,
          "text": "Emb",
          "x": 0.08399999999999999,
          "xanchor": "center",
          "xref": "paper",
          "y": 0.9999999999999999,
          "yanchor": "bottom",
          "yref": "paper"
         },
         {
          "font": {
           "size": 16
          },
          "showarrow": false,
          "text": "QK.T",
          "x": 0.292,
          "xanchor": "center",
          "xref": "paper",
          "y": 0.9999999999999999,
          "yanchor": "bottom",
          "yref": "paper"
         },
         {
          "font": {
           "size": 16
          },
          "showarrow": false,
          "text": "A",
          "x": 0.5,
          "xanchor": "center",
          "xref": "paper",
          "y": 0.9999999999999999,
          "yanchor": "bottom",
          "yref": "paper"
         },
         {
          "font": {
           "size": 16
          },
          "showarrow": false,
          "text": "OUT",
          "x": 0.708,
          "xanchor": "center",
          "xref": "paper",
          "y": 0.9999999999999999,
          "yanchor": "bottom",
          "yref": "paper"
         }
        ],
        "height": 800,
        "template": {
         "data": {
          "bar": [
           {
            "error_x": {
             "color": "#2a3f5f"
            },
            "error_y": {
             "color": "#2a3f5f"
            },
            "marker": {
             "line": {
              "color": "#E5ECF6",
              "width": 0.5
             },
             "pattern": {
              "fillmode": "overlay",
              "size": 10,
              "solidity": 0.2
             }
            },
            "type": "bar"
           }
          ],
          "barpolar": [
           {
            "marker": {
             "line": {
              "color": "#E5ECF6",
              "width": 0.5
             },
             "pattern": {
              "fillmode": "overlay",
              "size": 10,
              "solidity": 0.2
             }
            },
            "type": "barpolar"
           }
          ],
          "carpet": [
           {
            "aaxis": {
             "endlinecolor": "#2a3f5f",
             "gridcolor": "white",
             "linecolor": "white",
             "minorgridcolor": "white",
             "startlinecolor": "#2a3f5f"
            },
            "baxis": {
             "endlinecolor": "#2a3f5f",
             "gridcolor": "white",
             "linecolor": "white",
             "minorgridcolor": "white",
             "startlinecolor": "#2a3f5f"
            },
            "type": "carpet"
           }
          ],
          "choropleth": [
           {
            "colorbar": {
             "outlinewidth": 0,
             "ticks": ""
            },
            "type": "choropleth"
           }
          ],
          "contour": [
           {
            "colorbar": {
             "outlinewidth": 0,
             "ticks": ""
            },
            "colorscale": [
             [
              0,
              "#0d0887"
             ],
             [
              0.1111111111111111,
              "#46039f"
             ],
             [
              0.2222222222222222,
              "#7201a8"
             ],
             [
              0.3333333333333333,
              "#9c179e"
             ],
             [
              0.4444444444444444,
              "#bd3786"
             ],
             [
              0.5555555555555556,
              "#d8576b"
             ],
             [
              0.6666666666666666,
              "#ed7953"
             ],
             [
              0.7777777777777778,
              "#fb9f3a"
             ],
             [
              0.8888888888888888,
              "#fdca26"
             ],
             [
              1,
              "#f0f921"
             ]
            ],
            "type": "contour"
           }
          ],
          "contourcarpet": [
           {
            "colorbar": {
             "outlinewidth": 0,
             "ticks": ""
            },
            "type": "contourcarpet"
           }
          ],
          "heatmap": [
           {
            "colorbar": {
             "outlinewidth": 0,
             "ticks": ""
            },
            "colorscale": [
             [
              0,
              "#0d0887"
             ],
             [
              0.1111111111111111,
              "#46039f"
             ],
             [
              0.2222222222222222,
              "#7201a8"
             ],
             [
              0.3333333333333333,
              "#9c179e"
             ],
             [
              0.4444444444444444,
              "#bd3786"
             ],
             [
              0.5555555555555556,
              "#d8576b"
             ],
             [
              0.6666666666666666,
              "#ed7953"
             ],
             [
              0.7777777777777778,
              "#fb9f3a"
             ],
             [
              0.8888888888888888,
              "#fdca26"
             ],
             [
              1,
              "#f0f921"
             ]
            ],
            "type": "heatmap"
           }
          ],
          "heatmapgl": [
           {
            "colorbar": {
             "outlinewidth": 0,
             "ticks": ""
            },
            "colorscale": [
             [
              0,
              "#0d0887"
             ],
             [
              0.1111111111111111,
              "#46039f"
             ],
             [
              0.2222222222222222,
              "#7201a8"
             ],
             [
              0.3333333333333333,
              "#9c179e"
             ],
             [
              0.4444444444444444,
              "#bd3786"
             ],
             [
              0.5555555555555556,
              "#d8576b"
             ],
             [
              0.6666666666666666,
              "#ed7953"
             ],
             [
              0.7777777777777778,
              "#fb9f3a"
             ],
             [
              0.8888888888888888,
              "#fdca26"
             ],
             [
              1,
              "#f0f921"
             ]
            ],
            "type": "heatmapgl"
           }
          ],
          "histogram": [
           {
            "marker": {
             "pattern": {
              "fillmode": "overlay",
              "size": 10,
              "solidity": 0.2
             }
            },
            "type": "histogram"
           }
          ],
          "histogram2d": [
           {
            "colorbar": {
             "outlinewidth": 0,
             "ticks": ""
            },
            "colorscale": [
             [
              0,
              "#0d0887"
             ],
             [
              0.1111111111111111,
              "#46039f"
             ],
             [
              0.2222222222222222,
              "#7201a8"
             ],
             [
              0.3333333333333333,
              "#9c179e"
             ],
             [
              0.4444444444444444,
              "#bd3786"
             ],
             [
              0.5555555555555556,
              "#d8576b"
             ],
             [
              0.6666666666666666,
              "#ed7953"
             ],
             [
              0.7777777777777778,
              "#fb9f3a"
             ],
             [
              0.8888888888888888,
              "#fdca26"
             ],
             [
              1,
              "#f0f921"
             ]
            ],
            "type": "histogram2d"
           }
          ],
          "histogram2dcontour": [
           {
            "colorbar": {
             "outlinewidth": 0,
             "ticks": ""
            },
            "colorscale": [
             [
              0,
              "#0d0887"
             ],
             [
              0.1111111111111111,
              "#46039f"
             ],
             [
              0.2222222222222222,
              "#7201a8"
             ],
             [
              0.3333333333333333,
              "#9c179e"
             ],
             [
              0.4444444444444444,
              "#bd3786"
             ],
             [
              0.5555555555555556,
              "#d8576b"
             ],
             [
              0.6666666666666666,
              "#ed7953"
             ],
             [
              0.7777777777777778,
              "#fb9f3a"
             ],
             [
              0.8888888888888888,
              "#fdca26"
             ],
             [
              1,
              "#f0f921"
             ]
            ],
            "type": "histogram2dcontour"
           }
          ],
          "mesh3d": [
           {
            "colorbar": {
             "outlinewidth": 0,
             "ticks": ""
            },
            "type": "mesh3d"
           }
          ],
          "parcoords": [
           {
            "line": {
             "colorbar": {
              "outlinewidth": 0,
              "ticks": ""
             }
            },
            "type": "parcoords"
           }
          ],
          "pie": [
           {
            "automargin": true,
            "type": "pie"
           }
          ],
          "scatter": [
           {
            "fillpattern": {
             "fillmode": "overlay",
             "size": 10,
             "solidity": 0.2
            },
            "type": "scatter"
           }
          ],
          "scatter3d": [
           {
            "line": {
             "colorbar": {
              "outlinewidth": 0,
              "ticks": ""
             }
            },
            "marker": {
             "colorbar": {
              "outlinewidth": 0,
              "ticks": ""
             }
            },
            "type": "scatter3d"
           }
          ],
          "scattercarpet": [
           {
            "marker": {
             "colorbar": {
              "outlinewidth": 0,
              "ticks": ""
             }
            },
            "type": "scattercarpet"
           }
          ],
          "scattergeo": [
           {
            "marker": {
             "colorbar": {
              "outlinewidth": 0,
              "ticks": ""
             }
            },
            "type": "scattergeo"
           }
          ],
          "scattergl": [
           {
            "marker": {
             "colorbar": {
              "outlinewidth": 0,
              "ticks": ""
             }
            },
            "type": "scattergl"
           }
          ],
          "scattermapbox": [
           {
            "marker": {
             "colorbar": {
              "outlinewidth": 0,
              "ticks": ""
             }
            },
            "type": "scattermapbox"
           }
          ],
          "scatterpolar": [
           {
            "marker": {
             "colorbar": {
              "outlinewidth": 0,
              "ticks": ""
             }
            },
            "type": "scatterpolar"
           }
          ],
          "scatterpolargl": [
           {
            "marker": {
             "colorbar": {
              "outlinewidth": 0,
              "ticks": ""
             }
            },
            "type": "scatterpolargl"
           }
          ],
          "scatterternary": [
           {
            "marker": {
             "colorbar": {
              "outlinewidth": 0,
              "ticks": ""
             }
            },
            "type": "scatterternary"
           }
          ],
          "surface": [
           {
            "colorbar": {
             "outlinewidth": 0,
             "ticks": ""
            },
            "colorscale": [
             [
              0,
              "#0d0887"
             ],
             [
              0.1111111111111111,
              "#46039f"
             ],
             [
              0.2222222222222222,
              "#7201a8"
             ],
             [
              0.3333333333333333,
              "#9c179e"
             ],
             [
              0.4444444444444444,
              "#bd3786"
             ],
             [
              0.5555555555555556,
              "#d8576b"
             ],
             [
              0.6666666666666666,
              "#ed7953"
             ],
             [
              0.7777777777777778,
              "#fb9f3a"
             ],
             [
              0.8888888888888888,
              "#fdca26"
             ],
             [
              1,
              "#f0f921"
             ]
            ],
            "type": "surface"
           }
          ],
          "table": [
           {
            "cells": {
             "fill": {
              "color": "#EBF0F8"
             },
             "line": {
              "color": "white"
             }
            },
            "header": {
             "fill": {
              "color": "#C8D4E3"
             },
             "line": {
              "color": "white"
             }
            },
            "type": "table"
           }
          ]
         },
         "layout": {
          "annotationdefaults": {
           "arrowcolor": "#2a3f5f",
           "arrowhead": 0,
           "arrowwidth": 1
          },
          "autotypenumbers": "strict",
          "coloraxis": {
           "colorbar": {
            "outlinewidth": 0,
            "ticks": ""
           }
          },
          "colorscale": {
           "diverging": [
            [
             0,
             "#8e0152"
            ],
            [
             0.1,
             "#c51b7d"
            ],
            [
             0.2,
             "#de77ae"
            ],
            [
             0.3,
             "#f1b6da"
            ],
            [
             0.4,
             "#fde0ef"
            ],
            [
             0.5,
             "#f7f7f7"
            ],
            [
             0.6,
             "#e6f5d0"
            ],
            [
             0.7,
             "#b8e186"
            ],
            [
             0.8,
             "#7fbc41"
            ],
            [
             0.9,
             "#4d9221"
            ],
            [
             1,
             "#276419"
            ]
           ],
           "sequential": [
            [
             0,
             "#0d0887"
            ],
            [
             0.1111111111111111,
             "#46039f"
            ],
            [
             0.2222222222222222,
             "#7201a8"
            ],
            [
             0.3333333333333333,
             "#9c179e"
            ],
            [
             0.4444444444444444,
             "#bd3786"
            ],
            [
             0.5555555555555556,
             "#d8576b"
            ],
            [
             0.6666666666666666,
             "#ed7953"
            ],
            [
             0.7777777777777778,
             "#fb9f3a"
            ],
            [
             0.8888888888888888,
             "#fdca26"
            ],
            [
             1,
             "#f0f921"
            ]
           ],
           "sequentialminus": [
            [
             0,
             "#0d0887"
            ],
            [
             0.1111111111111111,
             "#46039f"
            ],
            [
             0.2222222222222222,
             "#7201a8"
            ],
            [
             0.3333333333333333,
             "#9c179e"
            ],
            [
             0.4444444444444444,
             "#bd3786"
            ],
            [
             0.5555555555555556,
             "#d8576b"
            ],
            [
             0.6666666666666666,
             "#ed7953"
            ],
            [
             0.7777777777777778,
             "#fb9f3a"
            ],
            [
             0.8888888888888888,
             "#fdca26"
            ],
            [
             1,
             "#f0f921"
            ]
           ]
          },
          "colorway": [
           "#636efa",
           "#EF553B",
           "#00cc96",
           "#ab63fa",
           "#FFA15A",
           "#19d3f3",
           "#FF6692",
           "#B6E880",
           "#FF97FF",
           "#FECB52"
          ],
          "font": {
           "color": "#2a3f5f"
          },
          "geo": {
           "bgcolor": "white",
           "lakecolor": "white",
           "landcolor": "#E5ECF6",
           "showlakes": true,
           "showland": true,
           "subunitcolor": "white"
          },
          "hoverlabel": {
           "align": "left"
          },
          "hovermode": "closest",
          "mapbox": {
           "style": "light"
          },
          "paper_bgcolor": "white",
          "plot_bgcolor": "#E5ECF6",
          "polar": {
           "angularaxis": {
            "gridcolor": "white",
            "linecolor": "white",
            "ticks": ""
           },
           "bgcolor": "#E5ECF6",
           "radialaxis": {
            "gridcolor": "white",
            "linecolor": "white",
            "ticks": ""
           }
          },
          "scene": {
           "xaxis": {
            "backgroundcolor": "#E5ECF6",
            "gridcolor": "white",
            "gridwidth": 2,
            "linecolor": "white",
            "showbackground": true,
            "ticks": "",
            "zerolinecolor": "white"
           },
           "yaxis": {
            "backgroundcolor": "#E5ECF6",
            "gridcolor": "white",
            "gridwidth": 2,
            "linecolor": "white",
            "showbackground": true,
            "ticks": "",
            "zerolinecolor": "white"
           },
           "zaxis": {
            "backgroundcolor": "#E5ECF6",
            "gridcolor": "white",
            "gridwidth": 2,
            "linecolor": "white",
            "showbackground": true,
            "ticks": "",
            "zerolinecolor": "white"
           }
          },
          "shapedefaults": {
           "line": {
            "color": "#2a3f5f"
           }
          },
          "ternary": {
           "aaxis": {
            "gridcolor": "white",
            "linecolor": "white",
            "ticks": ""
           },
           "baxis": {
            "gridcolor": "white",
            "linecolor": "white",
            "ticks": ""
           },
           "bgcolor": "#E5ECF6",
           "caxis": {
            "gridcolor": "white",
            "linecolor": "white",
            "ticks": ""
           }
          },
          "title": {
           "x": 0.05
          },
          "xaxis": {
           "automargin": true,
           "gridcolor": "white",
           "linecolor": "white",
           "ticks": "",
           "title": {
            "standoff": 15
           },
           "zerolinecolor": "white",
           "zerolinewidth": 2
          },
          "yaxis": {
           "automargin": true,
           "gridcolor": "white",
           "linecolor": "white",
           "ticks": "",
           "title": {
            "standoff": 15
           },
           "zerolinecolor": "white",
           "zerolinewidth": 2
          }
         }
        },
        "title": {
         "text": "Plots for 1, 3, 5, 7, 9, 11, 13 set bits"
        },
        "width": 800,
        "xaxis": {
         "anchor": "y",
         "domain": [
          0,
          0.16799999999999998
         ]
        },
        "xaxis10": {
         "anchor": "y10",
         "domain": [
          0.832,
          1
         ]
        },
        "xaxis11": {
         "anchor": "y11",
         "domain": [
          0,
          0.16799999999999998
         ]
        },
        "xaxis12": {
         "anchor": "y12",
         "domain": [
          0.208,
          0.376
         ]
        },
        "xaxis13": {
         "anchor": "y13",
         "domain": [
          0.416,
          0.584
         ]
        },
        "xaxis14": {
         "anchor": "y14",
         "domain": [
          0.624,
          0.792
         ]
        },
        "xaxis15": {
         "anchor": "y15",
         "domain": [
          0.832,
          1
         ]
        },
        "xaxis16": {
         "anchor": "y16",
         "domain": [
          0,
          0.16799999999999998
         ]
        },
        "xaxis17": {
         "anchor": "y17",
         "domain": [
          0.208,
          0.376
         ]
        },
        "xaxis18": {
         "anchor": "y18",
         "domain": [
          0.416,
          0.584
         ]
        },
        "xaxis19": {
         "anchor": "y19",
         "domain": [
          0.624,
          0.792
         ]
        },
        "xaxis2": {
         "anchor": "y2",
         "domain": [
          0.208,
          0.376
         ]
        },
        "xaxis20": {
         "anchor": "y20",
         "domain": [
          0.832,
          1
         ]
        },
        "xaxis21": {
         "anchor": "y21",
         "domain": [
          0,
          0.16799999999999998
         ]
        },
        "xaxis22": {
         "anchor": "y22",
         "domain": [
          0.208,
          0.376
         ]
        },
        "xaxis23": {
         "anchor": "y23",
         "domain": [
          0.416,
          0.584
         ]
        },
        "xaxis24": {
         "anchor": "y24",
         "domain": [
          0.624,
          0.792
         ]
        },
        "xaxis25": {
         "anchor": "y25",
         "domain": [
          0.832,
          1
         ]
        },
        "xaxis26": {
         "anchor": "y26",
         "domain": [
          0,
          0.16799999999999998
         ]
        },
        "xaxis27": {
         "anchor": "y27",
         "domain": [
          0.208,
          0.376
         ]
        },
        "xaxis28": {
         "anchor": "y28",
         "domain": [
          0.416,
          0.584
         ]
        },
        "xaxis29": {
         "anchor": "y29",
         "domain": [
          0.624,
          0.792
         ]
        },
        "xaxis3": {
         "anchor": "y3",
         "domain": [
          0.416,
          0.584
         ]
        },
        "xaxis30": {
         "anchor": "y30",
         "domain": [
          0.832,
          1
         ]
        },
        "xaxis31": {
         "anchor": "y31",
         "domain": [
          0,
          0.16799999999999998
         ]
        },
        "xaxis32": {
         "anchor": "y32",
         "domain": [
          0.208,
          0.376
         ]
        },
        "xaxis33": {
         "anchor": "y33",
         "domain": [
          0.416,
          0.584
         ]
        },
        "xaxis34": {
         "anchor": "y34",
         "domain": [
          0.624,
          0.792
         ]
        },
        "xaxis35": {
         "anchor": "y35",
         "domain": [
          0.832,
          1
         ]
        },
        "xaxis4": {
         "anchor": "y4",
         "domain": [
          0.624,
          0.792
         ]
        },
        "xaxis5": {
         "anchor": "y5",
         "domain": [
          0.832,
          1
         ]
        },
        "xaxis6": {
         "anchor": "y6",
         "domain": [
          0,
          0.16799999999999998
         ]
        },
        "xaxis7": {
         "anchor": "y7",
         "domain": [
          0.208,
          0.376
         ]
        },
        "xaxis8": {
         "anchor": "y8",
         "domain": [
          0.416,
          0.584
         ]
        },
        "xaxis9": {
         "anchor": "y9",
         "domain": [
          0.624,
          0.792
         ]
        },
        "yaxis": {
         "anchor": "x",
         "domain": [
          0.9183673469387754,
          0.9999999999999999
         ]
        },
        "yaxis10": {
         "anchor": "x10",
         "domain": [
          0.7653061224489794,
          0.8469387755102039
         ]
        },
        "yaxis11": {
         "anchor": "x11",
         "domain": [
          0.6122448979591837,
          0.6938775510204082
         ]
        },
        "yaxis12": {
         "anchor": "x12",
         "domain": [
          0.6122448979591837,
          0.6938775510204082
         ]
        },
        "yaxis13": {
         "anchor": "x13",
         "domain": [
          0.6122448979591837,
          0.6938775510204082
         ]
        },
        "yaxis14": {
         "anchor": "x14",
         "domain": [
          0.6122448979591837,
          0.6938775510204082
         ]
        },
        "yaxis15": {
         "anchor": "x15",
         "domain": [
          0.6122448979591837,
          0.6938775510204082
         ]
        },
        "yaxis16": {
         "anchor": "x16",
         "domain": [
          0.4591836734693877,
          0.5408163265306122
         ]
        },
        "yaxis17": {
         "anchor": "x17",
         "domain": [
          0.4591836734693877,
          0.5408163265306122
         ]
        },
        "yaxis18": {
         "anchor": "x18",
         "domain": [
          0.4591836734693877,
          0.5408163265306122
         ]
        },
        "yaxis19": {
         "anchor": "x19",
         "domain": [
          0.4591836734693877,
          0.5408163265306122
         ]
        },
        "yaxis2": {
         "anchor": "x2",
         "domain": [
          0.9183673469387754,
          0.9999999999999999
         ]
        },
        "yaxis20": {
         "anchor": "x20",
         "domain": [
          0.4591836734693877,
          0.5408163265306122
         ]
        },
        "yaxis21": {
         "anchor": "x21",
         "domain": [
          0.30612244897959184,
          0.3877551020408163
         ]
        },
        "yaxis22": {
         "anchor": "x22",
         "domain": [
          0.30612244897959184,
          0.3877551020408163
         ]
        },
        "yaxis23": {
         "anchor": "x23",
         "domain": [
          0.30612244897959184,
          0.3877551020408163
         ]
        },
        "yaxis24": {
         "anchor": "x24",
         "domain": [
          0.30612244897959184,
          0.3877551020408163
         ]
        },
        "yaxis25": {
         "anchor": "x25",
         "domain": [
          0.30612244897959184,
          0.3877551020408163
         ]
        },
        "yaxis26": {
         "anchor": "x26",
         "domain": [
          0.15306122448979592,
          0.2346938775510204
         ]
        },
        "yaxis27": {
         "anchor": "x27",
         "domain": [
          0.15306122448979592,
          0.2346938775510204
         ]
        },
        "yaxis28": {
         "anchor": "x28",
         "domain": [
          0.15306122448979592,
          0.2346938775510204
         ]
        },
        "yaxis29": {
         "anchor": "x29",
         "domain": [
          0.15306122448979592,
          0.2346938775510204
         ]
        },
        "yaxis3": {
         "anchor": "x3",
         "domain": [
          0.9183673469387754,
          0.9999999999999999
         ]
        },
        "yaxis30": {
         "anchor": "x30",
         "domain": [
          0.15306122448979592,
          0.2346938775510204
         ]
        },
        "yaxis31": {
         "anchor": "x31",
         "domain": [
          0,
          0.08163265306122448
         ]
        },
        "yaxis32": {
         "anchor": "x32",
         "domain": [
          0,
          0.08163265306122448
         ]
        },
        "yaxis33": {
         "anchor": "x33",
         "domain": [
          0,
          0.08163265306122448
         ]
        },
        "yaxis34": {
         "anchor": "x34",
         "domain": [
          0,
          0.08163265306122448
         ]
        },
        "yaxis35": {
         "anchor": "x35",
         "domain": [
          0,
          0.08163265306122448
         ]
        },
        "yaxis4": {
         "anchor": "x4",
         "domain": [
          0.9183673469387754,
          0.9999999999999999
         ]
        },
        "yaxis5": {
         "anchor": "x5",
         "domain": [
          0.9183673469387754,
          0.9999999999999999
         ]
        },
        "yaxis6": {
         "anchor": "x6",
         "domain": [
          0.7653061224489794,
          0.8469387755102039
         ]
        },
        "yaxis7": {
         "anchor": "x7",
         "domain": [
          0.7653061224489794,
          0.8469387755102039
         ]
        },
        "yaxis8": {
         "anchor": "x8",
         "domain": [
          0.7653061224489794,
          0.8469387755102039
         ]
        },
        "yaxis9": {
         "anchor": "x9",
         "domain": [
          0.7653061224489794,
          0.8469387755102039
         ]
        }
       }
      }
     },
     "metadata": {},
     "output_type": "display_data"
    }
   ],
   "source": [
    "import plotly.express as px\n",
    "import plotly.subplots as sp\n",
    "\n",
    "data = torch.tensor([[1 if i < set_bits else 0 for i in range(N)] for set_bits in range(1, 15, 2)])\n",
    "batch_size = data.shape[0]\n",
    "\n",
    "data = torch.cat(\n",
    "    [\n",
    "        2 * torch.ones((batch_size, 1), dtype=torch.int).to(data.device),\n",
    "        data.type(torch.int),\n",
    "    ],\n",
    "    dim=1)\n",
    "\n",
    "X = model.embeddings(data).detach()\n",
    "qkv = model.transformer[0].attn.in_proj_weight.detach()\n",
    "W   = model.transformer[0].attn.out_proj.weight.detach()\n",
    "q, k, v = qkv.reshape(3, hidden_dim, hidden_dim)\n",
    "Q, K, V = X @ q, X @ k, X @ v\n",
    "QKT = (Q @ K.transpose(1, 2)) / torch.sqrt(torch.tensor(hidden_dim).to(device))\n",
    "A = torch.softmax(QKT, dim=1) @ V\n",
    "OUT = A @ W\n",
    "postMLP = X+OUT\n",
    "postMLP = (postMLP + model.transformer[0].linear(postMLP))[:, -1, :].detach()\n",
    "\n",
    "print(X.shape)\n",
    "print(model.transformer[0].attn(X, X, X)[0]-A)\n",
    "\n",
    "# Create subplots\n",
    "X_mean, QKT_mean, A_mean, OUT_mean, postMLP_mean = X.mean(dim=0), QKT.mean(dim=0), A.mean(dim=0), OUT.mean(dim=0), postMLP.mean(dim=0)\n",
    "fig = sp.make_subplots(rows=X.shape[0], cols=5, subplot_titles=(\"Emb\", \"QK.T\", \"A\", \"OUT\"))\n",
    "\n",
    "for i in range(X.shape[0]):\n",
    "    fig.add_trace(px.imshow(X[i]).data[0], row=i+1, col=1)\n",
    "    fig.add_trace(px.imshow(QKT[i]).data[0], row=i+1, col=2)\n",
    "    fig.add_trace(px.imshow(A[i]).data[0], row=i+1, col=3)\n",
    "    fig.add_trace(px.imshow(OUT[i]).data[0], row=i+1, col=4)\n",
    "    fig.add_trace(px.imshow((postMLP[i]).unsqueeze(0)).data[0], row=i+1, col=5)\n",
    "    # fig.add_trace(px.imshow(FINAL[i].unsqueeze(0)).data[0], row=i+1, col=6)\n",
    "\n",
    "fig.update_layout(height=800, width=800, title_text=\"Plots for 1, 3, 5, 7, 9, 11, 13 set bits\")\n",
    "fig.show()\n",
    "\n",
    "\n",
    "\n"
   ]
  },
  {
   "cell_type": "code",
   "execution_count": null,
   "metadata": {},
   "outputs": [],
   "source": []
  },
  {
   "cell_type": "code",
   "execution_count": null,
   "metadata": {},
   "outputs": [],
   "source": []
  },
  {
   "cell_type": "code",
   "execution_count": null,
   "metadata": {},
   "outputs": [],
   "source": []
  },
  {
   "cell_type": "code",
   "execution_count": null,
   "metadata": {},
   "outputs": [],
   "source": []
  },
  {
   "cell_type": "code",
   "execution_count": null,
   "metadata": {},
   "outputs": [],
   "source": []
  }
 ],
 "metadata": {
  "kernelspec": {
   "display_name": ".venv",
   "language": "python",
   "name": "python3"
  },
  "language_info": {
   "codemirror_mode": {
    "name": "ipython",
    "version": 3
   },
   "file_extension": ".py",
   "mimetype": "text/x-python",
   "name": "python",
   "nbconvert_exporter": "python",
   "pygments_lexer": "ipython3",
   "version": "3.12.8"
  }
 },
 "nbformat": 4,
 "nbformat_minor": 2
}
